{
 "cells": [
  {
   "cell_type": "markdown",
   "metadata": {
    "id": "KfiREX1Ef7Gf"
   },
   "source": [
    "### Import Libraries"
   ]
  },
  {
   "cell_type": "code",
   "execution_count": 1,
   "metadata": {
    "colab": {
     "base_uri": "https://localhost:8080/"
    },
    "id": "VfmIce345UaB",
    "outputId": "90b6a85a-c729-43fd-f1c7-4ac90ec75d03"
   },
   "outputs": [
    {
     "name": "stderr",
     "output_type": "stream",
     "text": [
      "[nltk_data] Downloading package vader_lexicon to\n",
      "[nltk_data]     /Users/uralmalik/nltk_data...\n",
      "[nltk_data]   Package vader_lexicon is already up-to-date!\n"
     ]
    }
   ],
   "source": [
    "import json #JSON manipulation\n",
    "import time\n",
    "import datetime\n",
    "import re\n",
    "from textblob import TextBlob\n",
    "# VADER can be accessed by the NLTK library.\n",
    "import nltk\n",
    "# Download the VADAR tool and access it through the NLTK library.\n",
    "nltk.download('vader_lexicon')\n",
    "from nltk.sentiment.vader import SentimentIntensityAnalyzer"
   ]
  },
  {
   "cell_type": "code",
   "execution_count": 2,
   "metadata": {
    "id": "1jaNlX51lRH7"
   },
   "outputs": [],
   "source": [
    "import pandas as pd\n",
    "import numpy as np"
   ]
  },
  {
   "cell_type": "code",
   "execution_count": 3,
   "metadata": {
    "id": "PjIO20_Ef7Go"
   },
   "outputs": [],
   "source": [
    "import warnings\n",
    "warnings.filterwarnings(\"ignore\")"
   ]
  },
  {
   "cell_type": "code",
   "execution_count": 4,
   "metadata": {
    "id": "g_m1sXduf7Go"
   },
   "outputs": [],
   "source": [
    "from langdetect import detect\n",
    "from tqdm import tqdm"
   ]
  },
  {
   "cell_type": "code",
   "execution_count": 5,
   "metadata": {
    "id": "a5IgjjZnf7Gx"
   },
   "outputs": [],
   "source": [
    "import os\n",
    "import seaborn as sns"
   ]
  },
  {
   "cell_type": "markdown",
   "metadata": {
    "id": "fbz_nqt7EqeL"
   },
   "source": [
    "### Load Dataset"
   ]
  },
  {
   "cell_type": "code",
   "execution_count": 6,
   "metadata": {
    "id": "V_G00VQsf7Gq",
    "outputId": "401ecb45-75fe-4fcb-deea-46bcd821a651"
   },
   "outputs": [
    {
     "name": "stdout",
     "output_type": "stream",
     "text": [
      "/Users/uralmalik/Downloads/OneDrive_1_02-04-2021\n"
     ]
    }
   ],
   "source": [
    "# cd /Users/uralmalik/Downloads/OneDrive_1_02-04-2021/"
   ]
  },
  {
   "cell_type": "code",
   "execution_count": 6,
   "metadata": {
    "id": "IqU7cWoDf7Gq"
   },
   "outputs": [],
   "source": [
    "temp = pd.read_csv('lyrics_only.csv')"
   ]
  },
  {
   "cell_type": "code",
   "execution_count": 7,
   "metadata": {
    "id": "tPEkhjXAKk7Z"
   },
   "outputs": [],
   "source": [
    "temp = temp.drop('Unnamed: 0', axis =1)"
   ]
  },
  {
   "cell_type": "code",
   "execution_count": 8,
   "metadata": {
    "colab": {
     "base_uri": "https://localhost:8080/",
     "height": 167
    },
    "id": "TsR5rQN8Omiy",
    "outputId": "4044baea-f28a-4647-9e95-e062718679fb"
   },
   "outputs": [
    {
     "data": {
      "text/html": [
       "<div>\n",
       "<style scoped>\n",
       "    .dataframe tbody tr th:only-of-type {\n",
       "        vertical-align: middle;\n",
       "    }\n",
       "\n",
       "    .dataframe tbody tr th {\n",
       "        vertical-align: top;\n",
       "    }\n",
       "\n",
       "    .dataframe thead th {\n",
       "        text-align: right;\n",
       "    }\n",
       "</style>\n",
       "<table border=\"1\" class=\"dataframe\">\n",
       "  <thead>\n",
       "    <tr style=\"text-align: right;\">\n",
       "      <th></th>\n",
       "      <th>lyrics</th>\n",
       "    </tr>\n",
       "  </thead>\n",
       "  <tbody>\n",
       "    <tr>\n",
       "      <th>count</th>\n",
       "      <td>93627</td>\n",
       "    </tr>\n",
       "    <tr>\n",
       "      <th>unique</th>\n",
       "      <td>74979</td>\n",
       "    </tr>\n",
       "    <tr>\n",
       "      <th>top</th>\n",
       "      <td>Last updated: 10/6/2018, 5:16PM MST OctoberOct...</td>\n",
       "    </tr>\n",
       "    <tr>\n",
       "      <th>freq</th>\n",
       "      <td>548</td>\n",
       "    </tr>\n",
       "  </tbody>\n",
       "</table>\n",
       "</div>"
      ],
      "text/plain": [
       "                                                   lyrics\n",
       "count                                               93627\n",
       "unique                                              74979\n",
       "top     Last updated: 10/6/2018, 5:16PM MST OctoberOct...\n",
       "freq                                                  548"
      ]
     },
     "execution_count": 8,
     "metadata": {},
     "output_type": "execute_result"
    }
   ],
   "source": [
    "temp.describe()"
   ]
  },
  {
   "cell_type": "markdown",
   "metadata": {
    "id": "Qd6Kpu7pf7Gs"
   },
   "source": [
    "### Language Detect"
   ]
  },
  {
   "cell_type": "code",
   "execution_count": 9,
   "metadata": {
    "id": "sB3tkMUUf7Gs"
   },
   "outputs": [],
   "source": [
    "temp['Language']='unknown'"
   ]
  },
  {
   "cell_type": "code",
   "execution_count": 10,
   "metadata": {
    "id": "2Ckc2OlRf7Gt",
    "outputId": "97b909a0-ec1f-42a2-886e-d312dd9190b6"
   },
   "outputs": [
    {
     "name": "stderr",
     "output_type": "stream",
     "text": [
      "100%|██████████| 93629/93629 [12:58<00:00, 120.32it/s]\n"
     ]
    }
   ],
   "source": [
    "for i in tqdm(range(temp.shape[0])):\n",
    "    try:\n",
    "        temp.loc[i,'Language'] = detect(temp.loc[i,'lyrics'])\n",
    "    except:\n",
    "        # Positive indication that this song has been processed\n",
    "        temp.loc[i, 'Language'] = 'unknown'\n",
    "        pass"
   ]
  },
  {
   "cell_type": "code",
   "execution_count": 30,
   "metadata": {},
   "outputs": [],
   "source": [
    "temp.to_csv('lyrics_language.csv')"
   ]
  },
  {
   "cell_type": "code",
   "execution_count": 7,
   "metadata": {},
   "outputs": [],
   "source": [
    "temp = pd.read_csv('lyrics_language.csv').drop('Unnamed: 0', axis =1)"
   ]
  },
  {
   "cell_type": "code",
   "execution_count": 8,
   "metadata": {
    "id": "CawrYdDJf7Gu"
   },
   "outputs": [],
   "source": [
    "lyrics_eng = temp[temp['Language']=='en']"
   ]
  },
  {
   "cell_type": "code",
   "execution_count": 9,
   "metadata": {
    "id": "SthbIzI2f7Gv"
   },
   "outputs": [
    {
     "data": {
      "text/plain": [
       "lyrics      2\n",
       "Language    0\n",
       "dtype: int64"
      ]
     },
     "execution_count": 9,
     "metadata": {},
     "output_type": "execute_result"
    }
   ],
   "source": [
    "temp.isnull().sum()"
   ]
  },
  {
   "cell_type": "code",
   "execution_count": 10,
   "metadata": {
    "id": "VM4Rse_7f7Gv",
    "outputId": "0237b450-58ca-4360-eaee-433b08f0a29b"
   },
   "outputs": [],
   "source": [
    "# lyrics_eng"
   ]
  },
  {
   "cell_type": "code",
   "execution_count": 11,
   "metadata": {
    "id": "X_df5TKOf7G5"
   },
   "outputs": [],
   "source": [
    "temp.lyrics = temp.lyrics.astype(str)"
   ]
  },
  {
   "cell_type": "code",
   "execution_count": 12,
   "metadata": {},
   "outputs": [
    {
     "data": {
      "text/plain": [
       "lyrics      0\n",
       "Language    0\n",
       "dtype: int64"
      ]
     },
     "execution_count": 12,
     "metadata": {},
     "output_type": "execute_result"
    }
   ],
   "source": [
    "temp.isnull().sum()"
   ]
  },
  {
   "cell_type": "code",
   "execution_count": 13,
   "metadata": {
    "id": "NF3ZbmZef7G5"
   },
   "outputs": [],
   "source": [
    "list_lyrics = list(temp.lyrics)"
   ]
  },
  {
   "cell_type": "markdown",
   "metadata": {
    "id": "ZL7LOjAzf7Gx"
   },
   "source": [
    "### Additional Analysis Attempt"
   ]
  },
  {
   "cell_type": "markdown",
   "metadata": {
    "id": "QFRUZejDf7Gz"
   },
   "source": [
    "#### Check Text Length and Word Count"
   ]
  },
  {
   "cell_type": "code",
   "execution_count": 23,
   "metadata": {
    "id": "gEcRnSZHf7G0"
   },
   "outputs": [
    {
     "data": {
      "image/png": "[encoded data removed]",
      "text/plain": [
       "<Figure size 432x288 with 1 Axes>"
      ]
     },
     "metadata": {
      "needs_background": "light"
     },
     "output_type": "display_data"
    }
   ],
   "source": [
    "#Text Length\n",
    "sns.distplot(temp.lyrics.apply(lambda text: len(text)), bins=30);"
   ]
  },
  {
   "cell_type": "code",
   "execution_count": 24,
   "metadata": {
    "id": "1aVKhLnwf7G1"
   },
   "outputs": [
    {
     "data": {
      "image/png": "[encoded data removed]",
      "text/plain": [
       "<Figure size 432x288 with 1 Axes>"
      ]
     },
     "metadata": {
      "needs_background": "light"
     },
     "output_type": "display_data"
    }
   ],
   "source": [
    "#Word Count\n",
    "sns.distplot(temp.lyrics.apply(lambda text: len(text.split())), bins=100);"
   ]
  },
  {
   "cell_type": "markdown",
   "metadata": {
    "id": "7-RqJ5uaf7G2"
   },
   "source": [
    "### Sentiment Analysis"
   ]
  },
  {
   "cell_type": "code",
   "execution_count": 14,
   "metadata": {
    "id": "fWlICEeqf7G2",
    "outputId": "28e25309-788d-4feb-f945-14480d2dfe85"
   },
   "outputs": [
    {
     "data": {
      "text/html": [
       "<div>\n",
       "<style scoped>\n",
       "    .dataframe tbody tr th:only-of-type {\n",
       "        vertical-align: middle;\n",
       "    }\n",
       "\n",
       "    .dataframe tbody tr th {\n",
       "        vertical-align: top;\n",
       "    }\n",
       "\n",
       "    .dataframe thead th {\n",
       "        text-align: right;\n",
       "    }\n",
       "</style>\n",
       "<table border=\"1\" class=\"dataframe\">\n",
       "  <thead>\n",
       "    <tr style=\"text-align: right;\">\n",
       "      <th></th>\n",
       "      <th>lyrics</th>\n",
       "      <th>Language</th>\n",
       "    </tr>\n",
       "  </thead>\n",
       "  <tbody>\n",
       "    <tr>\n",
       "      <th>0</th>\n",
       "      <td>SCENE.—A great terrace in the Palace of Herod,...</td>\n",
       "      <td>en</td>\n",
       "    </tr>\n",
       "    <tr>\n",
       "      <th>1</th>\n",
       "      <td>Investigation of the Ferguson Police Departmen...</td>\n",
       "      <td>en</td>\n",
       "    </tr>\n",
       "    <tr>\n",
       "      <th>2</th>\n",
       "      <td>(10)    Comme là on est où est on est on là. D...</td>\n",
       "      <td>fr</td>\n",
       "    </tr>\n",
       "    <tr>\n",
       "      <th>3</th>\n",
       "      <td>The Whitechapel Murder.        During yesterda...</td>\n",
       "      <td>en</td>\n",
       "    </tr>\n",
       "    <tr>\n",
       "      <th>4</th>\n",
       "      <td>Le roi Renaud de guerre revient Portant ses tr...</td>\n",
       "      <td>fr</td>\n",
       "    </tr>\n",
       "    <tr>\n",
       "      <th>5</th>\n",
       "      <td>arethacrystal jukebox queen of hymn &amp; him diff...</td>\n",
       "      <td>en</td>\n",
       "    </tr>\n",
       "    <tr>\n",
       "      <th>6</th>\n",
       "      <td>[ Produzido por Junked ]  [Verso 1: Alex FULL]...</td>\n",
       "      <td>pt</td>\n",
       "    </tr>\n",
       "    <tr>\n",
       "      <th>7</th>\n",
       "      <td>I was just passing the time of day with old Tr...</td>\n",
       "      <td>en</td>\n",
       "    </tr>\n",
       "    <tr>\n",
       "      <th>8</th>\n",
       "      <td>HUYENDO DE LOS CIVILES UN GITANO DEL PERCHEL S...</td>\n",
       "      <td>pt</td>\n",
       "    </tr>\n",
       "    <tr>\n",
       "      <th>9</th>\n",
       "      <td>(5)       Au nom d'Annah la Toute buissante, l...</td>\n",
       "      <td>fr</td>\n",
       "    </tr>\n",
       "  </tbody>\n",
       "</table>\n",
       "</div>"
      ],
      "text/plain": [
       "                                              lyrics Language\n",
       "0  SCENE.—A great terrace in the Palace of Herod,...       en\n",
       "1  Investigation of the Ferguson Police Departmen...       en\n",
       "2  (10)    Comme là on est où est on est on là. D...       fr\n",
       "3  The Whitechapel Murder.        During yesterda...       en\n",
       "4  Le roi Renaud de guerre revient Portant ses tr...       fr\n",
       "5  arethacrystal jukebox queen of hymn & him diff...       en\n",
       "6  [ Produzido por Junked ]  [Verso 1: Alex FULL]...       pt\n",
       "7  I was just passing the time of day with old Tr...       en\n",
       "8  HUYENDO DE LOS CIVILES UN GITANO DEL PERCHEL S...       pt\n",
       "9  (5)       Au nom d'Annah la Toute buissante, l...       fr"
      ]
     },
     "execution_count": 14,
     "metadata": {},
     "output_type": "execute_result"
    }
   ],
   "source": [
    "temp_1 = temp.iloc[0:10,:]\n",
    "temp_1"
   ]
  },
  {
   "cell_type": "code",
   "execution_count": 15,
   "metadata": {},
   "outputs": [],
   "source": [
    "sample_lyrics = list(temp_1.lyrics)"
   ]
  },
  {
   "cell_type": "markdown",
   "metadata": {
    "id": "CChAIMJ-zCnp"
   },
   "source": [
    "### VADER"
   ]
  },
  {
   "cell_type": "code",
   "execution_count": 16,
   "metadata": {},
   "outputs": [],
   "source": [
    "# To be in jupyter notebook\n",
    "\n",
    "import multiprocessing as mp\n",
    "from ural_functions import sentiment_score_gen"
   ]
  },
  {
   "cell_type": "code",
   "execution_count": 17,
   "metadata": {},
   "outputs": [],
   "source": [
    "# tqdm.pandas()  # <- added this line"
   ]
  },
  {
   "cell_type": "code",
   "execution_count": 18,
   "metadata": {},
   "outputs": [],
   "source": [
    "# from tqdm.contrib.concurrent import process_map"
   ]
  },
  {
   "cell_type": "code",
   "execution_count": 38,
   "metadata": {},
   "outputs": [
    {
     "name": "stderr",
     "output_type": "stream",
     "text": [
      "100%|██████████| 10/10 [00:00<00:00, 20.09it/s]\n"
     ]
    },
    {
     "name": "stdout",
     "output_type": "stream",
     "text": [
      "CPU times: user 12.2 ms, sys: 28.6 ms, total: 40.8 ms\n",
      "Wall time: 3.27 s\n"
     ]
    }
   ],
   "source": [
    "%%time\n",
    "\n",
    "if __name__ == '__main__':\n",
    "    process = mp.Pool(processes = 4)\n",
    "    sentiment_dict = process.map(sentiment_score_gen, tqdm([i for i in sample_lyrics]))"
   ]
  },
  {
   "cell_type": "code",
   "execution_count": 20,
   "metadata": {},
   "outputs": [
    {
     "data": {
      "text/plain": [
       "[{'neg': 0.1, 'neu': 0.782, 'pos': 0.118, 'compound': 0.9997},\n",
       " {'neg': 0.125, 'neu': 0.802, 'pos': 0.073, 'compound': -1.0},\n",
       " {'neg': 0.019, 'neu': 0.97, 'pos': 0.011, 'compound': -0.9968},\n",
       " {'neg': 0.083, 'neu': 0.869, 'pos': 0.048, 'compound': -0.9996},\n",
       " {'neg': 0.0, 'neu': 0.979, 'pos': 0.021, 'compound': 0.7293},\n",
       " {'neg': 0.135, 'neu': 0.739, 'pos': 0.126, 'compound': -0.9777},\n",
       " {'neg': 0.065, 'neu': 0.929, 'pos': 0.006, 'compound': -0.9895},\n",
       " {'neg': 0.081, 'neu': 0.802, 'pos': 0.116, 'compound': 1.0},\n",
       " {'neg': 0.047, 'neu': 0.934, 'pos': 0.019, 'compound': -0.717},\n",
       " {'neg': 0.021, 'neu': 0.963, 'pos': 0.017, 'compound': 0.8814}]"
      ]
     },
     "execution_count": 20,
     "metadata": {},
     "output_type": "execute_result"
    }
   ],
   "source": [
    "sentiment_dict"
   ]
  },
  {
   "cell_type": "code",
   "execution_count": 39,
   "metadata": {},
   "outputs": [
    {
     "name": "stderr",
     "output_type": "stream",
     "text": [
      "100%|██████████| 93629/93629 [1:30:02<00:00, 17.33it/s] \n"
     ]
    },
    {
     "name": "stdout",
     "output_type": "stream",
     "text": [
      "CPU times: user 623 ms, sys: 597 ms, total: 1.22 s\n",
      "Wall time: 1h 49min 22s\n"
     ]
    }
   ],
   "source": [
    "%%time\n",
    "\n",
    "if __name__ == '__main__':\n",
    "    \n",
    "    process = mp.Pool(processes = 4)\n",
    "    sentiment_dict = process.map(sentiment_score_gen, tqdm([i for i in list_lyrics]))"
   ]
  },
  {
   "cell_type": "code",
   "execution_count": 41,
   "metadata": {},
   "outputs": [
    {
     "data": {
      "text/plain": [
       "{'neg': 0.1, 'neu': 0.782, 'pos': 0.118, 'compound': 0.9997}"
      ]
     },
     "execution_count": 41,
     "metadata": {},
     "output_type": "execute_result"
    }
   ],
   "source": [
    "sentiment_dict[0]"
   ]
  },
  {
   "cell_type": "code",
   "execution_count": 46,
   "metadata": {},
   "outputs": [],
   "source": [
    "sentiment_df = pd.DataFrame(sentiment_dict, index=temp.index)"
   ]
  },
  {
   "cell_type": "code",
   "execution_count": 47,
   "metadata": {},
   "outputs": [
    {
     "data": {
      "text/html": [
       "<div>\n",
       "<style scoped>\n",
       "    .dataframe tbody tr th:only-of-type {\n",
       "        vertical-align: middle;\n",
       "    }\n",
       "\n",
       "    .dataframe tbody tr th {\n",
       "        vertical-align: top;\n",
       "    }\n",
       "\n",
       "    .dataframe thead th {\n",
       "        text-align: right;\n",
       "    }\n",
       "</style>\n",
       "<table border=\"1\" class=\"dataframe\">\n",
       "  <thead>\n",
       "    <tr style=\"text-align: right;\">\n",
       "      <th></th>\n",
       "      <th>neg</th>\n",
       "      <th>neu</th>\n",
       "      <th>pos</th>\n",
       "      <th>compound</th>\n",
       "    </tr>\n",
       "  </thead>\n",
       "  <tbody>\n",
       "    <tr>\n",
       "      <th>0</th>\n",
       "      <td>0.100</td>\n",
       "      <td>0.782</td>\n",
       "      <td>0.118</td>\n",
       "      <td>0.9997</td>\n",
       "    </tr>\n",
       "    <tr>\n",
       "      <th>1</th>\n",
       "      <td>0.125</td>\n",
       "      <td>0.802</td>\n",
       "      <td>0.073</td>\n",
       "      <td>-1.0000</td>\n",
       "    </tr>\n",
       "    <tr>\n",
       "      <th>2</th>\n",
       "      <td>0.019</td>\n",
       "      <td>0.970</td>\n",
       "      <td>0.011</td>\n",
       "      <td>-0.9968</td>\n",
       "    </tr>\n",
       "    <tr>\n",
       "      <th>3</th>\n",
       "      <td>0.083</td>\n",
       "      <td>0.869</td>\n",
       "      <td>0.048</td>\n",
       "      <td>-0.9996</td>\n",
       "    </tr>\n",
       "    <tr>\n",
       "      <th>4</th>\n",
       "      <td>0.000</td>\n",
       "      <td>0.979</td>\n",
       "      <td>0.021</td>\n",
       "      <td>0.7293</td>\n",
       "    </tr>\n",
       "    <tr>\n",
       "      <th>...</th>\n",
       "      <td>...</td>\n",
       "      <td>...</td>\n",
       "      <td>...</td>\n",
       "      <td>...</td>\n",
       "    </tr>\n",
       "    <tr>\n",
       "      <th>93624</th>\n",
       "      <td>0.000</td>\n",
       "      <td>1.000</td>\n",
       "      <td>0.000</td>\n",
       "      <td>0.0000</td>\n",
       "    </tr>\n",
       "    <tr>\n",
       "      <th>93625</th>\n",
       "      <td>0.108</td>\n",
       "      <td>0.728</td>\n",
       "      <td>0.164</td>\n",
       "      <td>0.9471</td>\n",
       "    </tr>\n",
       "    <tr>\n",
       "      <th>93626</th>\n",
       "      <td>0.116</td>\n",
       "      <td>0.777</td>\n",
       "      <td>0.107</td>\n",
       "      <td>0.6269</td>\n",
       "    </tr>\n",
       "    <tr>\n",
       "      <th>93627</th>\n",
       "      <td>0.062</td>\n",
       "      <td>0.802</td>\n",
       "      <td>0.137</td>\n",
       "      <td>0.9253</td>\n",
       "    </tr>\n",
       "    <tr>\n",
       "      <th>93628</th>\n",
       "      <td>0.056</td>\n",
       "      <td>0.928</td>\n",
       "      <td>0.016</td>\n",
       "      <td>-0.8110</td>\n",
       "    </tr>\n",
       "  </tbody>\n",
       "</table>\n",
       "<p>93629 rows × 4 columns</p>\n",
       "</div>"
      ],
      "text/plain": [
       "         neg    neu    pos  compound\n",
       "0      0.100  0.782  0.118    0.9997\n",
       "1      0.125  0.802  0.073   -1.0000\n",
       "2      0.019  0.970  0.011   -0.9968\n",
       "3      0.083  0.869  0.048   -0.9996\n",
       "4      0.000  0.979  0.021    0.7293\n",
       "...      ...    ...    ...       ...\n",
       "93624  0.000  1.000  0.000    0.0000\n",
       "93625  0.108  0.728  0.164    0.9471\n",
       "93626  0.116  0.777  0.107    0.6269\n",
       "93627  0.062  0.802  0.137    0.9253\n",
       "93628  0.056  0.928  0.016   -0.8110\n",
       "\n",
       "[93629 rows x 4 columns]"
      ]
     },
     "execution_count": 47,
     "metadata": {},
     "output_type": "execute_result"
    }
   ],
   "source": [
    "sentiment_df"
   ]
  },
  {
   "cell_type": "code",
   "execution_count": 48,
   "metadata": {},
   "outputs": [],
   "source": [
    "frames = [temp, sentiment_df]"
   ]
  },
  {
   "cell_type": "code",
   "execution_count": 51,
   "metadata": {},
   "outputs": [],
   "source": [
    "result = pd.concat(frames, axis=1)"
   ]
  },
  {
   "cell_type": "code",
   "execution_count": 52,
   "metadata": {},
   "outputs": [
    {
     "data": {
      "text/html": [
       "<div>\n",
       "<style scoped>\n",
       "    .dataframe tbody tr th:only-of-type {\n",
       "        vertical-align: middle;\n",
       "    }\n",
       "\n",
       "    .dataframe tbody tr th {\n",
       "        vertical-align: top;\n",
       "    }\n",
       "\n",
       "    .dataframe thead th {\n",
       "        text-align: right;\n",
       "    }\n",
       "</style>\n",
       "<table border=\"1\" class=\"dataframe\">\n",
       "  <thead>\n",
       "    <tr style=\"text-align: right;\">\n",
       "      <th></th>\n",
       "      <th>lyrics</th>\n",
       "      <th>Language</th>\n",
       "      <th>neg</th>\n",
       "      <th>neu</th>\n",
       "      <th>pos</th>\n",
       "      <th>compound</th>\n",
       "    </tr>\n",
       "  </thead>\n",
       "  <tbody>\n",
       "    <tr>\n",
       "      <th>0</th>\n",
       "      <td>SCENE.—A great terrace in the Palace of Herod,...</td>\n",
       "      <td>en</td>\n",
       "      <td>0.100</td>\n",
       "      <td>0.782</td>\n",
       "      <td>0.118</td>\n",
       "      <td>0.9997</td>\n",
       "    </tr>\n",
       "    <tr>\n",
       "      <th>1</th>\n",
       "      <td>Investigation of the Ferguson Police Departmen...</td>\n",
       "      <td>en</td>\n",
       "      <td>0.125</td>\n",
       "      <td>0.802</td>\n",
       "      <td>0.073</td>\n",
       "      <td>-1.0000</td>\n",
       "    </tr>\n",
       "    <tr>\n",
       "      <th>2</th>\n",
       "      <td>(10)    Comme là on est où est on est on là. D...</td>\n",
       "      <td>fr</td>\n",
       "      <td>0.019</td>\n",
       "      <td>0.970</td>\n",
       "      <td>0.011</td>\n",
       "      <td>-0.9968</td>\n",
       "    </tr>\n",
       "    <tr>\n",
       "      <th>3</th>\n",
       "      <td>The Whitechapel Murder.        During yesterda...</td>\n",
       "      <td>en</td>\n",
       "      <td>0.083</td>\n",
       "      <td>0.869</td>\n",
       "      <td>0.048</td>\n",
       "      <td>-0.9996</td>\n",
       "    </tr>\n",
       "    <tr>\n",
       "      <th>4</th>\n",
       "      <td>Le roi Renaud de guerre revient Portant ses tr...</td>\n",
       "      <td>fr</td>\n",
       "      <td>0.000</td>\n",
       "      <td>0.979</td>\n",
       "      <td>0.021</td>\n",
       "      <td>0.7293</td>\n",
       "    </tr>\n",
       "    <tr>\n",
       "      <th>...</th>\n",
       "      <td>...</td>\n",
       "      <td>...</td>\n",
       "      <td>...</td>\n",
       "      <td>...</td>\n",
       "      <td>...</td>\n",
       "      <td>...</td>\n",
       "    </tr>\n",
       "    <tr>\n",
       "      <th>93624</th>\n",
       "      <td>Quando eu morrer me enterre na Lapinha Quando ...</td>\n",
       "      <td>pt</td>\n",
       "      <td>0.000</td>\n",
       "      <td>1.000</td>\n",
       "      <td>0.000</td>\n",
       "      <td>0.0000</td>\n",
       "    </tr>\n",
       "    <tr>\n",
       "      <th>93625</th>\n",
       "      <td>It felt so easy in the morning sun When love w...</td>\n",
       "      <td>en</td>\n",
       "      <td>0.108</td>\n",
       "      <td>0.728</td>\n",
       "      <td>0.164</td>\n",
       "      <td>0.9471</td>\n",
       "    </tr>\n",
       "    <tr>\n",
       "      <th>93626</th>\n",
       "      <td>[Part 1 - \"Loser\" by Beck] Soy un perdedor! I'...</td>\n",
       "      <td>en</td>\n",
       "      <td>0.116</td>\n",
       "      <td>0.777</td>\n",
       "      <td>0.107</td>\n",
       "      <td>0.6269</td>\n",
       "    </tr>\n",
       "    <tr>\n",
       "      <th>93627</th>\n",
       "      <td>[Verse 1] Winterlude, Winterlude, oh darling W...</td>\n",
       "      <td>en</td>\n",
       "      <td>0.062</td>\n",
       "      <td>0.802</td>\n",
       "      <td>0.137</td>\n",
       "      <td>0.9253</td>\n",
       "    </tr>\n",
       "    <tr>\n",
       "      <th>93628</th>\n",
       "      <td>[Letra de \"Chuper Amigos\"]  [Intro] Empezamos ...</td>\n",
       "      <td>es</td>\n",
       "      <td>0.056</td>\n",
       "      <td>0.928</td>\n",
       "      <td>0.016</td>\n",
       "      <td>-0.8110</td>\n",
       "    </tr>\n",
       "  </tbody>\n",
       "</table>\n",
       "<p>93629 rows × 6 columns</p>\n",
       "</div>"
      ],
      "text/plain": [
       "                                                  lyrics Language    neg  \\\n",
       "0      SCENE.—A great terrace in the Palace of Herod,...       en  0.100   \n",
       "1      Investigation of the Ferguson Police Departmen...       en  0.125   \n",
       "2      (10)    Comme là on est où est on est on là. D...       fr  0.019   \n",
       "3      The Whitechapel Murder.        During yesterda...       en  0.083   \n",
       "4      Le roi Renaud de guerre revient Portant ses tr...       fr  0.000   \n",
       "...                                                  ...      ...    ...   \n",
       "93624  Quando eu morrer me enterre na Lapinha Quando ...       pt  0.000   \n",
       "93625  It felt so easy in the morning sun When love w...       en  0.108   \n",
       "93626  [Part 1 - \"Loser\" by Beck] Soy un perdedor! I'...       en  0.116   \n",
       "93627  [Verse 1] Winterlude, Winterlude, oh darling W...       en  0.062   \n",
       "93628  [Letra de \"Chuper Amigos\"]  [Intro] Empezamos ...       es  0.056   \n",
       "\n",
       "         neu    pos  compound  \n",
       "0      0.782  0.118    0.9997  \n",
       "1      0.802  0.073   -1.0000  \n",
       "2      0.970  0.011   -0.9968  \n",
       "3      0.869  0.048   -0.9996  \n",
       "4      0.979  0.021    0.7293  \n",
       "...      ...    ...       ...  \n",
       "93624  1.000  0.000    0.0000  \n",
       "93625  0.728  0.164    0.9471  \n",
       "93626  0.777  0.107    0.6269  \n",
       "93627  0.802  0.137    0.9253  \n",
       "93628  0.928  0.016   -0.8110  \n",
       "\n",
       "[93629 rows x 6 columns]"
      ]
     },
     "execution_count": 52,
     "metadata": {},
     "output_type": "execute_result"
    }
   ],
   "source": [
    "result"
   ]
  },
  {
   "cell_type": "code",
   "execution_count": 55,
   "metadata": {},
   "outputs": [],
   "source": [
    "result.loc[(result['compound'] > 0), 'compound_vader_polarity'] = 1\n",
    "result.loc[(result['compound'] == 0), 'compound_vader_polarity'] = 0\n",
    "result.loc[(result['compound'] < 0), 'compound_vader_polarity'] = -1"
   ]
  },
  {
   "cell_type": "code",
   "execution_count": 56,
   "metadata": {},
   "outputs": [
    {
     "data": {
      "text/html": [
       "<div>\n",
       "<style scoped>\n",
       "    .dataframe tbody tr th:only-of-type {\n",
       "        vertical-align: middle;\n",
       "    }\n",
       "\n",
       "    .dataframe tbody tr th {\n",
       "        vertical-align: top;\n",
       "    }\n",
       "\n",
       "    .dataframe thead th {\n",
       "        text-align: right;\n",
       "    }\n",
       "</style>\n",
       "<table border=\"1\" class=\"dataframe\">\n",
       "  <thead>\n",
       "    <tr style=\"text-align: right;\">\n",
       "      <th></th>\n",
       "      <th>lyrics</th>\n",
       "      <th>Language</th>\n",
       "      <th>neg</th>\n",
       "      <th>neu</th>\n",
       "      <th>pos</th>\n",
       "      <th>compound</th>\n",
       "      <th>compound_vader_polarity</th>\n",
       "    </tr>\n",
       "  </thead>\n",
       "  <tbody>\n",
       "    <tr>\n",
       "      <th>0</th>\n",
       "      <td>SCENE.—A great terrace in the Palace of Herod,...</td>\n",
       "      <td>en</td>\n",
       "      <td>0.100</td>\n",
       "      <td>0.782</td>\n",
       "      <td>0.118</td>\n",
       "      <td>0.9997</td>\n",
       "      <td>1.0</td>\n",
       "    </tr>\n",
       "    <tr>\n",
       "      <th>1</th>\n",
       "      <td>Investigation of the Ferguson Police Departmen...</td>\n",
       "      <td>en</td>\n",
       "      <td>0.125</td>\n",
       "      <td>0.802</td>\n",
       "      <td>0.073</td>\n",
       "      <td>-1.0000</td>\n",
       "      <td>-1.0</td>\n",
       "    </tr>\n",
       "    <tr>\n",
       "      <th>2</th>\n",
       "      <td>(10)    Comme là on est où est on est on là. D...</td>\n",
       "      <td>fr</td>\n",
       "      <td>0.019</td>\n",
       "      <td>0.970</td>\n",
       "      <td>0.011</td>\n",
       "      <td>-0.9968</td>\n",
       "      <td>-1.0</td>\n",
       "    </tr>\n",
       "    <tr>\n",
       "      <th>3</th>\n",
       "      <td>The Whitechapel Murder.        During yesterda...</td>\n",
       "      <td>en</td>\n",
       "      <td>0.083</td>\n",
       "      <td>0.869</td>\n",
       "      <td>0.048</td>\n",
       "      <td>-0.9996</td>\n",
       "      <td>-1.0</td>\n",
       "    </tr>\n",
       "    <tr>\n",
       "      <th>4</th>\n",
       "      <td>Le roi Renaud de guerre revient Portant ses tr...</td>\n",
       "      <td>fr</td>\n",
       "      <td>0.000</td>\n",
       "      <td>0.979</td>\n",
       "      <td>0.021</td>\n",
       "      <td>0.7293</td>\n",
       "      <td>1.0</td>\n",
       "    </tr>\n",
       "    <tr>\n",
       "      <th>...</th>\n",
       "      <td>...</td>\n",
       "      <td>...</td>\n",
       "      <td>...</td>\n",
       "      <td>...</td>\n",
       "      <td>...</td>\n",
       "      <td>...</td>\n",
       "      <td>...</td>\n",
       "    </tr>\n",
       "    <tr>\n",
       "      <th>93624</th>\n",
       "      <td>Quando eu morrer me enterre na Lapinha Quando ...</td>\n",
       "      <td>pt</td>\n",
       "      <td>0.000</td>\n",
       "      <td>1.000</td>\n",
       "      <td>0.000</td>\n",
       "      <td>0.0000</td>\n",
       "      <td>0.0</td>\n",
       "    </tr>\n",
       "    <tr>\n",
       "      <th>93625</th>\n",
       "      <td>It felt so easy in the morning sun When love w...</td>\n",
       "      <td>en</td>\n",
       "      <td>0.108</td>\n",
       "      <td>0.728</td>\n",
       "      <td>0.164</td>\n",
       "      <td>0.9471</td>\n",
       "      <td>1.0</td>\n",
       "    </tr>\n",
       "    <tr>\n",
       "      <th>93626</th>\n",
       "      <td>[Part 1 - \"Loser\" by Beck] Soy un perdedor! I'...</td>\n",
       "      <td>en</td>\n",
       "      <td>0.116</td>\n",
       "      <td>0.777</td>\n",
       "      <td>0.107</td>\n",
       "      <td>0.6269</td>\n",
       "      <td>1.0</td>\n",
       "    </tr>\n",
       "    <tr>\n",
       "      <th>93627</th>\n",
       "      <td>[Verse 1] Winterlude, Winterlude, oh darling W...</td>\n",
       "      <td>en</td>\n",
       "      <td>0.062</td>\n",
       "      <td>0.802</td>\n",
       "      <td>0.137</td>\n",
       "      <td>0.9253</td>\n",
       "      <td>1.0</td>\n",
       "    </tr>\n",
       "    <tr>\n",
       "      <th>93628</th>\n",
       "      <td>[Letra de \"Chuper Amigos\"]  [Intro] Empezamos ...</td>\n",
       "      <td>es</td>\n",
       "      <td>0.056</td>\n",
       "      <td>0.928</td>\n",
       "      <td>0.016</td>\n",
       "      <td>-0.8110</td>\n",
       "      <td>-1.0</td>\n",
       "    </tr>\n",
       "  </tbody>\n",
       "</table>\n",
       "<p>93629 rows × 7 columns</p>\n",
       "</div>"
      ],
      "text/plain": [
       "                                                  lyrics Language    neg  \\\n",
       "0      SCENE.—A great terrace in the Palace of Herod,...       en  0.100   \n",
       "1      Investigation of the Ferguson Police Departmen...       en  0.125   \n",
       "2      (10)    Comme là on est où est on est on là. D...       fr  0.019   \n",
       "3      The Whitechapel Murder.        During yesterda...       en  0.083   \n",
       "4      Le roi Renaud de guerre revient Portant ses tr...       fr  0.000   \n",
       "...                                                  ...      ...    ...   \n",
       "93624  Quando eu morrer me enterre na Lapinha Quando ...       pt  0.000   \n",
       "93625  It felt so easy in the morning sun When love w...       en  0.108   \n",
       "93626  [Part 1 - \"Loser\" by Beck] Soy un perdedor! I'...       en  0.116   \n",
       "93627  [Verse 1] Winterlude, Winterlude, oh darling W...       en  0.062   \n",
       "93628  [Letra de \"Chuper Amigos\"]  [Intro] Empezamos ...       es  0.056   \n",
       "\n",
       "         neu    pos  compound  compound_vader_polarity  \n",
       "0      0.782  0.118    0.9997                      1.0  \n",
       "1      0.802  0.073   -1.0000                     -1.0  \n",
       "2      0.970  0.011   -0.9968                     -1.0  \n",
       "3      0.869  0.048   -0.9996                     -1.0  \n",
       "4      0.979  0.021    0.7293                      1.0  \n",
       "...      ...    ...       ...                      ...  \n",
       "93624  1.000  0.000    0.0000                      0.0  \n",
       "93625  0.728  0.164    0.9471                      1.0  \n",
       "93626  0.777  0.107    0.6269                      1.0  \n",
       "93627  0.802  0.137    0.9253                      1.0  \n",
       "93628  0.928  0.016   -0.8110                     -1.0  \n",
       "\n",
       "[93629 rows x 7 columns]"
      ]
     },
     "execution_count": 56,
     "metadata": {},
     "output_type": "execute_result"
    }
   ],
   "source": [
    "result"
   ]
  },
  {
   "cell_type": "code",
   "execution_count": 58,
   "metadata": {
    "id": "cOuMNsRcy-JQ"
   },
   "outputs": [
    {
     "data": {
      "image/png": "[encoded data removed]",
      "text/plain": [
       "<Figure size 432x288 with 1 Axes>"
      ]
     },
     "metadata": {
      "needs_background": "light"
     },
     "output_type": "display_data"
    }
   ],
   "source": [
    "# Plot\n",
    "result.compound_vader_polarity.value_counts().plot(kind='bar',title=\"sentiment analysis_VADER\");"
   ]
  },
  {
   "cell_type": "code",
   "execution_count": 62,
   "metadata": {},
   "outputs": [
    {
     "data": {
      "image/png": "[encoded data removed]",
      "text/plain": [
       "<Figure size 432x432 with 1 Axes>"
      ]
     },
     "metadata": {},
     "output_type": "display_data"
    }
   ],
   "source": [
    "import seaborn as sns\n",
    "import matplotlib.pyplot as plt\n",
    "sns.set(style='darkgrid', context='talk', palette='Dark2')\n",
    "fig, ax = plt.subplots(figsize=(6, 6))\n",
    "counts = result.compound_vader_polarity.value_counts(normalize=True) * 100\n",
    "sns.barplot(x=counts.index, y=counts, ax=ax)\n",
    "ax.set_xticklabels(['Negative', 'Neutral', 'Positive'])\n",
    "ax.set_ylabel(\"Percentage\")\n",
    "plt.show()"
   ]
  },
  {
   "cell_type": "markdown",
   "metadata": {
    "id": "nKJPSmMof7Hh"
   },
   "source": [
    "### Download CSV (Sentiment Analysis Consolidated)"
   ]
  },
  {
   "cell_type": "code",
   "execution_count": 60,
   "metadata": {},
   "outputs": [],
   "source": [
    "result.to_csv('lyrics_language_sentiment.csv')"
   ]
  }
 ],
 "metadata": {
  "colab": {
   "collapsed_sections": [],
   "name": "Sentiment Analysis_Spotify.ipynb",
   "provenance": []
  },
  "kernelspec": {
   "display_name": "Python 3",
   "language": "python",
   "name": "python3"
  },
  "language_info": {
   "codemirror_mode": {
    "name": "ipython",
    "version": 3
   },
   "file_extension": ".py",
   "mimetype": "text/x-python",
   "name": "python",
   "nbconvert_exporter": "python",
   "pygments_lexer": "ipython3",
   "version": "3.8.6"
  }
 },
 "nbformat": 4,
 "nbformat_minor": 1
}
