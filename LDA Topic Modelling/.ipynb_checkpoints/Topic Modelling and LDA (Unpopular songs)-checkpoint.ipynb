{
 "cells": [
  {
   "cell_type": "markdown",
   "metadata": {
    "id": "y-1RoGgC9wFK"
   },
   "source": [
    "## Importing Libraries"
   ]
  },
  {
   "cell_type": "code",
   "execution_count": 8,
   "metadata": {
    "id": "cV9N7zrjIHyL"
   },
   "outputs": [
    {
     "name": "stderr",
     "output_type": "stream",
     "text": [
      "C:\\Users\\spiky\\anaconda3\\envs\\python37\\lib\\site-packages\\ipykernel\\ipkernel.py:287: DeprecationWarning: `should_run_async` will not call `transform_cell` automatically in the future. Please pass the result to `transformed_cell` argument and any exception that happen during thetransform in `preprocessing_exc_tuple` in IPython 7.17 and above.\n",
      "  and should_run_async(code)\n"
     ]
    }
   ],
   "source": [
    "# Load libraries\n",
    "import pandas as pd\n",
    "import numpy as np\n",
    "import scipy as sp\n",
    "import matplotlib.pyplot as plt\n",
    "import nltk\n",
    "from nltk.stem import WordNetLemmatizer, PorterStemmer\n",
    "from nltk.corpus import stopwords, wordnet\n",
    "from sklearn.model_selection import train_test_split\n",
    "from sklearn.feature_extraction.text import TfidfVectorizer\n",
    "from sklearn.naive_bayes import MultinomialNB\n",
    "from sklearn import metrics\n",
    "import warnings\n",
    "warnings.filterwarnings('ignore', category = DeprecationWarning)\n",
    "import re\n",
    "import string\n",
    "import time\n",
    "# helpful character encoding module\n",
    "import chardet\n",
    "import seaborn as sns\n",
    "from tqdm import tqdm\n",
    "import collections\n",
    "from sklearn.feature_extraction.text import CountVectorizer\n",
    "from sklearn.naive_bayes import MultinomialNB\n",
    "import gensim"
   ]
  },
  {
   "cell_type": "code",
   "execution_count": 9,
   "metadata": {
    "colab": {
     "base_uri": "https://localhost:8080/"
    },
    "id": "Q3hfR-57IHyM",
    "outputId": "e670a784-2c1b-4a9b-91c2-6ad8f24e782f"
   },
   "outputs": [
    {
     "name": "stderr",
     "output_type": "stream",
     "text": [
      "[nltk_data] Downloading package wordnet to\n",
      "[nltk_data]     C:\\Users\\spiky\\AppData\\Roaming\\nltk_data...\n",
      "[nltk_data]   Package wordnet is already up-to-date!\n",
      "[nltk_data] Downloading package stopwords to\n",
      "[nltk_data]     C:\\Users\\spiky\\AppData\\Roaming\\nltk_data...\n",
      "[nltk_data]   Package stopwords is already up-to-date!\n",
      "[nltk_data] Downloading package averaged_perceptron_tagger to\n",
      "[nltk_data]     C:\\Users\\spiky\\AppData\\Roaming\\nltk_data...\n",
      "[nltk_data]   Package averaged_perceptron_tagger is already up-to-\n",
      "[nltk_data]       date!\n",
      "[nltk_data] Downloading package punkt to\n",
      "[nltk_data]     C:\\Users\\spiky\\AppData\\Roaming\\nltk_data...\n",
      "[nltk_data]   Package punkt is already up-to-date!\n"
     ]
    },
    {
     "data": {
      "text/plain": [
       "True"
      ]
     },
     "execution_count": 9,
     "metadata": {},
     "output_type": "execute_result"
    }
   ],
   "source": [
    "nltk.download('wordnet')\n",
    "nltk.download('stopwords')\n",
    "nltk.download('averaged_perceptron_tagger')\n",
    "nltk.download('punkt')"
   ]
  },
  {
   "cell_type": "code",
   "execution_count": 10,
   "metadata": {},
   "outputs": [],
   "source": [
    "import gensim\n",
    "from gensim.utils import simple_preprocess\n",
    "import gensim.corpora as corpora\n",
    "from wordcloud import WordCloud\n",
    "from pprint import pprint\n",
    "import pickle \n",
    "import pyLDAvis\n",
    "import os\n",
    "import pyLDAvis.gensim_models\n",
    "import stylecloud"
   ]
  },
  {
   "cell_type": "markdown",
   "metadata": {
    "id": "49RH3S2RIHyN"
   },
   "source": [
    "## Load the dataset"
   ]
  },
  {
   "cell_type": "code",
   "execution_count": 11,
   "metadata": {},
   "outputs": [
    {
     "data": {
      "text/html": [
       "<div>\n",
       "<style scoped>\n",
       "    .dataframe tbody tr th:only-of-type {\n",
       "        vertical-align: middle;\n",
       "    }\n",
       "\n",
       "    .dataframe tbody tr th {\n",
       "        vertical-align: top;\n",
       "    }\n",
       "\n",
       "    .dataframe thead th {\n",
       "        text-align: right;\n",
       "    }\n",
       "</style>\n",
       "<table border=\"1\" class=\"dataframe\">\n",
       "  <thead>\n",
       "    <tr style=\"text-align: right;\">\n",
       "      <th></th>\n",
       "      <th>Unnamed: 0</th>\n",
       "      <th>id</th>\n",
       "      <th>song</th>\n",
       "      <th>album</th>\n",
       "      <th>artist</th>\n",
       "      <th>acousticness_x</th>\n",
       "      <th>danceability_x</th>\n",
       "      <th>duration_ms_x</th>\n",
       "      <th>energy_x</th>\n",
       "      <th>instrumentalness_x</th>\n",
       "      <th>...</th>\n",
       "      <th>readability</th>\n",
       "      <th>grade</th>\n",
       "      <th>richness</th>\n",
       "      <th>Language</th>\n",
       "      <th>neg</th>\n",
       "      <th>neu</th>\n",
       "      <th>pos</th>\n",
       "      <th>compound</th>\n",
       "      <th>compound_vader_polarity</th>\n",
       "      <th>artist_popularity</th>\n",
       "    </tr>\n",
       "  </thead>\n",
       "  <tbody>\n",
       "    <tr>\n",
       "      <th>0</th>\n",
       "      <td>0</td>\n",
       "      <td>1mTxphc9naXMLE9qfMkEVh</td>\n",
       "      <td>NaN</td>\n",
       "      <td>NaN</td>\n",
       "      <td>NaN</td>\n",
       "      <td>NaN</td>\n",
       "      <td>NaN</td>\n",
       "      <td>NaN</td>\n",
       "      <td>NaN</td>\n",
       "      <td>NaN</td>\n",
       "      <td>...</td>\n",
       "      <td>-5.036</td>\n",
       "      <td>College Graduate</td>\n",
       "      <td>0.177977</td>\n",
       "      <td>en</td>\n",
       "      <td>0.102</td>\n",
       "      <td>0.846</td>\n",
       "      <td>0.052</td>\n",
       "      <td>-0.9857</td>\n",
       "      <td>-1.0</td>\n",
       "      <td>0.000000</td>\n",
       "    </tr>\n",
       "    <tr>\n",
       "      <th>1</th>\n",
       "      <td>1</td>\n",
       "      <td>2Tp1yCGNjjZ39HTEnKaqhx</td>\n",
       "      <td>NaN</td>\n",
       "      <td>NaN</td>\n",
       "      <td>NaN</td>\n",
       "      <td>NaN</td>\n",
       "      <td>NaN</td>\n",
       "      <td>NaN</td>\n",
       "      <td>NaN</td>\n",
       "      <td>NaN</td>\n",
       "      <td>...</td>\n",
       "      <td>90.502</td>\n",
       "      <td>5th Grade</td>\n",
       "      <td>0.076503</td>\n",
       "      <td>en</td>\n",
       "      <td>0.294</td>\n",
       "      <td>0.455</td>\n",
       "      <td>0.251</td>\n",
       "      <td>-0.8895</td>\n",
       "      <td>-1.0</td>\n",
       "      <td>5.000000</td>\n",
       "    </tr>\n",
       "    <tr>\n",
       "      <th>2</th>\n",
       "      <td>2</td>\n",
       "      <td>3plzStfrkTOq9lehqqI3bG</td>\n",
       "      <td>NaN</td>\n",
       "      <td>NaN</td>\n",
       "      <td>NaN</td>\n",
       "      <td>NaN</td>\n",
       "      <td>NaN</td>\n",
       "      <td>NaN</td>\n",
       "      <td>NaN</td>\n",
       "      <td>NaN</td>\n",
       "      <td>...</td>\n",
       "      <td>33.028</td>\n",
       "      <td>College Level</td>\n",
       "      <td>0.254582</td>\n",
       "      <td>en</td>\n",
       "      <td>0.064</td>\n",
       "      <td>0.800</td>\n",
       "      <td>0.136</td>\n",
       "      <td>0.9856</td>\n",
       "      <td>1.0</td>\n",
       "      <td>46.000000</td>\n",
       "    </tr>\n",
       "    <tr>\n",
       "      <th>3</th>\n",
       "      <td>3</td>\n",
       "      <td>2MGhUOnAifh3znlInWnywc</td>\n",
       "      <td>NaN</td>\n",
       "      <td>NaN</td>\n",
       "      <td>NaN</td>\n",
       "      <td>NaN</td>\n",
       "      <td>NaN</td>\n",
       "      <td>NaN</td>\n",
       "      <td>NaN</td>\n",
       "      <td>NaN</td>\n",
       "      <td>...</td>\n",
       "      <td>-61.661</td>\n",
       "      <td>College Graduate</td>\n",
       "      <td>0.191257</td>\n",
       "      <td>en</td>\n",
       "      <td>0.109</td>\n",
       "      <td>0.817</td>\n",
       "      <td>0.074</td>\n",
       "      <td>-0.5831</td>\n",
       "      <td>-1.0</td>\n",
       "      <td>38.000000</td>\n",
       "    </tr>\n",
       "    <tr>\n",
       "      <th>4</th>\n",
       "      <td>4</td>\n",
       "      <td>1vDRvO1X021HlJY2NnqUU2</td>\n",
       "      <td>NaN</td>\n",
       "      <td>NaN</td>\n",
       "      <td>NaN</td>\n",
       "      <td>NaN</td>\n",
       "      <td>NaN</td>\n",
       "      <td>NaN</td>\n",
       "      <td>NaN</td>\n",
       "      <td>NaN</td>\n",
       "      <td>...</td>\n",
       "      <td>69.626</td>\n",
       "      <td>9th Grade</td>\n",
       "      <td>0.200000</td>\n",
       "      <td>en</td>\n",
       "      <td>0.034</td>\n",
       "      <td>0.913</td>\n",
       "      <td>0.053</td>\n",
       "      <td>0.6788</td>\n",
       "      <td>1.0</td>\n",
       "      <td>60.848402</td>\n",
       "    </tr>\n",
       "  </tbody>\n",
       "</table>\n",
       "<p>5 rows × 60 columns</p>\n",
       "</div>"
      ],
      "text/plain": [
       "   Unnamed: 0                      id song album artist  acousticness_x  \\\n",
       "0           0  1mTxphc9naXMLE9qfMkEVh  NaN   NaN    NaN             NaN   \n",
       "1           1  2Tp1yCGNjjZ39HTEnKaqhx  NaN   NaN    NaN             NaN   \n",
       "2           2  3plzStfrkTOq9lehqqI3bG  NaN   NaN    NaN             NaN   \n",
       "3           3  2MGhUOnAifh3znlInWnywc  NaN   NaN    NaN             NaN   \n",
       "4           4  1vDRvO1X021HlJY2NnqUU2  NaN   NaN    NaN             NaN   \n",
       "\n",
       "   danceability_x  duration_ms_x  energy_x  instrumentalness_x  ...  \\\n",
       "0             NaN            NaN       NaN                 NaN  ...   \n",
       "1             NaN            NaN       NaN                 NaN  ...   \n",
       "2             NaN            NaN       NaN                 NaN  ...   \n",
       "3             NaN            NaN       NaN                 NaN  ...   \n",
       "4             NaN            NaN       NaN                 NaN  ...   \n",
       "\n",
       "   readability             grade  richness  Language    neg    neu    pos  \\\n",
       "0       -5.036  College Graduate  0.177977        en  0.102  0.846  0.052   \n",
       "1       90.502         5th Grade  0.076503        en  0.294  0.455  0.251   \n",
       "2       33.028     College Level  0.254582        en  0.064  0.800  0.136   \n",
       "3      -61.661  College Graduate  0.191257        en  0.109  0.817  0.074   \n",
       "4       69.626         9th Grade  0.200000        en  0.034  0.913  0.053   \n",
       "\n",
       "   compound compound_vader_polarity artist_popularity  \n",
       "0   -0.9857                    -1.0          0.000000  \n",
       "1   -0.8895                    -1.0          5.000000  \n",
       "2    0.9856                     1.0         46.000000  \n",
       "3   -0.5831                    -1.0         38.000000  \n",
       "4    0.6788                     1.0         60.848402  \n",
       "\n",
       "[5 rows x 60 columns]"
      ]
     },
     "execution_count": 11,
     "metadata": {},
     "output_type": "execute_result"
    }
   ],
   "source": [
    "df = pd.read_csv(\"lda_cleaned_dataset.csv\")\n",
    "df.head()"
   ]
  },
  {
   "cell_type": "code",
   "execution_count": 12,
   "metadata": {
    "colab": {
     "base_uri": "https://localhost:8080/"
    },
    "id": "Q9wryUnaIHyO",
    "outputId": "1017c6ef-bf2e-4fad-99c9-76e4e0d99aa0"
   },
   "outputs": [
    {
     "data": {
      "text/plain": [
       "(66452, 60)"
      ]
     },
     "execution_count": 12,
     "metadata": {},
     "output_type": "execute_result"
    }
   ],
   "source": [
    "df.shape"
   ]
  },
  {
   "cell_type": "code",
   "execution_count": 13,
   "metadata": {},
   "outputs": [],
   "source": [
    "df['lyrics'] = df['lyrics'].astype('str')"
   ]
  },
  {
   "cell_type": "markdown",
   "metadata": {
    "id": "eIMVjjFn9wFf"
   },
   "source": [
    "## Identifying Topics using Gensim, LDA, and PyLDAvis"
   ]
  },
  {
   "cell_type": "markdown",
   "metadata": {},
   "source": [
    "# For unpopular songs"
   ]
  },
  {
   "cell_type": "code",
   "execution_count": 14,
   "metadata": {},
   "outputs": [],
   "source": [
    "def sent_to_words(sentences):\n",
    "    for sentence in sentences:\n",
    "        # deacc=True removes punctuations\n",
    "        yield(gensim.utils.simple_preprocess(str(sentence), deacc=True))"
   ]
  },
  {
   "cell_type": "code",
   "execution_count": 15,
   "metadata": {},
   "outputs": [
    {
     "name": "stdout",
     "output_type": "stream",
     "text": [
      "Round: 1\n",
      "Round: 2\n",
      "Round: 3\n",
      "Round: 4\n",
      "Round: 5\n",
      "Round: 6\n",
      "Round: 7\n",
      "Round: 8\n",
      "Round: 9\n",
      "Round: 10\n"
     ]
    },
    {
     "data": {
      "image/png": "[encoded data removed]",
      "text/plain": [
       "<Figure size 432x288 with 1 Axes>"
      ]
     },
     "metadata": {
      "needs_background": "light"
     },
     "output_type": "display_data"
    },
    {
     "data": {
      "image/png": "[encoded data removed]",
      "text/plain": [
       "<Figure size 432x288 with 1 Axes>"
      ]
     },
     "metadata": {
      "needs_background": "light"
     },
     "output_type": "display_data"
    }
   ],
   "source": [
    "# change the dataset to look at here\n",
    "data = df[df['popularity_dummy'] == 0]['lyrics'].values.tolist()\n",
    "\n",
    "data_words = list(sent_to_words(data))\n",
    "\n",
    "# Create Dictionary\n",
    "id2word = corpora.Dictionary(data_words)\n",
    "# Create Corpus\n",
    "texts = data_words\n",
    "# Term Document Frequency\n",
    "corpus = [id2word.doc2bow(text) for text in texts]\n",
    "\n",
    "coherence = []\n",
    "perplexity = []\n",
    "\n",
    "best_cm_model = None\n",
    "best_coherence = 0\n",
    "best_perplex = 0\n",
    "best_perplex_model = None\n",
    "\n",
    "for k in range(1,11):\n",
    "    print('Round: '+ str(k))\n",
    "    ldamodel = gensim.models.LdaMulticore(corpus, num_topics=k, id2word = id2word, random_state = 100,\\\n",
    "                                          chunksize = 30000, passes = 10)\n",
    "    \n",
    "    cm = gensim.models.coherencemodel.CoherenceModel(model=ldamodel, texts=texts,\\\n",
    "                                                     dictionary=id2word, coherence='c_v', processes = -1)\n",
    "    \n",
    "    perplex_score = ldamodel.log_perplexity(corpus)\n",
    "    \n",
    "    if cm.get_coherence() > best_coherence:\n",
    "        best_coherence = cm.get_coherence()\n",
    "        best_cm_model = ldamodel\n",
    "        \n",
    "    if perplex_score > best_perplex:\n",
    "        best_perplex = perplex_score\n",
    "        best_perplex_model = ldamodel\n",
    "        \n",
    "    coherence.append((k,cm.get_coherence()))\n",
    "    perplexity.append((k, perplex_score))\n",
    "    \n",
    "x_val = [x[0] for x in coherence]\n",
    "y_val = [x[1] for x in coherence]\n",
    "\n",
    "plt.plot(x_val,y_val)\n",
    "plt.scatter(x_val,y_val)\n",
    "plt.title('Number of Topics vs. Coherence')\n",
    "plt.xlabel('Number of Topics')\n",
    "plt.ylabel('Coherence')\n",
    "plt.xticks(x_val)\n",
    "plt.show()\n",
    "\n",
    "x_val = [x[0] for x in perplexity]\n",
    "y_val = [x[1] for x in perplexity]\n",
    "\n",
    "plt.figure()\n",
    "plt.scatter(x_val,y_val)\n",
    "plt.title('Number of Topics vs. Perplexity')\n",
    "plt.xlabel('Number of Topics')\n",
    "plt.ylabel('Perplexity')\n",
    "plt.xticks(x_val)\n",
    "plt.show()"
   ]
  },
  {
   "cell_type": "code",
   "execution_count": 16,
   "metadata": {
    "scrolled": false
   },
   "outputs": [
    {
     "name": "stdout",
     "output_type": "stream",
     "text": [
      "[(0,\n",
      "  '0.046*\"love\" + 0.021*\"heart\" + 0.015*\"baby\" + 0.014*\"time\" + 0.014*\"girl\" + '\n",
      "  '0.011*\"way\" + 0.011*\"man\" + 0.009*\"home\" + 0.009*\"day\" + 0.008*\"night\"'),\n",
      " (1,\n",
      "  '0.020*\"time\" + 0.016*\"way\" + 0.016*\"day\" + 0.015*\"baby\" + 0.015*\"night\" + '\n",
      "  '0.014*\"gon\" + 0.011*\"life\" + 0.011*\"thing\" + 0.010*\"cause\" + 0.009*\"eye\"'),\n",
      " (2,\n",
      "  '0.011*\"man\" + 0.010*\"bitch\" + 0.008*\"time\" + 0.008*\"cause\" + 0.007*\"shit\" + '\n",
      "  '0.007*\"money\" + 0.005*\"nigga\" + 0.005*\"fuck\" + 0.004*\"niggas\" + '\n",
      "  '0.004*\"ass\"')]\n"
     ]
    },
    {
     "data": {
      "text/html": [
       "\n",
       "<link rel=\"stylesheet\" type=\"text/css\" href=\"https://cdn.jsdelivr.net/gh/bmabey/pyLDAvis@3.3.1/pyLDAvis/js/ldavis.v1.0.0.css\">\n",
       "\n",
       "\n",
       "<div id=\"ldavis_el1280416635599376247606912506\"></div>\n",
       "<script type=\"text/javascript\">\n",
       "\n",
       "var ldavis_el1280416635599376247606912506_data = {\"mdsDat\": {\"x\": [0.010617989376438423, -0.12427658252050332, 0.11365859314406483], \"y\": [-0.07261668655497189, 0.031447503318203236, 0.0411691832367686], \"topics\": [1, 2, 3], \"cluster\": [1, 1, 1], \"Freq\": [39.90610302086311, 33.548114968515755, 26.54578201062114]}, \"tinfo\": {\"Term\": [\"love\", \"heart\", \"bitch\", \"baby\", \"shit\", \"girl\", \"gon\", \"night\", \"la\", \"ooh\", \"nigga\", \"niggas\", \"christmas\", \"fuck\", \"home\", \"ass\", \"way\", \"money\", \"woman\", \"day\", \"lil\", \"hey\", \"eye\", \"lord\", \"oh\", \"doo\", \"song\", \"thing\", \"em\", \"dream\", \"bd\", \"jammin\", \"dobalina\", \"wiggy\", \"meathook\", \"reb\", \"clippity\", \"another\", \"hep\", \"eheu\", \"heebie\", \"senora\", \"halifax\", \"whirlybird\", \"yippie\", \"blackman\", \"thumpety\", \"loverman\", \"snapper\", \"steamroller\", \"bellbottom\", \"ciribiribin\", \"romp\", \"treetops\", \"privateer\", \"oie\", \"exodus\", \"yakko\", \"panky\", \"desecration\", \"dancin\", \"thump\", \"divin\", \"ling\", \"flicka\", \"saddle\", \"spun\", \"dum\", \"jingle\", \"jah\", \"gon\", \"cheri\", \"mmh\", \"sera\", \"dandy\", \"hey\", \"jezebel\", \"soul\", \"sun\", \"da\", \"night\", \"dreamin\", \"horse\", \"bump\", \"eye\", \"day\", \"hand\", \"head\", \"everybody\", \"nothing\", \"bit\", \"body\", \"pressure\", \"rock\", \"trouble\", \"mind\", \"way\", \"morning\", \"world\", \"thing\", \"life\", \"baby\", \"time\", \"yeah\", \"dance\", \"place\", \"everything\", \"nobody\", \"one\", \"cause\", \"music\", \"people\", \"light\", \"man\", \"face\", \"girl\", \"dream\", \"love\", \"darko\", \"ody\", \"wim\", \"waterloo\", \"yoy\", \"corbijn\", \"yippee\", \"aie\", \"weh\", \"moneybagg\", \"barrin\", \"malone\", \"cheesecake\", \"panda\", \"beez\", \"choppa\", \"nle\", \"killa\", \"chunky\", \"ginjeet\", \"cam\", \"pol\", \"whoomp\", \"bourgeois\", \"dopeman\", \"anton\", \"ab\", \"shotta\", \"chitty\", \"hyphy\", \"nigga\", \"bitch\", \"niggas\", \"hoe\", \"bang\", \"lil\", \"versace\", \"motherfucker\", \"roddy\", \"dick\", \"fuckin\", \"glock\", \"blunt\", \"pussy\", \"post\", \"ayy\", \"rapper\", \"ass\", \"shit\", \"fuck\", \"rap\", \"click\", \"gang\", \"wit\", \"thug\", \"boom\", \"ho\", \"motherfuckin\", \"hood\", \"money\", \"em\", \"yo\", \"drug\", \"kid\", \"war\", \"dope\", \"block\", \"game\", \"man\", \"house\", \"cause\", \"damn\", \"boy\", \"gun\", \"god\", \"time\", \"people\", \"yeah\", \"girl\", \"life\", \"year\", \"day\", \"way\", \"lot\", \"name\", \"head\", \"thing\", \"home\", \"romanization\", \"pum\", \"armin\", \"buuren\", \"mow\", \"quack\", \"haliene\", \"layee\", \"markus\", \"marlo\", \"rayel\", \"bope\", \"messer\", \"ooma\", \"khomha\", \"bodda\", \"aly\", \"odl\", \"rosetta\", \"emery\", \"schulz\", \"translation\", \"reindeer\", \"shoorah\", \"vini\", \"claudine\", \"beguine\", \"lovie\", \"jolene\", \"hark\", \"claus\", \"cile\", \"mclorin\", \"bridgewater\", \"doo\", \"santa\", \"ba\", \"la\", \"dixie\", \"wonderland\", \"esperanza\", \"love\", \"wop\", \"merry\", \"christmas\", \"diana\", \"christma\", \"lauren\", \"heart\", \"ooh\", \"bethlehem\", \"hoo\", \"fa\", \"bye\", \"mm\", \"melody\", \"van\", \"joy\", \"girl\", \"kiss\", \"woman\", \"lord\", \"home\", \"arm\", \"song\", \"blue\", \"fire\", \"oh\", \"baby\", \"dream\", \"angel\", \"friend\", \"year\", \"goodbye\", \"something\", \"time\", \"man\", \"way\", \"someone\", \"thing\", \"star\", \"night\", \"day\", \"boy\", \"life\", \"cause\", \"world\", \"eye\"], \"Freq\": [34461.0, 17222.0, 8722.0, 25560.0, 6533.0, 16356.0, 16653.0, 20442.0, 4335.0, 4882.0, 4105.0, 3732.0, 3506.0, 4137.0, 10933.0, 3887.0, 25633.0, 7127.0, 6074.0, 23835.0, 2603.0, 8693.0, 12793.0, 5285.0, 6307.0, 1842.0, 7478.0, 17511.0, 4413.0, 8880.0, 196.80623906664394, 254.78214793502767, 179.40788183585096, 130.11063726080414, 64.42059201052878, 61.26610978557066, 88.9174750959206, 60.26640353344878, 57.840096265219714, 37.479335975528194, 42.516235070427136, 37.435336963311514, 49.4793274437854, 36.342391065300895, 36.31012048543162, 67.72715429953134, 39.38366887519054, 36.292649573307955, 32.25033684547296, 30.216532069861714, 29.218401434540944, 34.243311233383686, 31.232651866540955, 45.16444692208796, 32.21926623866414, 38.271860791942686, 106.95071894299492, 61.464310553329966, 29.174092864056497, 28.149288044965793, 661.3964350456445, 151.45909711564744, 63.20218458131913, 87.8893799159163, 41.097233883702835, 152.15751621866, 64.77828832802784, 727.7037881764112, 891.7137965660104, 608.22286705976, 13642.004970066295, 53.77705008980973, 97.6933198162404, 77.7422894584955, 93.4758562379552, 6819.260388491259, 88.29825421489805, 4212.697521805511, 4347.223169513997, 3412.298322171911, 14137.23497904723, 294.388799630313, 983.9957178688237, 298.8599896863201, 8526.25856008204, 15045.732315342415, 7001.305692855774, 5881.141178080414, 3830.1682035495514, 5535.672704325603, 1563.9879839264952, 3621.774412450986, 757.7868971546815, 3815.569853023476, 1800.008786099558, 7125.179753606762, 15149.269747435865, 3131.086854534935, 8359.297772720405, 10383.15628119181, 10671.360398799443, 14318.348019123805, 18736.001217909627, 7543.386656983434, 3235.3798035799787, 4186.856348899594, 4496.173982071381, 3111.9638612398285, 4715.255199322851, 10015.837918839294, 3182.1065091373134, 4865.998862065307, 3756.348365161974, 8237.503275717736, 3468.0872610076103, 3957.689848498774, 3618.7360945746454, 3772.318399676182, 276.54828081212816, 175.50422908090152, 106.57496354539397, 95.65887336431291, 85.84862635906931, 77.0061207898199, 98.4231187247039, 67.16576216660242, 191.90377998501765, 104.12743696655839, 62.23538677693242, 364.01985846661574, 58.30729726438531, 81.65571367535716, 67.06804707149165, 154.59601748809263, 81.54735512623348, 339.2909743740669, 48.43914577567535, 43.5886138352571, 208.51003612294704, 43.57895285392231, 45.51682173098611, 60.985085029102244, 74.6204665974989, 59.0238999700882, 86.1749710336496, 73.59837336941904, 41.5951884674666, 58.051708166784216, 4010.497262273155, 8418.769079853862, 3610.978958315188, 1645.5577110351794, 1117.5970111142774, 2489.560502758352, 162.59374275545517, 1398.4737858396975, 169.35759930013933, 1238.541456304324, 1227.0699181770092, 448.9525395832031, 557.1323722482966, 748.4545634961806, 554.1692814355173, 746.1055648916359, 758.1568554678647, 3556.8946795044367, 5874.220984833854, 3741.161640881956, 1376.2436104740725, 347.9782551082259, 932.4140109254499, 736.440560097307, 657.8522430840555, 1416.5201246977795, 1873.0100543142353, 569.8020591987786, 882.2098442114649, 5460.265759499544, 3403.647281208606, 2583.7626030630877, 1032.833479043772, 2626.6873022140317, 1650.314937311435, 828.2722813206457, 1043.244227385203, 2629.2791587077236, 8682.182543079041, 2260.6293977454943, 6251.948606204206, 1267.1100775450095, 3197.5787832595993, 1712.5720788405256, 2307.0923085012205, 6809.332865733406, 2999.4941389994283, 3067.549366430617, 3308.6674368181093, 3330.6467541599227, 2208.6940206038453, 3271.7665115787504, 3232.614694649418, 1796.9904355101203, 1983.206996956324, 2021.8670161336402, 2170.2362972293945, 1954.9744749403799, 427.32037866171004, 759.1109620964138, 513.4830980518637, 468.24721318327204, 148.1180342695505, 154.9605026621042, 112.57652241462125, 69.29299088786298, 92.6891074637596, 114.27100833845797, 90.84460994826694, 64.73566113005191, 92.59050647063835, 58.3792519507732, 65.55156259927222, 58.33371817133294, 86.14433929137968, 49.29777563965982, 161.49424832811962, 69.03456355245643, 122.87325550321242, 488.850063761339, 365.93221847167473, 47.45144566718968, 68.99046889958181, 69.86953923294226, 47.44300988671005, 95.8214057669216, 69.7990775602251, 110.98550552617928, 808.9211408321081, 93.92022239795911, 94.75908048098053, 93.85509613659302, 1738.3473178948739, 828.2710720889103, 969.5522463948381, 3972.026044351413, 237.67161349335447, 327.306986933153, 111.34569438025156, 29565.76444244248, 417.3663613020726, 655.7209999966975, 3104.201073739397, 211.20838040466126, 745.2587719653625, 232.83607419413005, 13613.36627231251, 4090.094023860029, 178.51614479820645, 662.633768102387, 354.6206651560585, 1101.2052845284559, 482.30471253446626, 662.6530181554837, 788.3464619663615, 1248.8750331865172, 9090.304496521529, 1521.1338649170318, 3776.9634793946084, 3314.151037451861, 5904.27500092403, 2172.61874265247, 3989.407953833741, 2566.763579807333, 2648.4175665689113, 3308.8931075644955, 9689.924104275868, 3979.2036487645137, 1362.3884501324546, 3657.4937998658897, 3182.617793879437, 1265.149176151796, 3130.2908187786816, 9177.43734454909, 6940.873183210687, 7251.175746798871, 2535.359043185382, 4957.8268903718445, 2365.810498602939, 5137.110631037282, 5518.061481799668, 3082.6617450975086, 4191.595999982954, 4402.636109010017, 3608.8968927459478, 3183.2240224746515], \"Total\": [34461.0, 17222.0, 8722.0, 25560.0, 6533.0, 16356.0, 16653.0, 20442.0, 4335.0, 4882.0, 4105.0, 3732.0, 3506.0, 4137.0, 10933.0, 3887.0, 25633.0, 7127.0, 6074.0, 23835.0, 2603.0, 8693.0, 12793.0, 5285.0, 6307.0, 1842.0, 7478.0, 17511.0, 4413.0, 8880.0, 197.51285440103672, 256.42985821776153, 180.89462939775984, 131.2210511691441, 65.05285559554562, 61.91337457945209, 89.8600205774774, 60.90871520052977, 58.763503670396844, 38.11857534399742, 43.26647089070796, 38.13026796693407, 50.423299273287924, 37.04196334214154, 37.029395438219815, 69.09151392862626, 40.17989219031104, 37.05147372601043, 32.93261201643262, 30.865827295247136, 29.851237632593087, 34.9911414629026, 31.914981166359603, 46.15701845197874, 32.9343917888355, 39.1407421248693, 109.4066152128627, 62.88052820812025, 29.847542438479476, 28.807480682940703, 687.7309886647392, 156.75834125691705, 64.88173303924933, 90.58893314724271, 42.09458679605948, 158.708625312021, 66.88403025663052, 789.4234619024894, 973.2281430715101, 663.9125932718706, 16653.416021118035, 55.49797435106456, 102.85496928070955, 81.32805436056759, 98.64321589893584, 8693.821554414806, 93.41585479257947, 5477.201076231846, 5703.294745855201, 4450.519559525675, 20442.946614241584, 333.95745739383585, 1210.6042122288093, 344.5131218294707, 12793.125805759473, 23835.560308720833, 10402.747176040017, 8664.197273580921, 5464.339566678918, 8156.700931691468, 2068.108687376041, 5183.568402149375, 946.6610586035843, 5487.315182486455, 2427.6416060243164, 11099.911794023568, 25633.060188884156, 4531.3709928028775, 13670.584023195597, 17511.21946879305, 18193.60315294232, 25560.653248468414, 34722.77142819212, 12560.238750102362, 4811.965305200876, 6497.82996241971, 7103.013903047771, 4659.862741610355, 7763.753155464741, 20670.422634053517, 4907.142980254628, 8645.381063739074, 6309.52632652869, 23860.559002007463, 5722.826647217546, 16356.661781838411, 8880.371622652601, 34461.46867582121, 277.72285781355356, 176.26756799043295, 107.2946780400075, 96.44073379949042, 86.59758927360248, 77.73313041427564, 99.36450233684245, 67.85692194564905, 193.9678614533157, 105.33459982398176, 62.96183804772675, 368.37783397712576, 59.00764342181064, 82.64674414594117, 67.88533225376365, 156.53757072260527, 82.61952887681286, 343.8589892679, 49.15719336304766, 44.237692905662676, 211.64880583080154, 44.23563625041859, 46.20716804029083, 61.914765574417004, 75.77010818423314, 59.93797699582664, 87.52508380847861, 74.77385790166069, 42.26431812821112, 59.01010318248664, 4105.293032642751, 8722.838914463211, 3732.95305738084, 1705.2787658118912, 1158.656887378556, 2603.415797824529, 165.49560520032108, 1458.9649658211774, 173.1077949971708, 1297.7954295785958, 1289.5244040855835, 464.48579687206217, 581.0174499057347, 787.4595464519908, 580.1988080319501, 788.010948403572, 801.3663839268335, 3887.5923838091658, 6533.0428412164465, 4137.83945907559, 1484.5243062343457, 362.75386823631845, 1006.9489900187814, 794.4651878523216, 707.5157871823523, 1584.4850829489571, 2144.8980431820464, 611.4812378097814, 989.0950808729849, 7127.001143939544, 4413.546784727262, 3426.512023182528, 1233.6704032133632, 3703.4510698740924, 2179.6437735643926, 958.0227453133231, 1282.1929755654353, 4443.434797322609, 23860.559002007463, 3938.5463096856392, 20670.422634053517, 1779.15854352008, 8275.350659624477, 3016.51897344776, 5059.518573143228, 34722.77142819212, 8645.381063739074, 12560.238750102362, 16356.661781838411, 18193.60315294232, 6722.713993903197, 23835.560308720833, 25633.060188884156, 3934.02693288112, 6410.394378799729, 8664.197273580921, 17511.21946879305, 10933.760042283213, 428.02570670720627, 760.7368063779487, 516.4056718925897, 470.9291161980968, 149.0300045805823, 156.32912074224726, 113.62637946932391, 69.96766237825088, 93.61730191351225, 115.44595453564155, 91.80352804308205, 65.42190256075085, 93.6253873107645, 59.06152357030959, 66.34174776585013, 59.05545392811651, 87.26735347110633, 49.97238961384007, 163.70457254146743, 69.99109870380417, 124.59306571523162, 495.71435519861956, 371.1602998197438, 48.13634495364994, 69.99506531929119, 70.89774153260437, 48.152528241538754, 97.29693016214104, 70.88952580786251, 112.74475181766296, 830.7037443781419, 95.48577342682141, 96.39767186041307, 95.4923459608633, 1842.8043311915471, 870.0853348191414, 1022.2775076743907, 4335.508235469161, 245.9772347158568, 341.0310945305872, 113.72533574077768, 34461.46867582121, 440.73450925431104, 705.3048761935905, 3506.345878338032, 219.80386594046928, 809.6831942676929, 243.40330309680877, 17222.997699201842, 4882.7834591596675, 185.9450921065074, 745.0805948057501, 383.9321046881807, 1322.2721317817006, 547.1645966554202, 781.8008563707722, 948.0342840375837, 1624.115744702347, 16356.661781838411, 2109.621067166497, 6074.941596040539, 5285.43690189173, 10933.760042283213, 3416.786817430331, 7478.408208985302, 4321.072538366518, 4667.88471287789, 6307.339911661432, 25560.653248468414, 8880.371622652601, 2040.869471227887, 8056.661562117793, 6722.713993903197, 1852.5494596954113, 6818.3072143471045, 34722.77142819212, 23860.559002007463, 25633.060188884156, 5339.399971111798, 17511.21946879305, 5104.220232589651, 20442.946614241584, 23835.560308720833, 8275.350659624477, 18193.60315294232, 20670.422634053517, 13670.584023195597, 12793.125805759473], \"Category\": [\"Default\", \"Default\", \"Default\", \"Default\", \"Default\", \"Default\", \"Default\", \"Default\", \"Default\", \"Default\", \"Default\", \"Default\", \"Default\", \"Default\", \"Default\", \"Default\", \"Default\", \"Default\", \"Default\", \"Default\", \"Default\", \"Default\", \"Default\", \"Default\", \"Default\", \"Default\", \"Default\", \"Default\", \"Default\", \"Default\", \"Topic1\", \"Topic1\", \"Topic1\", \"Topic1\", \"Topic1\", \"Topic1\", \"Topic1\", \"Topic1\", \"Topic1\", \"Topic1\", \"Topic1\", \"Topic1\", \"Topic1\", \"Topic1\", \"Topic1\", \"Topic1\", \"Topic1\", \"Topic1\", \"Topic1\", \"Topic1\", \"Topic1\", \"Topic1\", \"Topic1\", \"Topic1\", \"Topic1\", \"Topic1\", \"Topic1\", \"Topic1\", \"Topic1\", \"Topic1\", \"Topic1\", \"Topic1\", \"Topic1\", \"Topic1\", \"Topic1\", \"Topic1\", \"Topic1\", \"Topic1\", \"Topic1\", \"Topic1\", \"Topic1\", \"Topic1\", \"Topic1\", \"Topic1\", \"Topic1\", \"Topic1\", \"Topic1\", \"Topic1\", \"Topic1\", \"Topic1\", \"Topic1\", \"Topic1\", \"Topic1\", \"Topic1\", \"Topic1\", \"Topic1\", \"Topic1\", \"Topic1\", \"Topic1\", \"Topic1\", \"Topic1\", \"Topic1\", \"Topic1\", \"Topic1\", \"Topic1\", \"Topic1\", \"Topic1\", \"Topic1\", \"Topic1\", \"Topic1\", \"Topic1\", \"Topic1\", \"Topic1\", \"Topic1\", \"Topic1\", \"Topic1\", \"Topic1\", \"Topic1\", \"Topic1\", \"Topic1\", \"Topic1\", \"Topic1\", \"Topic1\", \"Topic1\", \"Topic1\", \"Topic1\", \"Topic1\", \"Topic1\", \"Topic2\", \"Topic2\", \"Topic2\", \"Topic2\", \"Topic2\", \"Topic2\", \"Topic2\", \"Topic2\", \"Topic2\", \"Topic2\", \"Topic2\", \"Topic2\", \"Topic2\", \"Topic2\", \"Topic2\", \"Topic2\", \"Topic2\", \"Topic2\", \"Topic2\", \"Topic2\", \"Topic2\", \"Topic2\", \"Topic2\", \"Topic2\", \"Topic2\", \"Topic2\", \"Topic2\", \"Topic2\", \"Topic2\", \"Topic2\", \"Topic2\", \"Topic2\", \"Topic2\", \"Topic2\", \"Topic2\", \"Topic2\", \"Topic2\", \"Topic2\", \"Topic2\", \"Topic2\", \"Topic2\", \"Topic2\", \"Topic2\", \"Topic2\", \"Topic2\", \"Topic2\", \"Topic2\", \"Topic2\", \"Topic2\", \"Topic2\", \"Topic2\", \"Topic2\", \"Topic2\", \"Topic2\", \"Topic2\", \"Topic2\", \"Topic2\", \"Topic2\", \"Topic2\", \"Topic2\", \"Topic2\", \"Topic2\", \"Topic2\", \"Topic2\", \"Topic2\", \"Topic2\", \"Topic2\", \"Topic2\", \"Topic2\", \"Topic2\", \"Topic2\", \"Topic2\", \"Topic2\", \"Topic2\", \"Topic2\", \"Topic2\", \"Topic2\", \"Topic2\", \"Topic2\", \"Topic2\", \"Topic2\", \"Topic2\", \"Topic2\", \"Topic2\", \"Topic2\", \"Topic2\", \"Topic2\", \"Topic2\", \"Topic3\", \"Topic3\", \"Topic3\", \"Topic3\", \"Topic3\", \"Topic3\", \"Topic3\", \"Topic3\", \"Topic3\", \"Topic3\", \"Topic3\", \"Topic3\", \"Topic3\", \"Topic3\", \"Topic3\", \"Topic3\", \"Topic3\", \"Topic3\", \"Topic3\", \"Topic3\", \"Topic3\", \"Topic3\", \"Topic3\", \"Topic3\", \"Topic3\", \"Topic3\", \"Topic3\", \"Topic3\", \"Topic3\", \"Topic3\", \"Topic3\", \"Topic3\", \"Topic3\", \"Topic3\", \"Topic3\", \"Topic3\", \"Topic3\", \"Topic3\", \"Topic3\", \"Topic3\", \"Topic3\", \"Topic3\", \"Topic3\", \"Topic3\", \"Topic3\", \"Topic3\", \"Topic3\", \"Topic3\", \"Topic3\", \"Topic3\", \"Topic3\", \"Topic3\", \"Topic3\", \"Topic3\", \"Topic3\", \"Topic3\", \"Topic3\", \"Topic3\", \"Topic3\", \"Topic3\", \"Topic3\", \"Topic3\", \"Topic3\", \"Topic3\", \"Topic3\", \"Topic3\", \"Topic3\", \"Topic3\", \"Topic3\", \"Topic3\", \"Topic3\", \"Topic3\", \"Topic3\", \"Topic3\", \"Topic3\", \"Topic3\", \"Topic3\", \"Topic3\", \"Topic3\", \"Topic3\", \"Topic3\", \"Topic3\", \"Topic3\", \"Topic3\", \"Topic3\", \"Topic3\", \"Topic3\", \"Topic3\"], \"logprob\": [30.0, 29.0, 28.0, 27.0, 26.0, 25.0, 24.0, 23.0, 22.0, 21.0, 20.0, 19.0, 18.0, 17.0, 16.0, 15.0, 14.0, 13.0, 12.0, 11.0, 10.0, 9.0, 8.0, 7.0, 6.0, 5.0, 4.0, 3.0, 2.0, 1.0, -8.4884, -8.2302, -8.5809, -8.9022, -9.6052, -9.6554, -9.2829, -9.6718, -9.7129, -10.1468, -10.0207, -10.148, -9.869, -10.1776, -10.1785, -9.5551, -10.0972, -10.179, -10.2971, -10.3622, -10.3958, -10.2371, -10.3291, -9.9603, -10.298, -10.1259, -9.0982, -9.6521, -10.3973, -10.4331, -7.2762, -8.7503, -9.6243, -9.2945, -10.0547, -8.7457, -9.5996, -7.1807, -6.9774, -7.3601, -4.2497, -9.7857, -9.1888, -9.4172, -9.2329, -4.9431, -9.2899, -5.4247, -5.3933, -5.6355, -4.214, -8.0857, -6.879, -8.0706, -4.7197, -4.1517, -4.9167, -5.0911, -5.5199, -5.1516, -6.4156, -5.5759, -7.1402, -5.5237, -6.275, -4.8992, -4.1449, -5.7215, -4.7395, -4.5227, -4.4953, -4.2013, -3.9324, -4.8422, -5.6887, -5.4309, -5.3596, -5.7276, -5.312, -4.5587, -5.7053, -5.2806, -5.5394, -4.7541, -5.6192, -5.4872, -5.5767, -5.5351, -7.9747, -8.4294, -8.9282, -9.0363, -9.1445, -9.2532, -9.0078, -9.3899, -8.34, -8.9514, -9.4661, -7.6998, -9.5313, -9.1945, -9.3913, -8.5562, -9.1959, -7.7702, -9.7167, -9.8222, -8.2571, -9.8225, -9.779, -9.4864, -9.2846, -9.5191, -9.1407, -9.2984, -9.8691, -9.5357, -5.3004, -4.5588, -5.4053, -6.1912, -6.5781, -5.7772, -8.5058, -6.3539, -8.465, -6.4754, -6.4847, -7.4901, -7.2742, -6.979, -7.2796, -6.9822, -6.9662, -5.4204, -4.9187, -5.3699, -6.3699, -7.7449, -6.7593, -6.9952, -7.1081, -6.3411, -6.0617, -7.2518, -6.8146, -4.9918, -5.4644, -5.74, -6.657, -5.7236, -6.1883, -6.8777, -6.647, -5.7226, -4.528, -5.8736, -4.8564, -6.4525, -5.5269, -6.1513, -5.8533, -4.771, -5.5908, -5.5684, -5.4927, -5.4861, -5.8969, -5.504, -5.516, -6.1032, -6.0046, -5.9853, -5.9145, -6.0189, -7.3054, -6.7308, -7.1217, -7.2139, -8.3649, -8.3198, -8.6393, -9.1246, -8.8337, -8.6244, -8.8538, -9.1926, -8.8347, -9.296, -9.1801, -9.2968, -8.9069, -9.4651, -8.2785, -9.1283, -8.5518, -7.1709, -7.4605, -9.5032, -9.129, -9.1163, -9.5034, -8.8004, -9.1173, -8.6535, -6.6672, -8.8205, -8.8116, -8.8212, -5.9022, -6.6436, -6.4861, -5.0759, -7.892, -7.572, -8.6503, -3.0686, -7.329, -6.8772, -5.3224, -8.0101, -6.7492, -7.9126, -3.8441, -5.0466, -8.1783, -6.8667, -7.4919, -6.3588, -7.1844, -6.8667, -6.693, -6.2329, -4.248, -6.0357, -5.1263, -5.257, -4.6795, -5.6792, -5.0715, -5.5125, -5.4812, -5.2586, -4.1841, -5.0741, -6.1459, -5.1584, -5.2975, -6.22, -5.3141, -4.2384, -4.5178, -4.474, -5.5248, -4.8542, -5.5941, -4.8187, -4.7472, -5.3294, -5.0221, -4.973, -5.1718, -5.2973], \"loglift\": [30.0, 29.0, 28.0, 27.0, 26.0, 25.0, 24.0, 23.0, 22.0, 21.0, 20.0, 19.0, 18.0, 17.0, 16.0, 15.0, 14.0, 13.0, 12.0, 11.0, 10.0, 9.0, 8.0, 7.0, 6.0, 5.0, 4.0, 3.0, 2.0, 1.0, 0.9151, 0.9122, 0.9104, 0.9101, 0.9089, 0.9081, 0.9081, 0.908, 0.9028, 0.9017, 0.9011, 0.9002, 0.8997, 0.8996, 0.899, 0.8987, 0.8986, 0.8979, 0.8977, 0.8974, 0.8972, 0.897, 0.897, 0.8969, 0.8967, 0.8962, 0.8959, 0.8959, 0.8958, 0.8955, 0.8796, 0.8843, 0.8924, 0.8884, 0.8947, 0.8765, 0.8867, 0.8372, 0.8312, 0.831, 0.7192, 0.8871, 0.8672, 0.8735, 0.8648, 0.6758, 0.8623, 0.6561, 0.6471, 0.653, 0.5498, 0.7925, 0.7114, 0.7765, 0.5129, 0.4586, 0.5227, 0.5312, 0.5633, 0.531, 0.6392, 0.5601, 0.6961, 0.5553, 0.6195, 0.4753, 0.3927, 0.549, 0.4268, 0.396, 0.3851, 0.3391, 0.3017, 0.4088, 0.5217, 0.4791, 0.4613, 0.5149, 0.42, 0.1941, 0.4855, 0.3439, 0.4, -0.1449, 0.4178, -0.5003, 0.0209, -1.2935, 1.088, 1.0878, 1.0855, 1.084, 1.0835, 1.0828, 1.0827, 1.082, 1.0815, 1.0807, 1.0806, 1.0803, 1.0802, 1.0801, 1.0801, 1.0797, 1.0791, 1.0788, 1.0775, 1.0774, 1.0772, 1.0772, 1.0771, 1.0771, 1.0769, 1.0768, 1.0766, 1.0763, 1.0762, 1.0758, 1.0688, 1.0567, 1.059, 1.0565, 1.0561, 1.0475, 1.0745, 1.0498, 1.0703, 1.0455, 1.0425, 1.0582, 1.0502, 1.0414, 1.0463, 1.0375, 1.0368, 1.0033, 0.9859, 0.9914, 1.0165, 1.0506, 1.0153, 1.0163, 1.0194, 0.9801, 0.9566, 1.0216, 0.9778, 0.8258, 0.8324, 0.8099, 0.9145, 0.7486, 0.814, 0.9467, 0.886, 0.5675, 0.0812, 0.537, -0.1036, 0.7528, 0.1413, 0.5261, 0.3069, -0.5369, 0.0336, -0.3175, -0.5059, -0.6057, -0.0209, -0.8937, -0.9784, 0.3086, -0.081, -0.363, -0.9958, -0.6293, 1.3247, 1.3242, 1.3206, 1.3206, 1.3202, 1.3175, 1.317, 1.3166, 1.3163, 1.3161, 1.3158, 1.3158, 1.3152, 1.3147, 1.3143, 1.314, 1.3133, 1.3127, 1.3127, 1.3125, 1.3124, 1.3124, 1.3121, 1.312, 1.3118, 1.3117, 1.3115, 1.311, 1.3108, 1.3106, 1.2997, 1.3098, 1.3092, 1.309, 1.2679, 1.277, 1.2733, 1.2387, 1.292, 1.2852, 1.3052, 1.1731, 1.2718, 1.2534, 1.2045, 1.2864, 1.2434, 1.2819, 1.0911, 1.1492, 1.2855, 1.209, 1.2469, 1.1434, 1.2001, 1.161, 1.1418, 1.0636, 0.7389, 0.9992, 0.851, 0.8595, 0.7101, 0.8735, 0.6979, 0.8054, 0.7596, 0.6812, 0.3563, 0.5235, 0.9222, 0.5366, 0.5785, 0.9449, 0.5478, -0.0043, 0.0915, 0.0636, 0.5815, 0.0644, 0.5574, -0.0548, -0.1369, 0.3388, -0.1417, -0.2202, -0.0055, -0.0647]}, \"token.table\": {\"Topic\": [1, 2, 3, 2, 1, 2, 3, 1, 2, 3, 1, 1, 2, 1, 2, 3, 1, 2, 3, 1, 2, 3, 1, 2, 3, 1, 2, 3, 1, 2, 3, 1, 2, 3, 2, 1, 2, 3, 1, 1, 2, 3, 1, 2, 3, 1, 2, 3, 1, 2, 3, 1, 2, 3, 1, 2, 3, 1, 2, 3, 3, 1, 2, 3, 1, 2, 3, 3, 2, 3, 1, 2, 3, 1, 2, 3, 1, 2, 3, 1, 2, 3, 1, 2, 3, 1, 2, 3, 1, 2, 3, 2, 1, 3, 2, 1, 2, 3, 1, 2, 3, 1, 2, 3, 2, 1, 2, 3, 1, 1, 2, 3, 1, 2, 3, 1, 2, 3, 1, 3, 2, 1, 2, 3, 1, 2, 3, 1, 2, 3, 1, 2, 3, 1, 2, 3, 2, 3, 1, 2, 3, 1, 1, 2, 3, 1, 2, 3, 1, 2, 1, 2, 3, 1, 2, 3, 1, 2, 3, 1, 2, 3, 1, 2, 1, 2, 3, 1, 2, 3, 1, 2, 3, 1, 2, 3, 1, 1, 2, 3, 3, 1, 2, 3, 1, 2, 3, 1, 2, 3, 1, 2, 1, 2, 3, 1, 2, 3, 1, 2, 3, 1, 2, 3, 1, 2, 1, 2, 3, 1, 2, 3, 1, 2, 3, 1, 2, 3, 1, 2, 3, 2, 1, 2, 3, 1, 2, 3, 1, 2, 3, 1, 2, 3, 1, 2, 3, 1, 2, 3, 1, 2, 3, 1, 2, 1, 2, 3, 1, 2, 3, 1, 2, 3, 1, 2, 3, 1, 1, 3, 1, 2, 3, 1, 2, 3, 1, 2, 3, 1, 2, 3, 1, 2, 3, 1, 2, 3, 1, 2, 3, 1, 2, 3, 1, 2, 1, 2, 3, 1, 2, 1, 2, 3, 1, 2, 3, 2, 3, 1, 2, 3, 3, 1, 2, 3, 1, 2, 3, 1, 2, 3, 1, 2, 3, 1, 2, 3, 3, 1, 2, 3, 1, 2, 3, 1, 2, 3, 1, 3, 1, 2, 3, 1, 2, 3, 1, 2, 3, 1, 1, 2, 3, 1, 2, 3, 1, 2, 3, 3, 1, 2, 3, 1, 2, 3, 1, 1, 2, 3, 1, 2, 3, 2, 3, 1, 2, 3, 1, 2, 3, 1, 2, 3, 1, 2, 3, 1, 2, 1, 2, 3, 1, 2, 3, 1, 2, 3, 1, 3, 1, 2, 3, 1, 2, 3, 1, 2, 3, 1, 2, 3, 1, 2, 3, 2, 3, 1, 2, 3, 1, 2, 3, 3, 2, 1, 2, 3, 1, 1, 2, 3, 1, 2, 3, 3, 1, 2, 1, 1, 2, 3, 1, 2, 3, 2, 1, 2, 3, 1, 2, 3, 1, 2, 3, 1, 2, 3, 1, 2, 3, 1, 2, 3, 1, 2, 3, 3, 1, 1, 2, 3, 1, 2, 3, 1, 2, 3, 3, 1, 1, 2, 3, 1, 2, 3, 1, 2, 3, 1, 2, 3, 1, 1, 2, 3, 1, 2, 3, 3, 1, 2, 1, 1, 2, 3, 1, 2, 3, 1, 2, 3, 1, 2, 3, 1, 3, 1, 2, 3, 1, 1, 2, 3, 1, 2, 3, 1, 2, 3, 1, 2, 3, 1, 1, 2, 3, 1, 2, 3, 1, 3, 1, 2, 3, 1, 2, 3, 1, 2, 3, 1, 2, 3, 1, 2, 3, 2, 1, 2, 3, 1, 2, 3, 1, 2, 1, 2, 3, 2, 1, 2, 3, 1, 2, 3, 1, 2, 3, 1, 2, 3, 1, 2, 3, 1, 2, 1, 2, 3, 1, 2, 3, 2, 3, 1, 1, 2, 3, 2], \"Freq\": [0.011425296114976462, 0.9825754658879758, 0.011425296114976462, 0.987371635478317, 0.011459038921480456, 0.011459038921480456, 0.9854773472473192, 0.2298040156962251, 0.10289732046099632, 0.6673626212756046, 0.9850807031877457, 0.016683913106870923, 0.9843508733053845, 0.28477047354442964, 0.07960695663318074, 0.6359776351614035, 0.0019364620770625385, 0.003872924154125077, 0.9934050455330823, 0.07459629800896213, 0.9149621793719941, 0.010546373166784301, 0.04187759074522322, 0.9466873544223189, 0.010152143210963206, 0.011738495574747756, 0.040106526547054835, 0.9488617256254436, 0.5601578277682684, 0.06071832299876746, 0.3790982924343149, 0.02330284339921122, 0.9649103303821535, 0.01208295583662804, 0.9847234757187735, 0.9974034378542502, 0.9869584161354007, 0.9760650523736254, 0.9714840087010777, 0.016133795014506926, 0.02688965835751154, 0.9626497691989132, 0.7562465210589874, 0.15134601092804545, 0.0923549140167945, 0.03129715023710259, 0.9651674280079368, 0.0035538888547625653, 0.9842019103857845, 0.014473557505673302, 0.014473557505673302, 0.1676814676863964, 0.8134500967298207, 0.018717931276620994, 0.2983055684798286, 0.10761217171692808, 0.5940654726824826, 0.03614349277015187, 0.9586631177606949, 0.005163356110021697, 0.9821277484480734, 0.6987464462701277, 0.23767410872578612, 0.06346979039836334, 0.06437422548034544, 0.8942968382906811, 0.041653910604929394, 0.9935510502715956, 0.9852254051851731, 0.01615123615057661, 0.24107739744898377, 0.38644888072273187, 0.37255218863920647, 0.0104720434914212, 0.0104720434914212, 0.9843720881935927, 0.8678914707579728, 0.1073979411974749, 0.02612382353452092, 0.00212346182387956, 0.00424692364775912, 0.9937801335756342, 0.11268482214718492, 0.05445172613823701, 0.8326576455305409, 0.009449616274229586, 0.9874849006569918, 0.009449616274229586, 0.48455709771019034, 0.3024611596329982, 0.21300967464236903, 0.9829235101865093, 0.9730084860108803, 0.018018675666868156, 0.9937460690266124, 0.006388242741878656, 0.9901776249911918, 0.006388242741878656, 0.06545770046262989, 0.013585560473376012, 0.9201129593331936, 0.0821367914041922, 0.03251247993082608, 0.8852520851340715, 0.9764593280478551, 0.01047276430940136, 0.01047276430940136, 0.9844398450837278, 0.9716745032752533, 0.01410482165415835, 0.01410482165415835, 0.9873375157910845, 0.008426590162104232, 0.016853180324208464, 0.973873063020332, 0.03308028128919226, 0.9593281573865755, 0.008270070322298066, 0.9904293302855869, 0.011128419441411089, 0.9905686235667026, 0.7666520626107848, 0.10740319048298802, 0.12605269845388345, 0.22426331900167545, 0.7121343989351449, 0.06351317054433415, 0.6722824864309687, 0.06421492683374631, 0.26330198154807954, 0.9611316210766674, 0.018902739900146258, 0.020356796815542123, 0.9427916471750318, 0.030412633779839736, 0.020275089186559823, 0.9973971972662083, 0.0036007119034881167, 0.6312417163734576, 0.13727388647972574, 0.23150284400829052, 0.9719697570284624, 0.027297063108184885, 0.013648531554092442, 0.9599467193045018, 0.04237956055821442, 0.9546959187568668, 0.0038526873234740384, 0.97099749111031, 0.015412658589052539, 0.0121962506142712, 0.0243925012285424, 0.9675692153988487, 0.9895263369395348, 0.005528080094634273, 0.005528080094634273, 0.010853024198759132, 0.04612535284472631, 0.9431278028721686, 0.12838943605641912, 0.8642801061358946, 0.007306715873129544, 0.013197816711156395, 0.9898362533367296, 0.4075279902440604, 0.14436332785103217, 0.4480668342583908, 0.880351654053007, 0.04192150733585748, 0.0778542279094496, 0.1475272483849344, 0.8373387229760287, 0.015401196259965678, 0.922191998506783, 0.0456029010250607, 0.03166868126740326, 0.9706553738196418, 0.17672861262038272, 0.771261791486901, 0.05211228320857439, 0.9858396464384934, 0.00879311539057024, 0.01758623078114048, 0.9760358083532966, 0.7009081249919051, 0.18904388854220314, 0.10998584415669321, 0.632970744724412, 0.1334644719748093, 0.23356282595591626, 0.9780030192125004, 0.018280430265654214, 0.6664516654844111, 0.08473300555771776, 0.24880549510167496, 0.00781388157793295, 0.06772030700875224, 0.9246426533887324, 0.6059942426678521, 0.24183853282938503, 0.15202277713985907, 0.2806410356249664, 0.15188892691458106, 0.5672805055991688, 0.9739969701718999, 0.02375602366272927, 0.3261896977721871, 0.21981809541649291, 0.4539100931327581, 0.09086867765623752, 0.9040950082765548, 0.005075112315906883, 0.04187590388279004, 0.9515135937811737, 0.00697931731379834, 0.22100020474964638, 0.5916594076240533, 0.1872425359997004, 0.0625652348077979, 0.9255682355693277, 0.010924088617234554, 0.9946269145145169, 0.24198091595894938, 0.20230289310463961, 0.5557368686374052, 0.03014085703864085, 0.9666603435964102, 0.004305836719805836, 0.3008191348637459, 0.45597223661672914, 0.24330378122028332, 0.8191712728908419, 0.09181299488712046, 0.08899075109399118, 0.2596421906484937, 0.057758241994571365, 0.6828427675059138, 0.3358175462898487, 0.5678731064111657, 0.09646881142186177, 0.008800773241833102, 0.008800773241833102, 0.9944873763271406, 0.9717729840410914, 0.019832101715124315, 0.672995304175512, 0.14044367081851494, 0.18648920012862352, 0.00886959245444307, 0.00886959245444307, 0.9845247624431808, 0.6787703250862589, 0.23337418760830053, 0.08783271848166009, 0.16030891069142694, 0.04923649267161538, 0.7903966683239388, 0.9938411688029498, 0.9870071792403782, 0.017017365159316865, 0.7843501223621557, 0.06613892364837066, 0.14941645533779738, 0.06713605826520777, 0.8732349800745427, 0.05967649623574024, 0.02990713367366576, 0.9652380789579185, 0.004691315086065217, 0.28123902373093157, 0.17880399720129145, 0.5399789255633887, 0.056369740794215445, 0.05502760410863888, 0.889836622537258, 0.09908046445191523, 0.8917241800672371, 0.009099226327216705, 0.8128172610504844, 0.11729679986704143, 0.07021287315984875, 0.30391923970941964, 0.5740696750066816, 0.12212627761088626, 0.016946250659951156, 0.9828825382771671, 0.9157832012248418, 0.03614933689045428, 0.046692893483503445, 0.9944239792210652, 0.003899701879298295, 0.9420242441221051, 0.021409641911866024, 0.03211446286779904, 0.9165374083663941, 0.0030825249160304734, 0.0801456478167923, 0.014106456329111004, 0.9874519430377703, 0.15392991590375704, 0.07696495795187852, 0.7690338598551701, 0.9948486770795321, 0.13635930122256718, 0.7093383847756117, 0.1544505352461553, 0.011632675383930726, 0.9858692387881292, 0.0029081688459826815, 0.23511331381715592, 0.043609727562859565, 0.7209825611207543, 0.022604039636749774, 0.06135382187117796, 0.9161555656854092, 0.012325223042707889, 0.03286726144722104, 0.9572589896503128, 0.986169862685713, 0.5865248301996878, 0.18308632830992036, 0.23041065394031407, 0.5952903285636082, 0.1263169307415324, 0.2783093229386837, 0.025735420387318332, 0.956435772603323, 0.01766909459427826, 0.9714210880148607, 0.022077752000337743, 0.22684974246326953, 0.14606171908394, 0.6270058770002295, 0.368070688051834, 0.45678385803117794, 0.17513860778157017, 0.10945557879390391, 0.032587119561387615, 0.8579437016491418, 0.9716212711595251, 0.010277816559407826, 0.010277816559407826, 0.9866703897031514, 0.008143812475389828, 0.9881159136806326, 0.005429208316926552, 0.3452559514346211, 0.3638640653502525, 0.29089846551440945, 0.9934061129631514, 0.00866206186281972, 0.00866206186281972, 0.9874750523614482, 0.010373694516689493, 0.010373694516689493, 0.9855009790855017, 0.983815382339377, 0.0869786716730721, 0.06523400375480408, 0.848042048812453, 0.029774358165979793, 0.039699144221306396, 0.9300942360420354, 0.010680863692245851, 0.9933203233788642, 0.6418969927163073, 0.1385596596207271, 0.21946120340448064, 0.06762133410342144, 0.05117290148367028, 0.8809049469688955, 0.9527979122966876, 0.029167283029490437, 0.019444855352993624, 0.17103968069888392, 0.766100620685731, 0.06285953810754717, 0.00949355673891617, 0.9873299008472816, 0.6909608604047053, 0.08694940242716509, 0.2222285488430336, 0.03564170574221557, 0.9582135505311031, 0.005483339344956241, 0.06377955297482416, 0.932162697324353, 0.0032707463064012387, 0.006710058171267706, 0.9930886093476206, 0.6484424873707039, 0.18197961697738485, 0.16954875848284903, 0.34896448920492973, 0.309341342017602, 0.34178864365131917, 0.020948565502189778, 0.9767877635323374, 0.002192291738601256, 0.030003056100197198, 0.9673306748018936, 0.002678844294660464, 0.6915343598339906, 0.05718353728838757, 0.25128471432886823, 0.9925014232683825, 0.01210367589351686, 0.66783082948159, 0.16223653826737855, 0.1699620877086823, 0.6787057716546671, 0.12836071945853259, 0.19297017423851986, 0.9805414625685468, 0.9984820350477209, 0.3963636073232446, 0.07895563057879032, 0.5246268706530466, 0.9708553782340144, 0.6073093651465736, 0.1664143583816274, 0.2261792672741004, 0.11776070038931404, 0.04464666553890515, 0.8376369818996424, 0.9820268170182589, 0.012099690197524987, 0.992174596197049, 0.9716042806463415, 0.5628439005897891, 0.34689043523813756, 0.09022158702425719, 0.6443689699816051, 0.17036456884873102, 0.18529262953375986, 0.994673157879212, 0.029300301490905258, 0.9548451191742067, 0.015511924318714548, 0.8007089687602895, 0.17429680718396803, 0.025352262863122626, 0.9716286915262771, 0.001314515074880156, 0.9977169418340385, 0.04444672765438859, 0.9498900652995048, 0.0050796260176444105, 0.006396760854612511, 0.006396760854612511, 0.9914979324649392, 0.065340796100571, 0.9268962415916051, 0.007409781001095681, 0.0474190092848585, 0.9458844483663881, 0.006239343326955066, 0.991247307590347, 0.9852475400403191, 0.005388507340282115, 0.008082761010423174, 0.986096843271627, 0.6954220548838356, 0.19517741634711422, 0.10934309039054019, 0.005776747373024672, 0.9762703060411697, 0.017330242119074017, 0.9976036329334118, 0.9713306687668032, 0.006108564864592854, 0.006108564864592854, 0.9834789431994495, 0.9577299261534661, 0.031504273886627174, 0.01260170955465087, 0.022986251117721988, 0.02528487622949419, 0.9516307962736903, 0.008026128856043944, 0.008026128856043944, 0.9872138492934053, 0.9703577229534757, 0.9590786428283077, 0.03688764010878107, 0.012295880036260356, 0.09765740337334218, 0.8991216103683574, 0.003214428637680542, 0.9763932023766217, 0.013373657960983587, 0.9896506891127854, 0.9716812011155608, 0.4661572486546138, 0.0589953930599451, 0.47477244891098674, 0.3942327494929975, 0.14666396930543063, 0.4590582239259979, 0.29779064444814085, 0.1687524891304687, 0.5334022814116003, 0.7691884853894063, 0.07485575101107443, 0.15591905210599408, 0.9718313886079891, 0.029902504264861202, 0.40339168495387523, 0.1332230916797645, 0.46353799252106304, 0.9719486768663265, 0.7621910130384071, 0.09801352111535992, 0.1397437859193951, 0.5929341482187273, 0.1239205529841701, 0.283132765758302, 0.046642068767710355, 0.9300145833076793, 0.022614336372223202, 0.9632661253573773, 0.02551698345317556, 0.00637924586329389, 0.9706347596772409, 0.5395882652612188, 0.19609609832214128, 0.2642934196361126, 0.004034581567037035, 0.010086453917592587, 0.9864551931405551, 0.9749329898077691, 0.021665177551283755, 0.7414603521101336, 0.08526794049266537, 0.17341933791020347, 0.015822212606190246, 0.15189324101942636, 0.8311935689118609, 0.01208491305602428, 0.9849204140659789, 0.00604245652801214, 0.014286721434409351, 0.014286721434409351, 0.9857837789742452, 0.19682115270535797, 0.757004433482146, 0.04633784714042227, 0.9954300036703708, 0.5909945940270294, 0.12612618143041693, 0.28287687644662945, 0.0051554932477341385, 0.9898547035649546, 0.0051554932477341385, 0.9718707312429055, 0.9955165389034405, 0.9906947005967042, 0.007620728466128494, 0.007620728466128494, 0.9972535633137589, 0.06041800287028112, 0.9264093773443106, 0.012587083931308567, 0.2676568941929873, 0.11061834741555196, 0.6217343723043747, 0.017593703613034785, 0.023458271484046382, 0.9588568469103959, 0.009075758571226231, 0.0431098532133246, 0.9461478310503346, 0.6114588803094912, 0.12450089894565787, 0.2639974995857105, 0.9700936321352751, 0.015903174297299594, 0.6005459092040369, 0.2442628727877483, 0.15517220960342942, 0.19798551614825186, 0.32858753205972074, 0.47346949504123637, 0.9862677082383321, 0.010063956206513593, 0.9722005875052088, 0.17335412687339577, 0.754119636095715, 0.07266864914389823, 0.9930992389209079], \"Term\": [\"ab\", \"ab\", \"ab\", \"aie\", \"aly\", \"aly\", \"aly\", \"angel\", \"angel\", \"angel\", \"another\", \"anton\", \"anton\", \"arm\", \"arm\", \"arm\", \"armin\", \"armin\", \"armin\", \"ass\", \"ass\", \"ass\", \"ayy\", \"ayy\", \"ayy\", \"ba\", \"ba\", \"ba\", \"baby\", \"baby\", \"baby\", \"bang\", \"bang\", \"bang\", \"barrin\", \"bd\", \"beez\", \"beguine\", \"bellbottom\", \"bethlehem\", \"bethlehem\", \"bethlehem\", \"bit\", \"bit\", \"bit\", \"bitch\", \"bitch\", \"bitch\", \"blackman\", \"blackman\", \"blackman\", \"block\", \"block\", \"block\", \"blue\", \"blue\", \"blue\", \"blunt\", \"blunt\", \"blunt\", \"bodda\", \"body\", \"body\", \"body\", \"boom\", \"boom\", \"boom\", \"bope\", \"bourgeois\", \"bourgeois\", \"boy\", \"boy\", \"boy\", \"bridgewater\", \"bridgewater\", \"bridgewater\", \"bump\", \"bump\", \"bump\", \"buuren\", \"buuren\", \"buuren\", \"bye\", \"bye\", \"bye\", \"cam\", \"cam\", \"cam\", \"cause\", \"cause\", \"cause\", \"cheesecake\", \"cheri\", \"cheri\", \"chitty\", \"choppa\", \"choppa\", \"choppa\", \"christma\", \"christma\", \"christma\", \"christmas\", \"christmas\", \"christmas\", \"chunky\", \"cile\", \"cile\", \"cile\", \"ciribiribin\", \"claudine\", \"claudine\", \"claudine\", \"claus\", \"claus\", \"claus\", \"click\", \"click\", \"click\", \"clippity\", \"clippity\", \"corbijn\", \"da\", \"da\", \"da\", \"damn\", \"damn\", \"damn\", \"dance\", \"dance\", \"dance\", \"dancin\", \"dancin\", \"dancin\", \"dandy\", \"dandy\", \"dandy\", \"darko\", \"darko\", \"day\", \"day\", \"day\", \"desecration\", \"diana\", \"diana\", \"diana\", \"dick\", \"dick\", \"dick\", \"divin\", \"divin\", \"dixie\", \"dixie\", \"dixie\", \"dobalina\", \"dobalina\", \"dobalina\", \"doo\", \"doo\", \"doo\", \"dope\", \"dope\", \"dope\", \"dopeman\", \"dopeman\", \"dream\", \"dream\", \"dream\", \"dreamin\", \"dreamin\", \"dreamin\", \"drug\", \"drug\", \"drug\", \"dum\", \"dum\", \"dum\", \"eheu\", \"em\", \"em\", \"em\", \"emery\", \"esperanza\", \"esperanza\", \"esperanza\", \"everybody\", \"everybody\", \"everybody\", \"everything\", \"everything\", \"everything\", \"exodus\", \"exodus\", \"eye\", \"eye\", \"eye\", \"fa\", \"fa\", \"fa\", \"face\", \"face\", \"face\", \"fire\", \"fire\", \"fire\", \"flicka\", \"flicka\", \"friend\", \"friend\", \"friend\", \"fuck\", \"fuck\", \"fuck\", \"fuckin\", \"fuckin\", \"fuckin\", \"game\", \"game\", \"game\", \"gang\", \"gang\", \"gang\", \"ginjeet\", \"girl\", \"girl\", \"girl\", \"glock\", \"glock\", \"glock\", \"god\", \"god\", \"god\", \"gon\", \"gon\", \"gon\", \"goodbye\", \"goodbye\", \"goodbye\", \"gun\", \"gun\", \"gun\", \"haliene\", \"haliene\", \"haliene\", \"halifax\", \"halifax\", \"hand\", \"hand\", \"hand\", \"hark\", \"hark\", \"hark\", \"head\", \"head\", \"head\", \"heart\", \"heart\", \"heart\", \"heebie\", \"hep\", \"hep\", \"hey\", \"hey\", \"hey\", \"ho\", \"ho\", \"ho\", \"hoe\", \"hoe\", \"hoe\", \"home\", \"home\", \"home\", \"hoo\", \"hoo\", \"hoo\", \"hood\", \"hood\", \"hood\", \"horse\", \"horse\", \"horse\", \"house\", \"house\", \"house\", \"hyphy\", \"hyphy\", \"jah\", \"jah\", \"jah\", \"jammin\", \"jammin\", \"jezebel\", \"jezebel\", \"jezebel\", \"jingle\", \"jingle\", \"jingle\", \"jolene\", \"jolene\", \"joy\", \"joy\", \"joy\", \"khomha\", \"kid\", \"kid\", \"kid\", \"killa\", \"killa\", \"killa\", \"kiss\", \"kiss\", \"kiss\", \"la\", \"la\", \"la\", \"lauren\", \"lauren\", \"lauren\", \"layee\", \"life\", \"life\", \"life\", \"light\", \"light\", \"light\", \"lil\", \"lil\", \"lil\", \"ling\", \"ling\", \"lord\", \"lord\", \"lord\", \"lot\", \"lot\", \"lot\", \"love\", \"love\", \"love\", \"loverman\", \"lovie\", \"lovie\", \"lovie\", \"malone\", \"malone\", \"malone\", \"man\", \"man\", \"man\", \"markus\", \"marlo\", \"marlo\", \"marlo\", \"mclorin\", \"mclorin\", \"mclorin\", \"meathook\", \"melody\", \"melody\", \"melody\", \"merry\", \"merry\", \"merry\", \"messer\", \"messer\", \"mind\", \"mind\", \"mind\", \"mm\", \"mm\", \"mm\", \"mmh\", \"mmh\", \"mmh\", \"money\", \"money\", \"money\", \"moneybagg\", \"moneybagg\", \"morning\", \"morning\", \"morning\", \"motherfucker\", \"motherfucker\", \"motherfucker\", \"motherfuckin\", \"motherfuckin\", \"motherfuckin\", \"mow\", \"mow\", \"music\", \"music\", \"music\", \"name\", \"name\", \"name\", \"nigga\", \"nigga\", \"nigga\", \"niggas\", \"niggas\", \"niggas\", \"night\", \"night\", \"night\", \"nle\", \"nle\", \"nobody\", \"nobody\", \"nobody\", \"nothing\", \"nothing\", \"nothing\", \"odl\", \"ody\", \"oh\", \"oh\", \"oh\", \"oie\", \"one\", \"one\", \"one\", \"ooh\", \"ooh\", \"ooh\", \"ooma\", \"panda\", \"panda\", \"panky\", \"people\", \"people\", \"people\", \"place\", \"place\", \"place\", \"pol\", \"post\", \"post\", \"post\", \"pressure\", \"pressure\", \"pressure\", \"privateer\", \"pum\", \"pum\", \"pussy\", \"pussy\", \"pussy\", \"quack\", \"quack\", \"quack\", \"rap\", \"rap\", \"rap\", \"rapper\", \"rapper\", \"rapper\", \"rayel\", \"reb\", \"reindeer\", \"reindeer\", \"reindeer\", \"rock\", \"rock\", \"rock\", \"roddy\", \"roddy\", \"roddy\", \"romanization\", \"romp\", \"rosetta\", \"rosetta\", \"rosetta\", \"saddle\", \"saddle\", \"saddle\", \"santa\", \"santa\", \"santa\", \"schulz\", \"schulz\", \"schulz\", \"senora\", \"sera\", \"sera\", \"sera\", \"shit\", \"shit\", \"shit\", \"shoorah\", \"shotta\", \"shotta\", \"snapper\", \"someone\", \"someone\", \"someone\", \"something\", \"something\", \"something\", \"song\", \"song\", \"song\", \"soul\", \"soul\", \"soul\", \"spun\", \"spun\", \"star\", \"star\", \"star\", \"steamroller\", \"sun\", \"sun\", \"sun\", \"thing\", \"thing\", \"thing\", \"thug\", \"thug\", \"thug\", \"thump\", \"thump\", \"thump\", \"thumpety\", \"time\", \"time\", \"time\", \"translation\", \"translation\", \"translation\", \"treetops\", \"treetops\", \"trouble\", \"trouble\", \"trouble\", \"van\", \"van\", \"van\", \"versace\", \"versace\", \"versace\", \"vini\", \"vini\", \"vini\", \"war\", \"war\", \"war\", \"waterloo\", \"way\", \"way\", \"way\", \"weh\", \"weh\", \"weh\", \"whirlybird\", \"whoomp\", \"wiggy\", \"wiggy\", \"wiggy\", \"wim\", \"wit\", \"wit\", \"wit\", \"woman\", \"woman\", \"woman\", \"wonderland\", \"wonderland\", \"wonderland\", \"wop\", \"wop\", \"wop\", \"world\", \"world\", \"world\", \"yakko\", \"yakko\", \"yeah\", \"yeah\", \"yeah\", \"year\", \"year\", \"year\", \"yippee\", \"yippee\", \"yippie\", \"yo\", \"yo\", \"yo\", \"yoy\"]}, \"R\": 30, \"lambda.step\": 0.01, \"plot.opts\": {\"xlab\": \"PC1\", \"ylab\": \"PC2\"}, \"topic.order\": [2, 3, 1]};\n",
       "\n",
       "function LDAvis_load_lib(url, callback){\n",
       "  var s = document.createElement('script');\n",
       "  s.src = url;\n",
       "  s.async = true;\n",
       "  s.onreadystatechange = s.onload = callback;\n",
       "  s.onerror = function(){console.warn(\"failed to load library \" + url);};\n",
       "  document.getElementsByTagName(\"head\")[0].appendChild(s);\n",
       "}\n",
       "\n",
       "if(typeof(LDAvis) !== \"undefined\"){\n",
       "   // already loaded: just create the visualization\n",
       "   !function(LDAvis){\n",
       "       new LDAvis(\"#\" + \"ldavis_el1280416635599376247606912506\", ldavis_el1280416635599376247606912506_data);\n",
       "   }(LDAvis);\n",
       "}else if(typeof define === \"function\" && define.amd){\n",
       "   // require.js is available: use it to load d3/LDAvis\n",
       "   require.config({paths: {d3: \"https://d3js.org/d3.v5\"}});\n",
       "   require([\"d3\"], function(d3){\n",
       "      window.d3 = d3;\n",
       "      LDAvis_load_lib(\"https://cdn.jsdelivr.net/gh/bmabey/pyLDAvis@3.3.1/pyLDAvis/js/ldavis.v3.0.0.js\", function(){\n",
       "        new LDAvis(\"#\" + \"ldavis_el1280416635599376247606912506\", ldavis_el1280416635599376247606912506_data);\n",
       "      });\n",
       "    });\n",
       "}else{\n",
       "    // require.js not available: dynamically load d3 & LDAvis\n",
       "    LDAvis_load_lib(\"https://d3js.org/d3.v5.js\", function(){\n",
       "         LDAvis_load_lib(\"https://cdn.jsdelivr.net/gh/bmabey/pyLDAvis@3.3.1/pyLDAvis/js/ldavis.v3.0.0.js\", function(){\n",
       "                 new LDAvis(\"#\" + \"ldavis_el1280416635599376247606912506\", ldavis_el1280416635599376247606912506_data);\n",
       "            })\n",
       "         });\n",
       "}\n",
       "</script>"
      ],
      "text/plain": [
       "PreparedData(topic_coordinates=              x         y  topics  cluster       Freq\n",
       "topic                                                \n",
       "1      0.010618 -0.072617       1        1  39.906103\n",
       "2     -0.124277  0.031448       2        1  33.548115\n",
       "0      0.113659  0.041169       3        1  26.545782, topic_info=      Term          Freq         Total Category  logprob  loglift\n",
       "45    love  34461.000000  34461.000000  Default  30.0000  30.0000\n",
       "377  heart  17222.000000  17222.000000  Default  29.0000  29.0000\n",
       "10   bitch   8722.000000   8722.000000  Default  28.0000  28.0000\n",
       "3     baby  25560.000000  25560.000000  Default  27.0000  27.0000\n",
       "299   shit   6533.000000   6533.000000  Default  26.0000  26.0000\n",
       "..     ...           ...           ...      ...      ...      ...\n",
       "87     boy   3082.661745   8275.350660   Topic3  -5.3294   0.3388\n",
       "109   life   4191.596000  18193.603153   Topic3  -5.0221  -0.1417\n",
       "141  cause   4402.636109  20670.422634   Topic3  -4.9730  -0.2202\n",
       "208  world   3608.896893  13670.584023   Topic3  -5.1718  -0.0055\n",
       "341    eye   3183.224022  12793.125806   Topic3  -5.2973  -0.0647\n",
       "\n",
       "[294 rows x 6 columns], token_table=       Topic      Freq    Term\n",
       "term                          \n",
       "535        1  0.011425      ab\n",
       "535        2  0.982575      ab\n",
       "535        3  0.011425      ab\n",
       "43240      2  0.987372     aie\n",
       "5748       1  0.011459     aly\n",
       "...      ...       ...     ...\n",
       "7956       1  0.972201  yippie\n",
       "138        1  0.173354      yo\n",
       "138        2  0.754120      yo\n",
       "138        3  0.072669      yo\n",
       "29135      2  0.993099     yoy\n",
       "\n",
       "[590 rows x 3 columns], R=30, lambda_step=0.01, plot_opts={'xlab': 'PC1', 'ylab': 'PC2'}, topic_order=[2, 3, 1])"
      ]
     },
     "execution_count": 16,
     "metadata": {},
     "output_type": "execute_result"
    }
   ],
   "source": [
    "# number of topics\n",
    "num_topics = 3\n",
    "\n",
    "# Build LDA model\n",
    "lda_model = gensim.models.LdaMulticore(corpus, num_topics=num_topics, id2word = id2word, random_state = 100,\\\n",
    "                                          chunksize = 30000, passes = 10)\n",
    "\n",
    "# print the keywords\n",
    "pprint(lda_model.print_topics())\n",
    "doc_lda = lda_model[corpus]\n",
    "\n",
    "# Visualize the topics\n",
    "pyLDAvis.enable_notebook()\n",
    "LDAvis_data_filepath = os.path.join('./model11/ldavis_11')\n",
    "LDAmodel_filepath = os.path.join('./model11/ldamodel_11')\n",
    "LDAwords_filepath = os.path.join('./model11/ldawords_11')\n",
    "\n",
    "# Store the top words\n",
    "\n",
    "topic_words = []\n",
    "\n",
    "for i in range(num_topics):\n",
    "    \n",
    "    tt = lda_model.get_topic_terms(i, 20)\n",
    "    topic_words.append([id2word[pair[0]] for pair in tt])\n",
    "\n",
    "# # this is a bit time consuming - make the if statement True\n",
    "# # if you want to execute visualization prep yourself\n",
    "if 1 == 1:\n",
    "    LDAvis_prepared = pyLDAvis.gensim_models.prepare(lda_model, corpus, id2word)\n",
    "    with open(LDAvis_data_filepath, 'wb') as f:\n",
    "        pickle.dump(LDAvis_prepared, f)\n",
    "        \n",
    "    with open(LDAmodel_filepath, 'wb') as f:\n",
    "        pickle.dump(lda_model, f)\n",
    "        \n",
    "    with open(LDAwords_filepath, 'wb') as f:\n",
    "        pickle.dump(topic_words, f)\n",
    "        \n",
    "# load the pre-prepared pyLDAvis data from disk\n",
    "with open(LDAvis_data_filepath, 'rb') as f:\n",
    "    LDAvis_prepared = pickle.load(f)\n",
    "pyLDAvis.save_html(LDAvis_prepared, './model11/ldamodel_11' +'.html')\n",
    "LDAvis_prepared"
   ]
  },
  {
   "cell_type": "code",
   "execution_count": 17,
   "metadata": {},
   "outputs": [],
   "source": [
    "for i in range(num_topics):\n",
    "    \n",
    "    words = ' '.join(topic_words[i])\n",
    "\n",
    "    stylecloud.gen_stylecloud(text = words,\n",
    "        size = 2048,\n",
    "        icon_name='fas fa-music',\n",
    "        stopwords = True,\n",
    "        max_words = 300,\n",
    "        output_name = \"model11/stylecloud_11_topic{}.png\".format(i)\n",
    "    )"
   ]
  }
 ],
 "metadata": {
  "colab": {
   "collapsed_sections": [
    "rdqA8R-zIHyT"
   ],
   "name": "Text Classification - Kaggle Competition (BT5153).ipynb",
   "provenance": []
  },
  "kernelspec": {
   "display_name": "Python 3",
   "language": "python",
   "name": "python3"
  },
  "language_info": {
   "codemirror_mode": {
    "name": "ipython",
    "version": 3
   },
   "file_extension": ".py",
   "mimetype": "text/x-python",
   "name": "python",
   "nbconvert_exporter": "python",
   "pygments_lexer": "ipython3",
   "version": "3.6.10"
  }
 },
 "nbformat": 4,
 "nbformat_minor": 1
}
