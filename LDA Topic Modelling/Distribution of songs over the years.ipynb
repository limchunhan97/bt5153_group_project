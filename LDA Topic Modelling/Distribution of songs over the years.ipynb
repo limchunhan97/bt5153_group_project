{
 "cells": [
  {
   "cell_type": "markdown",
   "metadata": {
    "id": "y-1RoGgC9wFK"
   },
   "source": [
    "## Importing Libraries"
   ]
  },
  {
   "cell_type": "code",
   "execution_count": 1,
   "metadata": {
    "id": "cV9N7zrjIHyL"
   },
   "outputs": [],
   "source": [
    "# Load libraries\n",
    "import pandas as pd\n",
    "import numpy as np\n",
    "import scipy as sp\n",
    "import matplotlib.pyplot as plt\n",
    "import nltk\n",
    "from nltk.stem import WordNetLemmatizer, PorterStemmer\n",
    "from nltk.corpus import stopwords, wordnet\n",
    "from sklearn.model_selection import train_test_split\n",
    "from sklearn.feature_extraction.text import TfidfVectorizer\n",
    "from sklearn.naive_bayes import MultinomialNB\n",
    "from sklearn import metrics\n",
    "import warnings\n",
    "warnings.filterwarnings('ignore', category = DeprecationWarning)\n",
    "import re\n",
    "import string\n",
    "import time\n",
    "# helpful character encoding module\n",
    "import chardet\n",
    "import seaborn as sns\n",
    "from tqdm import tqdm\n",
    "import collections\n",
    "from sklearn.feature_extraction.text import CountVectorizer\n",
    "from sklearn.naive_bayes import MultinomialNB\n",
    "import gensim"
   ]
  },
  {
   "cell_type": "code",
   "execution_count": 2,
   "metadata": {
    "colab": {
     "base_uri": "https://localhost:8080/"
    },
    "id": "Q3hfR-57IHyM",
    "outputId": "e670a784-2c1b-4a9b-91c2-6ad8f24e782f"
   },
   "outputs": [
    {
     "name": "stderr",
     "output_type": "stream",
     "text": [
      "[nltk_data] Downloading package wordnet to\n",
      "[nltk_data]     C:\\Users\\spiky\\AppData\\Roaming\\nltk_data...\n",
      "[nltk_data]   Package wordnet is already up-to-date!\n",
      "[nltk_data] Downloading package stopwords to\n",
      "[nltk_data]     C:\\Users\\spiky\\AppData\\Roaming\\nltk_data...\n",
      "[nltk_data]   Package stopwords is already up-to-date!\n",
      "[nltk_data] Downloading package averaged_perceptron_tagger to\n",
      "[nltk_data]     C:\\Users\\spiky\\AppData\\Roaming\\nltk_data...\n",
      "[nltk_data]   Package averaged_perceptron_tagger is already up-to-\n",
      "[nltk_data]       date!\n",
      "[nltk_data] Downloading package punkt to\n",
      "[nltk_data]     C:\\Users\\spiky\\AppData\\Roaming\\nltk_data...\n",
      "[nltk_data]   Package punkt is already up-to-date!\n"
     ]
    },
    {
     "data": {
      "text/plain": [
       "True"
      ]
     },
     "execution_count": 2,
     "metadata": {},
     "output_type": "execute_result"
    }
   ],
   "source": [
    "nltk.download('wordnet')\n",
    "nltk.download('stopwords')\n",
    "nltk.download('averaged_perceptron_tagger')\n",
    "nltk.download('punkt')"
   ]
  },
  {
   "cell_type": "code",
   "execution_count": 3,
   "metadata": {},
   "outputs": [],
   "source": [
    "import gensim\n",
    "from gensim.utils import simple_preprocess\n",
    "import gensim.corpora as corpora\n",
    "from wordcloud import WordCloud\n",
    "from pprint import pprint\n",
    "import pickle \n",
    "import pyLDAvis\n",
    "import os\n",
    "import pyLDAvis.gensim_models\n",
    "import stylecloud"
   ]
  },
  {
   "cell_type": "markdown",
   "metadata": {
    "id": "49RH3S2RIHyN"
   },
   "source": [
    "## Load the dataset"
   ]
  },
  {
   "cell_type": "code",
   "execution_count": 4,
   "metadata": {},
   "outputs": [
    {
     "name": "stderr",
     "output_type": "stream",
     "text": [
      "C:\\Users\\spiky\\anaconda3\\envs\\python37\\lib\\site-packages\\ipykernel\\ipkernel.py:287: DeprecationWarning: `should_run_async` will not call `transform_cell` automatically in the future. Please pass the result to `transformed_cell` argument and any exception that happen during thetransform in `preprocessing_exc_tuple` in IPython 7.17 and above.\n",
      "  and should_run_async(code)\n"
     ]
    },
    {
     "data": {
      "text/html": [
       "<div>\n",
       "<style scoped>\n",
       "    .dataframe tbody tr th:only-of-type {\n",
       "        vertical-align: middle;\n",
       "    }\n",
       "\n",
       "    .dataframe tbody tr th {\n",
       "        vertical-align: top;\n",
       "    }\n",
       "\n",
       "    .dataframe thead th {\n",
       "        text-align: right;\n",
       "    }\n",
       "</style>\n",
       "<table border=\"1\" class=\"dataframe\">\n",
       "  <thead>\n",
       "    <tr style=\"text-align: right;\">\n",
       "      <th></th>\n",
       "      <th>Unnamed: 0</th>\n",
       "      <th>id</th>\n",
       "      <th>song</th>\n",
       "      <th>album</th>\n",
       "      <th>artist</th>\n",
       "      <th>acousticness_x</th>\n",
       "      <th>danceability_x</th>\n",
       "      <th>duration_ms_x</th>\n",
       "      <th>energy_x</th>\n",
       "      <th>instrumentalness_x</th>\n",
       "      <th>...</th>\n",
       "      <th>readability</th>\n",
       "      <th>grade</th>\n",
       "      <th>richness</th>\n",
       "      <th>Language</th>\n",
       "      <th>neg</th>\n",
       "      <th>neu</th>\n",
       "      <th>pos</th>\n",
       "      <th>compound</th>\n",
       "      <th>compound_vader_polarity</th>\n",
       "      <th>artist_popularity</th>\n",
       "    </tr>\n",
       "  </thead>\n",
       "  <tbody>\n",
       "    <tr>\n",
       "      <th>0</th>\n",
       "      <td>0</td>\n",
       "      <td>1mTxphc9naXMLE9qfMkEVh</td>\n",
       "      <td>NaN</td>\n",
       "      <td>NaN</td>\n",
       "      <td>NaN</td>\n",
       "      <td>NaN</td>\n",
       "      <td>NaN</td>\n",
       "      <td>NaN</td>\n",
       "      <td>NaN</td>\n",
       "      <td>NaN</td>\n",
       "      <td>...</td>\n",
       "      <td>-5.036</td>\n",
       "      <td>College Graduate</td>\n",
       "      <td>0.177977</td>\n",
       "      <td>en</td>\n",
       "      <td>0.102</td>\n",
       "      <td>0.846</td>\n",
       "      <td>0.052</td>\n",
       "      <td>-0.9857</td>\n",
       "      <td>-1.0</td>\n",
       "      <td>0.000000</td>\n",
       "    </tr>\n",
       "    <tr>\n",
       "      <th>1</th>\n",
       "      <td>1</td>\n",
       "      <td>2Tp1yCGNjjZ39HTEnKaqhx</td>\n",
       "      <td>NaN</td>\n",
       "      <td>NaN</td>\n",
       "      <td>NaN</td>\n",
       "      <td>NaN</td>\n",
       "      <td>NaN</td>\n",
       "      <td>NaN</td>\n",
       "      <td>NaN</td>\n",
       "      <td>NaN</td>\n",
       "      <td>...</td>\n",
       "      <td>90.502</td>\n",
       "      <td>5th Grade</td>\n",
       "      <td>0.076503</td>\n",
       "      <td>en</td>\n",
       "      <td>0.294</td>\n",
       "      <td>0.455</td>\n",
       "      <td>0.251</td>\n",
       "      <td>-0.8895</td>\n",
       "      <td>-1.0</td>\n",
       "      <td>5.000000</td>\n",
       "    </tr>\n",
       "    <tr>\n",
       "      <th>2</th>\n",
       "      <td>2</td>\n",
       "      <td>3plzStfrkTOq9lehqqI3bG</td>\n",
       "      <td>NaN</td>\n",
       "      <td>NaN</td>\n",
       "      <td>NaN</td>\n",
       "      <td>NaN</td>\n",
       "      <td>NaN</td>\n",
       "      <td>NaN</td>\n",
       "      <td>NaN</td>\n",
       "      <td>NaN</td>\n",
       "      <td>...</td>\n",
       "      <td>33.028</td>\n",
       "      <td>College Level</td>\n",
       "      <td>0.254582</td>\n",
       "      <td>en</td>\n",
       "      <td>0.064</td>\n",
       "      <td>0.800</td>\n",
       "      <td>0.136</td>\n",
       "      <td>0.9856</td>\n",
       "      <td>1.0</td>\n",
       "      <td>46.000000</td>\n",
       "    </tr>\n",
       "    <tr>\n",
       "      <th>3</th>\n",
       "      <td>3</td>\n",
       "      <td>2MGhUOnAifh3znlInWnywc</td>\n",
       "      <td>NaN</td>\n",
       "      <td>NaN</td>\n",
       "      <td>NaN</td>\n",
       "      <td>NaN</td>\n",
       "      <td>NaN</td>\n",
       "      <td>NaN</td>\n",
       "      <td>NaN</td>\n",
       "      <td>NaN</td>\n",
       "      <td>...</td>\n",
       "      <td>-61.661</td>\n",
       "      <td>College Graduate</td>\n",
       "      <td>0.191257</td>\n",
       "      <td>en</td>\n",
       "      <td>0.109</td>\n",
       "      <td>0.817</td>\n",
       "      <td>0.074</td>\n",
       "      <td>-0.5831</td>\n",
       "      <td>-1.0</td>\n",
       "      <td>38.000000</td>\n",
       "    </tr>\n",
       "    <tr>\n",
       "      <th>4</th>\n",
       "      <td>4</td>\n",
       "      <td>1vDRvO1X021HlJY2NnqUU2</td>\n",
       "      <td>NaN</td>\n",
       "      <td>NaN</td>\n",
       "      <td>NaN</td>\n",
       "      <td>NaN</td>\n",
       "      <td>NaN</td>\n",
       "      <td>NaN</td>\n",
       "      <td>NaN</td>\n",
       "      <td>NaN</td>\n",
       "      <td>...</td>\n",
       "      <td>69.626</td>\n",
       "      <td>9th Grade</td>\n",
       "      <td>0.200000</td>\n",
       "      <td>en</td>\n",
       "      <td>0.034</td>\n",
       "      <td>0.913</td>\n",
       "      <td>0.053</td>\n",
       "      <td>0.6788</td>\n",
       "      <td>1.0</td>\n",
       "      <td>60.848402</td>\n",
       "    </tr>\n",
       "  </tbody>\n",
       "</table>\n",
       "<p>5 rows × 60 columns</p>\n",
       "</div>"
      ],
      "text/plain": [
       "   Unnamed: 0                      id song album artist  acousticness_x  \\\n",
       "0           0  1mTxphc9naXMLE9qfMkEVh  NaN   NaN    NaN             NaN   \n",
       "1           1  2Tp1yCGNjjZ39HTEnKaqhx  NaN   NaN    NaN             NaN   \n",
       "2           2  3plzStfrkTOq9lehqqI3bG  NaN   NaN    NaN             NaN   \n",
       "3           3  2MGhUOnAifh3znlInWnywc  NaN   NaN    NaN             NaN   \n",
       "4           4  1vDRvO1X021HlJY2NnqUU2  NaN   NaN    NaN             NaN   \n",
       "\n",
       "   danceability_x  duration_ms_x  energy_x  instrumentalness_x  ...  \\\n",
       "0             NaN            NaN       NaN                 NaN  ...   \n",
       "1             NaN            NaN       NaN                 NaN  ...   \n",
       "2             NaN            NaN       NaN                 NaN  ...   \n",
       "3             NaN            NaN       NaN                 NaN  ...   \n",
       "4             NaN            NaN       NaN                 NaN  ...   \n",
       "\n",
       "   readability             grade  richness  Language    neg    neu    pos  \\\n",
       "0       -5.036  College Graduate  0.177977        en  0.102  0.846  0.052   \n",
       "1       90.502         5th Grade  0.076503        en  0.294  0.455  0.251   \n",
       "2       33.028     College Level  0.254582        en  0.064  0.800  0.136   \n",
       "3      -61.661  College Graduate  0.191257        en  0.109  0.817  0.074   \n",
       "4       69.626         9th Grade  0.200000        en  0.034  0.913  0.053   \n",
       "\n",
       "   compound compound_vader_polarity artist_popularity  \n",
       "0   -0.9857                    -1.0          0.000000  \n",
       "1   -0.8895                    -1.0          5.000000  \n",
       "2    0.9856                     1.0         46.000000  \n",
       "3   -0.5831                    -1.0         38.000000  \n",
       "4    0.6788                     1.0         60.848402  \n",
       "\n",
       "[5 rows x 60 columns]"
      ]
     },
     "execution_count": 4,
     "metadata": {},
     "output_type": "execute_result"
    }
   ],
   "source": [
    "df = pd.read_csv(\"lda_cleaned_dataset.csv\")\n",
    "df.head()"
   ]
  },
  {
   "cell_type": "code",
   "execution_count": 5,
   "metadata": {
    "colab": {
     "base_uri": "https://localhost:8080/"
    },
    "id": "Q9wryUnaIHyO",
    "outputId": "1017c6ef-bf2e-4fad-99c9-76e4e0d99aa0"
   },
   "outputs": [
    {
     "name": "stderr",
     "output_type": "stream",
     "text": [
      "C:\\Users\\spiky\\anaconda3\\envs\\python37\\lib\\site-packages\\ipykernel\\ipkernel.py:287: DeprecationWarning: `should_run_async` will not call `transform_cell` automatically in the future. Please pass the result to `transformed_cell` argument and any exception that happen during thetransform in `preprocessing_exc_tuple` in IPython 7.17 and above.\n",
      "  and should_run_async(code)\n"
     ]
    },
    {
     "data": {
      "text/plain": [
       "(66452, 60)"
      ]
     },
     "execution_count": 5,
     "metadata": {},
     "output_type": "execute_result"
    }
   ],
   "source": [
    "df.shape"
   ]
  },
  {
   "cell_type": "code",
   "execution_count": 6,
   "metadata": {},
   "outputs": [
    {
     "name": "stderr",
     "output_type": "stream",
     "text": [
      "C:\\Users\\spiky\\anaconda3\\envs\\python37\\lib\\site-packages\\ipykernel\\ipkernel.py:287: DeprecationWarning: `should_run_async` will not call `transform_cell` automatically in the future. Please pass the result to `transformed_cell` argument and any exception that happen during thetransform in `preprocessing_exc_tuple` in IPython 7.17 and above.\n",
      "  and should_run_async(code)\n"
     ]
    }
   ],
   "source": [
    "df['lyrics'] = df['lyrics'].astype('str')"
   ]
  },
  {
   "cell_type": "code",
   "execution_count": 13,
   "metadata": {},
   "outputs": [
    {
     "name": "stderr",
     "output_type": "stream",
     "text": [
      "C:\\Users\\spiky\\anaconda3\\envs\\python37\\lib\\site-packages\\ipykernel\\ipkernel.py:287: DeprecationWarning: `should_run_async` will not call `transform_cell` automatically in the future. Please pass the result to `transformed_cell` argument and any exception that happen during thetransform in `preprocessing_exc_tuple` in IPython 7.17 and above.\n",
      "  and should_run_async(code)\n"
     ]
    }
   ],
   "source": [
    "def convert_year(x):\n",
    "    \n",
    "    if x >= 1930 and x < 1940:\n",
    "        \n",
    "        label = '1930-40'\n",
    "        \n",
    "    elif x >= 1940 and x < 1950:\n",
    "        \n",
    "        label = '1940-50'\n",
    "    \n",
    "    elif x >= 1950 and x < 1960:\n",
    "        \n",
    "        label = '1950-60'\n",
    "        \n",
    "    elif x >= 1960 and x < 1970:\n",
    "        \n",
    "        label = '1960-70'\n",
    "        \n",
    "    elif x >= 1970 and x < 1980:\n",
    "        \n",
    "        label = '1970-80'\n",
    "        \n",
    "    elif x >= 1980 and x < 1990:\n",
    "        \n",
    "        label = '1980-90'\n",
    "        \n",
    "    elif x >= 1990 and x < 2000:\n",
    "        \n",
    "        label = '1990-2000'\n",
    "        \n",
    "    elif x >= 2000 and x < 2010:\n",
    "        \n",
    "        label = '2000-10'\n",
    "        \n",
    "    elif x >= 2010:\n",
    "        \n",
    "        label = '2010-now'\n",
    "        \n",
    "    elif x < 1930:\n",
    "        label = 'pre-1930'\n",
    "        \n",
    "    return label"
   ]
  },
  {
   "cell_type": "code",
   "execution_count": 14,
   "metadata": {},
   "outputs": [
    {
     "name": "stderr",
     "output_type": "stream",
     "text": [
      "C:\\Users\\spiky\\anaconda3\\envs\\python37\\lib\\site-packages\\ipykernel\\ipkernel.py:287: DeprecationWarning: `should_run_async` will not call `transform_cell` automatically in the future. Please pass the result to `transformed_cell` argument and any exception that happen during thetransform in `preprocessing_exc_tuple` in IPython 7.17 and above.\n",
      "  and should_run_async(code)\n"
     ]
    }
   ],
   "source": [
    "df['time_period'] = df['year'].apply(convert_year)"
   ]
  },
  {
   "cell_type": "code",
   "execution_count": 15,
   "metadata": {},
   "outputs": [
    {
     "name": "stderr",
     "output_type": "stream",
     "text": [
      "C:\\Users\\spiky\\anaconda3\\envs\\python37\\lib\\site-packages\\ipykernel\\ipkernel.py:287: DeprecationWarning: `should_run_async` will not call `transform_cell` automatically in the future. Please pass the result to `transformed_cell` argument and any exception that happen during thetransform in `preprocessing_exc_tuple` in IPython 7.17 and above.\n",
      "  and should_run_async(code)\n"
     ]
    },
    {
     "data": {
      "text/plain": [
       "1990-2000    11710\n",
       "1980-90      11310\n",
       "1970-80      10901\n",
       "2010-now     10439\n",
       "1960-70       8951\n",
       "2000-10       7744\n",
       "1950-60       3897\n",
       "1940-50        679\n",
       "1930-40        541\n",
       "pre-1930       280\n",
       "Name: time_period, dtype: int64"
      ]
     },
     "execution_count": 15,
     "metadata": {},
     "output_type": "execute_result"
    }
   ],
   "source": [
    "df['time_period'].value_counts()"
   ]
  },
  {
   "cell_type": "code",
   "execution_count": 16,
   "metadata": {},
   "outputs": [
    {
     "name": "stderr",
     "output_type": "stream",
     "text": [
      "C:\\Users\\spiky\\anaconda3\\envs\\python37\\lib\\site-packages\\ipykernel\\ipkernel.py:287: DeprecationWarning: `should_run_async` will not call `transform_cell` automatically in the future. Please pass the result to `transformed_cell` argument and any exception that happen during thetransform in `preprocessing_exc_tuple` in IPython 7.17 and above.\n",
      "  and should_run_async(code)\n"
     ]
    }
   ],
   "source": [
    "popular_songs = df[df['popularity_dummy'] == 1]"
   ]
  },
  {
   "cell_type": "code",
   "execution_count": 17,
   "metadata": {},
   "outputs": [
    {
     "name": "stderr",
     "output_type": "stream",
     "text": [
      "C:\\Users\\spiky\\anaconda3\\envs\\python37\\lib\\site-packages\\ipykernel\\ipkernel.py:287: DeprecationWarning: `should_run_async` will not call `transform_cell` automatically in the future. Please pass the result to `transformed_cell` argument and any exception that happen during thetransform in `preprocessing_exc_tuple` in IPython 7.17 and above.\n",
      "  and should_run_async(code)\n"
     ]
    },
    {
     "data": {
      "text/plain": [
       "1990-2000    5641\n",
       "1970-80      5555\n",
       "1980-90      5335\n",
       "2000-10      4053\n",
       "2010-now     3733\n",
       "1960-70      2939\n",
       "1950-60       122\n",
       "1940-50        22\n",
       "1930-40         6\n",
       "Name: time_period, dtype: int64"
      ]
     },
     "execution_count": 17,
     "metadata": {},
     "output_type": "execute_result"
    }
   ],
   "source": [
    "popular_songs['time_period'].value_counts()"
   ]
  }
 ],
 "metadata": {
  "colab": {
   "collapsed_sections": [
    "rdqA8R-zIHyT"
   ],
   "name": "Text Classification - Kaggle Competition (BT5153).ipynb",
   "provenance": []
  },
  "kernelspec": {
   "display_name": "Python 3",
   "language": "python",
   "name": "python3"
  },
  "language_info": {
   "codemirror_mode": {
    "name": "ipython",
    "version": 3
   },
   "file_extension": ".py",
   "mimetype": "text/x-python",
   "name": "python",
   "nbconvert_exporter": "python",
   "pygments_lexer": "ipython3",
   "version": "3.7.0"
  }
 },
 "nbformat": 4,
 "nbformat_minor": 1
}
