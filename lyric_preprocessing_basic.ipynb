{
 "metadata": {
  "language_info": {
   "codemirror_mode": {
    "name": "ipython",
    "version": 3
   },
   "file_extension": ".py",
   "mimetype": "text/x-python",
   "name": "python",
   "nbconvert_exporter": "python",
   "pygments_lexer": "ipython3",
   "version": "3.7.6-final"
  },
  "orig_nbformat": 2,
  "kernelspec": {
   "name": "python376jvsc74a57bd042794a113f581c8e24f15e6f5a5f986d6019ffa3240ef50f6c34f4873acf4ac0",
   "display_name": "Python 3.7.6 64-bit ('base': conda)"
  }
 },
 "nbformat": 4,
 "nbformat_minor": 2,
 "cells": [
  {
   "cell_type": "code",
   "execution_count": 2,
   "metadata": {},
   "outputs": [],
   "source": [
    "import re \n",
    "import nltk\n",
    "import string\n",
    "from nltk.corpus import stopwords, wordnet\n",
    "from nltk.tokenize import word_tokenize\n",
    "from nltk.sentiment.vader import SentimentIntensityAnalyzer\n",
    "from nltk.stem import WordNetLemmatizer\n",
    "from nltk import PorterStemmer, LancasterStemmer, SnowballStemmer\n",
    "from nltk.tokenize import word_tokenize\n",
    "# from sklearn.preprocessing import FunctionTransformer\n",
    "# from sklearn.model_selection import train_test_split, GridSearchCV, RandomizedSearchCV, cross_val_score\n",
    "# from sklearn.feature_extraction.text import CountVectorizer, TfidfVectorizer\n",
    "# from sklearn.neighbors import KNeighborsClassifier\n",
    "# from sklearn.naive_bayes import MultinomialNB\n",
    "# from sklearn.pipeline import make_pipeline, make_union\n",
    "# from sklearn.metrics import accuracy_score\n",
    "import numpy as np\n",
    "import pandas as pd\n",
    "from wordcloud import WordCloud, STOPWORDS\n",
    "import stylecloud\n",
    "import matplotlib.pyplot as plt\n",
    "%config InlineBackend.figure_format = 'svg'\n",
    "pd.set_option('display.max_columns', None)\n",
    "import warnings\n",
    "warnings.filterwarnings('ignore')\n"
   ]
  },
  {
   "cell_type": "code",
   "execution_count": 3,
   "metadata": {},
   "outputs": [],
   "source": [
    "lyricdf = pd.read_csv('data_lyrics.csv')"
   ]
  },
  {
   "cell_type": "code",
   "execution_count": 15,
   "metadata": {},
   "outputs": [],
   "source": [
    "# lowercasing\n",
    "# lambda x: x.lower()\n",
    "\n",
    "# remove characters\n",
    "def remove_punct(text):\n",
    "    return re.sub(r'[`\\-=~!@#$%^&*()\\_+—\\[\\]{};\\'\\\\:\"|<,./<>?]', '', text)\n",
    "\n",
    "# stemming\n",
    "def words_stemmer(words, type=\"PorterStemmer\", lang=\"english\", encoding=\"utf8\"): \n",
    "    supported_stemmers = [\"PorterStemmer\",\"LancasterStemmer\",\"SnowballStemmer\"]\n",
    "    words = nltk.word_tokenize(words)\n",
    "    if type is False or type not in supported_stemmers:\n",
    "        return words\n",
    "    else:\n",
    "        stem_words = []\n",
    "        if type == \"PorterStemmer\":\n",
    "            stemmer = PorterStemmer()\n",
    "            for word in words:\n",
    "                stem_words.append(stemmer.stem(word))\n",
    "        if type == \"LancasterStemmer\":\n",
    "            stemmer = LancasterStemmer()\n",
    "            for word in words:\n",
    "                stem_words.append(stemmer.stem(word))\n",
    "        if type == \"SnowballStemmer\":\n",
    "            stemmer = SnowballStemmer(lang)\n",
    "            for word in words:\n",
    "                stem_words.append(stemmer.stem(word))\n",
    "        return \" \".join(stem_words)\n",
    "\n",
    "def find_pos(word):\n",
    "    # Part of Speech constants\n",
    "    # ADJ, ADJ_SAT, ADV, NOUN, VERB = 'a', 's', 'r', 'n', 'v'\n",
    "\n",
    "    pos = nltk.pos_tag(nltk.word_tokenize(word))[0][1]\n",
    "    \n",
    "    # Adjective tags - 'JJ', 'JJR', 'JJS'\n",
    "    if pos.lower()[0] == 'j':\n",
    "        return 'a'\n",
    "    # Adverb tags - 'RB', 'RBR', 'RBS'\n",
    "    elif pos.lower()[0] == 'r':\n",
    "        return 'r'\n",
    "    # Verb tags - 'VB', 'VBD', 'VBG', 'VBN', 'VBP', 'VBZ'\n",
    "    elif pos.lower()[0] == 'v':\n",
    "        return 'v'\n",
    "\n",
    "    # Noun tags - 'NN', 'NNS', 'NNP', 'NNPS'\n",
    "    else:\n",
    "        return 'n'\n",
    "\n",
    "# Function to apply lemmatization to a list of words\n",
    "def words_lemmatizer(text, encoding=\"utf8\"):\n",
    "    words = nltk.word_tokenize(text)\n",
    "    lemma_words = []\n",
    "    wl = WordNetLemmatizer()\n",
    "    for word in words:\n",
    "        pos = find_pos(word)\n",
    "        lemma_words.append(wl.lemmatize(word, pos))\n",
    "    return \" \".join(lemma_words)\n",
    "\n",
    "\n",
    "# Drop independent numbers (not alphanumeric) in sentences\n",
    "def remove_numbers(text):\n",
    "    words = [i for i in text.split(\" \") if not i.isnumeric()]\n",
    "    return \" \".join(words)\n",
    "\n",
    "def remove_repeat_char(text):\n",
    "    return re.sub(r\"(\\w)\\1{2,}\",r\"\\1\", text)\n",
    "\n",
    "# remove stop words\n",
    "def remove_stopwords(text, lang='english'):\n",
    "    words = nltk.wordpunct_tokenize(text)\n",
    "    lang_stopwords = stopwords.words(lang)\n",
    "    stopwords_removed = [w for w in words if w.lower() not in lang_stopwords]\n",
    "    return \" \".join(stopwords_removed)\n",
    "\n",
    "def preprocess_punct(text):\n",
    "    # translate Chinese punct to English versions\n",
    "    E_pun = u',.!?[]()<>\"\"\\'\\''\n",
    "    C_pun = u'，。！？【】（）《》“”‘’'\n",
    "    table= {ord(f):ord(t) for f,t in zip(C_pun,E_pun)}\n",
    "    return text.translate(table)\n",
    "\n",
    "def remove_standalone_alphabets(text):\n",
    "    words = nltk.wordpunct_tokenize(text)\n",
    "    # a, i and u don't need to remove now for sentence completeness\n",
    "    chra = list('bcdefghjklmnopqrstvwxyz')\n",
    "    chra_removed = [w for w in words if w.lower() not in chra]\n",
    "    return \" \".join(chra_removed)\n",
    "\n",
    "def remove_html_tag(text):\n",
    "    html=re.compile(r'<.*?>')\n",
    "    return html.sub(r'',text)\n",
    "\n",
    "def remove_emoji(text):\n",
    "    emoji_pattern = re.compile(\"[\"\n",
    "                           u\"\\U0001F600-\\U0001F64F\"  # emoticons\n",
    "                           u\"\\U0001F300-\\U0001F5FF\"  # symbols & pictographs\n",
    "                           u\"\\U0001F680-\\U0001F6FF\"  # transport & map symbols\n",
    "                           u\"\\U0001F1E0-\\U0001F1FF\"  # flags (iOS)\n",
    "                           u\"\\U00002702-\\U000027B0\"\n",
    "                           u\"\\U000024C2-\\U0001F251\"\n",
    "                           \"]+\", flags=re.UNICODE)\n",
    "    return emoji_pattern.sub(r'', text)"
   ]
  },
  {
   "cell_type": "code",
   "execution_count": 16,
   "metadata": {},
   "outputs": [
    {
     "output_type": "execute_result",
     "data": {
      "text/plain": [
       "0        SCENE.—A great terrace in the Palace of Herod,...\n",
       "1        Investigation of the Ferguson Police Departmen...\n",
       "2        (10)    Comme là on est où est on est on là. D...\n",
       "3        The Whitechapel Murder.        During yesterda...\n",
       "4        Le roi Renaud de guerre revient Portant ses tr...\n",
       "                               ...                        \n",
       "93622    Quando eu morrer me enterre na Lapinha Quando ...\n",
       "93623    It felt so easy in the morning sun When love w...\n",
       "93624    [Part 1 - \"Loser\" by Beck] Soy un perdedor! I'...\n",
       "93625    [Verse 1] Winterlude, Winterlude, oh darling W...\n",
       "93626    [Letra de \"Chuper Amigos\"]  [Intro] Empezamos ...\n",
       "Name: lyrics, Length: 93627, dtype: object"
      ]
     },
     "metadata": {},
     "execution_count": 16
    }
   ],
   "source": [
    "lyricdf.lyrics"
   ]
  },
  {
   "cell_type": "code",
   "execution_count": 5,
   "metadata": {},
   "outputs": [],
   "source": [
    "def text_cleaning(df):\n",
    "    # to remove urls\n",
    "        #for http-like\n",
    "    df['lyrics'] = df['lyrics'].apply(lambda i: re.sub(r'(https?|ftp|file)://[-A-Za-z0-9+&@#/%?=~_|!:,.;]+[-A-Za-z0-9+&@#/%=~_|]', '', i))\n",
    "        #for www-like\n",
    "    df['lyrics'] = df['lyrics'].apply(lambda i: re.sub(r'https?://\\S+|www\\.\\S+', '', i))\n",
    "\n",
    "    #remove html tag and emoji\n",
    "    df['lyrics'] = df['lyrics'].apply(remove_html_tag)\n",
    "    df['lyrics'] = df['lyrics'].apply(remove_emoji)\n",
    "\n",
    "    # to translate Chinese punct to English Ver.\n",
    "    df['lyrics'] = df['lyrics'].apply(preprocess_punct)\n",
    "\n",
    "    # remove parentheses and internal intro info\n",
    "    df['lyrics'] = df['lyrics'].apply(lambda i: re.sub('(\\\\[(.*?)])', ' ', i))\n",
    "    df['lyrics'] = df['lyrics'].apply(lambda i: re.sub('(\\\\(.*?)\\\\)', '', i))\n",
    "    df['lyrics'] = df['lyrics'].apply(lambda i: re.sub('(\\\\{.*?)\\\\}', '', i))\n",
    "\n",
    "    # lower, remove punct and numbers\n",
    "    df['lyrics'] = df['lyrics'].apply(lambda i: i.lower())\n",
    "\n",
    "    # the remove-punct is not so effective, so try stricter one only matching \n",
    "    df['lyrics'] = df['lyrics'].apply(lambda i: remove_punct(i))\n",
    "    df['lyrics'] = df['lyrics'].apply(lambda i: remove_numbers(i))\n",
    "    #df['lyrics'] = df['lyrics'].apply(lambda i: remove_repeat_char(i))\n",
    "    #df['lyrics'] = df['lyrics'].apply(lambda i: words_lemmatizer(i))\n",
    "    df['lyrics'] = df['lyrics'].apply(lambda i: remove_stopwords(i))\n",
    "\n",
    "    # only match alphabets and numbers, so sth like √∑´¥ç≈¨∑πåßµç∫´˚®˚® could also be removed\n",
    "    df['lyrics'] = df['lyrics'].apply(lambda i: re.sub('([^A-Za-z0-9])', ' ', i))\n",
    "\n",
    "    # remove standalone alphabets\n",
    "    # problem is how to solve this kind of standalone alphabets\n",
    "    # l! o! v! e! you!  \n",
    "    df['lyrics'] = df['lyrics'].apply(remove_standalone_alphabets)\n",
    "\n",
    "    # to remove superfluous whitespace\n",
    "    df['lyrics'] = df['lyrics'].apply(lambda i: ' '.join(i.split()))\n",
    "    return df"
   ]
  },
  {
   "cell_type": "code",
   "execution_count": 6,
   "metadata": {},
   "outputs": [
    {
     "output_type": "stream",
     "name": "stdout",
     "text": [
      "CPU times: user 19min 11s, sys: 1min 14s, total: 20min 25s\nWall time: 20min 51s\n"
     ]
    },
    {
     "output_type": "execute_result",
     "data": {
      "text/plain": [
       "                           id                     song             album  \\\n",
       "0      1WsU2DCFFNbYgJU17zpLIe                      NaN               NaN   \n",
       "1      1ZhSKUZoemAh7uzuYoWIwr                      NaN               NaN   \n",
       "2      1Vzfi6QyWfVDtsYSaO6Imi                      NaN               NaN   \n",
       "3      1gc3NBlpqD1mvoC0T3SOe7                      NaN               NaN   \n",
       "4      1dCOTwNlRg2HLJKJuWj8nN                      NaN               NaN   \n",
       "...                       ...                      ...               ...   \n",
       "93622  6h4Yp7LPev3PNZvMrFCzC0                  Lapinha  Fool On The Hill   \n",
       "93623  6h5w4ez470ZaXq6sD2FozJ  Didn't Know It Was Love  Too Hot To Sleep   \n",
       "93624  6h77X5H4dP9l2jzG92vVv0    The Alternative Polka      Bad Hair Day   \n",
       "93625  6h8laPks98zPizQ5qahy40               Winterlude       New Morning   \n",
       "93626  6h8oQHda1vXeex187OLud3            Chuper Amigos             Jenni   \n",
       "\n",
       "                    artist  acousticness_x  danceability_x  duration_ms_x  \\\n",
       "0                      NaN             NaN             NaN            NaN   \n",
       "1                      NaN             NaN             NaN            NaN   \n",
       "2                      NaN             NaN             NaN            NaN   \n",
       "3                      NaN             NaN             NaN            NaN   \n",
       "4                      NaN             NaN             NaN            NaN   \n",
       "...                    ...             ...             ...            ...   \n",
       "93622        Sergio Mendes          0.7630           0.658       188373.0   \n",
       "93623             Survivor          0.1220           0.613       262800.0   \n",
       "93624  \"Weird Al\" Yankovic          0.0914           0.393       290907.0   \n",
       "93625            Bob Dylan          0.9100           0.329       142947.0   \n",
       "93626         Jenni Rivera          0.5410           0.838       245968.0   \n",
       "\n",
       "       energy_x  instrumentalness_x  key_x  liveness_x  loudness_x  mode_x  \\\n",
       "0           NaN                 NaN    NaN         NaN         NaN     NaN   \n",
       "1           NaN                 NaN    NaN         NaN         NaN     NaN   \n",
       "2           NaN                 NaN    NaN         NaN         NaN     NaN   \n",
       "3           NaN                 NaN    NaN         NaN         NaN     NaN   \n",
       "4           NaN                 NaN    NaN         NaN         NaN     NaN   \n",
       "...         ...                 ...    ...         ...         ...     ...   \n",
       "93622     0.455            0.000000    2.0      0.0827     -15.270     1.0   \n",
       "93623     0.683            0.000000    2.0      0.2410     -11.156     1.0   \n",
       "93624     0.878            0.000000    4.0      0.3190      -7.519     0.0   \n",
       "93625     0.389            0.013100    0.0      0.1140     -12.425     1.0   \n",
       "93626     0.553            0.000022    8.0      0.0648      -4.725     1.0   \n",
       "\n",
       "       speechiness_x  tempo_x  time_signature  valence_x  \\\n",
       "0                NaN      NaN             NaN        NaN   \n",
       "1                NaN      NaN             NaN        NaN   \n",
       "2                NaN      NaN             NaN        NaN   \n",
       "3                NaN      NaN             NaN        NaN   \n",
       "4                NaN      NaN             NaN        NaN   \n",
       "...              ...      ...             ...        ...   \n",
       "93622         0.0464   90.961             4.0      0.963   \n",
       "93623         0.0332  128.416             4.0      0.637   \n",
       "93624         0.0558  176.646             4.0      0.898   \n",
       "93625         0.0384   50.166             4.0      0.492   \n",
       "93626         0.0432  141.906             4.0      0.970   \n",
       "\n",
       "                     album_id        date  date_year  duration_ms_d  \\\n",
       "0                         NaN         NaN        NaN            NaN   \n",
       "1                         NaN         NaN        NaN            NaN   \n",
       "2                         NaN         NaN        NaN            NaN   \n",
       "3                         NaN         NaN        NaN            NaN   \n",
       "4                         NaN         NaN        NaN            NaN   \n",
       "...                       ...         ...        ...            ...   \n",
       "93622  2xzotT2hYczm1r71dtkpYS  1968-01-01     1968.0       188373.0   \n",
       "93623  1vDCPR1K9O81nzU2bRWYNE        1988     1988.0       262800.0   \n",
       "93624  0Jlz2oUJcRROhY8MFMp609  1996-12-31     1996.0       290907.0   \n",
       "93625  48efaobqOTbvnlxbETstey  1970-10-21     1970.0       142947.0   \n",
       "93626  2TJAjnZKucKaS4CKX0O4Vh  2013-12-17     2013.0       245968.0   \n",
       "\n",
       "                                                 com_f_x  acousticness_y  \\\n",
       "0                                                    NaN          0.7110   \n",
       "1                                                    NaN          0.4970   \n",
       "2                                                    NaN          0.9140   \n",
       "3                                                    NaN          0.7140   \n",
       "4                                                    NaN          0.9700   \n",
       "...                                                  ...             ...   \n",
       "93622  Sergio Mendes188373Lapinha0.7630.6579999999999...          0.7500   \n",
       "93623  Survivor262800Didn't Know It Was Love0.1220.61...          0.1220   \n",
       "93624  \"Weird Al\" Yankovic290907The Alternative Polka...          0.0914   \n",
       "93625  Bob Dylan142947Winterlude0.910.328999999999999...          0.9100   \n",
       "93626  Jenni Rivera245968Chuper Amigos0.5410.8380.552...          0.5410   \n",
       "\n",
       "                              artists  danceability_y  duration_ms_y  \\\n",
       "0                  ['Lefty Frizzell']           0.794         155693   \n",
       "1                     ['Unspecified']           0.310         175413   \n",
       "2                    ['Yves Montand']           0.380         189920   \n",
       "3                    ['George Lewis']           0.489         161623   \n",
       "4                    ['Yves Montand']           0.435         274907   \n",
       "...                               ...             ...            ...   \n",
       "93622  [\"Sergio Mendes & Brasil '66\"]           0.659         188373   \n",
       "93623                    ['Survivor']           0.613         262800   \n",
       "93624         ['\"Weird Al\" Yankovic']           0.393         290907   \n",
       "93625                   ['Bob Dylan']           0.329         142947   \n",
       "93626                ['Jenni Rivera']           0.838         245968   \n",
       "\n",
       "       energy_y  explicit  instrumentalness_y  key_y  liveness_y  loudness_y  \\\n",
       "0         0.216         0            0.000000      2      0.3130     -13.160   \n",
       "1         0.764         0            0.000958      7      0.2800     -10.685   \n",
       "2         0.465         0            0.000009      5      0.1110     -10.560   \n",
       "3         0.510         0            0.000043      5      0.1180      -8.527   \n",
       "4         0.109         0            0.000000      2      0.4210     -16.072   \n",
       "...         ...       ...                 ...    ...         ...         ...   \n",
       "93622     0.457         0            0.000001      2      0.0823     -15.447   \n",
       "93623     0.683         0            0.000000      2      0.2410     -11.156   \n",
       "93624     0.878         0            0.000000      4      0.3190      -7.519   \n",
       "93625     0.389         0            0.013100      0      0.1140     -12.425   \n",
       "93626     0.553         0            0.000022      8      0.0648      -4.725   \n",
       "\n",
       "       mode_y                             name  popularity release_date  \\\n",
       "0           1       Moonlight, Darling and You           0         1953   \n",
       "1           1   Bach: Great Prelude in G Major           0   1953-01-01   \n",
       "2           1                   La grande cité           0         1953   \n",
       "3           1            Down by the Riverside           0   1953-04-20   \n",
       "4           0  Le roi renaud de guerre revient           0         1953   \n",
       "...       ...                              ...         ...          ...   \n",
       "93622       1                          Lapinha          25   1968-01-01   \n",
       "93623       1          Didn't Know It Was Love          34   1988-09-25   \n",
       "93624       0            The Alternative Polka          35   1996-12-31   \n",
       "93625       1                       Winterlude          39   1970-10-21   \n",
       "93626       1                    Chuper Amigos          58   2013-12-17   \n",
       "\n",
       "       speechiness_y  tempo_y  valence_y  year  release_date_year  \\\n",
       "0             0.0317  110.370      0.580  1953               1953   \n",
       "1             0.0307  179.617      0.884  1953               1953   \n",
       "2             0.0420   95.418      0.438  1953               1953   \n",
       "3             0.0382   98.646      0.883  1953               1953   \n",
       "4             0.0598   88.224      0.351  1953               1953   \n",
       "...              ...      ...        ...   ...                ...   \n",
       "93622         0.0414   90.615      0.964  1968               1968   \n",
       "93623         0.0332  128.416      0.637  1988               1988   \n",
       "93624         0.0558  176.646      0.898  1996               1996   \n",
       "93625         0.0384   50.166      0.492  1970               1970   \n",
       "93626         0.0432  141.906      0.970  2013               2013   \n",
       "\n",
       "                        artists_d  \\\n",
       "0                  Lefty Frizzell   \n",
       "1                     Unspecified   \n",
       "2                    Yves Montand   \n",
       "3                    George Lewis   \n",
       "4                    Yves Montand   \n",
       "...                           ...   \n",
       "93622  Sergio Mendes & Brasil '66   \n",
       "93623                    Survivor   \n",
       "93624         \"Weird Al\" Yankovic   \n",
       "93625                   Bob Dylan   \n",
       "93626                Jenni Rivera   \n",
       "\n",
       "                                                 com_f_y  popularity_dummy  \\\n",
       "0      Lefty Frizzell155693Moonlight, Darling and You...                 0   \n",
       "1      Unspecified175413Bach: Great Prelude in G Majo...                 0   \n",
       "2      Yves Montand189920La grande cité0.9140.380.465...                 0   \n",
       "3      George Lewis161623Down by the Riverside0.71400...                 0   \n",
       "4      Yves Montand274907Le roi renaud de guerre revi...                 0   \n",
       "...                                                  ...               ...   \n",
       "93622  Sergio Mendes & Brasil '66188373Lapinha0.750.6...                 1   \n",
       "93623  Survivor262800Didn't Know It Was Love0.1220.61...                 1   \n",
       "93624  \"Weird Al\" Yankovic290907The Alternative Polka...                 1   \n",
       "93625  Bob Dylan142947Winterlude0.910.3290.38900.0131...                 1   \n",
       "93626  Jenni Rivera245968Chuper Amigos0.5410.8380.552...                 1   \n",
       "\n",
       "                                                  lyrics  \n",
       "0      scenea great terrace palace herod set banqueti...  \n",
       "1      investigation ferguson police department unite...  \n",
       "2      comme est est est de tomtittot titoutomtotalit...  \n",
       "3      whitechapel murder yesterday several arrests m...  \n",
       "4      le roi renaud de guerre revient portant ses tr...  \n",
       "...                                                  ...  \n",
       "93622  quando eu morrer enterre na lapinha quando eu ...  \n",
       "93623  felt easy morning sun love season run lookin t...  \n",
       "93624  soy un perdedor im loser baby dont kill everyb...  \n",
       "93625  winterlude winterlude oh darling winterlude ro...  \n",
       "93626  empezamos entonces aaay como ya est conmigo vo...  \n",
       "\n",
       "[93627 rows x 45 columns]"
      ],
      "text/html": "<div>\n<style scoped>\n    .dataframe tbody tr th:only-of-type {\n        vertical-align: middle;\n    }\n\n    .dataframe tbody tr th {\n        vertical-align: top;\n    }\n\n    .dataframe thead th {\n        text-align: right;\n    }\n</style>\n<table border=\"1\" class=\"dataframe\">\n  <thead>\n    <tr style=\"text-align: right;\">\n      <th></th>\n      <th>id</th>\n      <th>song</th>\n      <th>album</th>\n      <th>artist</th>\n      <th>acousticness_x</th>\n      <th>danceability_x</th>\n      <th>duration_ms_x</th>\n      <th>energy_x</th>\n      <th>instrumentalness_x</th>\n      <th>key_x</th>\n      <th>liveness_x</th>\n      <th>loudness_x</th>\n      <th>mode_x</th>\n      <th>speechiness_x</th>\n      <th>tempo_x</th>\n      <th>time_signature</th>\n      <th>valence_x</th>\n      <th>album_id</th>\n      <th>date</th>\n      <th>date_year</th>\n      <th>duration_ms_d</th>\n      <th>com_f_x</th>\n      <th>acousticness_y</th>\n      <th>artists</th>\n      <th>danceability_y</th>\n      <th>duration_ms_y</th>\n      <th>energy_y</th>\n      <th>explicit</th>\n      <th>instrumentalness_y</th>\n      <th>key_y</th>\n      <th>liveness_y</th>\n      <th>loudness_y</th>\n      <th>mode_y</th>\n      <th>name</th>\n      <th>popularity</th>\n      <th>release_date</th>\n      <th>speechiness_y</th>\n      <th>tempo_y</th>\n      <th>valence_y</th>\n      <th>year</th>\n      <th>release_date_year</th>\n      <th>artists_d</th>\n      <th>com_f_y</th>\n      <th>popularity_dummy</th>\n      <th>lyrics</th>\n    </tr>\n  </thead>\n  <tbody>\n    <tr>\n      <th>0</th>\n      <td>1WsU2DCFFNbYgJU17zpLIe</td>\n      <td>NaN</td>\n      <td>NaN</td>\n      <td>NaN</td>\n      <td>NaN</td>\n      <td>NaN</td>\n      <td>NaN</td>\n      <td>NaN</td>\n      <td>NaN</td>\n      <td>NaN</td>\n      <td>NaN</td>\n      <td>NaN</td>\n      <td>NaN</td>\n      <td>NaN</td>\n      <td>NaN</td>\n      <td>NaN</td>\n      <td>NaN</td>\n      <td>NaN</td>\n      <td>NaN</td>\n      <td>NaN</td>\n      <td>NaN</td>\n      <td>NaN</td>\n      <td>0.7110</td>\n      <td>['Lefty Frizzell']</td>\n      <td>0.794</td>\n      <td>155693</td>\n      <td>0.216</td>\n      <td>0</td>\n      <td>0.000000</td>\n      <td>2</td>\n      <td>0.3130</td>\n      <td>-13.160</td>\n      <td>1</td>\n      <td>Moonlight, Darling and You</td>\n      <td>0</td>\n      <td>1953</td>\n      <td>0.0317</td>\n      <td>110.370</td>\n      <td>0.580</td>\n      <td>1953</td>\n      <td>1953</td>\n      <td>Lefty Frizzell</td>\n      <td>Lefty Frizzell155693Moonlight, Darling and You...</td>\n      <td>0</td>\n      <td>scenea great terrace palace herod set banqueti...</td>\n    </tr>\n    <tr>\n      <th>1</th>\n      <td>1ZhSKUZoemAh7uzuYoWIwr</td>\n      <td>NaN</td>\n      <td>NaN</td>\n      <td>NaN</td>\n      <td>NaN</td>\n      <td>NaN</td>\n      <td>NaN</td>\n      <td>NaN</td>\n      <td>NaN</td>\n      <td>NaN</td>\n      <td>NaN</td>\n      <td>NaN</td>\n      <td>NaN</td>\n      <td>NaN</td>\n      <td>NaN</td>\n      <td>NaN</td>\n      <td>NaN</td>\n      <td>NaN</td>\n      <td>NaN</td>\n      <td>NaN</td>\n      <td>NaN</td>\n      <td>NaN</td>\n      <td>0.4970</td>\n      <td>['Unspecified']</td>\n      <td>0.310</td>\n      <td>175413</td>\n      <td>0.764</td>\n      <td>0</td>\n      <td>0.000958</td>\n      <td>7</td>\n      <td>0.2800</td>\n      <td>-10.685</td>\n      <td>1</td>\n      <td>Bach: Great Prelude in G Major</td>\n      <td>0</td>\n      <td>1953-01-01</td>\n      <td>0.0307</td>\n      <td>179.617</td>\n      <td>0.884</td>\n      <td>1953</td>\n      <td>1953</td>\n      <td>Unspecified</td>\n      <td>Unspecified175413Bach: Great Prelude in G Majo...</td>\n      <td>0</td>\n      <td>investigation ferguson police department unite...</td>\n    </tr>\n    <tr>\n      <th>2</th>\n      <td>1Vzfi6QyWfVDtsYSaO6Imi</td>\n      <td>NaN</td>\n      <td>NaN</td>\n      <td>NaN</td>\n      <td>NaN</td>\n      <td>NaN</td>\n      <td>NaN</td>\n      <td>NaN</td>\n      <td>NaN</td>\n      <td>NaN</td>\n      <td>NaN</td>\n      <td>NaN</td>\n      <td>NaN</td>\n      <td>NaN</td>\n      <td>NaN</td>\n      <td>NaN</td>\n      <td>NaN</td>\n      <td>NaN</td>\n      <td>NaN</td>\n      <td>NaN</td>\n      <td>NaN</td>\n      <td>NaN</td>\n      <td>0.9140</td>\n      <td>['Yves Montand']</td>\n      <td>0.380</td>\n      <td>189920</td>\n      <td>0.465</td>\n      <td>0</td>\n      <td>0.000009</td>\n      <td>5</td>\n      <td>0.1110</td>\n      <td>-10.560</td>\n      <td>1</td>\n      <td>La grande cité</td>\n      <td>0</td>\n      <td>1953</td>\n      <td>0.0420</td>\n      <td>95.418</td>\n      <td>0.438</td>\n      <td>1953</td>\n      <td>1953</td>\n      <td>Yves Montand</td>\n      <td>Yves Montand189920La grande cité0.9140.380.465...</td>\n      <td>0</td>\n      <td>comme est est est de tomtittot titoutomtotalit...</td>\n    </tr>\n    <tr>\n      <th>3</th>\n      <td>1gc3NBlpqD1mvoC0T3SOe7</td>\n      <td>NaN</td>\n      <td>NaN</td>\n      <td>NaN</td>\n      <td>NaN</td>\n      <td>NaN</td>\n      <td>NaN</td>\n      <td>NaN</td>\n      <td>NaN</td>\n      <td>NaN</td>\n      <td>NaN</td>\n      <td>NaN</td>\n      <td>NaN</td>\n      <td>NaN</td>\n      <td>NaN</td>\n      <td>NaN</td>\n      <td>NaN</td>\n      <td>NaN</td>\n      <td>NaN</td>\n      <td>NaN</td>\n      <td>NaN</td>\n      <td>NaN</td>\n      <td>0.7140</td>\n      <td>['George Lewis']</td>\n      <td>0.489</td>\n      <td>161623</td>\n      <td>0.510</td>\n      <td>0</td>\n      <td>0.000043</td>\n      <td>5</td>\n      <td>0.1180</td>\n      <td>-8.527</td>\n      <td>1</td>\n      <td>Down by the Riverside</td>\n      <td>0</td>\n      <td>1953-04-20</td>\n      <td>0.0382</td>\n      <td>98.646</td>\n      <td>0.883</td>\n      <td>1953</td>\n      <td>1953</td>\n      <td>George Lewis</td>\n      <td>George Lewis161623Down by the Riverside0.71400...</td>\n      <td>0</td>\n      <td>whitechapel murder yesterday several arrests m...</td>\n    </tr>\n    <tr>\n      <th>4</th>\n      <td>1dCOTwNlRg2HLJKJuWj8nN</td>\n      <td>NaN</td>\n      <td>NaN</td>\n      <td>NaN</td>\n      <td>NaN</td>\n      <td>NaN</td>\n      <td>NaN</td>\n      <td>NaN</td>\n      <td>NaN</td>\n      <td>NaN</td>\n      <td>NaN</td>\n      <td>NaN</td>\n      <td>NaN</td>\n      <td>NaN</td>\n      <td>NaN</td>\n      <td>NaN</td>\n      <td>NaN</td>\n      <td>NaN</td>\n      <td>NaN</td>\n      <td>NaN</td>\n      <td>NaN</td>\n      <td>NaN</td>\n      <td>0.9700</td>\n      <td>['Yves Montand']</td>\n      <td>0.435</td>\n      <td>274907</td>\n      <td>0.109</td>\n      <td>0</td>\n      <td>0.000000</td>\n      <td>2</td>\n      <td>0.4210</td>\n      <td>-16.072</td>\n      <td>0</td>\n      <td>Le roi renaud de guerre revient</td>\n      <td>0</td>\n      <td>1953</td>\n      <td>0.0598</td>\n      <td>88.224</td>\n      <td>0.351</td>\n      <td>1953</td>\n      <td>1953</td>\n      <td>Yves Montand</td>\n      <td>Yves Montand274907Le roi renaud de guerre revi...</td>\n      <td>0</td>\n      <td>le roi renaud de guerre revient portant ses tr...</td>\n    </tr>\n    <tr>\n      <th>...</th>\n      <td>...</td>\n      <td>...</td>\n      <td>...</td>\n      <td>...</td>\n      <td>...</td>\n      <td>...</td>\n      <td>...</td>\n      <td>...</td>\n      <td>...</td>\n      <td>...</td>\n      <td>...</td>\n      <td>...</td>\n      <td>...</td>\n      <td>...</td>\n      <td>...</td>\n      <td>...</td>\n      <td>...</td>\n      <td>...</td>\n      <td>...</td>\n      <td>...</td>\n      <td>...</td>\n      <td>...</td>\n      <td>...</td>\n      <td>...</td>\n      <td>...</td>\n      <td>...</td>\n      <td>...</td>\n      <td>...</td>\n      <td>...</td>\n      <td>...</td>\n      <td>...</td>\n      <td>...</td>\n      <td>...</td>\n      <td>...</td>\n      <td>...</td>\n      <td>...</td>\n      <td>...</td>\n      <td>...</td>\n      <td>...</td>\n      <td>...</td>\n      <td>...</td>\n      <td>...</td>\n      <td>...</td>\n      <td>...</td>\n      <td>...</td>\n    </tr>\n    <tr>\n      <th>93622</th>\n      <td>6h4Yp7LPev3PNZvMrFCzC0</td>\n      <td>Lapinha</td>\n      <td>Fool On The Hill</td>\n      <td>Sergio Mendes</td>\n      <td>0.7630</td>\n      <td>0.658</td>\n      <td>188373.0</td>\n      <td>0.455</td>\n      <td>0.000000</td>\n      <td>2.0</td>\n      <td>0.0827</td>\n      <td>-15.270</td>\n      <td>1.0</td>\n      <td>0.0464</td>\n      <td>90.961</td>\n      <td>4.0</td>\n      <td>0.963</td>\n      <td>2xzotT2hYczm1r71dtkpYS</td>\n      <td>1968-01-01</td>\n      <td>1968.0</td>\n      <td>188373.0</td>\n      <td>Sergio Mendes188373Lapinha0.7630.6579999999999...</td>\n      <td>0.7500</td>\n      <td>[\"Sergio Mendes &amp; Brasil '66\"]</td>\n      <td>0.659</td>\n      <td>188373</td>\n      <td>0.457</td>\n      <td>0</td>\n      <td>0.000001</td>\n      <td>2</td>\n      <td>0.0823</td>\n      <td>-15.447</td>\n      <td>1</td>\n      <td>Lapinha</td>\n      <td>25</td>\n      <td>1968-01-01</td>\n      <td>0.0414</td>\n      <td>90.615</td>\n      <td>0.964</td>\n      <td>1968</td>\n      <td>1968</td>\n      <td>Sergio Mendes &amp; Brasil '66</td>\n      <td>Sergio Mendes &amp; Brasil '66188373Lapinha0.750.6...</td>\n      <td>1</td>\n      <td>quando eu morrer enterre na lapinha quando eu ...</td>\n    </tr>\n    <tr>\n      <th>93623</th>\n      <td>6h5w4ez470ZaXq6sD2FozJ</td>\n      <td>Didn't Know It Was Love</td>\n      <td>Too Hot To Sleep</td>\n      <td>Survivor</td>\n      <td>0.1220</td>\n      <td>0.613</td>\n      <td>262800.0</td>\n      <td>0.683</td>\n      <td>0.000000</td>\n      <td>2.0</td>\n      <td>0.2410</td>\n      <td>-11.156</td>\n      <td>1.0</td>\n      <td>0.0332</td>\n      <td>128.416</td>\n      <td>4.0</td>\n      <td>0.637</td>\n      <td>1vDCPR1K9O81nzU2bRWYNE</td>\n      <td>1988</td>\n      <td>1988.0</td>\n      <td>262800.0</td>\n      <td>Survivor262800Didn't Know It Was Love0.1220.61...</td>\n      <td>0.1220</td>\n      <td>['Survivor']</td>\n      <td>0.613</td>\n      <td>262800</td>\n      <td>0.683</td>\n      <td>0</td>\n      <td>0.000000</td>\n      <td>2</td>\n      <td>0.2410</td>\n      <td>-11.156</td>\n      <td>1</td>\n      <td>Didn't Know It Was Love</td>\n      <td>34</td>\n      <td>1988-09-25</td>\n      <td>0.0332</td>\n      <td>128.416</td>\n      <td>0.637</td>\n      <td>1988</td>\n      <td>1988</td>\n      <td>Survivor</td>\n      <td>Survivor262800Didn't Know It Was Love0.1220.61...</td>\n      <td>1</td>\n      <td>felt easy morning sun love season run lookin t...</td>\n    </tr>\n    <tr>\n      <th>93624</th>\n      <td>6h77X5H4dP9l2jzG92vVv0</td>\n      <td>The Alternative Polka</td>\n      <td>Bad Hair Day</td>\n      <td>\"Weird Al\" Yankovic</td>\n      <td>0.0914</td>\n      <td>0.393</td>\n      <td>290907.0</td>\n      <td>0.878</td>\n      <td>0.000000</td>\n      <td>4.0</td>\n      <td>0.3190</td>\n      <td>-7.519</td>\n      <td>0.0</td>\n      <td>0.0558</td>\n      <td>176.646</td>\n      <td>4.0</td>\n      <td>0.898</td>\n      <td>0Jlz2oUJcRROhY8MFMp609</td>\n      <td>1996-12-31</td>\n      <td>1996.0</td>\n      <td>290907.0</td>\n      <td>\"Weird Al\" Yankovic290907The Alternative Polka...</td>\n      <td>0.0914</td>\n      <td>['\"Weird Al\" Yankovic']</td>\n      <td>0.393</td>\n      <td>290907</td>\n      <td>0.878</td>\n      <td>0</td>\n      <td>0.000000</td>\n      <td>4</td>\n      <td>0.3190</td>\n      <td>-7.519</td>\n      <td>0</td>\n      <td>The Alternative Polka</td>\n      <td>35</td>\n      <td>1996-12-31</td>\n      <td>0.0558</td>\n      <td>176.646</td>\n      <td>0.898</td>\n      <td>1996</td>\n      <td>1996</td>\n      <td>\"Weird Al\" Yankovic</td>\n      <td>\"Weird Al\" Yankovic290907The Alternative Polka...</td>\n      <td>1</td>\n      <td>soy un perdedor im loser baby dont kill everyb...</td>\n    </tr>\n    <tr>\n      <th>93625</th>\n      <td>6h8laPks98zPizQ5qahy40</td>\n      <td>Winterlude</td>\n      <td>New Morning</td>\n      <td>Bob Dylan</td>\n      <td>0.9100</td>\n      <td>0.329</td>\n      <td>142947.0</td>\n      <td>0.389</td>\n      <td>0.013100</td>\n      <td>0.0</td>\n      <td>0.1140</td>\n      <td>-12.425</td>\n      <td>1.0</td>\n      <td>0.0384</td>\n      <td>50.166</td>\n      <td>4.0</td>\n      <td>0.492</td>\n      <td>48efaobqOTbvnlxbETstey</td>\n      <td>1970-10-21</td>\n      <td>1970.0</td>\n      <td>142947.0</td>\n      <td>Bob Dylan142947Winterlude0.910.328999999999999...</td>\n      <td>0.9100</td>\n      <td>['Bob Dylan']</td>\n      <td>0.329</td>\n      <td>142947</td>\n      <td>0.389</td>\n      <td>0</td>\n      <td>0.013100</td>\n      <td>0</td>\n      <td>0.1140</td>\n      <td>-12.425</td>\n      <td>1</td>\n      <td>Winterlude</td>\n      <td>39</td>\n      <td>1970-10-21</td>\n      <td>0.0384</td>\n      <td>50.166</td>\n      <td>0.492</td>\n      <td>1970</td>\n      <td>1970</td>\n      <td>Bob Dylan</td>\n      <td>Bob Dylan142947Winterlude0.910.3290.38900.0131...</td>\n      <td>1</td>\n      <td>winterlude winterlude oh darling winterlude ro...</td>\n    </tr>\n    <tr>\n      <th>93626</th>\n      <td>6h8oQHda1vXeex187OLud3</td>\n      <td>Chuper Amigos</td>\n      <td>Jenni</td>\n      <td>Jenni Rivera</td>\n      <td>0.5410</td>\n      <td>0.838</td>\n      <td>245968.0</td>\n      <td>0.553</td>\n      <td>0.000022</td>\n      <td>8.0</td>\n      <td>0.0648</td>\n      <td>-4.725</td>\n      <td>1.0</td>\n      <td>0.0432</td>\n      <td>141.906</td>\n      <td>4.0</td>\n      <td>0.970</td>\n      <td>2TJAjnZKucKaS4CKX0O4Vh</td>\n      <td>2013-12-17</td>\n      <td>2013.0</td>\n      <td>245968.0</td>\n      <td>Jenni Rivera245968Chuper Amigos0.5410.8380.552...</td>\n      <td>0.5410</td>\n      <td>['Jenni Rivera']</td>\n      <td>0.838</td>\n      <td>245968</td>\n      <td>0.553</td>\n      <td>0</td>\n      <td>0.000022</td>\n      <td>8</td>\n      <td>0.0648</td>\n      <td>-4.725</td>\n      <td>1</td>\n      <td>Chuper Amigos</td>\n      <td>58</td>\n      <td>2013-12-17</td>\n      <td>0.0432</td>\n      <td>141.906</td>\n      <td>0.970</td>\n      <td>2013</td>\n      <td>2013</td>\n      <td>Jenni Rivera</td>\n      <td>Jenni Rivera245968Chuper Amigos0.5410.8380.552...</td>\n      <td>1</td>\n      <td>empezamos entonces aaay como ya est conmigo vo...</td>\n    </tr>\n  </tbody>\n</table>\n<p>93627 rows × 45 columns</p>\n</div>"
     },
     "metadata": {},
     "execution_count": 6
    }
   ],
   "source": [
    "%%time\n",
    "text_cleaning(lyricdf)\n",
    "lyricdf"
   ]
  },
  {
   "cell_type": "code",
   "execution_count": 17,
   "metadata": {},
   "outputs": [],
   "source": [
    "def text_cleaning_complexity(df):\n",
    "    # to remove urls\n",
    "        #for http-like\n",
    "    df['lyrics'] = df['lyrics'].apply(lambda i: re.sub(r'(https?|ftp|file)://[-A-Za-z0-9+&@#/%?=~_|!:,.;]+[-A-Za-z0-9+&@#/%=~_|]', '', i))\n",
    "        #for www-like\n",
    "    df['lyrics'] = df['lyrics'].apply(lambda i: re.sub(r'https?://\\S+|www\\.\\S+', '', i))\n",
    "\n",
    "    #remove html tag and emoji\n",
    "    df['lyrics'] = df['lyrics'].apply(remove_html_tag)\n",
    "    df['lyrics'] = df['lyrics'].apply(remove_emoji)\n",
    "\n",
    "    # to translate Chinese punct to English Ver.\n",
    "    df['lyrics'] = df['lyrics'].apply(preprocess_punct)\n",
    "\n",
    "    # remove parentheses and internal intro info\n",
    "    df['lyrics'] = df['lyrics'].apply(lambda i: re.sub('(\\\\[(.*?)])', '', i))\n",
    "    df['lyrics'] = df['lyrics'].apply(lambda i: re.sub('(\\\\(.*?)\\\\)', '', i))\n",
    "    df['lyrics'] = df['lyrics'].apply(lambda i: re.sub('(\\\\{.*?)\\\\}', '', i))\n",
    "\n",
    "    # lower, remove punct and numbers\n",
    "    df['lyrics'] = df['lyrics'].apply(lambda i: i.lower())\n",
    "\n",
    "    # the remove-punct is not so effective, so try stricter one only matching \n",
    "    # df['lyrics'] = df['lyrics'].apply(lambda i: remove_punct(i))\n",
    "    df['lyrics'] = df['lyrics'].apply(lambda i: remove_numbers(i))\n",
    "    # df['lyrics'] = df['lyrics'].apply(lambda i: remove_repeat_char(i))\n",
    "    # df['lyrics'] = df['lyrics'].apply(lambda i: words_lemmatizer(i))\n",
    "    # df['lyrics'] = df['lyrics'].apply(lambda i: remove_stopwords(i))\n",
    "\n",
    "    # only match alphabets and numbers, so sth like √∑´¥ç≈¨∑πåßµç∫´˚®˚® could also be removed\n",
    "    #df['lyrics'] = df['lyrics'].apply(lambda i: re.sub('([^A-Za-z0-9])', ' ', i))\n",
    "\n",
    "    # remove standalone alphabets\n",
    "    # problem is how to solve this kind of standalone alphabets\n",
    "    # l! o! v! e! you!  \n",
    "    df['lyrics'] = df['lyrics'].apply(remove_standalone_alphabets)\n",
    "\n",
    "    # to remove superfluous whitespace\n",
    "    df['lyrics'] = df['lyrics'].apply(lambda i: ' '.join(i.split()))\n",
    "    return df"
   ]
  },
  {
   "cell_type": "code",
   "execution_count": 18,
   "metadata": {},
   "outputs": [
    {
     "output_type": "stream",
     "name": "stdout",
     "text": [
      "CPU times: user 10min 9s, sys: 59.8 s, total: 11min 8s\nWall time: 11min 22s\n"
     ]
    },
    {
     "output_type": "execute_result",
     "data": {
      "text/plain": [
       "                           id                     song             album  \\\n",
       "0      1WsU2DCFFNbYgJU17zpLIe                      NaN               NaN   \n",
       "1      1ZhSKUZoemAh7uzuYoWIwr                      NaN               NaN   \n",
       "2      1Vzfi6QyWfVDtsYSaO6Imi                      NaN               NaN   \n",
       "3      1gc3NBlpqD1mvoC0T3SOe7                      NaN               NaN   \n",
       "4      1dCOTwNlRg2HLJKJuWj8nN                      NaN               NaN   \n",
       "...                       ...                      ...               ...   \n",
       "93622  6h4Yp7LPev3PNZvMrFCzC0                  Lapinha  Fool On The Hill   \n",
       "93623  6h5w4ez470ZaXq6sD2FozJ  Didn't Know It Was Love  Too Hot To Sleep   \n",
       "93624  6h77X5H4dP9l2jzG92vVv0    The Alternative Polka      Bad Hair Day   \n",
       "93625  6h8laPks98zPizQ5qahy40               Winterlude       New Morning   \n",
       "93626  6h8oQHda1vXeex187OLud3            Chuper Amigos             Jenni   \n",
       "\n",
       "                    artist  acousticness_x  danceability_x  duration_ms_x  \\\n",
       "0                      NaN             NaN             NaN            NaN   \n",
       "1                      NaN             NaN             NaN            NaN   \n",
       "2                      NaN             NaN             NaN            NaN   \n",
       "3                      NaN             NaN             NaN            NaN   \n",
       "4                      NaN             NaN             NaN            NaN   \n",
       "...                    ...             ...             ...            ...   \n",
       "93622        Sergio Mendes          0.7630           0.658       188373.0   \n",
       "93623             Survivor          0.1220           0.613       262800.0   \n",
       "93624  \"Weird Al\" Yankovic          0.0914           0.393       290907.0   \n",
       "93625            Bob Dylan          0.9100           0.329       142947.0   \n",
       "93626         Jenni Rivera          0.5410           0.838       245968.0   \n",
       "\n",
       "       energy_x  instrumentalness_x  key_x  liveness_x  loudness_x  mode_x  \\\n",
       "0           NaN                 NaN    NaN         NaN         NaN     NaN   \n",
       "1           NaN                 NaN    NaN         NaN         NaN     NaN   \n",
       "2           NaN                 NaN    NaN         NaN         NaN     NaN   \n",
       "3           NaN                 NaN    NaN         NaN         NaN     NaN   \n",
       "4           NaN                 NaN    NaN         NaN         NaN     NaN   \n",
       "...         ...                 ...    ...         ...         ...     ...   \n",
       "93622     0.455            0.000000    2.0      0.0827     -15.270     1.0   \n",
       "93623     0.683            0.000000    2.0      0.2410     -11.156     1.0   \n",
       "93624     0.878            0.000000    4.0      0.3190      -7.519     0.0   \n",
       "93625     0.389            0.013100    0.0      0.1140     -12.425     1.0   \n",
       "93626     0.553            0.000022    8.0      0.0648      -4.725     1.0   \n",
       "\n",
       "       speechiness_x  tempo_x  time_signature  valence_x  \\\n",
       "0                NaN      NaN             NaN        NaN   \n",
       "1                NaN      NaN             NaN        NaN   \n",
       "2                NaN      NaN             NaN        NaN   \n",
       "3                NaN      NaN             NaN        NaN   \n",
       "4                NaN      NaN             NaN        NaN   \n",
       "...              ...      ...             ...        ...   \n",
       "93622         0.0464   90.961             4.0      0.963   \n",
       "93623         0.0332  128.416             4.0      0.637   \n",
       "93624         0.0558  176.646             4.0      0.898   \n",
       "93625         0.0384   50.166             4.0      0.492   \n",
       "93626         0.0432  141.906             4.0      0.970   \n",
       "\n",
       "                     album_id        date  date_year  duration_ms_d  \\\n",
       "0                         NaN         NaN        NaN            NaN   \n",
       "1                         NaN         NaN        NaN            NaN   \n",
       "2                         NaN         NaN        NaN            NaN   \n",
       "3                         NaN         NaN        NaN            NaN   \n",
       "4                         NaN         NaN        NaN            NaN   \n",
       "...                       ...         ...        ...            ...   \n",
       "93622  2xzotT2hYczm1r71dtkpYS  1968-01-01     1968.0       188373.0   \n",
       "93623  1vDCPR1K9O81nzU2bRWYNE        1988     1988.0       262800.0   \n",
       "93624  0Jlz2oUJcRROhY8MFMp609  1996-12-31     1996.0       290907.0   \n",
       "93625  48efaobqOTbvnlxbETstey  1970-10-21     1970.0       142947.0   \n",
       "93626  2TJAjnZKucKaS4CKX0O4Vh  2013-12-17     2013.0       245968.0   \n",
       "\n",
       "                                                 com_f_x  acousticness_y  \\\n",
       "0                                                    NaN          0.7110   \n",
       "1                                                    NaN          0.4970   \n",
       "2                                                    NaN          0.9140   \n",
       "3                                                    NaN          0.7140   \n",
       "4                                                    NaN          0.9700   \n",
       "...                                                  ...             ...   \n",
       "93622  Sergio Mendes188373Lapinha0.7630.6579999999999...          0.7500   \n",
       "93623  Survivor262800Didn't Know It Was Love0.1220.61...          0.1220   \n",
       "93624  \"Weird Al\" Yankovic290907The Alternative Polka...          0.0914   \n",
       "93625  Bob Dylan142947Winterlude0.910.328999999999999...          0.9100   \n",
       "93626  Jenni Rivera245968Chuper Amigos0.5410.8380.552...          0.5410   \n",
       "\n",
       "                              artists  danceability_y  duration_ms_y  \\\n",
       "0                  ['Lefty Frizzell']           0.794         155693   \n",
       "1                     ['Unspecified']           0.310         175413   \n",
       "2                    ['Yves Montand']           0.380         189920   \n",
       "3                    ['George Lewis']           0.489         161623   \n",
       "4                    ['Yves Montand']           0.435         274907   \n",
       "...                               ...             ...            ...   \n",
       "93622  [\"Sergio Mendes & Brasil '66\"]           0.659         188373   \n",
       "93623                    ['Survivor']           0.613         262800   \n",
       "93624         ['\"Weird Al\" Yankovic']           0.393         290907   \n",
       "93625                   ['Bob Dylan']           0.329         142947   \n",
       "93626                ['Jenni Rivera']           0.838         245968   \n",
       "\n",
       "       energy_y  explicit  instrumentalness_y  key_y  liveness_y  loudness_y  \\\n",
       "0         0.216         0            0.000000      2      0.3130     -13.160   \n",
       "1         0.764         0            0.000958      7      0.2800     -10.685   \n",
       "2         0.465         0            0.000009      5      0.1110     -10.560   \n",
       "3         0.510         0            0.000043      5      0.1180      -8.527   \n",
       "4         0.109         0            0.000000      2      0.4210     -16.072   \n",
       "...         ...       ...                 ...    ...         ...         ...   \n",
       "93622     0.457         0            0.000001      2      0.0823     -15.447   \n",
       "93623     0.683         0            0.000000      2      0.2410     -11.156   \n",
       "93624     0.878         0            0.000000      4      0.3190      -7.519   \n",
       "93625     0.389         0            0.013100      0      0.1140     -12.425   \n",
       "93626     0.553         0            0.000022      8      0.0648      -4.725   \n",
       "\n",
       "       mode_y                             name  popularity release_date  \\\n",
       "0           1       Moonlight, Darling and You           0         1953   \n",
       "1           1   Bach: Great Prelude in G Major           0   1953-01-01   \n",
       "2           1                   La grande cité           0         1953   \n",
       "3           1            Down by the Riverside           0   1953-04-20   \n",
       "4           0  Le roi renaud de guerre revient           0         1953   \n",
       "...       ...                              ...         ...          ...   \n",
       "93622       1                          Lapinha          25   1968-01-01   \n",
       "93623       1          Didn't Know It Was Love          34   1988-09-25   \n",
       "93624       0            The Alternative Polka          35   1996-12-31   \n",
       "93625       1                       Winterlude          39   1970-10-21   \n",
       "93626       1                    Chuper Amigos          58   2013-12-17   \n",
       "\n",
       "       speechiness_y  tempo_y  valence_y  year  release_date_year  \\\n",
       "0             0.0317  110.370      0.580  1953               1953   \n",
       "1             0.0307  179.617      0.884  1953               1953   \n",
       "2             0.0420   95.418      0.438  1953               1953   \n",
       "3             0.0382   98.646      0.883  1953               1953   \n",
       "4             0.0598   88.224      0.351  1953               1953   \n",
       "...              ...      ...        ...   ...                ...   \n",
       "93622         0.0414   90.615      0.964  1968               1968   \n",
       "93623         0.0332  128.416      0.637  1988               1988   \n",
       "93624         0.0558  176.646      0.898  1996               1996   \n",
       "93625         0.0384   50.166      0.492  1970               1970   \n",
       "93626         0.0432  141.906      0.970  2013               2013   \n",
       "\n",
       "                        artists_d  \\\n",
       "0                  Lefty Frizzell   \n",
       "1                     Unspecified   \n",
       "2                    Yves Montand   \n",
       "3                    George Lewis   \n",
       "4                    Yves Montand   \n",
       "...                           ...   \n",
       "93622  Sergio Mendes & Brasil '66   \n",
       "93623                    Survivor   \n",
       "93624         \"Weird Al\" Yankovic   \n",
       "93625                   Bob Dylan   \n",
       "93626                Jenni Rivera   \n",
       "\n",
       "                                                 com_f_y  popularity_dummy  \\\n",
       "0      Lefty Frizzell155693Moonlight, Darling and You...                 0   \n",
       "1      Unspecified175413Bach: Great Prelude in G Majo...                 0   \n",
       "2      Yves Montand189920La grande cité0.9140.380.465...                 0   \n",
       "3      George Lewis161623Down by the Riverside0.71400...                 0   \n",
       "4      Yves Montand274907Le roi renaud de guerre revi...                 0   \n",
       "...                                                  ...               ...   \n",
       "93622  Sergio Mendes & Brasil '66188373Lapinha0.750.6...                 1   \n",
       "93623  Survivor262800Didn't Know It Was Love0.1220.61...                 1   \n",
       "93624  \"Weird Al\" Yankovic290907The Alternative Polka...                 1   \n",
       "93625  Bob Dylan142947Winterlude0.910.3290.38900.0131...                 1   \n",
       "93626  Jenni Rivera245968Chuper Amigos0.5410.8380.552...                 1   \n",
       "\n",
       "                                                  lyrics  \n",
       "0      scene .— a great terrace in the palace of hero...  \n",
       "1      investigation of the ferguson police departmen...  \n",
       "2      comme là on est où est on est on là . de tomti...  \n",
       "3      the whitechapel murder . during yesterday seve...  \n",
       "4      le roi renaud de guerre revient portant ses tr...  \n",
       "...                                                  ...  \n",
       "93622  quando eu morrer me enterre na lapinha quando ...  \n",
       "93623  it felt so easy in the morning sun when love w...  \n",
       "93624  soy un perdedor ! i ' a loser , baby ! so why ...  \n",
       "93625  winterlude , winterlude , oh darling winterlud...  \n",
       "93626  empezamos entonces , ¿ no ? ¡ aaay ! como ya n...  \n",
       "\n",
       "[93627 rows x 45 columns]"
      ],
      "text/html": "<div>\n<style scoped>\n    .dataframe tbody tr th:only-of-type {\n        vertical-align: middle;\n    }\n\n    .dataframe tbody tr th {\n        vertical-align: top;\n    }\n\n    .dataframe thead th {\n        text-align: right;\n    }\n</style>\n<table border=\"1\" class=\"dataframe\">\n  <thead>\n    <tr style=\"text-align: right;\">\n      <th></th>\n      <th>id</th>\n      <th>song</th>\n      <th>album</th>\n      <th>artist</th>\n      <th>acousticness_x</th>\n      <th>danceability_x</th>\n      <th>duration_ms_x</th>\n      <th>energy_x</th>\n      <th>instrumentalness_x</th>\n      <th>key_x</th>\n      <th>liveness_x</th>\n      <th>loudness_x</th>\n      <th>mode_x</th>\n      <th>speechiness_x</th>\n      <th>tempo_x</th>\n      <th>time_signature</th>\n      <th>valence_x</th>\n      <th>album_id</th>\n      <th>date</th>\n      <th>date_year</th>\n      <th>duration_ms_d</th>\n      <th>com_f_x</th>\n      <th>acousticness_y</th>\n      <th>artists</th>\n      <th>danceability_y</th>\n      <th>duration_ms_y</th>\n      <th>energy_y</th>\n      <th>explicit</th>\n      <th>instrumentalness_y</th>\n      <th>key_y</th>\n      <th>liveness_y</th>\n      <th>loudness_y</th>\n      <th>mode_y</th>\n      <th>name</th>\n      <th>popularity</th>\n      <th>release_date</th>\n      <th>speechiness_y</th>\n      <th>tempo_y</th>\n      <th>valence_y</th>\n      <th>year</th>\n      <th>release_date_year</th>\n      <th>artists_d</th>\n      <th>com_f_y</th>\n      <th>popularity_dummy</th>\n      <th>lyrics</th>\n    </tr>\n  </thead>\n  <tbody>\n    <tr>\n      <th>0</th>\n      <td>1WsU2DCFFNbYgJU17zpLIe</td>\n      <td>NaN</td>\n      <td>NaN</td>\n      <td>NaN</td>\n      <td>NaN</td>\n      <td>NaN</td>\n      <td>NaN</td>\n      <td>NaN</td>\n      <td>NaN</td>\n      <td>NaN</td>\n      <td>NaN</td>\n      <td>NaN</td>\n      <td>NaN</td>\n      <td>NaN</td>\n      <td>NaN</td>\n      <td>NaN</td>\n      <td>NaN</td>\n      <td>NaN</td>\n      <td>NaN</td>\n      <td>NaN</td>\n      <td>NaN</td>\n      <td>NaN</td>\n      <td>0.7110</td>\n      <td>['Lefty Frizzell']</td>\n      <td>0.794</td>\n      <td>155693</td>\n      <td>0.216</td>\n      <td>0</td>\n      <td>0.000000</td>\n      <td>2</td>\n      <td>0.3130</td>\n      <td>-13.160</td>\n      <td>1</td>\n      <td>Moonlight, Darling and You</td>\n      <td>0</td>\n      <td>1953</td>\n      <td>0.0317</td>\n      <td>110.370</td>\n      <td>0.580</td>\n      <td>1953</td>\n      <td>1953</td>\n      <td>Lefty Frizzell</td>\n      <td>Lefty Frizzell155693Moonlight, Darling and You...</td>\n      <td>0</td>\n      <td>scene .— a great terrace in the palace of hero...</td>\n    </tr>\n    <tr>\n      <th>1</th>\n      <td>1ZhSKUZoemAh7uzuYoWIwr</td>\n      <td>NaN</td>\n      <td>NaN</td>\n      <td>NaN</td>\n      <td>NaN</td>\n      <td>NaN</td>\n      <td>NaN</td>\n      <td>NaN</td>\n      <td>NaN</td>\n      <td>NaN</td>\n      <td>NaN</td>\n      <td>NaN</td>\n      <td>NaN</td>\n      <td>NaN</td>\n      <td>NaN</td>\n      <td>NaN</td>\n      <td>NaN</td>\n      <td>NaN</td>\n      <td>NaN</td>\n      <td>NaN</td>\n      <td>NaN</td>\n      <td>NaN</td>\n      <td>0.4970</td>\n      <td>['Unspecified']</td>\n      <td>0.310</td>\n      <td>175413</td>\n      <td>0.764</td>\n      <td>0</td>\n      <td>0.000958</td>\n      <td>7</td>\n      <td>0.2800</td>\n      <td>-10.685</td>\n      <td>1</td>\n      <td>Bach: Great Prelude in G Major</td>\n      <td>0</td>\n      <td>1953-01-01</td>\n      <td>0.0307</td>\n      <td>179.617</td>\n      <td>0.884</td>\n      <td>1953</td>\n      <td>1953</td>\n      <td>Unspecified</td>\n      <td>Unspecified175413Bach: Great Prelude in G Majo...</td>\n      <td>0</td>\n      <td>investigation of the ferguson police departmen...</td>\n    </tr>\n    <tr>\n      <th>2</th>\n      <td>1Vzfi6QyWfVDtsYSaO6Imi</td>\n      <td>NaN</td>\n      <td>NaN</td>\n      <td>NaN</td>\n      <td>NaN</td>\n      <td>NaN</td>\n      <td>NaN</td>\n      <td>NaN</td>\n      <td>NaN</td>\n      <td>NaN</td>\n      <td>NaN</td>\n      <td>NaN</td>\n      <td>NaN</td>\n      <td>NaN</td>\n      <td>NaN</td>\n      <td>NaN</td>\n      <td>NaN</td>\n      <td>NaN</td>\n      <td>NaN</td>\n      <td>NaN</td>\n      <td>NaN</td>\n      <td>NaN</td>\n      <td>0.9140</td>\n      <td>['Yves Montand']</td>\n      <td>0.380</td>\n      <td>189920</td>\n      <td>0.465</td>\n      <td>0</td>\n      <td>0.000009</td>\n      <td>5</td>\n      <td>0.1110</td>\n      <td>-10.560</td>\n      <td>1</td>\n      <td>La grande cité</td>\n      <td>0</td>\n      <td>1953</td>\n      <td>0.0420</td>\n      <td>95.418</td>\n      <td>0.438</td>\n      <td>1953</td>\n      <td>1953</td>\n      <td>Yves Montand</td>\n      <td>Yves Montand189920La grande cité0.9140.380.465...</td>\n      <td>0</td>\n      <td>comme là on est où est on est on là . de tomti...</td>\n    </tr>\n    <tr>\n      <th>3</th>\n      <td>1gc3NBlpqD1mvoC0T3SOe7</td>\n      <td>NaN</td>\n      <td>NaN</td>\n      <td>NaN</td>\n      <td>NaN</td>\n      <td>NaN</td>\n      <td>NaN</td>\n      <td>NaN</td>\n      <td>NaN</td>\n      <td>NaN</td>\n      <td>NaN</td>\n      <td>NaN</td>\n      <td>NaN</td>\n      <td>NaN</td>\n      <td>NaN</td>\n      <td>NaN</td>\n      <td>NaN</td>\n      <td>NaN</td>\n      <td>NaN</td>\n      <td>NaN</td>\n      <td>NaN</td>\n      <td>NaN</td>\n      <td>0.7140</td>\n      <td>['George Lewis']</td>\n      <td>0.489</td>\n      <td>161623</td>\n      <td>0.510</td>\n      <td>0</td>\n      <td>0.000043</td>\n      <td>5</td>\n      <td>0.1180</td>\n      <td>-8.527</td>\n      <td>1</td>\n      <td>Down by the Riverside</td>\n      <td>0</td>\n      <td>1953-04-20</td>\n      <td>0.0382</td>\n      <td>98.646</td>\n      <td>0.883</td>\n      <td>1953</td>\n      <td>1953</td>\n      <td>George Lewis</td>\n      <td>George Lewis161623Down by the Riverside0.71400...</td>\n      <td>0</td>\n      <td>the whitechapel murder . during yesterday seve...</td>\n    </tr>\n    <tr>\n      <th>4</th>\n      <td>1dCOTwNlRg2HLJKJuWj8nN</td>\n      <td>NaN</td>\n      <td>NaN</td>\n      <td>NaN</td>\n      <td>NaN</td>\n      <td>NaN</td>\n      <td>NaN</td>\n      <td>NaN</td>\n      <td>NaN</td>\n      <td>NaN</td>\n      <td>NaN</td>\n      <td>NaN</td>\n      <td>NaN</td>\n      <td>NaN</td>\n      <td>NaN</td>\n      <td>NaN</td>\n      <td>NaN</td>\n      <td>NaN</td>\n      <td>NaN</td>\n      <td>NaN</td>\n      <td>NaN</td>\n      <td>NaN</td>\n      <td>0.9700</td>\n      <td>['Yves Montand']</td>\n      <td>0.435</td>\n      <td>274907</td>\n      <td>0.109</td>\n      <td>0</td>\n      <td>0.000000</td>\n      <td>2</td>\n      <td>0.4210</td>\n      <td>-16.072</td>\n      <td>0</td>\n      <td>Le roi renaud de guerre revient</td>\n      <td>0</td>\n      <td>1953</td>\n      <td>0.0598</td>\n      <td>88.224</td>\n      <td>0.351</td>\n      <td>1953</td>\n      <td>1953</td>\n      <td>Yves Montand</td>\n      <td>Yves Montand274907Le roi renaud de guerre revi...</td>\n      <td>0</td>\n      <td>le roi renaud de guerre revient portant ses tr...</td>\n    </tr>\n    <tr>\n      <th>...</th>\n      <td>...</td>\n      <td>...</td>\n      <td>...</td>\n      <td>...</td>\n      <td>...</td>\n      <td>...</td>\n      <td>...</td>\n      <td>...</td>\n      <td>...</td>\n      <td>...</td>\n      <td>...</td>\n      <td>...</td>\n      <td>...</td>\n      <td>...</td>\n      <td>...</td>\n      <td>...</td>\n      <td>...</td>\n      <td>...</td>\n      <td>...</td>\n      <td>...</td>\n      <td>...</td>\n      <td>...</td>\n      <td>...</td>\n      <td>...</td>\n      <td>...</td>\n      <td>...</td>\n      <td>...</td>\n      <td>...</td>\n      <td>...</td>\n      <td>...</td>\n      <td>...</td>\n      <td>...</td>\n      <td>...</td>\n      <td>...</td>\n      <td>...</td>\n      <td>...</td>\n      <td>...</td>\n      <td>...</td>\n      <td>...</td>\n      <td>...</td>\n      <td>...</td>\n      <td>...</td>\n      <td>...</td>\n      <td>...</td>\n      <td>...</td>\n    </tr>\n    <tr>\n      <th>93622</th>\n      <td>6h4Yp7LPev3PNZvMrFCzC0</td>\n      <td>Lapinha</td>\n      <td>Fool On The Hill</td>\n      <td>Sergio Mendes</td>\n      <td>0.7630</td>\n      <td>0.658</td>\n      <td>188373.0</td>\n      <td>0.455</td>\n      <td>0.000000</td>\n      <td>2.0</td>\n      <td>0.0827</td>\n      <td>-15.270</td>\n      <td>1.0</td>\n      <td>0.0464</td>\n      <td>90.961</td>\n      <td>4.0</td>\n      <td>0.963</td>\n      <td>2xzotT2hYczm1r71dtkpYS</td>\n      <td>1968-01-01</td>\n      <td>1968.0</td>\n      <td>188373.0</td>\n      <td>Sergio Mendes188373Lapinha0.7630.6579999999999...</td>\n      <td>0.7500</td>\n      <td>[\"Sergio Mendes &amp; Brasil '66\"]</td>\n      <td>0.659</td>\n      <td>188373</td>\n      <td>0.457</td>\n      <td>0</td>\n      <td>0.000001</td>\n      <td>2</td>\n      <td>0.0823</td>\n      <td>-15.447</td>\n      <td>1</td>\n      <td>Lapinha</td>\n      <td>25</td>\n      <td>1968-01-01</td>\n      <td>0.0414</td>\n      <td>90.615</td>\n      <td>0.964</td>\n      <td>1968</td>\n      <td>1968</td>\n      <td>Sergio Mendes &amp; Brasil '66</td>\n      <td>Sergio Mendes &amp; Brasil '66188373Lapinha0.750.6...</td>\n      <td>1</td>\n      <td>quando eu morrer me enterre na lapinha quando ...</td>\n    </tr>\n    <tr>\n      <th>93623</th>\n      <td>6h5w4ez470ZaXq6sD2FozJ</td>\n      <td>Didn't Know It Was Love</td>\n      <td>Too Hot To Sleep</td>\n      <td>Survivor</td>\n      <td>0.1220</td>\n      <td>0.613</td>\n      <td>262800.0</td>\n      <td>0.683</td>\n      <td>0.000000</td>\n      <td>2.0</td>\n      <td>0.2410</td>\n      <td>-11.156</td>\n      <td>1.0</td>\n      <td>0.0332</td>\n      <td>128.416</td>\n      <td>4.0</td>\n      <td>0.637</td>\n      <td>1vDCPR1K9O81nzU2bRWYNE</td>\n      <td>1988</td>\n      <td>1988.0</td>\n      <td>262800.0</td>\n      <td>Survivor262800Didn't Know It Was Love0.1220.61...</td>\n      <td>0.1220</td>\n      <td>['Survivor']</td>\n      <td>0.613</td>\n      <td>262800</td>\n      <td>0.683</td>\n      <td>0</td>\n      <td>0.000000</td>\n      <td>2</td>\n      <td>0.2410</td>\n      <td>-11.156</td>\n      <td>1</td>\n      <td>Didn't Know It Was Love</td>\n      <td>34</td>\n      <td>1988-09-25</td>\n      <td>0.0332</td>\n      <td>128.416</td>\n      <td>0.637</td>\n      <td>1988</td>\n      <td>1988</td>\n      <td>Survivor</td>\n      <td>Survivor262800Didn't Know It Was Love0.1220.61...</td>\n      <td>1</td>\n      <td>it felt so easy in the morning sun when love w...</td>\n    </tr>\n    <tr>\n      <th>93624</th>\n      <td>6h77X5H4dP9l2jzG92vVv0</td>\n      <td>The Alternative Polka</td>\n      <td>Bad Hair Day</td>\n      <td>\"Weird Al\" Yankovic</td>\n      <td>0.0914</td>\n      <td>0.393</td>\n      <td>290907.0</td>\n      <td>0.878</td>\n      <td>0.000000</td>\n      <td>4.0</td>\n      <td>0.3190</td>\n      <td>-7.519</td>\n      <td>0.0</td>\n      <td>0.0558</td>\n      <td>176.646</td>\n      <td>4.0</td>\n      <td>0.898</td>\n      <td>0Jlz2oUJcRROhY8MFMp609</td>\n      <td>1996-12-31</td>\n      <td>1996.0</td>\n      <td>290907.0</td>\n      <td>\"Weird Al\" Yankovic290907The Alternative Polka...</td>\n      <td>0.0914</td>\n      <td>['\"Weird Al\" Yankovic']</td>\n      <td>0.393</td>\n      <td>290907</td>\n      <td>0.878</td>\n      <td>0</td>\n      <td>0.000000</td>\n      <td>4</td>\n      <td>0.3190</td>\n      <td>-7.519</td>\n      <td>0</td>\n      <td>The Alternative Polka</td>\n      <td>35</td>\n      <td>1996-12-31</td>\n      <td>0.0558</td>\n      <td>176.646</td>\n      <td>0.898</td>\n      <td>1996</td>\n      <td>1996</td>\n      <td>\"Weird Al\" Yankovic</td>\n      <td>\"Weird Al\" Yankovic290907The Alternative Polka...</td>\n      <td>1</td>\n      <td>soy un perdedor ! i ' a loser , baby ! so why ...</td>\n    </tr>\n    <tr>\n      <th>93625</th>\n      <td>6h8laPks98zPizQ5qahy40</td>\n      <td>Winterlude</td>\n      <td>New Morning</td>\n      <td>Bob Dylan</td>\n      <td>0.9100</td>\n      <td>0.329</td>\n      <td>142947.0</td>\n      <td>0.389</td>\n      <td>0.013100</td>\n      <td>0.0</td>\n      <td>0.1140</td>\n      <td>-12.425</td>\n      <td>1.0</td>\n      <td>0.0384</td>\n      <td>50.166</td>\n      <td>4.0</td>\n      <td>0.492</td>\n      <td>48efaobqOTbvnlxbETstey</td>\n      <td>1970-10-21</td>\n      <td>1970.0</td>\n      <td>142947.0</td>\n      <td>Bob Dylan142947Winterlude0.910.328999999999999...</td>\n      <td>0.9100</td>\n      <td>['Bob Dylan']</td>\n      <td>0.329</td>\n      <td>142947</td>\n      <td>0.389</td>\n      <td>0</td>\n      <td>0.013100</td>\n      <td>0</td>\n      <td>0.1140</td>\n      <td>-12.425</td>\n      <td>1</td>\n      <td>Winterlude</td>\n      <td>39</td>\n      <td>1970-10-21</td>\n      <td>0.0384</td>\n      <td>50.166</td>\n      <td>0.492</td>\n      <td>1970</td>\n      <td>1970</td>\n      <td>Bob Dylan</td>\n      <td>Bob Dylan142947Winterlude0.910.3290.38900.0131...</td>\n      <td>1</td>\n      <td>winterlude , winterlude , oh darling winterlud...</td>\n    </tr>\n    <tr>\n      <th>93626</th>\n      <td>6h8oQHda1vXeex187OLud3</td>\n      <td>Chuper Amigos</td>\n      <td>Jenni</td>\n      <td>Jenni Rivera</td>\n      <td>0.5410</td>\n      <td>0.838</td>\n      <td>245968.0</td>\n      <td>0.553</td>\n      <td>0.000022</td>\n      <td>8.0</td>\n      <td>0.0648</td>\n      <td>-4.725</td>\n      <td>1.0</td>\n      <td>0.0432</td>\n      <td>141.906</td>\n      <td>4.0</td>\n      <td>0.970</td>\n      <td>2TJAjnZKucKaS4CKX0O4Vh</td>\n      <td>2013-12-17</td>\n      <td>2013.0</td>\n      <td>245968.0</td>\n      <td>Jenni Rivera245968Chuper Amigos0.5410.8380.552...</td>\n      <td>0.5410</td>\n      <td>['Jenni Rivera']</td>\n      <td>0.838</td>\n      <td>245968</td>\n      <td>0.553</td>\n      <td>0</td>\n      <td>0.000022</td>\n      <td>8</td>\n      <td>0.0648</td>\n      <td>-4.725</td>\n      <td>1</td>\n      <td>Chuper Amigos</td>\n      <td>58</td>\n      <td>2013-12-17</td>\n      <td>0.0432</td>\n      <td>141.906</td>\n      <td>0.970</td>\n      <td>2013</td>\n      <td>2013</td>\n      <td>Jenni Rivera</td>\n      <td>Jenni Rivera245968Chuper Amigos0.5410.8380.552...</td>\n      <td>1</td>\n      <td>empezamos entonces , ¿ no ? ¡ aaay ! como ya n...</td>\n    </tr>\n  </tbody>\n</table>\n<p>93627 rows × 45 columns</p>\n</div>"
     },
     "metadata": {},
     "execution_count": 18
    }
   ],
   "source": [
    "%%time\n",
    "text_cleaning_complexity(lyricdf)\n",
    "lyricdf"
   ]
  },
  {
   "cell_type": "code",
   "execution_count": 24,
   "metadata": {},
   "outputs": [
    {
     "output_type": "execute_result",
     "data": {
      "text/plain": [
       "({'num_sentences': 1366, 'num_words': 14936, 'num_syllables': 14780},\n",
       " {'readability': 112.02, 'grade': '5th Grade'})"
      ]
     },
     "metadata": {},
     "execution_count": 24
    }
   ],
   "source": [
    "import fkscore\n",
    "from tqdm import tqdm\n",
    "text = lyricdf.loc[0, 'lyrics']\n",
    "f = fkscore.fkscore(text)\n",
    "f.stats, f.score"
   ]
  },
  {
   "cell_type": "code",
   "execution_count": 54,
   "metadata": {},
   "outputs": [
    {
     "output_type": "stream",
     "name": "stdout",
     "text": [
      "CPU times: user 599 ms, sys: 10 ms, total: 609 ms\nWall time: 611 ms\n"
     ]
    },
    {
     "output_type": "execute_result",
     "data": {
      "text/plain": [
       "({'num_sentences': 1207, 'num_words': 20099, 'num_syllables': 22887},\n",
       " {'readability': 93.598, 'grade': '5th Grade'})"
      ]
     },
     "metadata": {},
     "execution_count": 54
    }
   ],
   "source": [
    "%%time\n",
    "text = lyricdf.loc[2, 'lyrics']\n",
    "f = fkscore.fkscore(text)\n",
    "(f.stats, f.score)"
   ]
  },
  {
   "cell_type": "code",
   "execution_count": 38,
   "metadata": {},
   "outputs": [],
   "source": [
    "a.iloc[0, 0] = str(f.stats)"
   ]
  },
  {
   "cell_type": "code",
   "execution_count": 64,
   "metadata": {},
   "outputs": [
    {
     "output_type": "error",
     "ename": "KeyError",
     "evalue": "'error'",
     "traceback": [
      "\u001b[0;31m---------------------------------------------------------------------------\u001b[0m",
      "\u001b[0;31mKeyboardInterrupt\u001b[0m                         Traceback (most recent call last)",
      "\u001b[0;32m~/opt/anaconda3/lib/python3.7/site-packages/fkscore/fkscore.py\u001b[0m in \u001b[0;36mbasic_stats\u001b[0;34m(self, rawtext)\u001b[0m\n\u001b[1;32m     60\u001b[0m                     \u001b[0mwordblock\u001b[0m \u001b[0;34m=\u001b[0m \u001b[0moutput\u001b[0m\u001b[0;34m[\u001b[0m\u001b[0;34m'wordblock'\u001b[0m\u001b[0;34m]\u001b[0m \u001b[0;34m+\u001b[0m \u001b[0mwords\u001b[0m\u001b[0;34m\u001b[0m\u001b[0;34m\u001b[0m\u001b[0m\n\u001b[0;32m---> 61\u001b[0;31m                     \u001b[0moutput\u001b[0m\u001b[0;34m[\u001b[0m\u001b[0;34m'wordblock'\u001b[0m\u001b[0;34m]\u001b[0m \u001b[0;34m=\u001b[0m \u001b[0;34m[\u001b[0m\u001b[0mx\u001b[0m \u001b[0;32mfor\u001b[0m \u001b[0mx\u001b[0m \u001b[0;32min\u001b[0m \u001b[0mwordblock\u001b[0m \u001b[0;32mif\u001b[0m \u001b[0mx\u001b[0m \u001b[0;34m!=\u001b[0m \u001b[0;34m''\u001b[0m \u001b[0;32mand\u001b[0m \u001b[0mx\u001b[0m \u001b[0;32mis\u001b[0m \u001b[0;32mnot\u001b[0m \u001b[0;32mNone\u001b[0m\u001b[0;34m]\u001b[0m\u001b[0;34m\u001b[0m\u001b[0;34m\u001b[0m\u001b[0m\n\u001b[0m\u001b[1;32m     62\u001b[0m             \u001b[0;32mexcept\u001b[0m\u001b[0;34m:\u001b[0m\u001b[0;34m\u001b[0m\u001b[0;34m\u001b[0m\u001b[0m\n",
      "\u001b[0;32m~/opt/anaconda3/lib/python3.7/site-packages/fkscore/fkscore.py\u001b[0m in \u001b[0;36m<listcomp>\u001b[0;34m(.0)\u001b[0m\n\u001b[1;32m     60\u001b[0m                     \u001b[0mwordblock\u001b[0m \u001b[0;34m=\u001b[0m \u001b[0moutput\u001b[0m\u001b[0;34m[\u001b[0m\u001b[0;34m'wordblock'\u001b[0m\u001b[0;34m]\u001b[0m \u001b[0;34m+\u001b[0m \u001b[0mwords\u001b[0m\u001b[0;34m\u001b[0m\u001b[0;34m\u001b[0m\u001b[0m\n\u001b[0;32m---> 61\u001b[0;31m                     \u001b[0moutput\u001b[0m\u001b[0;34m[\u001b[0m\u001b[0;34m'wordblock'\u001b[0m\u001b[0;34m]\u001b[0m \u001b[0;34m=\u001b[0m \u001b[0;34m[\u001b[0m\u001b[0mx\u001b[0m \u001b[0;32mfor\u001b[0m \u001b[0mx\u001b[0m \u001b[0;32min\u001b[0m \u001b[0mwordblock\u001b[0m \u001b[0;32mif\u001b[0m \u001b[0mx\u001b[0m \u001b[0;34m!=\u001b[0m \u001b[0;34m''\u001b[0m \u001b[0;32mand\u001b[0m \u001b[0mx\u001b[0m \u001b[0;32mis\u001b[0m \u001b[0;32mnot\u001b[0m \u001b[0;32mNone\u001b[0m\u001b[0;34m]\u001b[0m\u001b[0;34m\u001b[0m\u001b[0;34m\u001b[0m\u001b[0m\n\u001b[0m\u001b[1;32m     62\u001b[0m             \u001b[0;32mexcept\u001b[0m\u001b[0;34m:\u001b[0m\u001b[0;34m\u001b[0m\u001b[0;34m\u001b[0m\u001b[0m\n",
      "\u001b[0;31mKeyboardInterrupt\u001b[0m: ",
      "\nDuring handling of the above exception, another exception occurred:\n",
      "\u001b[0;31mKeyError\u001b[0m                                  Traceback (most recent call last)",
      "\u001b[0;32m<timed exec>\u001b[0m in \u001b[0;36m<module>\u001b[0;34m\u001b[0m\n",
      "\u001b[0;32m~/opt/anaconda3/lib/python3.7/site-packages/fkscore/fkscore.py\u001b[0m in \u001b[0;36m__init__\u001b[0;34m(self, text)\u001b[0m\n\u001b[1;32m     27\u001b[0m         '''\n\u001b[1;32m     28\u001b[0m         \u001b[0mself\u001b[0m\u001b[0;34m.\u001b[0m\u001b[0mstats\u001b[0m \u001b[0;34m=\u001b[0m \u001b[0;34m{\u001b[0m\u001b[0;34m}\u001b[0m\u001b[0;34m\u001b[0m\u001b[0;34m\u001b[0m\u001b[0m\n\u001b[0;32m---> 29\u001b[0;31m         \u001b[0mself\u001b[0m\u001b[0;34m.\u001b[0m\u001b[0mbasic_stats\u001b[0m\u001b[0;34m(\u001b[0m\u001b[0mtext\u001b[0m\u001b[0;34m)\u001b[0m\u001b[0;34m\u001b[0m\u001b[0;34m\u001b[0m\u001b[0m\n\u001b[0m\u001b[1;32m     30\u001b[0m         \u001b[0mself\u001b[0m\u001b[0;34m.\u001b[0m\u001b[0mscore\u001b[0m \u001b[0;34m=\u001b[0m \u001b[0;34m{\u001b[0m\u001b[0;34m}\u001b[0m\u001b[0;34m\u001b[0m\u001b[0;34m\u001b[0m\u001b[0m\n\u001b[1;32m     31\u001b[0m         \u001b[0mself\u001b[0m\u001b[0;34m.\u001b[0m\u001b[0mfk_score\u001b[0m\u001b[0;34m(\u001b[0m\u001b[0;34m)\u001b[0m\u001b[0;34m\u001b[0m\u001b[0;34m\u001b[0m\u001b[0m\n",
      "\u001b[0;32m~/opt/anaconda3/lib/python3.7/site-packages/fkscore/fkscore.py\u001b[0m in \u001b[0;36mbasic_stats\u001b[0;34m(self, rawtext)\u001b[0m\n\u001b[1;32m     61\u001b[0m                     \u001b[0moutput\u001b[0m\u001b[0;34m[\u001b[0m\u001b[0;34m'wordblock'\u001b[0m\u001b[0;34m]\u001b[0m \u001b[0;34m=\u001b[0m \u001b[0;34m[\u001b[0m\u001b[0mx\u001b[0m \u001b[0;32mfor\u001b[0m \u001b[0mx\u001b[0m \u001b[0;32min\u001b[0m \u001b[0mwordblock\u001b[0m \u001b[0;32mif\u001b[0m \u001b[0mx\u001b[0m \u001b[0;34m!=\u001b[0m \u001b[0;34m''\u001b[0m \u001b[0;32mand\u001b[0m \u001b[0mx\u001b[0m \u001b[0;32mis\u001b[0m \u001b[0;32mnot\u001b[0m \u001b[0;32mNone\u001b[0m\u001b[0;34m]\u001b[0m\u001b[0;34m\u001b[0m\u001b[0;34m\u001b[0m\u001b[0m\n\u001b[1;32m     62\u001b[0m             \u001b[0;32mexcept\u001b[0m\u001b[0;34m:\u001b[0m\u001b[0;34m\u001b[0m\u001b[0;34m\u001b[0m\u001b[0m\n\u001b[0;32m---> 63\u001b[0;31m                 \u001b[0moutput\u001b[0m\u001b[0;34m[\u001b[0m\u001b[0;34m'error'\u001b[0m\u001b[0;34m]\u001b[0m \u001b[0;34m+=\u001b[0m \u001b[0;36m1\u001b[0m\u001b[0;34m\u001b[0m\u001b[0;34m\u001b[0m\u001b[0m\n\u001b[0m\u001b[1;32m     64\u001b[0m \u001b[0;34m\u001b[0m\u001b[0m\n\u001b[1;32m     65\u001b[0m         \u001b[0mself\u001b[0m\u001b[0;34m.\u001b[0m\u001b[0mstats\u001b[0m\u001b[0;34m[\u001b[0m\u001b[0;34m'num_sentences'\u001b[0m\u001b[0;34m]\u001b[0m \u001b[0;34m=\u001b[0m \u001b[0moutput\u001b[0m\u001b[0;34m[\u001b[0m\u001b[0;34m'sentences'\u001b[0m\u001b[0;34m]\u001b[0m\u001b[0;34m\u001b[0m\u001b[0;34m\u001b[0m\u001b[0m\n",
      "\u001b[0;31mKeyError\u001b[0m: 'error'"
     ]
    }
   ],
   "source": [
    "%%time\n",
    "for i in tqdm(range(len(lyricdf))):\n",
    "    lyricdf.loc[i, 'stats_dict_tuple'] = str((fkscore.fkscore(lyricdf.loc[i, 'lyrics']).stats, fkscore.fkscore(lyricdf.loc[i, 'lyrics']).score))"
   ]
  },
  {
   "cell_type": "code",
   "execution_count": null,
   "metadata": {},
   "outputs": [],
   "source": [
    "%%time\n",
    "lyricdf['stats_dict_tuple']"
   ]
  },
  {
   "cell_type": "code",
   "execution_count": null,
   "metadata": {},
   "outputs": [],
   "source": []
  },
  {
   "cell_type": "code",
   "execution_count": null,
   "metadata": {},
   "outputs": [],
   "source": []
  },
  {
   "cell_type": "code",
   "execution_count": 7,
   "metadata": {},
   "outputs": [],
   "source": [
    "# still need strip accent, remove stopwords, lemmatize after translation\n",
    "\n",
    "lyricdf.to_csv('basic_cleansing_0407_lda.csv')"
   ]
  },
  {
   "cell_type": "code",
   "execution_count": null,
   "metadata": {},
   "outputs": [],
   "source": [
    "# stripping accent hopefully could be done by translating"
   ]
  },
  {
   "cell_type": "code",
   "execution_count": null,
   "metadata": {},
   "outputs": [],
   "source": []
  },
  {
   "cell_type": "code",
   "execution_count": null,
   "metadata": {},
   "outputs": [],
   "source": []
  },
  {
   "cell_type": "code",
   "execution_count": null,
   "metadata": {},
   "outputs": [],
   "source": [
    "# test for translation twice, once before preprocessing, once after preprocessing"
   ]
  },
  {
   "cell_type": "code",
   "execution_count": 12,
   "metadata": {},
   "outputs": [],
   "source": [
    "f = open(\"TextBlob.txt\",\"r\")\n",
    "te = f.read()"
   ]
  },
  {
   "cell_type": "code",
   "execution_count": 17,
   "metadata": {},
   "outputs": [],
   "source": [
    "a = te[11:]"
   ]
  },
  {
   "cell_type": "code",
   "execution_count": 18,
   "metadata": {},
   "outputs": [],
   "source": [
    "dfte = pd.DataFrame()\n",
    "dfte.loc[0, 'lyrics'] = a"
   ]
  },
  {
   "cell_type": "code",
   "execution_count": 19,
   "metadata": {},
   "outputs": [
    {
     "output_type": "execute_result",
     "data": {
      "text/plain": [
       "                                              lyrics\n",
       "0  like tomtittot titoutomtotalitarien unde ubi b..."
      ],
      "text/html": "<div>\n<style scoped>\n    .dataframe tbody tr th:only-of-type {\n        vertical-align: middle;\n    }\n\n    .dataframe tbody tr th {\n        vertical-align: top;\n    }\n\n    .dataframe thead th {\n        text-align: right;\n    }\n</style>\n<table border=\"1\" class=\"dataframe\">\n  <thead>\n    <tr style=\"text-align: right;\">\n      <th></th>\n      <th>lyrics</th>\n    </tr>\n  </thead>\n  <tbody>\n    <tr>\n      <th>0</th>\n      <td>like tomtittot titoutomtotalitarien unde ubi b...</td>\n    </tr>\n  </tbody>\n</table>\n</div>"
     },
     "metadata": {},
     "execution_count": 19
    }
   ],
   "source": [
    "text_cleaning(dfte)\n",
    "dfte"
   ]
  },
  {
   "cell_type": "code",
   "execution_count": 20,
   "metadata": {},
   "outputs": [],
   "source": [
    "import pandas as pd\n",
    "import time\n",
    "from tqdm import tqdm\n",
    "from textblob import TextBlob\n",
    "from langdetect import detect\n",
    "import textblob.exceptions\n",
    "blob = TextBlob(dfte.loc[0, 'lyrics']).translate(from_lang='fr',to='en')"
   ]
  },
  {
   "cell_type": "code",
   "execution_count": 22,
   "metadata": {},
   "outputs": [
    {
     "output_type": "execute_result",
     "data": {
      "text/plain": [
       "'like tomtittot titoutomtotalitarien unde ubi broad hairy face ireland que viencra disgrace lead else keep money find pint portere place done says high guard cis honestly stone fields chop fatty meat s'"
      ]
     },
     "metadata": {},
     "execution_count": 22
    }
   ],
   "source": [
    "# to retrive the string in TextBlob class\n",
    "' '.join(blob.split())[:200]"
   ]
  },
  {
   "cell_type": "code",
   "execution_count": 3,
   "metadata": {},
   "outputs": [],
   "source": [
    "lyrics93627 = pd.read_csv('/Users/Amphetamine/Desktop/OneDrive - National University of Singapore/BT5153 Spotify Project/lyric_features.csv')"
   ]
  },
  {
   "cell_type": "code",
   "execution_count": 4,
   "metadata": {},
   "outputs": [
    {
     "output_type": "execute_result",
     "data": {
      "text/plain": [
       "Unnamed: 0                                                             41045\n",
       "id                                                    4fdaOQs7w18AgDHK0XNsAX\n",
       "song                                                                     NaN\n",
       "album                                                                    NaN\n",
       "artist                                                                   NaN\n",
       "acousticness_x                                                           NaN\n",
       "danceability_x                                                           NaN\n",
       "duration_ms_x                                                            NaN\n",
       "energy_x                                                                 NaN\n",
       "instrumentalness_x                                                       NaN\n",
       "key_x                                                                    NaN\n",
       "liveness_x                                                               NaN\n",
       "loudness_x                                                               NaN\n",
       "mode_x                                                                   NaN\n",
       "speechiness_x                                                            NaN\n",
       "tempo_x                                                                  NaN\n",
       "time_signature                                                           NaN\n",
       "valence_x                                                                NaN\n",
       "album_id                                                                 NaN\n",
       "date                                                                     NaN\n",
       "date_year                                                                NaN\n",
       "duration_ms_d                                                            NaN\n",
       "com_f_x                                                                  NaN\n",
       "acousticness_y                                                         0.571\n",
       "artists                                                    ['Jorge Valente']\n",
       "danceability_y                                                         0.638\n",
       "duration_ms_y                                                         152280\n",
       "energy_y                                                               0.339\n",
       "explicit                                                                   0\n",
       "instrumentalness_y                                                   0.00104\n",
       "key_y                                                                      4\n",
       "liveness_y                                                            0.0876\n",
       "loudness_y                                                           -10.973\n",
       "mode_y                                                                     1\n",
       "name                                                                 Amorosa\n",
       "popularity                                                                11\n",
       "release_date                                                            1961\n",
       "speechiness_y                                                         0.0368\n",
       "tempo_y                                                              122.228\n",
       "valence_y                                                              0.541\n",
       "year                                                                    1961\n",
       "release_date_year                                                       1961\n",
       "artists_d                                                      Jorge Valente\n",
       "com_f_y                    Jorge Valente152280Amorosa0.57100000000000010....\n",
       "popularity_dummy                                                           0\n",
       "lyrics                     buenas habíamos visto la vez pasada como una c...\n",
       "stats_dict_tuple           ({'num_sentences': 1, 'num_words': 9073, 'num_...\n",
       "num_sentences                                                            1.0\n",
       "num_words                                                             9073.0\n",
       "num_syllables                                                        15864.0\n",
       "readability                                                        -9150.182\n",
       "grade                                                       College Graduate\n",
       "richness                                                            0.112421\n",
       "Language                                                                  en\n",
       "neg                                                                     0.08\n",
       "neu                                                                    0.755\n",
       "pos                                                                    0.165\n",
       "compound                                                              0.9591\n",
       "compound_vader_polarity                                                  1.0\n",
       "Name: 41045, dtype: object"
      ]
     },
     "metadata": {},
     "execution_count": 4
    }
   ],
   "source": [
    "lyrics93627.iloc[41045, :]"
   ]
  },
  {
   "cell_type": "code",
   "execution_count": 5,
   "metadata": {},
   "outputs": [],
   "source": [
    "com = pd.read_csv('/Users/Amphetamine/Desktop/OneDrive - National University of Singapore/BT5153 Spotify Project/lyricdf_for_complexity.csv')"
   ]
  },
  {
   "cell_type": "code",
   "execution_count": 6,
   "metadata": {},
   "outputs": [
    {
     "output_type": "execute_result",
     "data": {
      "text/plain": [
       "Unnamed: 0                                                        41045\n",
       "id                                               4fdaOQs7w18AgDHK0XNsAX\n",
       "song                                                                NaN\n",
       "album                                                               NaN\n",
       "artist                                                              NaN\n",
       "acousticness_x                                                      NaN\n",
       "danceability_x                                                      NaN\n",
       "duration_ms_x                                                       NaN\n",
       "energy_x                                                            NaN\n",
       "instrumentalness_x                                                  NaN\n",
       "key_x                                                               NaN\n",
       "liveness_x                                                          NaN\n",
       "loudness_x                                                          NaN\n",
       "mode_x                                                              NaN\n",
       "speechiness_x                                                       NaN\n",
       "tempo_x                                                             NaN\n",
       "time_signature                                                      NaN\n",
       "valence_x                                                           NaN\n",
       "album_id                                                            NaN\n",
       "date                                                                NaN\n",
       "date_year                                                           NaN\n",
       "duration_ms_d                                                       NaN\n",
       "com_f_x                                                             NaN\n",
       "acousticness_y                                                    0.571\n",
       "artists                                               ['Jorge Valente']\n",
       "danceability_y                                                    0.638\n",
       "duration_ms_y                                                    152280\n",
       "energy_y                                                          0.339\n",
       "explicit                                                              0\n",
       "instrumentalness_y                                              0.00104\n",
       "key_y                                                                 4\n",
       "liveness_y                                                       0.0876\n",
       "loudness_y                                                      -10.973\n",
       "mode_y                                                                1\n",
       "name                                                            Amorosa\n",
       "popularity                                                           11\n",
       "release_date                                                       1961\n",
       "speechiness_y                                                    0.0368\n",
       "tempo_y                                                         122.228\n",
       "valence_y                                                         0.541\n",
       "year                                                               1961\n",
       "release_date_year                                                  1961\n",
       "artists_d                                                 Jorge Valente\n",
       "com_f_y               Jorge Valente152280Amorosa0.57100000000000010....\n",
       "popularity_dummy                                                      0\n",
       "lyrics                buenas habíamos visto la vez pasada como una c...\n",
       "Name: 41045, dtype: object"
      ]
     },
     "metadata": {},
     "execution_count": 6
    }
   ],
   "source": [
    "com.iloc[41045, :]"
   ]
  },
  {
   "cell_type": "code",
   "execution_count": 43,
   "metadata": {},
   "outputs": [],
   "source": [
    "fea = pd.read_csv('lyric_features.csv', index_col = 0)"
   ]
  },
  {
   "cell_type": "code",
   "execution_count": 44,
   "metadata": {},
   "outputs": [
    {
     "output_type": "execute_result",
     "data": {
      "text/plain": [
       "                           id song album artist  acousticness_x  \\\n",
       "41045  4fdaOQs7w18AgDHK0XNsAX  NaN   NaN    NaN             NaN   \n",
       "41046  4hviK3ix9tdsJMPFjmQFQz  NaN   NaN    NaN             NaN   \n",
       "\n",
       "       danceability_x  duration_ms_x  energy_x  instrumentalness_x  key_x  \\\n",
       "41045             NaN            NaN       NaN                 NaN    NaN   \n",
       "41046             NaN            NaN       NaN                 NaN    NaN   \n",
       "\n",
       "       liveness_x  loudness_x  mode_x  speechiness_x  tempo_x  time_signature  \\\n",
       "41045         NaN         NaN     NaN            NaN      NaN             NaN   \n",
       "41046         NaN         NaN     NaN            NaN      NaN             NaN   \n",
       "\n",
       "       valence_x album_id date  date_year  duration_ms_d com_f_x  \\\n",
       "41045        NaN      NaN  NaN        NaN            NaN     NaN   \n",
       "41046        NaN      NaN  NaN        NaN            NaN     NaN   \n",
       "\n",
       "       acousticness_y            artists  danceability_y  duration_ms_y  \\\n",
       "41045           0.571  ['Jorge Valente']           0.638         152280   \n",
       "41046           0.876  ['The Shirelles']           0.468         152173   \n",
       "\n",
       "       energy_y  explicit  instrumentalness_y  key_y  liveness_y  loudness_y  \\\n",
       "41045     0.339         0             0.00104      4      0.0876     -10.973   \n",
       "41046     0.384         0             0.00000     10      0.1150      -8.469   \n",
       "\n",
       "       mode_y          name  popularity release_date  speechiness_y  tempo_y  \\\n",
       "41045       1       Amorosa          11         1961         0.0368  122.228   \n",
       "41046       1  I Saw A Tear          11   1961-02-01         0.0390  117.477   \n",
       "\n",
       "       valence_y  year  release_date_year      artists_d  \\\n",
       "41045      0.541  1961               1961  Jorge Valente   \n",
       "41046      0.390  1961               1961  The Shirelles   \n",
       "\n",
       "                                                 com_f_y  popularity_dummy  \\\n",
       "41045  Jorge Valente152280Amorosa0.57100000000000010....                 0   \n",
       "41046  The Shirelles152173I Saw A Tear0.8759999999999...                 0   \n",
       "\n",
       "                                                  lyrics  \\\n",
       "41045  buenas habíamos visto la vez pasada como una c...   \n",
       "41046  1 . like a rolling stone by bob dylan 2 . sati...   \n",
       "\n",
       "                                        stats_dict_tuple  num_sentences  \\\n",
       "41045  ({'num_sentences': 1, 'num_words': 9073, 'num_...            1.0   \n",
       "41046  ({'num_sentences': 523, 'num_words': 4816, 'nu...          523.0   \n",
       "\n",
       "       num_words  num_syllables  readability             grade  richness  \\\n",
       "41045     9073.0        15864.0    -9150.182  College Graduate  0.112421   \n",
       "41046     4816.0         4859.0      112.133         5th Grade  0.277829   \n",
       "\n",
       "      Language    neg    neu    pos  compound  compound_vader_polarity  \n",
       "41045       en  0.080  0.755  0.165    0.9591                      1.0  \n",
       "41046       es  0.028  0.955  0.016   -0.9965                     -1.0  "
      ],
      "text/html": "<div>\n<style scoped>\n    .dataframe tbody tr th:only-of-type {\n        vertical-align: middle;\n    }\n\n    .dataframe tbody tr th {\n        vertical-align: top;\n    }\n\n    .dataframe thead th {\n        text-align: right;\n    }\n</style>\n<table border=\"1\" class=\"dataframe\">\n  <thead>\n    <tr style=\"text-align: right;\">\n      <th></th>\n      <th>id</th>\n      <th>song</th>\n      <th>album</th>\n      <th>artist</th>\n      <th>acousticness_x</th>\n      <th>danceability_x</th>\n      <th>duration_ms_x</th>\n      <th>energy_x</th>\n      <th>instrumentalness_x</th>\n      <th>key_x</th>\n      <th>liveness_x</th>\n      <th>loudness_x</th>\n      <th>mode_x</th>\n      <th>speechiness_x</th>\n      <th>tempo_x</th>\n      <th>time_signature</th>\n      <th>valence_x</th>\n      <th>album_id</th>\n      <th>date</th>\n      <th>date_year</th>\n      <th>duration_ms_d</th>\n      <th>com_f_x</th>\n      <th>acousticness_y</th>\n      <th>artists</th>\n      <th>danceability_y</th>\n      <th>duration_ms_y</th>\n      <th>energy_y</th>\n      <th>explicit</th>\n      <th>instrumentalness_y</th>\n      <th>key_y</th>\n      <th>liveness_y</th>\n      <th>loudness_y</th>\n      <th>mode_y</th>\n      <th>name</th>\n      <th>popularity</th>\n      <th>release_date</th>\n      <th>speechiness_y</th>\n      <th>tempo_y</th>\n      <th>valence_y</th>\n      <th>year</th>\n      <th>release_date_year</th>\n      <th>artists_d</th>\n      <th>com_f_y</th>\n      <th>popularity_dummy</th>\n      <th>lyrics</th>\n      <th>stats_dict_tuple</th>\n      <th>num_sentences</th>\n      <th>num_words</th>\n      <th>num_syllables</th>\n      <th>readability</th>\n      <th>grade</th>\n      <th>richness</th>\n      <th>Language</th>\n      <th>neg</th>\n      <th>neu</th>\n      <th>pos</th>\n      <th>compound</th>\n      <th>compound_vader_polarity</th>\n    </tr>\n  </thead>\n  <tbody>\n    <tr>\n      <th>41045</th>\n      <td>4fdaOQs7w18AgDHK0XNsAX</td>\n      <td>NaN</td>\n      <td>NaN</td>\n      <td>NaN</td>\n      <td>NaN</td>\n      <td>NaN</td>\n      <td>NaN</td>\n      <td>NaN</td>\n      <td>NaN</td>\n      <td>NaN</td>\n      <td>NaN</td>\n      <td>NaN</td>\n      <td>NaN</td>\n      <td>NaN</td>\n      <td>NaN</td>\n      <td>NaN</td>\n      <td>NaN</td>\n      <td>NaN</td>\n      <td>NaN</td>\n      <td>NaN</td>\n      <td>NaN</td>\n      <td>NaN</td>\n      <td>0.571</td>\n      <td>['Jorge Valente']</td>\n      <td>0.638</td>\n      <td>152280</td>\n      <td>0.339</td>\n      <td>0</td>\n      <td>0.00104</td>\n      <td>4</td>\n      <td>0.0876</td>\n      <td>-10.973</td>\n      <td>1</td>\n      <td>Amorosa</td>\n      <td>11</td>\n      <td>1961</td>\n      <td>0.0368</td>\n      <td>122.228</td>\n      <td>0.541</td>\n      <td>1961</td>\n      <td>1961</td>\n      <td>Jorge Valente</td>\n      <td>Jorge Valente152280Amorosa0.57100000000000010....</td>\n      <td>0</td>\n      <td>buenas habíamos visto la vez pasada como una c...</td>\n      <td>({'num_sentences': 1, 'num_words': 9073, 'num_...</td>\n      <td>1.0</td>\n      <td>9073.0</td>\n      <td>15864.0</td>\n      <td>-9150.182</td>\n      <td>College Graduate</td>\n      <td>0.112421</td>\n      <td>en</td>\n      <td>0.080</td>\n      <td>0.755</td>\n      <td>0.165</td>\n      <td>0.9591</td>\n      <td>1.0</td>\n    </tr>\n    <tr>\n      <th>41046</th>\n      <td>4hviK3ix9tdsJMPFjmQFQz</td>\n      <td>NaN</td>\n      <td>NaN</td>\n      <td>NaN</td>\n      <td>NaN</td>\n      <td>NaN</td>\n      <td>NaN</td>\n      <td>NaN</td>\n      <td>NaN</td>\n      <td>NaN</td>\n      <td>NaN</td>\n      <td>NaN</td>\n      <td>NaN</td>\n      <td>NaN</td>\n      <td>NaN</td>\n      <td>NaN</td>\n      <td>NaN</td>\n      <td>NaN</td>\n      <td>NaN</td>\n      <td>NaN</td>\n      <td>NaN</td>\n      <td>NaN</td>\n      <td>0.876</td>\n      <td>['The Shirelles']</td>\n      <td>0.468</td>\n      <td>152173</td>\n      <td>0.384</td>\n      <td>0</td>\n      <td>0.00000</td>\n      <td>10</td>\n      <td>0.1150</td>\n      <td>-8.469</td>\n      <td>1</td>\n      <td>I Saw A Tear</td>\n      <td>11</td>\n      <td>1961-02-01</td>\n      <td>0.0390</td>\n      <td>117.477</td>\n      <td>0.390</td>\n      <td>1961</td>\n      <td>1961</td>\n      <td>The Shirelles</td>\n      <td>The Shirelles152173I Saw A Tear0.8759999999999...</td>\n      <td>0</td>\n      <td>1 . like a rolling stone by bob dylan 2 . sati...</td>\n      <td>({'num_sentences': 523, 'num_words': 4816, 'nu...</td>\n      <td>523.0</td>\n      <td>4816.0</td>\n      <td>4859.0</td>\n      <td>112.133</td>\n      <td>5th Grade</td>\n      <td>0.277829</td>\n      <td>es</td>\n      <td>0.028</td>\n      <td>0.955</td>\n      <td>0.016</td>\n      <td>-0.9965</td>\n      <td>-1.0</td>\n    </tr>\n  </tbody>\n</table>\n</div>"
     },
     "metadata": {},
     "execution_count": 44
    }
   ],
   "source": [
    "fea.iloc[41045: 41047, :]"
   ]
  },
  {
   "cell_type": "code",
   "execution_count": 11,
   "metadata": {},
   "outputs": [
    {
     "output_type": "execute_result",
     "data": {
      "text/plain": [
       "({'num_sentences': 1, 'num_words': 9073, 'num_syllables': 15864},\n",
       " {'readability': -9150.182, 'grade': 'College Graduate'})"
      ]
     },
     "metadata": {},
     "execution_count": 11
    }
   ],
   "source": [
    "import fkscore\n",
    "from tqdm import tqdm\n",
    "text = fea.loc[41045, 'lyrics']\n",
    "f = fkscore.fkscore(text)\n",
    "f.stats, f.score"
   ]
  },
  {
   "cell_type": "code",
   "execution_count": 45,
   "metadata": {},
   "outputs": [],
   "source": [
    "without = pd.read_csv('lyrics_language_sentiment_withoutlyrics.csv', index_col=0)"
   ]
  },
  {
   "cell_type": "code",
   "execution_count": 46,
   "metadata": {},
   "outputs": [
    {
     "output_type": "execute_result",
     "data": {
      "text/plain": [
       "      Language    neg    neu    pos  compound  compound_vader_polarity\n",
       "0           en  0.100  0.782  0.118    0.9997                      1.0\n",
       "1           en  0.125  0.802  0.073   -1.0000                     -1.0\n",
       "2           fr  0.019  0.970  0.011   -0.9968                     -1.0\n",
       "3           en  0.083  0.869  0.048   -0.9996                     -1.0\n",
       "4           fr  0.000  0.979  0.021    0.7293                      1.0\n",
       "...        ...    ...    ...    ...       ...                      ...\n",
       "93624       pt  0.000  1.000  0.000    0.0000                      0.0\n",
       "93625       en  0.108  0.728  0.164    0.9471                      1.0\n",
       "93626       en  0.116  0.777  0.107    0.6269                      1.0\n",
       "93627       en  0.062  0.802  0.137    0.9253                      1.0\n",
       "93628       es  0.056  0.928  0.016   -0.8110                     -1.0\n",
       "\n",
       "[93629 rows x 6 columns]"
      ],
      "text/html": "<div>\n<style scoped>\n    .dataframe tbody tr th:only-of-type {\n        vertical-align: middle;\n    }\n\n    .dataframe tbody tr th {\n        vertical-align: top;\n    }\n\n    .dataframe thead th {\n        text-align: right;\n    }\n</style>\n<table border=\"1\" class=\"dataframe\">\n  <thead>\n    <tr style=\"text-align: right;\">\n      <th></th>\n      <th>Language</th>\n      <th>neg</th>\n      <th>neu</th>\n      <th>pos</th>\n      <th>compound</th>\n      <th>compound_vader_polarity</th>\n    </tr>\n  </thead>\n  <tbody>\n    <tr>\n      <th>0</th>\n      <td>en</td>\n      <td>0.100</td>\n      <td>0.782</td>\n      <td>0.118</td>\n      <td>0.9997</td>\n      <td>1.0</td>\n    </tr>\n    <tr>\n      <th>1</th>\n      <td>en</td>\n      <td>0.125</td>\n      <td>0.802</td>\n      <td>0.073</td>\n      <td>-1.0000</td>\n      <td>-1.0</td>\n    </tr>\n    <tr>\n      <th>2</th>\n      <td>fr</td>\n      <td>0.019</td>\n      <td>0.970</td>\n      <td>0.011</td>\n      <td>-0.9968</td>\n      <td>-1.0</td>\n    </tr>\n    <tr>\n      <th>3</th>\n      <td>en</td>\n      <td>0.083</td>\n      <td>0.869</td>\n      <td>0.048</td>\n      <td>-0.9996</td>\n      <td>-1.0</td>\n    </tr>\n    <tr>\n      <th>4</th>\n      <td>fr</td>\n      <td>0.000</td>\n      <td>0.979</td>\n      <td>0.021</td>\n      <td>0.7293</td>\n      <td>1.0</td>\n    </tr>\n    <tr>\n      <th>...</th>\n      <td>...</td>\n      <td>...</td>\n      <td>...</td>\n      <td>...</td>\n      <td>...</td>\n      <td>...</td>\n    </tr>\n    <tr>\n      <th>93624</th>\n      <td>pt</td>\n      <td>0.000</td>\n      <td>1.000</td>\n      <td>0.000</td>\n      <td>0.0000</td>\n      <td>0.0</td>\n    </tr>\n    <tr>\n      <th>93625</th>\n      <td>en</td>\n      <td>0.108</td>\n      <td>0.728</td>\n      <td>0.164</td>\n      <td>0.9471</td>\n      <td>1.0</td>\n    </tr>\n    <tr>\n      <th>93626</th>\n      <td>en</td>\n      <td>0.116</td>\n      <td>0.777</td>\n      <td>0.107</td>\n      <td>0.6269</td>\n      <td>1.0</td>\n    </tr>\n    <tr>\n      <th>93627</th>\n      <td>en</td>\n      <td>0.062</td>\n      <td>0.802</td>\n      <td>0.137</td>\n      <td>0.9253</td>\n      <td>1.0</td>\n    </tr>\n    <tr>\n      <th>93628</th>\n      <td>es</td>\n      <td>0.056</td>\n      <td>0.928</td>\n      <td>0.016</td>\n      <td>-0.8110</td>\n      <td>-1.0</td>\n    </tr>\n  </tbody>\n</table>\n<p>93629 rows × 6 columns</p>\n</div>"
     },
     "metadata": {},
     "execution_count": 46
    }
   ],
   "source": [
    "without"
   ]
  },
  {
   "cell_type": "code",
   "execution_count": 47,
   "metadata": {},
   "outputs": [
    {
     "output_type": "execute_result",
     "data": {
      "text/plain": [
       "      Language    neg    neu    pos  compound  compound_vader_polarity\n",
       "0           en  0.100  0.782  0.118    0.9997                      1.0\n",
       "1           en  0.125  0.802  0.073   -1.0000                     -1.0\n",
       "2           fr  0.019  0.970  0.011   -0.9968                     -1.0\n",
       "3           en  0.083  0.869  0.048   -0.9996                     -1.0\n",
       "4           fr  0.000  0.979  0.021    0.7293                      1.0\n",
       "...        ...    ...    ...    ...       ...                      ...\n",
       "93624       pt  0.000  1.000  0.000    0.0000                      0.0\n",
       "93625       en  0.108  0.728  0.164    0.9471                      1.0\n",
       "93626       en  0.116  0.777  0.107    0.6269                      1.0\n",
       "93627       en  0.062  0.802  0.137    0.9253                      1.0\n",
       "93628       es  0.056  0.928  0.016   -0.8110                     -1.0\n",
       "\n",
       "[93627 rows x 6 columns]"
      ],
      "text/html": "<div>\n<style scoped>\n    .dataframe tbody tr th:only-of-type {\n        vertical-align: middle;\n    }\n\n    .dataframe tbody tr th {\n        vertical-align: top;\n    }\n\n    .dataframe thead th {\n        text-align: right;\n    }\n</style>\n<table border=\"1\" class=\"dataframe\">\n  <thead>\n    <tr style=\"text-align: right;\">\n      <th></th>\n      <th>Language</th>\n      <th>neg</th>\n      <th>neu</th>\n      <th>pos</th>\n      <th>compound</th>\n      <th>compound_vader_polarity</th>\n    </tr>\n  </thead>\n  <tbody>\n    <tr>\n      <th>0</th>\n      <td>en</td>\n      <td>0.100</td>\n      <td>0.782</td>\n      <td>0.118</td>\n      <td>0.9997</td>\n      <td>1.0</td>\n    </tr>\n    <tr>\n      <th>1</th>\n      <td>en</td>\n      <td>0.125</td>\n      <td>0.802</td>\n      <td>0.073</td>\n      <td>-1.0000</td>\n      <td>-1.0</td>\n    </tr>\n    <tr>\n      <th>2</th>\n      <td>fr</td>\n      <td>0.019</td>\n      <td>0.970</td>\n      <td>0.011</td>\n      <td>-0.9968</td>\n      <td>-1.0</td>\n    </tr>\n    <tr>\n      <th>3</th>\n      <td>en</td>\n      <td>0.083</td>\n      <td>0.869</td>\n      <td>0.048</td>\n      <td>-0.9996</td>\n      <td>-1.0</td>\n    </tr>\n    <tr>\n      <th>4</th>\n      <td>fr</td>\n      <td>0.000</td>\n      <td>0.979</td>\n      <td>0.021</td>\n      <td>0.7293</td>\n      <td>1.0</td>\n    </tr>\n    <tr>\n      <th>...</th>\n      <td>...</td>\n      <td>...</td>\n      <td>...</td>\n      <td>...</td>\n      <td>...</td>\n      <td>...</td>\n    </tr>\n    <tr>\n      <th>93624</th>\n      <td>pt</td>\n      <td>0.000</td>\n      <td>1.000</td>\n      <td>0.000</td>\n      <td>0.0000</td>\n      <td>0.0</td>\n    </tr>\n    <tr>\n      <th>93625</th>\n      <td>en</td>\n      <td>0.108</td>\n      <td>0.728</td>\n      <td>0.164</td>\n      <td>0.9471</td>\n      <td>1.0</td>\n    </tr>\n    <tr>\n      <th>93626</th>\n      <td>en</td>\n      <td>0.116</td>\n      <td>0.777</td>\n      <td>0.107</td>\n      <td>0.6269</td>\n      <td>1.0</td>\n    </tr>\n    <tr>\n      <th>93627</th>\n      <td>en</td>\n      <td>0.062</td>\n      <td>0.802</td>\n      <td>0.137</td>\n      <td>0.9253</td>\n      <td>1.0</td>\n    </tr>\n    <tr>\n      <th>93628</th>\n      <td>es</td>\n      <td>0.056</td>\n      <td>0.928</td>\n      <td>0.016</td>\n      <td>-0.8110</td>\n      <td>-1.0</td>\n    </tr>\n  </tbody>\n</table>\n<p>93627 rows × 6 columns</p>\n</div>"
     },
     "metadata": {},
     "execution_count": 47
    }
   ],
   "source": [
    "cdf = without[(without.index != 40638) & (without.index != 42199)]\n",
    "cdf"
   ]
  },
  {
   "cell_type": "code",
   "execution_count": 48,
   "metadata": {},
   "outputs": [],
   "source": [
    "cdf = cdf.reset_index(drop = True)"
   ]
  },
  {
   "cell_type": "code",
   "execution_count": 49,
   "metadata": {},
   "outputs": [
    {
     "output_type": "execute_result",
     "data": {
      "text/plain": [
       "Index(['id', 'song', 'album', 'artist', 'acousticness_x', 'danceability_x',\n",
       "       'duration_ms_x', 'energy_x', 'instrumentalness_x', 'key_x',\n",
       "       'liveness_x', 'loudness_x', 'mode_x', 'speechiness_x', 'tempo_x',\n",
       "       'time_signature', 'valence_x', 'album_id', 'date', 'date_year',\n",
       "       'duration_ms_d', 'com_f_x', 'acousticness_y', 'artists',\n",
       "       'danceability_y', 'duration_ms_y', 'energy_y', 'explicit',\n",
       "       'instrumentalness_y', 'key_y', 'liveness_y', 'loudness_y', 'mode_y',\n",
       "       'name', 'popularity', 'release_date', 'speechiness_y', 'tempo_y',\n",
       "       'valence_y', 'year', 'release_date_year', 'artists_d', 'com_f_y',\n",
       "       'popularity_dummy', 'lyrics', 'stats_dict_tuple', 'num_sentences',\n",
       "       'num_words', 'num_syllables', 'readability', 'grade', 'richness',\n",
       "       'Language', 'neg', 'neu', 'pos', 'compound', 'compound_vader_polarity'],\n",
       "      dtype='object')"
      ]
     },
     "metadata": {},
     "execution_count": 49
    }
   ],
   "source": [
    "fea.columns"
   ]
  },
  {
   "cell_type": "code",
   "execution_count": 51,
   "metadata": {},
   "outputs": [
    {
     "output_type": "execute_result",
     "data": {
      "text/plain": [
       "93627"
      ]
     },
     "metadata": {},
     "execution_count": 51
    }
   ],
   "source": [
    "(fea.index == cdf.index).sum()"
   ]
  },
  {
   "cell_type": "code",
   "execution_count": 52,
   "metadata": {},
   "outputs": [],
   "source": [
    "for i in cdf.columns:\n",
    "    fea[i] = cdf[i]"
   ]
  },
  {
   "cell_type": "code",
   "execution_count": 53,
   "metadata": {},
   "outputs": [],
   "source": [
    "fea.to_csv('dbqprofjinjin.csv')"
   ]
  },
  {
   "cell_type": "code",
   "execution_count": 31,
   "metadata": {},
   "outputs": [
    {
     "output_type": "execute_result",
     "data": {
      "text/plain": [
       "Language                   0\n",
       "neg                        0\n",
       "neu                        0\n",
       "pos                        0\n",
       "compound                   0\n",
       "compound_vader_polarity    0\n",
       "dtype: int64"
      ]
     },
     "metadata": {},
     "execution_count": 31
    }
   ],
   "source": [
    "without.isna().sum()"
   ]
  },
  {
   "cell_type": "code",
   "execution_count": 34,
   "metadata": {},
   "outputs": [
    {
     "output_type": "execute_result",
     "data": {
      "text/plain": [
       "93627"
      ]
     },
     "metadata": {},
     "execution_count": 34
    }
   ],
   "source": [
    "len(fea)"
   ]
  },
  {
   "cell_type": "code",
   "execution_count": 35,
   "metadata": {},
   "outputs": [
    {
     "output_type": "execute_result",
     "data": {
      "text/plain": [
       "93627"
      ]
     },
     "metadata": {},
     "execution_count": 35
    }
   ],
   "source": [
    "len(cdf)"
   ]
  },
  {
   "cell_type": "code",
   "execution_count": 36,
   "metadata": {},
   "outputs": [
    {
     "output_type": "execute_result",
     "data": {
      "text/plain": [
       "Int64Index([    0,     1,     2,     3,     4,     5,     6,     7,     8,\n",
       "                9,\n",
       "            ...\n",
       "            93617, 93618, 93619, 93620, 93621, 93622, 93623, 93624, 93625,\n",
       "            93626],\n",
       "           dtype='int64', length=93627)"
      ]
     },
     "metadata": {},
     "execution_count": 36
    }
   ],
   "source": [
    "fea.index"
   ]
  },
  {
   "cell_type": "code",
   "execution_count": 38,
   "metadata": {},
   "outputs": [],
   "source": [
    "fea.index = cdf.index"
   ]
  },
  {
   "cell_type": "code",
   "execution_count": 39,
   "metadata": {},
   "outputs": [],
   "source": [
    "for i in cdf.columns:\n",
    "    fea[i] = cdf[i]"
   ]
  },
  {
   "cell_type": "code",
   "execution_count": 41,
   "metadata": {},
   "outputs": [],
   "source": [
    "fea.to_csv('dbqprofjin.csv')"
   ]
  },
  {
   "cell_type": "code",
   "execution_count": 42,
   "metadata": {},
   "outputs": [
    {
     "output_type": "execute_result",
     "data": {
      "text/plain": [
       "id                                                    4fdaOQs7w18AgDHK0XNsAX\n",
       "song                                                                     NaN\n",
       "album                                                                    NaN\n",
       "artist                                                                   NaN\n",
       "acousticness_x                                                           NaN\n",
       "danceability_x                                                           NaN\n",
       "duration_ms_x                                                            NaN\n",
       "energy_x                                                                 NaN\n",
       "instrumentalness_x                                                       NaN\n",
       "key_x                                                                    NaN\n",
       "liveness_x                                                               NaN\n",
       "loudness_x                                                               NaN\n",
       "mode_x                                                                   NaN\n",
       "speechiness_x                                                            NaN\n",
       "tempo_x                                                                  NaN\n",
       "time_signature                                                           NaN\n",
       "valence_x                                                                NaN\n",
       "album_id                                                                 NaN\n",
       "date                                                                     NaN\n",
       "date_year                                                                NaN\n",
       "duration_ms_d                                                            NaN\n",
       "com_f_x                                                                  NaN\n",
       "acousticness_y                                                         0.571\n",
       "artists                                                    ['Jorge Valente']\n",
       "danceability_y                                                         0.638\n",
       "duration_ms_y                                                         152280\n",
       "energy_y                                                               0.339\n",
       "explicit                                                                   0\n",
       "instrumentalness_y                                                   0.00104\n",
       "key_y                                                                      4\n",
       "liveness_y                                                            0.0876\n",
       "loudness_y                                                           -10.973\n",
       "mode_y                                                                     1\n",
       "name                                                                 Amorosa\n",
       "popularity                                                                11\n",
       "release_date                                                            1961\n",
       "speechiness_y                                                         0.0368\n",
       "tempo_y                                                              122.228\n",
       "valence_y                                                              0.541\n",
       "year                                                                    1961\n",
       "release_date_year                                                       1961\n",
       "artists_d                                                      Jorge Valente\n",
       "com_f_y                    Jorge Valente152280Amorosa0.57100000000000010....\n",
       "popularity_dummy                                                           0\n",
       "lyrics                     buenas habíamos visto la vez pasada como una c...\n",
       "stats_dict_tuple           ({'num_sentences': 1, 'num_words': 9073, 'num_...\n",
       "num_sentences                                                            1.0\n",
       "num_words                                                             9073.0\n",
       "num_syllables                                                        15864.0\n",
       "readability                                                        -9150.182\n",
       "grade                                                       College Graduate\n",
       "richness                                                            0.112421\n",
       "Language                                                                  es\n",
       "neg                                                                    0.028\n",
       "neu                                                                    0.955\n",
       "pos                                                                    0.016\n",
       "compound                                                             -0.9965\n",
       "compound_vader_polarity                                                 -1.0\n",
       "Name: 41046, dtype: object"
      ]
     },
     "metadata": {},
     "execution_count": 42
    }
   ],
   "source": [
    "fea.iloc[41045, :]"
   ]
  },
  {
   "cell_type": "code",
   "execution_count": null,
   "metadata": {},
   "outputs": [],
   "source": []
  }
 ]
}