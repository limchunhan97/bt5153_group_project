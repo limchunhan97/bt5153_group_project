{
 "cells": [
  {
   "cell_type": "code",
   "execution_count": 1,
   "metadata": {},
   "outputs": [],
   "source": [
    "# Import lyricsgenius - package on python for interacting with genius API\n",
    "# Import regex package\n",
    "import pandas as pd\n",
    "from datetime import datetime\n",
    "import lyricsgenius as genius\n",
    "import re"
   ]
  },
  {
   "cell_type": "code",
   "execution_count": 35,
   "metadata": {},
   "outputs": [],
   "source": [
    "# Function to access API. Client access token is from my own API Client, feel free to use it\n",
    "api = genius.Genius(\"PbgJeTg-xKbrfM_CGedcImCDqMzRCOdwijY4eklHqvDk-CBLsTtYCpGWsEmvfJ2R\",sleep_time=0.01, verbose=False)\n",
    "# api = genius.Genius(\"_TiZPMIitT8wT5CmorApsU9hP48WAYXlbz_FaIGELhYBFc2iN_hs4g8KEF9UnWdz\",sleep_time=0.01, verbose=False)"
   ]
  },
  {
   "cell_type": "code",
   "execution_count": 36,
   "metadata": {},
   "outputs": [],
   "source": [
    "'''\n",
    "Trial with Love The Way You Lie by Rihanna. \n",
    "Song is a class, with the following methods: album, album_url, featured_artists, lyrics, \n",
    "media, url, writer_artists and year.\n",
    "\n",
    "Under media, there is a value with the key 'native_uri' which seems to provide a spotify track ID, need to verify this.\n",
    "\n",
    "Song lyrics are provided in full\n",
    "\n",
    "'''\n",
    "\n",
    "song_title = 'Love The Way You Lie'\n",
    "artist_name = 'Rihanna'\n",
    "\n",
    "song = api.search_song(song_title, artist=artist_name)\n",
    "#song_album = song.album\n",
    "#song_album_url = song.album_url\n",
    "#featured_artists = song.featured_artists\n",
    "song_lyrics = re.sub(\"\\n\", \" \", song.lyrics) #Remove newline breaks, we won't need them.\n",
    "#song_media = song.media\n",
    "#song_url = song.url\n",
    "#song_writer_artists = song.writer_artists\n",
    "#song_year = song.year"
   ]
  },
  {
   "cell_type": "code",
   "execution_count": 39,
   "metadata": {},
   "outputs": [
    {
     "output_type": "execute_result",
     "data": {
      "text/plain": [
       "\"[Chorus] Ooh, ooh, anytime that you want me Ooh, ooh, anytime that you need me  [Chorus] Ooh, ooh, anytime that you want me to Ooh, ooh, anytime that you need me  [Verse 1: Gregg Rolie] I'm standing here with my arms a mile wide Hoping and praying for you Listen to me and enlighten me, yeah I hope that you need me too, 'cause  [Chorus] Ooh, ooh, anytime that you want me Ooh, ooh, anytime that you need me  [Verse 2: Gregg Rolie] Give me all of your sunshine A spark is all I need To take it away, all of the shadows Well, what more can I say, yeah, yeah  [Bridge: Steve Perry] Oh, anytime at all Anytime at all Anytime at all  [Chorus] Ooh, ooh, anytime that you want me Ooh, ooh, anytime that you need me  [Chorus] Ooh, ooh, anytime that you want me to Ooh, ooh, anytime that you want me  [Chorus] Ooh, ooh, anytime that you need me Ooh, ooh, anytime that you want me to\""
      ]
     },
     "metadata": {},
     "execution_count": 39
    }
   ],
   "source": [
    "song_title = 'Anytime'\n",
    "artist_name = 'Journey'\n",
    "song = api.search_song(song_title, artist=artist_name)\n",
    "song_lyrics = re.sub(\"\\n\", \" \", song.lyrics)\n",
    "song_lyrics"
   ]
  },
  {
   "cell_type": "code",
   "execution_count": 37,
   "metadata": {},
   "outputs": [
    {
     "output_type": "execute_result",
     "data": {
      "text/plain": [
       "lyricsgenius.types.song.Song"
      ]
     },
     "metadata": {},
     "execution_count": 37
    }
   ],
   "source": [
    "type(song)"
   ]
  },
  {
   "cell_type": "code",
   "execution_count": 38,
   "metadata": {},
   "outputs": [
    {
     "output_type": "stream",
     "name": "stdout",
     "text": [
      "[Romanization and Simplified Chinese]\n[English Translation]\n\n\n\n徐佳瑩 The Prayer 言不由衷 歌词\n言不由衷 言不由衷\n當唯美的祝福都不能\n闔上愛的善變\n\n有始有終 只能有始有終\n容我為我們寫一篇禱文\n\n願你永遠安康 願你永遠懂得 飛翔\n願你真的愛一個人 某個人 那個人\n而懂溫暖來自何方\n\n我如此堅強 願我永遠善良\n願我真愛上一個人 某個人 那個人\n是不慌不忙 是心之所向\n\n不知輕重 不知輕重\n那是虔誠如我也不能\n昇華人的懦弱\n\n愛的初衷 顧念愛的初衷\n不變的還是我對愛的愚勇\n\n願你永遠安康 願你永遠懂得 飛翔\n願你真的愛一個人 某個人 那個人\n而懂溫暖來自何方\n\n我如此堅強 願我永遠善良\n願我真愛上一個人 某個人 那個人\n是不慌不忙 是心之所向\n\n願你永遠安康 願你永遠懂得 飛翔\n願你真的愛一個人 某個人 那個人\n而懂溫暖來自何方\n\n我如此堅強 願我永遠善良\n願我真愛上一個人 某個人 那個人\n是不慌不忙 是心之所向\n\n願逝去的愛能 原諒我們\n"
     ]
    }
   ],
   "source": [
    "song_title2 = '言不由衷'\n",
    "artist_name2 = 'lala'\n",
    "song = api.search_song(song_title2, artist=artist_name2)\n",
    "print(song.lyrics)"
   ]
  },
  {
   "cell_type": "code",
   "execution_count": 6,
   "metadata": {},
   "outputs": [
    {
     "output_type": "stream",
     "name": "stdout",
     "text": [
      "[Chorus: Rihanna] Just gonna stand there and watch me burn? Well, that's all right because I like the way it hurts Just gonna stand there and hear me cry? Well, that's all right because I love the way you lie I love the way you lie  [Verse 1: Eminem] I can't tell you what it really is, I can only tell you what it feels like And right now, there's a steel knife in my windpipe I can't breathe, but I still fight while I can fight As long as the wrong feels right, it's like I'm in flight High off her love, drunk from her hate It's like I'm huffin' paint and I love her, the more I suffer, I suffocate And right before I'm about to drown, she resuscitates me She fuckin' hates me, and I love it — \"Wait! Where you going?\" — \"I'm leaving you!\" — \"No, you ain't! Come back!\" — We're runnin' right back, here we go again It's so insane, 'cause when it's goin' good, it's goin' great I'm Superman with the wind at his back, she's Lois Lane But when it's bad, it's awful, I feel so ashamed I snapped, \"Who's that dude?\", I don't even know his name I laid hands on her, I'll never stoop so low again I guess I don't know my own strength  [Chorus: Rihanna] Just gonna stand there and watch me burn? Well, that's all right because I like the way it hurts Just gonna stand there and hear me cry? Well, that's all right because I love the way you lie I love the way you lie I love the way you lie  [Verse 2: Eminem] You ever love somebody so much you can barely breathe when you're with 'em? You meet, and neither one of you even know what hit 'em Got that warm fuzzy feelin', yeah, them chills, used to get 'em Now you're gettin' fuckin' sick of lookin' at 'em? You swore you'd never hit 'em, never do nothin' to hurt 'em Now you're in each other's face Spewin' venom in your words when you spit 'em You push, pull each other's hair, scratch, claw, bit 'em Throw 'em down, pin 'em So lost in the moments when you're in 'em It's the rage that took over, it controls you both So they say you're best to go your separate ways Guess that they don't know ya 'Cause today, that was yesterday, yesterday is over It's a different day, sound like broken records playin' over But you promised her, next time you'll show restraint You don't get another chance, life is no Nintendo game But you lied again Now you get to watch her leave out the window Guess that's why they call it window pane  [Chorus: Rihanna] Just gonna stand there and watch me burn? Well, that's all right because I like the way it hurts Just gonna stand there and hear me cry? Well, that's all right because I love the way you lie I love the way you lie I love the way you lie  [Verse 3: Eminem] Now, I know we said things, did things that we didn't mean Then we fall back into the same patterns, same routine But your temper's just as bad as mine is, you're the same as me When it comes to love you're just as blinded, baby, please Come back, it wasn't you, baby, it was me Maybe our relationship isn't as crazy as it seems Maybe that's what happens when a tornado meets a volcano All I know is I love you too much to walk away though Come inside, pick up your bags off the sidewalk Don't you hear sincerity in my voice when I talk? Told you this is my fault, look me in the eyeball Next time I'm pissed, I'll aim my fist at the drywall Next time? There won't be no next time! I apologize, even though I know it's lies I'm tired of the games, I just want her back, I know I'm a liar If she ever tries to fuckin' leave again, I'ma tie her To the bed and set this house on fire, just gonna—  [Chorus: Rihanna] Just gonna stand there and watch me burn? Well, that's all right because I like the way it hurts Just gonna stand there and hear me cry? Well, that's all right because I love the way you lie I love the way you lie I love the way you lie\n"
     ]
    }
   ],
   "source": [
    "print(song_lyrics)"
   ]
  },
  {
   "cell_type": "code",
   "execution_count": null,
   "metadata": {},
   "outputs": [],
   "source": []
  },
  {
   "source": [
    "## scrap"
   ],
   "cell_type": "markdown",
   "metadata": {}
  },
  {
   "cell_type": "code",
   "execution_count": 7,
   "metadata": {},
   "outputs": [],
   "source": [
    "import pandas as pd\n",
    "from tqdm import tqdm\n",
    "pd.set_option('display.max_columns',None)"
   ]
  },
  {
   "cell_type": "code",
   "execution_count": 16,
   "metadata": {},
   "outputs": [],
   "source": [
    "df = pd.read_csv('combine_lyric.csv', index_col = 0)"
   ]
  },
  {
   "cell_type": "code",
   "execution_count": 9,
   "metadata": {},
   "outputs": [
    {
     "output_type": "execute_result",
     "data": {
      "text/plain": [
       "   Unnamed: 0                      id                                    song  \\\n",
       "0         0.0  000G1xMMuwxNHmwVsBdtj1                    Will Anything Happen   \n",
       "1         1.0  000x2qE0ZI3hodeVrnJK8A  (Love Me Like Music) I'll Be Your Song   \n",
       "2         2.0  005lwxGU1tms6HGELIcUv9                         I Kissed A Girl   \n",
       "3         4.0  008Nf4LgKqV8w8VD66fNmY                                 Quitter   \n",
       "4         5.0  008ndXyCzkkN9fvJsfqkDS                            Rumor Has It   \n",
       "\n",
       "             album         artist  acousticness_x  danceability_x  \\\n",
       "0   Parallel Lines        Blondie        0.014800           0.256   \n",
       "1  Dreamboat Annie          Heart        0.339000           0.507   \n",
       "2  One Of The Boys     Katy Perry        0.002230           0.699   \n",
       "3       Rubberneck        Toadies        0.000137           0.499   \n",
       "4     Rumor Has It  Reba McEntire        0.395000           0.484   \n",
       "\n",
       "   duration_ms_x  energy_x  instrumentalness_x  key_x  liveness_x  loudness_x  \\\n",
       "0       182347.0     0.882            0.000194    2.0       0.090      -4.926   \n",
       "1       200627.0     0.356            0.000000    0.0       0.180     -14.240   \n",
       "2       179640.0     0.760            0.000000    5.0       0.132      -3.173   \n",
       "3       213907.0     0.892            0.464000   11.0       0.190      -9.277   \n",
       "4       228973.0     0.361            0.000033    9.0       0.104     -11.236   \n",
       "\n",
       "   mode_x  speechiness_x  tempo_x  time_signature  valence_x  \\\n",
       "0     1.0         0.0721  191.213             4.0      0.528   \n",
       "1     1.0         0.0306  134.248             4.0      0.472   \n",
       "2     1.0         0.0677  129.996             4.0      0.696   \n",
       "3     1.0         0.0437  146.858             4.0      0.619   \n",
       "4     1.0         0.0255   84.895             4.0      0.215   \n",
       "\n",
       "                 album_id       date  date_year  duration_ms_d  \\\n",
       "0  4M6s2jbhKWEcOdXZ8WiHts  1978/9/23     1978.0       182347.0   \n",
       "1  2N0AgtWbCmVoNUl2GN1opH       1975     1975.0       200627.0   \n",
       "2  0r2BUyPTmpbfuz4rR39mLl  2008/6/17     2008.0       179640.0   \n",
       "3  7tFTqVGHceSlXOaz8IylBN   1994/1/1     1994.0       213907.0   \n",
       "4  5XrjQp24z8Pr5dsB1SnsIQ   1990/1/1     1990.0       228973.0   \n",
       "\n",
       "                                               com_x  \\\n",
       "0              Blondie182347Will Anything Happen1978   \n",
       "1  Heart200627(Love Me Like Music) I'll Be Your S...   \n",
       "2                Katy Perry179640I Kissed A Girl2008   \n",
       "3                           Toadies213907Quitter1994   \n",
       "4                Reba McEntire228973Rumor Has It1990   \n",
       "\n",
       "                                             com_f_x  acousticness_y  \\\n",
       "0  Blondie182347Will Anything Happen0.01480.2560....        0.013100   \n",
       "1  Heart200627(Love Me Like Music) I'll Be Your S...        0.339000   \n",
       "2  Katy Perry179640I Kissed A Girl0.002230.699000...        0.002230   \n",
       "3  Toadies213907Quitter0.000137000000000000020.49...        0.000093   \n",
       "4  Reba McEntire228973Rumor Has It0.3950.4840.361...        0.368000   \n",
       "\n",
       "     artists  danceability_y  duration_ms_y  energy_y  explicit  \\\n",
       "0        ond           0.256       182347.0     0.895       0.0   \n",
       "1          a           0.507       200627.0     0.356       0.0   \n",
       "2     ty Per           0.699       179640.0     0.760       0.0   \n",
       "3        adi           0.487       213907.0     0.920       0.0   \n",
       "4  ba McEnti           0.374       228973.0     0.335       0.0   \n",
       "\n",
       "   instrumentalness_y  key_y  liveness_y  loudness_y  mode_y  \\\n",
       "0            0.000106    2.0      0.0821      -4.860     1.0   \n",
       "1            0.000000    0.0      0.1800     -14.240     1.0   \n",
       "2            0.000000    5.0      0.1320      -3.173     1.0   \n",
       "3            0.328000   11.0      0.2160      -9.344     1.0   \n",
       "4            0.000004    9.0      0.1050     -11.291     1.0   \n",
       "\n",
       "                                     name  popularity release_date  \\\n",
       "0                    Will Anything Happen        29.0    1978/9/23   \n",
       "1  (Love Me Like Music) I'll Be Your Song        35.0         1975   \n",
       "2                         I Kissed A Girl        68.0    2008/6/17   \n",
       "3                                 Quitter        30.0     1994/1/1   \n",
       "4                            Rumor Has It        36.0     1990/1/1   \n",
       "\n",
       "   speechiness_y  tempo_y  valence_y    year  release_date_year  \\\n",
       "0         0.0707  191.307      0.555  1978.0             1978.0   \n",
       "1         0.0306  134.248      0.472  1975.0             1975.0   \n",
       "2         0.0677  129.996      0.696  2008.0             2008.0   \n",
       "3         0.0408  146.844      0.584  1994.0             1994.0   \n",
       "4         0.0276  170.297      0.268  1990.0             1990.0   \n",
       "\n",
       "                                               com_y  \\\n",
       "0              Blondie182347Will Anything Happen1978   \n",
       "1  Heart200627(Love Me Like Music) I'll Be Your S...   \n",
       "2                Katy Perry179640I Kissed A Girl2008   \n",
       "3                           Toadies213907Quitter1994   \n",
       "4                Reba McEntire228973Rumor Has It1990   \n",
       "\n",
       "                                             com_f_y  popularity_dummy  \\\n",
       "0  ond182347Will Anything Happen0.01310.2560.8950...               1.0   \n",
       "1  a200627(Love Me Like Music) I'll Be Your Song0...               1.0   \n",
       "2  ty Per179640I Kissed A Girl0.002230.6990000000...               1.0   \n",
       "3  adi213907Quitter9.26e-050.4870.9200.328110.216...               1.0   \n",
       "4  ba McEnti228973Rumor Has It0.3680.3740.33503.6...               1.0   \n",
       "\n",
       "                                              lyrics  \n",
       "0  [Verse 1] I always said you could make it I kn...  \n",
       "1  These have been quiet days When was the last t...  \n",
       "2  [Verse 1] This was never the way I planned Not...  \n",
       "3  Didn't I give you everything Didn't I take you...  \n",
       "4  [Verse 1] I overheard a conversation, your nam...  "
      ],
      "text/html": "<div>\n<style scoped>\n    .dataframe tbody tr th:only-of-type {\n        vertical-align: middle;\n    }\n\n    .dataframe tbody tr th {\n        vertical-align: top;\n    }\n\n    .dataframe thead th {\n        text-align: right;\n    }\n</style>\n<table border=\"1\" class=\"dataframe\">\n  <thead>\n    <tr style=\"text-align: right;\">\n      <th></th>\n      <th>Unnamed: 0</th>\n      <th>id</th>\n      <th>song</th>\n      <th>album</th>\n      <th>artist</th>\n      <th>acousticness_x</th>\n      <th>danceability_x</th>\n      <th>duration_ms_x</th>\n      <th>energy_x</th>\n      <th>instrumentalness_x</th>\n      <th>key_x</th>\n      <th>liveness_x</th>\n      <th>loudness_x</th>\n      <th>mode_x</th>\n      <th>speechiness_x</th>\n      <th>tempo_x</th>\n      <th>time_signature</th>\n      <th>valence_x</th>\n      <th>album_id</th>\n      <th>date</th>\n      <th>date_year</th>\n      <th>duration_ms_d</th>\n      <th>com_x</th>\n      <th>com_f_x</th>\n      <th>acousticness_y</th>\n      <th>artists</th>\n      <th>danceability_y</th>\n      <th>duration_ms_y</th>\n      <th>energy_y</th>\n      <th>explicit</th>\n      <th>instrumentalness_y</th>\n      <th>key_y</th>\n      <th>liveness_y</th>\n      <th>loudness_y</th>\n      <th>mode_y</th>\n      <th>name</th>\n      <th>popularity</th>\n      <th>release_date</th>\n      <th>speechiness_y</th>\n      <th>tempo_y</th>\n      <th>valence_y</th>\n      <th>year</th>\n      <th>release_date_year</th>\n      <th>com_y</th>\n      <th>com_f_y</th>\n      <th>popularity_dummy</th>\n      <th>lyrics</th>\n    </tr>\n  </thead>\n  <tbody>\n    <tr>\n      <th>0</th>\n      <td>0.0</td>\n      <td>000G1xMMuwxNHmwVsBdtj1</td>\n      <td>Will Anything Happen</td>\n      <td>Parallel Lines</td>\n      <td>Blondie</td>\n      <td>0.014800</td>\n      <td>0.256</td>\n      <td>182347.0</td>\n      <td>0.882</td>\n      <td>0.000194</td>\n      <td>2.0</td>\n      <td>0.090</td>\n      <td>-4.926</td>\n      <td>1.0</td>\n      <td>0.0721</td>\n      <td>191.213</td>\n      <td>4.0</td>\n      <td>0.528</td>\n      <td>4M6s2jbhKWEcOdXZ8WiHts</td>\n      <td>1978/9/23</td>\n      <td>1978.0</td>\n      <td>182347.0</td>\n      <td>Blondie182347Will Anything Happen1978</td>\n      <td>Blondie182347Will Anything Happen0.01480.2560....</td>\n      <td>0.013100</td>\n      <td>ond</td>\n      <td>0.256</td>\n      <td>182347.0</td>\n      <td>0.895</td>\n      <td>0.0</td>\n      <td>0.000106</td>\n      <td>2.0</td>\n      <td>0.0821</td>\n      <td>-4.860</td>\n      <td>1.0</td>\n      <td>Will Anything Happen</td>\n      <td>29.0</td>\n      <td>1978/9/23</td>\n      <td>0.0707</td>\n      <td>191.307</td>\n      <td>0.555</td>\n      <td>1978.0</td>\n      <td>1978.0</td>\n      <td>Blondie182347Will Anything Happen1978</td>\n      <td>ond182347Will Anything Happen0.01310.2560.8950...</td>\n      <td>1.0</td>\n      <td>[Verse 1] I always said you could make it I kn...</td>\n    </tr>\n    <tr>\n      <th>1</th>\n      <td>1.0</td>\n      <td>000x2qE0ZI3hodeVrnJK8A</td>\n      <td>(Love Me Like Music) I'll Be Your Song</td>\n      <td>Dreamboat Annie</td>\n      <td>Heart</td>\n      <td>0.339000</td>\n      <td>0.507</td>\n      <td>200627.0</td>\n      <td>0.356</td>\n      <td>0.000000</td>\n      <td>0.0</td>\n      <td>0.180</td>\n      <td>-14.240</td>\n      <td>1.0</td>\n      <td>0.0306</td>\n      <td>134.248</td>\n      <td>4.0</td>\n      <td>0.472</td>\n      <td>2N0AgtWbCmVoNUl2GN1opH</td>\n      <td>1975</td>\n      <td>1975.0</td>\n      <td>200627.0</td>\n      <td>Heart200627(Love Me Like Music) I'll Be Your S...</td>\n      <td>Heart200627(Love Me Like Music) I'll Be Your S...</td>\n      <td>0.339000</td>\n      <td>a</td>\n      <td>0.507</td>\n      <td>200627.0</td>\n      <td>0.356</td>\n      <td>0.0</td>\n      <td>0.000000</td>\n      <td>0.0</td>\n      <td>0.1800</td>\n      <td>-14.240</td>\n      <td>1.0</td>\n      <td>(Love Me Like Music) I'll Be Your Song</td>\n      <td>35.0</td>\n      <td>1975</td>\n      <td>0.0306</td>\n      <td>134.248</td>\n      <td>0.472</td>\n      <td>1975.0</td>\n      <td>1975.0</td>\n      <td>Heart200627(Love Me Like Music) I'll Be Your S...</td>\n      <td>a200627(Love Me Like Music) I'll Be Your Song0...</td>\n      <td>1.0</td>\n      <td>These have been quiet days When was the last t...</td>\n    </tr>\n    <tr>\n      <th>2</th>\n      <td>2.0</td>\n      <td>005lwxGU1tms6HGELIcUv9</td>\n      <td>I Kissed A Girl</td>\n      <td>One Of The Boys</td>\n      <td>Katy Perry</td>\n      <td>0.002230</td>\n      <td>0.699</td>\n      <td>179640.0</td>\n      <td>0.760</td>\n      <td>0.000000</td>\n      <td>5.0</td>\n      <td>0.132</td>\n      <td>-3.173</td>\n      <td>1.0</td>\n      <td>0.0677</td>\n      <td>129.996</td>\n      <td>4.0</td>\n      <td>0.696</td>\n      <td>0r2BUyPTmpbfuz4rR39mLl</td>\n      <td>2008/6/17</td>\n      <td>2008.0</td>\n      <td>179640.0</td>\n      <td>Katy Perry179640I Kissed A Girl2008</td>\n      <td>Katy Perry179640I Kissed A Girl0.002230.699000...</td>\n      <td>0.002230</td>\n      <td>ty Per</td>\n      <td>0.699</td>\n      <td>179640.0</td>\n      <td>0.760</td>\n      <td>0.0</td>\n      <td>0.000000</td>\n      <td>5.0</td>\n      <td>0.1320</td>\n      <td>-3.173</td>\n      <td>1.0</td>\n      <td>I Kissed A Girl</td>\n      <td>68.0</td>\n      <td>2008/6/17</td>\n      <td>0.0677</td>\n      <td>129.996</td>\n      <td>0.696</td>\n      <td>2008.0</td>\n      <td>2008.0</td>\n      <td>Katy Perry179640I Kissed A Girl2008</td>\n      <td>ty Per179640I Kissed A Girl0.002230.6990000000...</td>\n      <td>1.0</td>\n      <td>[Verse 1] This was never the way I planned Not...</td>\n    </tr>\n    <tr>\n      <th>3</th>\n      <td>4.0</td>\n      <td>008Nf4LgKqV8w8VD66fNmY</td>\n      <td>Quitter</td>\n      <td>Rubberneck</td>\n      <td>Toadies</td>\n      <td>0.000137</td>\n      <td>0.499</td>\n      <td>213907.0</td>\n      <td>0.892</td>\n      <td>0.464000</td>\n      <td>11.0</td>\n      <td>0.190</td>\n      <td>-9.277</td>\n      <td>1.0</td>\n      <td>0.0437</td>\n      <td>146.858</td>\n      <td>4.0</td>\n      <td>0.619</td>\n      <td>7tFTqVGHceSlXOaz8IylBN</td>\n      <td>1994/1/1</td>\n      <td>1994.0</td>\n      <td>213907.0</td>\n      <td>Toadies213907Quitter1994</td>\n      <td>Toadies213907Quitter0.000137000000000000020.49...</td>\n      <td>0.000093</td>\n      <td>adi</td>\n      <td>0.487</td>\n      <td>213907.0</td>\n      <td>0.920</td>\n      <td>0.0</td>\n      <td>0.328000</td>\n      <td>11.0</td>\n      <td>0.2160</td>\n      <td>-9.344</td>\n      <td>1.0</td>\n      <td>Quitter</td>\n      <td>30.0</td>\n      <td>1994/1/1</td>\n      <td>0.0408</td>\n      <td>146.844</td>\n      <td>0.584</td>\n      <td>1994.0</td>\n      <td>1994.0</td>\n      <td>Toadies213907Quitter1994</td>\n      <td>adi213907Quitter9.26e-050.4870.9200.328110.216...</td>\n      <td>1.0</td>\n      <td>Didn't I give you everything Didn't I take you...</td>\n    </tr>\n    <tr>\n      <th>4</th>\n      <td>5.0</td>\n      <td>008ndXyCzkkN9fvJsfqkDS</td>\n      <td>Rumor Has It</td>\n      <td>Rumor Has It</td>\n      <td>Reba McEntire</td>\n      <td>0.395000</td>\n      <td>0.484</td>\n      <td>228973.0</td>\n      <td>0.361</td>\n      <td>0.000033</td>\n      <td>9.0</td>\n      <td>0.104</td>\n      <td>-11.236</td>\n      <td>1.0</td>\n      <td>0.0255</td>\n      <td>84.895</td>\n      <td>4.0</td>\n      <td>0.215</td>\n      <td>5XrjQp24z8Pr5dsB1SnsIQ</td>\n      <td>1990/1/1</td>\n      <td>1990.0</td>\n      <td>228973.0</td>\n      <td>Reba McEntire228973Rumor Has It1990</td>\n      <td>Reba McEntire228973Rumor Has It0.3950.4840.361...</td>\n      <td>0.368000</td>\n      <td>ba McEnti</td>\n      <td>0.374</td>\n      <td>228973.0</td>\n      <td>0.335</td>\n      <td>0.0</td>\n      <td>0.000004</td>\n      <td>9.0</td>\n      <td>0.1050</td>\n      <td>-11.291</td>\n      <td>1.0</td>\n      <td>Rumor Has It</td>\n      <td>36.0</td>\n      <td>1990/1/1</td>\n      <td>0.0276</td>\n      <td>170.297</td>\n      <td>0.268</td>\n      <td>1990.0</td>\n      <td>1990.0</td>\n      <td>Reba McEntire228973Rumor Has It1990</td>\n      <td>ba McEnti228973Rumor Has It0.3680.3740.33503.6...</td>\n      <td>1.0</td>\n      <td>[Verse 1] I overheard a conversation, your nam...</td>\n    </tr>\n  </tbody>\n</table>\n</div>"
     },
     "metadata": {},
     "execution_count": 9
    }
   ],
   "source": [
    "df.head()"
   ]
  },
  {
   "cell_type": "code",
   "execution_count": 9,
   "metadata": {},
   "outputs": [],
   "source": [
    "# %%time\n",
    "# noresult = 0\n",
    "# for i in tqdm(range(0, 1000)):\n",
    "#     song_title = df.loc[i, 'song']\n",
    "#     artist_name = df.loc[i, 'artist']\n",
    "\n",
    "#     song = api.search_song(song_title, artist=artist_name)\n",
    "#     try:\n",
    "#         song_lyrics = re.sub(\"\\n\", \" \", song.lyrics) #Remove newline breaks, we won't need them.\n",
    "#         df.loc[i, 'lyrics'] = song_lyrics\n",
    "#     except:\n",
    "#         noresult += 1"
   ]
  },
  {
   "cell_type": "code",
   "execution_count": 27,
   "metadata": {},
   "outputs": [
    {
     "output_type": "execute_result",
     "data": {
      "text/plain": [
       "0               Blondie\n",
       "1                 Heart\n",
       "2            Katy Perry\n",
       "3               Toadies\n",
       "4         Reba McEntire\n",
       "              ...      \n",
       "163718              NaN\n",
       "163719              NaN\n",
       "163720              NaN\n",
       "163721              NaN\n",
       "163722              NaN\n",
       "Name: artist, Length: 163723, dtype: object"
      ]
     },
     "metadata": {},
     "execution_count": 27
    }
   ],
   "source": [
    "df.artist"
   ]
  },
  {
   "cell_type": "code",
   "execution_count": 12,
   "metadata": {},
   "outputs": [
    {
     "output_type": "stream",
     "name": "stderr",
     "text": [
      "\n",
      "\n",
      "\n",
      "\n",
      "  0%|          | 0/25 [00:00<?, ?it/s]\u001b[A\u001b[A\u001b[A\u001b[A\n",
      "\n",
      "\n",
      "\n",
      "  4%|▍         | 1/25 [04:55<1:58:07, 295.31s/it]\u001b[A\u001b[A\u001b[A\u001b[A\n",
      "\n",
      "\n",
      "\n",
      "  8%|▊         | 2/25 [09:40<1:52:01, 292.25s/it]\u001b[A\u001b[A\u001b[A\u001b[A\n",
      "\n",
      "\n",
      "\n",
      " 12%|█▏        | 3/25 [14:27<1:46:35, 290.72s/it]\u001b[A\u001b[A\u001b[A\u001b[A\n",
      "\n",
      "\n",
      "\n",
      " 16%|█▌        | 4/25 [19:15<1:41:29, 289.96s/it]\u001b[A\u001b[A\u001b[A\u001b[A\n",
      "\n",
      "\n",
      "\n",
      " 20%|██        | 5/25 [24:08<1:36:53, 290.70s/it]\u001b[A\u001b[A\u001b[A\u001b[A"
     ]
    },
    {
     "output_type": "error",
     "ename": "Timeout",
     "evalue": "Request timed out:\nHTTPSConnectionPool(host='genius.com', port=443): Read timed out. (read timeout=5)",
     "traceback": [
      "\u001b[0;31m---------------------------------------------------------------------------\u001b[0m",
      "\u001b[0;31mtimeout\u001b[0m                                   Traceback (most recent call last)",
      "\u001b[0;32m~/opt/anaconda3/lib/python3.7/site-packages/urllib3/connectionpool.py\u001b[0m in \u001b[0;36m_make_request\u001b[0;34m(self, conn, method, url, timeout, chunked, **httplib_request_kw)\u001b[0m\n\u001b[1;32m    420\u001b[0m                     \u001b[0;31m# Otherwise it looks like a bug in the code.\u001b[0m\u001b[0;34m\u001b[0m\u001b[0;34m\u001b[0m\u001b[0;34m\u001b[0m\u001b[0m\n\u001b[0;32m--> 421\u001b[0;31m                     \u001b[0msix\u001b[0m\u001b[0;34m.\u001b[0m\u001b[0mraise_from\u001b[0m\u001b[0;34m(\u001b[0m\u001b[0me\u001b[0m\u001b[0;34m,\u001b[0m \u001b[0;32mNone\u001b[0m\u001b[0;34m)\u001b[0m\u001b[0;34m\u001b[0m\u001b[0;34m\u001b[0m\u001b[0m\n\u001b[0m\u001b[1;32m    422\u001b[0m         \u001b[0;32mexcept\u001b[0m \u001b[0;34m(\u001b[0m\u001b[0mSocketTimeout\u001b[0m\u001b[0;34m,\u001b[0m \u001b[0mBaseSSLError\u001b[0m\u001b[0;34m,\u001b[0m \u001b[0mSocketError\u001b[0m\u001b[0;34m)\u001b[0m \u001b[0;32mas\u001b[0m \u001b[0me\u001b[0m\u001b[0;34m:\u001b[0m\u001b[0;34m\u001b[0m\u001b[0;34m\u001b[0m\u001b[0m\n",
      "\u001b[0;32m~/opt/anaconda3/lib/python3.7/site-packages/urllib3/packages/six.py\u001b[0m in \u001b[0;36mraise_from\u001b[0;34m(value, from_value)\u001b[0m\n",
      "\u001b[0;32m~/opt/anaconda3/lib/python3.7/site-packages/urllib3/connectionpool.py\u001b[0m in \u001b[0;36m_make_request\u001b[0;34m(self, conn, method, url, timeout, chunked, **httplib_request_kw)\u001b[0m\n\u001b[1;32m    415\u001b[0m                 \u001b[0;32mtry\u001b[0m\u001b[0;34m:\u001b[0m\u001b[0;34m\u001b[0m\u001b[0;34m\u001b[0m\u001b[0m\n\u001b[0;32m--> 416\u001b[0;31m                     \u001b[0mhttplib_response\u001b[0m \u001b[0;34m=\u001b[0m \u001b[0mconn\u001b[0m\u001b[0;34m.\u001b[0m\u001b[0mgetresponse\u001b[0m\u001b[0;34m(\u001b[0m\u001b[0;34m)\u001b[0m\u001b[0;34m\u001b[0m\u001b[0;34m\u001b[0m\u001b[0m\n\u001b[0m\u001b[1;32m    417\u001b[0m                 \u001b[0;32mexcept\u001b[0m \u001b[0mBaseException\u001b[0m \u001b[0;32mas\u001b[0m \u001b[0me\u001b[0m\u001b[0;34m:\u001b[0m\u001b[0;34m\u001b[0m\u001b[0;34m\u001b[0m\u001b[0m\n",
      "\u001b[0;32m~/opt/anaconda3/lib/python3.7/http/client.py\u001b[0m in \u001b[0;36mgetresponse\u001b[0;34m(self)\u001b[0m\n\u001b[1;32m   1343\u001b[0m             \u001b[0;32mtry\u001b[0m\u001b[0;34m:\u001b[0m\u001b[0;34m\u001b[0m\u001b[0;34m\u001b[0m\u001b[0m\n\u001b[0;32m-> 1344\u001b[0;31m                 \u001b[0mresponse\u001b[0m\u001b[0;34m.\u001b[0m\u001b[0mbegin\u001b[0m\u001b[0;34m(\u001b[0m\u001b[0;34m)\u001b[0m\u001b[0;34m\u001b[0m\u001b[0;34m\u001b[0m\u001b[0m\n\u001b[0m\u001b[1;32m   1345\u001b[0m             \u001b[0;32mexcept\u001b[0m \u001b[0mConnectionError\u001b[0m\u001b[0;34m:\u001b[0m\u001b[0;34m\u001b[0m\u001b[0;34m\u001b[0m\u001b[0m\n",
      "\u001b[0;32m~/opt/anaconda3/lib/python3.7/http/client.py\u001b[0m in \u001b[0;36mbegin\u001b[0;34m(self)\u001b[0m\n\u001b[1;32m    305\u001b[0m         \u001b[0;32mwhile\u001b[0m \u001b[0;32mTrue\u001b[0m\u001b[0;34m:\u001b[0m\u001b[0;34m\u001b[0m\u001b[0;34m\u001b[0m\u001b[0m\n\u001b[0;32m--> 306\u001b[0;31m             \u001b[0mversion\u001b[0m\u001b[0;34m,\u001b[0m \u001b[0mstatus\u001b[0m\u001b[0;34m,\u001b[0m \u001b[0mreason\u001b[0m \u001b[0;34m=\u001b[0m \u001b[0mself\u001b[0m\u001b[0;34m.\u001b[0m\u001b[0m_read_status\u001b[0m\u001b[0;34m(\u001b[0m\u001b[0;34m)\u001b[0m\u001b[0;34m\u001b[0m\u001b[0;34m\u001b[0m\u001b[0m\n\u001b[0m\u001b[1;32m    307\u001b[0m             \u001b[0;32mif\u001b[0m \u001b[0mstatus\u001b[0m \u001b[0;34m!=\u001b[0m \u001b[0mCONTINUE\u001b[0m\u001b[0;34m:\u001b[0m\u001b[0;34m\u001b[0m\u001b[0;34m\u001b[0m\u001b[0m\n",
      "\u001b[0;32m~/opt/anaconda3/lib/python3.7/http/client.py\u001b[0m in \u001b[0;36m_read_status\u001b[0;34m(self)\u001b[0m\n\u001b[1;32m    266\u001b[0m     \u001b[0;32mdef\u001b[0m \u001b[0m_read_status\u001b[0m\u001b[0;34m(\u001b[0m\u001b[0mself\u001b[0m\u001b[0;34m)\u001b[0m\u001b[0;34m:\u001b[0m\u001b[0;34m\u001b[0m\u001b[0;34m\u001b[0m\u001b[0m\n\u001b[0;32m--> 267\u001b[0;31m         \u001b[0mline\u001b[0m \u001b[0;34m=\u001b[0m \u001b[0mstr\u001b[0m\u001b[0;34m(\u001b[0m\u001b[0mself\u001b[0m\u001b[0;34m.\u001b[0m\u001b[0mfp\u001b[0m\u001b[0;34m.\u001b[0m\u001b[0mreadline\u001b[0m\u001b[0;34m(\u001b[0m\u001b[0m_MAXLINE\u001b[0m \u001b[0;34m+\u001b[0m \u001b[0;36m1\u001b[0m\u001b[0;34m)\u001b[0m\u001b[0;34m,\u001b[0m \u001b[0;34m\"iso-8859-1\"\u001b[0m\u001b[0;34m)\u001b[0m\u001b[0;34m\u001b[0m\u001b[0;34m\u001b[0m\u001b[0m\n\u001b[0m\u001b[1;32m    268\u001b[0m         \u001b[0;32mif\u001b[0m \u001b[0mlen\u001b[0m\u001b[0;34m(\u001b[0m\u001b[0mline\u001b[0m\u001b[0;34m)\u001b[0m \u001b[0;34m>\u001b[0m \u001b[0m_MAXLINE\u001b[0m\u001b[0;34m:\u001b[0m\u001b[0;34m\u001b[0m\u001b[0;34m\u001b[0m\u001b[0m\n",
      "\u001b[0;32m~/opt/anaconda3/lib/python3.7/socket.py\u001b[0m in \u001b[0;36mreadinto\u001b[0;34m(self, b)\u001b[0m\n\u001b[1;32m    588\u001b[0m             \u001b[0;32mtry\u001b[0m\u001b[0;34m:\u001b[0m\u001b[0;34m\u001b[0m\u001b[0;34m\u001b[0m\u001b[0m\n\u001b[0;32m--> 589\u001b[0;31m                 \u001b[0;32mreturn\u001b[0m \u001b[0mself\u001b[0m\u001b[0;34m.\u001b[0m\u001b[0m_sock\u001b[0m\u001b[0;34m.\u001b[0m\u001b[0mrecv_into\u001b[0m\u001b[0;34m(\u001b[0m\u001b[0mb\u001b[0m\u001b[0;34m)\u001b[0m\u001b[0;34m\u001b[0m\u001b[0;34m\u001b[0m\u001b[0m\n\u001b[0m\u001b[1;32m    590\u001b[0m             \u001b[0;32mexcept\u001b[0m \u001b[0mtimeout\u001b[0m\u001b[0;34m:\u001b[0m\u001b[0;34m\u001b[0m\u001b[0;34m\u001b[0m\u001b[0m\n",
      "\u001b[0;32m~/opt/anaconda3/lib/python3.7/site-packages/urllib3/contrib/pyopenssl.py\u001b[0m in \u001b[0;36mrecv_into\u001b[0;34m(self, *args, **kwargs)\u001b[0m\n\u001b[1;32m    325\u001b[0m             \u001b[0;32mif\u001b[0m \u001b[0;32mnot\u001b[0m \u001b[0mutil\u001b[0m\u001b[0;34m.\u001b[0m\u001b[0mwait_for_read\u001b[0m\u001b[0;34m(\u001b[0m\u001b[0mself\u001b[0m\u001b[0;34m.\u001b[0m\u001b[0msocket\u001b[0m\u001b[0;34m,\u001b[0m \u001b[0mself\u001b[0m\u001b[0;34m.\u001b[0m\u001b[0msocket\u001b[0m\u001b[0;34m.\u001b[0m\u001b[0mgettimeout\u001b[0m\u001b[0;34m(\u001b[0m\u001b[0;34m)\u001b[0m\u001b[0;34m)\u001b[0m\u001b[0;34m:\u001b[0m\u001b[0;34m\u001b[0m\u001b[0;34m\u001b[0m\u001b[0m\n\u001b[0;32m--> 326\u001b[0;31m                 \u001b[0;32mraise\u001b[0m \u001b[0mtimeout\u001b[0m\u001b[0;34m(\u001b[0m\u001b[0;34m\"The read operation timed out\"\u001b[0m\u001b[0;34m)\u001b[0m\u001b[0;34m\u001b[0m\u001b[0;34m\u001b[0m\u001b[0m\n\u001b[0m\u001b[1;32m    327\u001b[0m             \u001b[0;32melse\u001b[0m\u001b[0;34m:\u001b[0m\u001b[0;34m\u001b[0m\u001b[0;34m\u001b[0m\u001b[0m\n",
      "\u001b[0;31mtimeout\u001b[0m: The read operation timed out",
      "\nDuring handling of the above exception, another exception occurred:\n",
      "\u001b[0;31mReadTimeoutError\u001b[0m                          Traceback (most recent call last)",
      "\u001b[0;32m~/opt/anaconda3/lib/python3.7/site-packages/requests/adapters.py\u001b[0m in \u001b[0;36msend\u001b[0;34m(self, request, stream, timeout, verify, cert, proxies)\u001b[0m\n\u001b[1;32m    448\u001b[0m                     \u001b[0mretries\u001b[0m\u001b[0;34m=\u001b[0m\u001b[0mself\u001b[0m\u001b[0;34m.\u001b[0m\u001b[0mmax_retries\u001b[0m\u001b[0;34m,\u001b[0m\u001b[0;34m\u001b[0m\u001b[0;34m\u001b[0m\u001b[0m\n\u001b[0;32m--> 449\u001b[0;31m                     \u001b[0mtimeout\u001b[0m\u001b[0;34m=\u001b[0m\u001b[0mtimeout\u001b[0m\u001b[0;34m\u001b[0m\u001b[0;34m\u001b[0m\u001b[0m\n\u001b[0m\u001b[1;32m    450\u001b[0m                 )\n",
      "\u001b[0;32m~/opt/anaconda3/lib/python3.7/site-packages/urllib3/connectionpool.py\u001b[0m in \u001b[0;36murlopen\u001b[0;34m(self, method, url, body, headers, retries, redirect, assert_same_host, timeout, pool_timeout, release_conn, chunked, body_pos, **response_kw)\u001b[0m\n\u001b[1;32m    719\u001b[0m             retries = retries.increment(\n\u001b[0;32m--> 720\u001b[0;31m                 \u001b[0mmethod\u001b[0m\u001b[0;34m,\u001b[0m \u001b[0murl\u001b[0m\u001b[0;34m,\u001b[0m \u001b[0merror\u001b[0m\u001b[0;34m=\u001b[0m\u001b[0me\u001b[0m\u001b[0;34m,\u001b[0m \u001b[0m_pool\u001b[0m\u001b[0;34m=\u001b[0m\u001b[0mself\u001b[0m\u001b[0;34m,\u001b[0m \u001b[0m_stacktrace\u001b[0m\u001b[0;34m=\u001b[0m\u001b[0msys\u001b[0m\u001b[0;34m.\u001b[0m\u001b[0mexc_info\u001b[0m\u001b[0;34m(\u001b[0m\u001b[0;34m)\u001b[0m\u001b[0;34m[\u001b[0m\u001b[0;36m2\u001b[0m\u001b[0;34m]\u001b[0m\u001b[0;34m\u001b[0m\u001b[0;34m\u001b[0m\u001b[0m\n\u001b[0m\u001b[1;32m    721\u001b[0m             )\n",
      "\u001b[0;32m~/opt/anaconda3/lib/python3.7/site-packages/urllib3/util/retry.py\u001b[0m in \u001b[0;36mincrement\u001b[0;34m(self, method, url, response, error, _pool, _stacktrace)\u001b[0m\n\u001b[1;32m    399\u001b[0m             \u001b[0;32mif\u001b[0m \u001b[0mread\u001b[0m \u001b[0;32mis\u001b[0m \u001b[0;32mFalse\u001b[0m \u001b[0;32mor\u001b[0m \u001b[0;32mnot\u001b[0m \u001b[0mself\u001b[0m\u001b[0;34m.\u001b[0m\u001b[0m_is_method_retryable\u001b[0m\u001b[0;34m(\u001b[0m\u001b[0mmethod\u001b[0m\u001b[0;34m)\u001b[0m\u001b[0;34m:\u001b[0m\u001b[0;34m\u001b[0m\u001b[0;34m\u001b[0m\u001b[0m\n\u001b[0;32m--> 400\u001b[0;31m                 \u001b[0;32mraise\u001b[0m \u001b[0msix\u001b[0m\u001b[0;34m.\u001b[0m\u001b[0mreraise\u001b[0m\u001b[0;34m(\u001b[0m\u001b[0mtype\u001b[0m\u001b[0;34m(\u001b[0m\u001b[0merror\u001b[0m\u001b[0;34m)\u001b[0m\u001b[0;34m,\u001b[0m \u001b[0merror\u001b[0m\u001b[0;34m,\u001b[0m \u001b[0m_stacktrace\u001b[0m\u001b[0;34m)\u001b[0m\u001b[0;34m\u001b[0m\u001b[0;34m\u001b[0m\u001b[0m\n\u001b[0m\u001b[1;32m    401\u001b[0m             \u001b[0;32melif\u001b[0m \u001b[0mread\u001b[0m \u001b[0;32mis\u001b[0m \u001b[0;32mnot\u001b[0m \u001b[0;32mNone\u001b[0m\u001b[0;34m:\u001b[0m\u001b[0;34m\u001b[0m\u001b[0;34m\u001b[0m\u001b[0m\n",
      "\u001b[0;32m~/opt/anaconda3/lib/python3.7/site-packages/urllib3/packages/six.py\u001b[0m in \u001b[0;36mreraise\u001b[0;34m(tp, value, tb)\u001b[0m\n\u001b[1;32m    734\u001b[0m                 \u001b[0;32mraise\u001b[0m \u001b[0mvalue\u001b[0m\u001b[0;34m.\u001b[0m\u001b[0mwith_traceback\u001b[0m\u001b[0;34m(\u001b[0m\u001b[0mtb\u001b[0m\u001b[0;34m)\u001b[0m\u001b[0;34m\u001b[0m\u001b[0;34m\u001b[0m\u001b[0m\n\u001b[0;32m--> 735\u001b[0;31m             \u001b[0;32mraise\u001b[0m \u001b[0mvalue\u001b[0m\u001b[0;34m\u001b[0m\u001b[0;34m\u001b[0m\u001b[0m\n\u001b[0m\u001b[1;32m    736\u001b[0m         \u001b[0;32mfinally\u001b[0m\u001b[0;34m:\u001b[0m\u001b[0;34m\u001b[0m\u001b[0;34m\u001b[0m\u001b[0m\n",
      "\u001b[0;32m~/opt/anaconda3/lib/python3.7/site-packages/urllib3/connectionpool.py\u001b[0m in \u001b[0;36murlopen\u001b[0;34m(self, method, url, body, headers, retries, redirect, assert_same_host, timeout, pool_timeout, release_conn, chunked, body_pos, **response_kw)\u001b[0m\n\u001b[1;32m    671\u001b[0m                 \u001b[0mheaders\u001b[0m\u001b[0;34m=\u001b[0m\u001b[0mheaders\u001b[0m\u001b[0;34m,\u001b[0m\u001b[0;34m\u001b[0m\u001b[0;34m\u001b[0m\u001b[0m\n\u001b[0;32m--> 672\u001b[0;31m                 \u001b[0mchunked\u001b[0m\u001b[0;34m=\u001b[0m\u001b[0mchunked\u001b[0m\u001b[0;34m,\u001b[0m\u001b[0;34m\u001b[0m\u001b[0;34m\u001b[0m\u001b[0m\n\u001b[0m\u001b[1;32m    673\u001b[0m             )\n",
      "\u001b[0;32m~/opt/anaconda3/lib/python3.7/site-packages/urllib3/connectionpool.py\u001b[0m in \u001b[0;36m_make_request\u001b[0;34m(self, conn, method, url, timeout, chunked, **httplib_request_kw)\u001b[0m\n\u001b[1;32m    422\u001b[0m         \u001b[0;32mexcept\u001b[0m \u001b[0;34m(\u001b[0m\u001b[0mSocketTimeout\u001b[0m\u001b[0;34m,\u001b[0m \u001b[0mBaseSSLError\u001b[0m\u001b[0;34m,\u001b[0m \u001b[0mSocketError\u001b[0m\u001b[0;34m)\u001b[0m \u001b[0;32mas\u001b[0m \u001b[0me\u001b[0m\u001b[0;34m:\u001b[0m\u001b[0;34m\u001b[0m\u001b[0;34m\u001b[0m\u001b[0m\n\u001b[0;32m--> 423\u001b[0;31m             \u001b[0mself\u001b[0m\u001b[0;34m.\u001b[0m\u001b[0m_raise_timeout\u001b[0m\u001b[0;34m(\u001b[0m\u001b[0merr\u001b[0m\u001b[0;34m=\u001b[0m\u001b[0me\u001b[0m\u001b[0;34m,\u001b[0m \u001b[0murl\u001b[0m\u001b[0;34m=\u001b[0m\u001b[0murl\u001b[0m\u001b[0;34m,\u001b[0m \u001b[0mtimeout_value\u001b[0m\u001b[0;34m=\u001b[0m\u001b[0mread_timeout\u001b[0m\u001b[0;34m)\u001b[0m\u001b[0;34m\u001b[0m\u001b[0;34m\u001b[0m\u001b[0m\n\u001b[0m\u001b[1;32m    424\u001b[0m             \u001b[0;32mraise\u001b[0m\u001b[0;34m\u001b[0m\u001b[0;34m\u001b[0m\u001b[0m\n",
      "\u001b[0;32m~/opt/anaconda3/lib/python3.7/site-packages/urllib3/connectionpool.py\u001b[0m in \u001b[0;36m_raise_timeout\u001b[0;34m(self, err, url, timeout_value)\u001b[0m\n\u001b[1;32m    330\u001b[0m             raise ReadTimeoutError(\n\u001b[0;32m--> 331\u001b[0;31m                 \u001b[0mself\u001b[0m\u001b[0;34m,\u001b[0m \u001b[0murl\u001b[0m\u001b[0;34m,\u001b[0m \u001b[0;34m\"Read timed out. (read timeout=%s)\"\u001b[0m \u001b[0;34m%\u001b[0m \u001b[0mtimeout_value\u001b[0m\u001b[0;34m\u001b[0m\u001b[0;34m\u001b[0m\u001b[0m\n\u001b[0m\u001b[1;32m    332\u001b[0m             )\n",
      "\u001b[0;31mReadTimeoutError\u001b[0m: HTTPSConnectionPool(host='genius.com', port=443): Read timed out. (read timeout=5)",
      "\nDuring handling of the above exception, another exception occurred:\n",
      "\u001b[0;31mReadTimeout\u001b[0m                               Traceback (most recent call last)",
      "\u001b[0;32m~/opt/anaconda3/lib/python3.7/site-packages/lyricsgenius/api/base.py\u001b[0m in \u001b[0;36m_make_request\u001b[0;34m(self, path, method, params_, public_api, web, **kwargs)\u001b[0m\n\u001b[1;32m     78\u001b[0m                                                  \u001b[0mheaders\u001b[0m\u001b[0;34m=\u001b[0m\u001b[0mheader\u001b[0m\u001b[0;34m,\u001b[0m\u001b[0;34m\u001b[0m\u001b[0;34m\u001b[0m\u001b[0m\n\u001b[0;32m---> 79\u001b[0;31m                                                  **kwargs)\n\u001b[0m\u001b[1;32m     80\u001b[0m                 \u001b[0mresponse\u001b[0m\u001b[0;34m.\u001b[0m\u001b[0mraise_for_status\u001b[0m\u001b[0;34m(\u001b[0m\u001b[0;34m)\u001b[0m\u001b[0;34m\u001b[0m\u001b[0;34m\u001b[0m\u001b[0m\n",
      "\u001b[0;32m~/opt/anaconda3/lib/python3.7/site-packages/requests/sessions.py\u001b[0m in \u001b[0;36mrequest\u001b[0;34m(self, method, url, params, data, headers, cookies, files, auth, timeout, allow_redirects, proxies, hooks, stream, verify, cert, json)\u001b[0m\n\u001b[1;32m    532\u001b[0m         \u001b[0msend_kwargs\u001b[0m\u001b[0;34m.\u001b[0m\u001b[0mupdate\u001b[0m\u001b[0;34m(\u001b[0m\u001b[0msettings\u001b[0m\u001b[0;34m)\u001b[0m\u001b[0;34m\u001b[0m\u001b[0;34m\u001b[0m\u001b[0m\n\u001b[0;32m--> 533\u001b[0;31m         \u001b[0mresp\u001b[0m \u001b[0;34m=\u001b[0m \u001b[0mself\u001b[0m\u001b[0;34m.\u001b[0m\u001b[0msend\u001b[0m\u001b[0;34m(\u001b[0m\u001b[0mprep\u001b[0m\u001b[0;34m,\u001b[0m \u001b[0;34m**\u001b[0m\u001b[0msend_kwargs\u001b[0m\u001b[0;34m)\u001b[0m\u001b[0;34m\u001b[0m\u001b[0;34m\u001b[0m\u001b[0m\n\u001b[0m\u001b[1;32m    534\u001b[0m \u001b[0;34m\u001b[0m\u001b[0m\n",
      "\u001b[0;32m~/opt/anaconda3/lib/python3.7/site-packages/requests/sessions.py\u001b[0m in \u001b[0;36msend\u001b[0;34m(self, request, **kwargs)\u001b[0m\n\u001b[1;32m    645\u001b[0m         \u001b[0;31m# Send the request\u001b[0m\u001b[0;34m\u001b[0m\u001b[0;34m\u001b[0m\u001b[0;34m\u001b[0m\u001b[0m\n\u001b[0;32m--> 646\u001b[0;31m         \u001b[0mr\u001b[0m \u001b[0;34m=\u001b[0m \u001b[0madapter\u001b[0m\u001b[0;34m.\u001b[0m\u001b[0msend\u001b[0m\u001b[0;34m(\u001b[0m\u001b[0mrequest\u001b[0m\u001b[0;34m,\u001b[0m \u001b[0;34m**\u001b[0m\u001b[0mkwargs\u001b[0m\u001b[0;34m)\u001b[0m\u001b[0;34m\u001b[0m\u001b[0;34m\u001b[0m\u001b[0m\n\u001b[0m\u001b[1;32m    647\u001b[0m \u001b[0;34m\u001b[0m\u001b[0m\n",
      "\u001b[0;32m~/opt/anaconda3/lib/python3.7/site-packages/requests/adapters.py\u001b[0m in \u001b[0;36msend\u001b[0;34m(self, request, stream, timeout, verify, cert, proxies)\u001b[0m\n\u001b[1;32m    528\u001b[0m             \u001b[0;32melif\u001b[0m \u001b[0misinstance\u001b[0m\u001b[0;34m(\u001b[0m\u001b[0me\u001b[0m\u001b[0;34m,\u001b[0m \u001b[0mReadTimeoutError\u001b[0m\u001b[0;34m)\u001b[0m\u001b[0;34m:\u001b[0m\u001b[0;34m\u001b[0m\u001b[0;34m\u001b[0m\u001b[0m\n\u001b[0;32m--> 529\u001b[0;31m                 \u001b[0;32mraise\u001b[0m \u001b[0mReadTimeout\u001b[0m\u001b[0;34m(\u001b[0m\u001b[0me\u001b[0m\u001b[0;34m,\u001b[0m \u001b[0mrequest\u001b[0m\u001b[0;34m=\u001b[0m\u001b[0mrequest\u001b[0m\u001b[0;34m)\u001b[0m\u001b[0;34m\u001b[0m\u001b[0;34m\u001b[0m\u001b[0m\n\u001b[0m\u001b[1;32m    530\u001b[0m             \u001b[0;32melse\u001b[0m\u001b[0;34m:\u001b[0m\u001b[0;34m\u001b[0m\u001b[0;34m\u001b[0m\u001b[0m\n",
      "\u001b[0;31mReadTimeout\u001b[0m: HTTPSConnectionPool(host='genius.com', port=443): Read timed out. (read timeout=5)",
      "\nDuring handling of the above exception, another exception occurred:\n",
      "\u001b[0;31mTimeout\u001b[0m                                   Traceback (most recent call last)",
      "\u001b[0;32m<ipython-input-12-47e4f49d4204>\u001b[0m in \u001b[0;36m<module>\u001b[0;34m\u001b[0m\n\u001b[1;32m      6\u001b[0m         \u001b[0martist_name\u001b[0m \u001b[0;34m=\u001b[0m \u001b[0mdf\u001b[0m\u001b[0;34m.\u001b[0m\u001b[0mloc\u001b[0m\u001b[0;34m[\u001b[0m\u001b[0mi\u001b[0m\u001b[0;34m*\u001b[0m\u001b[0;36m40\u001b[0m \u001b[0;34m+\u001b[0m \u001b[0mj\u001b[0m\u001b[0;34m,\u001b[0m \u001b[0;34m'artist'\u001b[0m\u001b[0;34m]\u001b[0m\u001b[0;34m\u001b[0m\u001b[0;34m\u001b[0m\u001b[0m\n\u001b[1;32m      7\u001b[0m \u001b[0;34m\u001b[0m\u001b[0m\n\u001b[0;32m----> 8\u001b[0;31m         \u001b[0msong\u001b[0m \u001b[0;34m=\u001b[0m \u001b[0mapi\u001b[0m\u001b[0;34m.\u001b[0m\u001b[0msearch_song\u001b[0m\u001b[0;34m(\u001b[0m\u001b[0msong_title\u001b[0m\u001b[0;34m,\u001b[0m \u001b[0martist\u001b[0m\u001b[0;34m=\u001b[0m\u001b[0martist_name\u001b[0m\u001b[0;34m)\u001b[0m\u001b[0;34m\u001b[0m\u001b[0;34m\u001b[0m\u001b[0m\n\u001b[0m\u001b[1;32m      9\u001b[0m         \u001b[0;32mtry\u001b[0m\u001b[0;34m:\u001b[0m\u001b[0;34m\u001b[0m\u001b[0;34m\u001b[0m\u001b[0m\n\u001b[1;32m     10\u001b[0m             \u001b[0msong_lyrics\u001b[0m \u001b[0;34m=\u001b[0m \u001b[0mre\u001b[0m\u001b[0;34m.\u001b[0m\u001b[0msub\u001b[0m\u001b[0;34m(\u001b[0m\u001b[0;34m\"\\n\"\u001b[0m\u001b[0;34m,\u001b[0m \u001b[0;34m\" \"\u001b[0m\u001b[0;34m,\u001b[0m \u001b[0msong\u001b[0m\u001b[0;34m.\u001b[0m\u001b[0mlyrics\u001b[0m\u001b[0;34m)\u001b[0m \u001b[0;31m#Remove newline breaks, we won't need them.\u001b[0m\u001b[0;34m\u001b[0m\u001b[0;34m\u001b[0m\u001b[0m\n",
      "\u001b[0;32m~/opt/anaconda3/lib/python3.7/site-packages/lyricsgenius/genius.py\u001b[0m in \u001b[0;36msearch_song\u001b[0;34m(self, title, artist, song_id, get_full_info)\u001b[0m\n\u001b[1;32m    434\u001b[0m         if (song_info['lyrics_state'] == 'complete'\n\u001b[1;32m    435\u001b[0m                 and not song_info.get('instrumental')):\n\u001b[0;32m--> 436\u001b[0;31m             \u001b[0mlyrics\u001b[0m \u001b[0;34m=\u001b[0m \u001b[0mself\u001b[0m\u001b[0;34m.\u001b[0m\u001b[0mlyrics\u001b[0m\u001b[0;34m(\u001b[0m\u001b[0msong_url\u001b[0m\u001b[0;34m=\u001b[0m\u001b[0msong_info\u001b[0m\u001b[0;34m[\u001b[0m\u001b[0;34m'url'\u001b[0m\u001b[0;34m]\u001b[0m\u001b[0;34m)\u001b[0m\u001b[0;34m\u001b[0m\u001b[0;34m\u001b[0m\u001b[0m\n\u001b[0m\u001b[1;32m    437\u001b[0m         \u001b[0;32melse\u001b[0m\u001b[0;34m:\u001b[0m\u001b[0;34m\u001b[0m\u001b[0;34m\u001b[0m\u001b[0m\n\u001b[1;32m    438\u001b[0m             \u001b[0mlyrics\u001b[0m \u001b[0;34m=\u001b[0m \u001b[0;34m\"\"\u001b[0m\u001b[0;34m\u001b[0m\u001b[0;34m\u001b[0m\u001b[0m\n",
      "\u001b[0;32m~/opt/anaconda3/lib/python3.7/site-packages/lyricsgenius/genius.py\u001b[0m in \u001b[0;36mlyrics\u001b[0;34m(self, song_id, song_url, remove_section_headers)\u001b[0m\n\u001b[1;32m    130\u001b[0m         \u001b[0;31m# Scrape the song lyrics from the HTML\u001b[0m\u001b[0;34m\u001b[0m\u001b[0;34m\u001b[0m\u001b[0;34m\u001b[0m\u001b[0m\n\u001b[1;32m    131\u001b[0m         html = BeautifulSoup(\n\u001b[0;32m--> 132\u001b[0;31m             \u001b[0mself\u001b[0m\u001b[0;34m.\u001b[0m\u001b[0m_make_request\u001b[0m\u001b[0;34m(\u001b[0m\u001b[0mpath\u001b[0m\u001b[0;34m,\u001b[0m \u001b[0mweb\u001b[0m\u001b[0;34m=\u001b[0m\u001b[0;32mTrue\u001b[0m\u001b[0;34m)\u001b[0m\u001b[0;34m.\u001b[0m\u001b[0mreplace\u001b[0m\u001b[0;34m(\u001b[0m\u001b[0;34m'<br/>'\u001b[0m\u001b[0;34m,\u001b[0m \u001b[0;34m'\\n'\u001b[0m\u001b[0;34m)\u001b[0m\u001b[0;34m,\u001b[0m\u001b[0;34m\u001b[0m\u001b[0;34m\u001b[0m\u001b[0m\n\u001b[0m\u001b[1;32m    133\u001b[0m             \u001b[0;34m\"html.parser\"\u001b[0m\u001b[0;34m\u001b[0m\u001b[0;34m\u001b[0m\u001b[0m\n\u001b[1;32m    134\u001b[0m         )\n",
      "\u001b[0;32m~/opt/anaconda3/lib/python3.7/site-packages/lyricsgenius/api/base.py\u001b[0m in \u001b[0;36m_make_request\u001b[0;34m(self, path, method, params_, public_api, web, **kwargs)\u001b[0m\n\u001b[1;32m     82\u001b[0m                 \u001b[0merror\u001b[0m \u001b[0;34m=\u001b[0m \u001b[0;34m\"Request timed out:\\n{e}\"\u001b[0m\u001b[0;34m.\u001b[0m\u001b[0mformat\u001b[0m\u001b[0;34m(\u001b[0m\u001b[0me\u001b[0m\u001b[0;34m=\u001b[0m\u001b[0me\u001b[0m\u001b[0;34m)\u001b[0m\u001b[0;34m\u001b[0m\u001b[0;34m\u001b[0m\u001b[0m\n\u001b[1;32m     83\u001b[0m                 \u001b[0;32mif\u001b[0m \u001b[0mtries\u001b[0m \u001b[0;34m>\u001b[0m \u001b[0mself\u001b[0m\u001b[0;34m.\u001b[0m\u001b[0mretries\u001b[0m\u001b[0;34m:\u001b[0m\u001b[0;34m\u001b[0m\u001b[0;34m\u001b[0m\u001b[0m\n\u001b[0;32m---> 84\u001b[0;31m                     \u001b[0;32mraise\u001b[0m \u001b[0mTimeout\u001b[0m\u001b[0;34m(\u001b[0m\u001b[0merror\u001b[0m\u001b[0;34m)\u001b[0m\u001b[0;34m\u001b[0m\u001b[0;34m\u001b[0m\u001b[0m\n\u001b[0m\u001b[1;32m     85\u001b[0m             \u001b[0;32mexcept\u001b[0m \u001b[0mHTTPError\u001b[0m \u001b[0;32mas\u001b[0m \u001b[0me\u001b[0m\u001b[0;34m:\u001b[0m\u001b[0;34m\u001b[0m\u001b[0;34m\u001b[0m\u001b[0m\n\u001b[1;32m     86\u001b[0m                 \u001b[0merror\u001b[0m \u001b[0;34m=\u001b[0m \u001b[0mget_description\u001b[0m\u001b[0;34m(\u001b[0m\u001b[0me\u001b[0m\u001b[0;34m)\u001b[0m\u001b[0;34m\u001b[0m\u001b[0;34m\u001b[0m\u001b[0m\n",
      "\u001b[0;31mTimeout\u001b[0m: Request timed out:\nHTTPSConnectionPool(host='genius.com', port=443): Read timed out. (read timeout=5)"
     ]
    }
   ],
   "source": [
    "import time\n",
    "noresult = 0\n",
    "for i in tqdm(range(0, 25)):\n",
    "    for j in range(0, 40):\n",
    "        song_title = df.loc[i*40 + j, 'song']\n",
    "        artist_name = df.loc[i*40 + j, 'artist']\n",
    "\n",
    "        song = api.search_song(song_title, artist=artist_name)\n",
    "        try:\n",
    "            song_lyrics = re.sub(\"\\n\", \" \", song.lyrics) #Remove newline breaks, we won't need them.\n",
    "            df.loc[i*40 + j, 'lyrics'] = song_lyrics\n",
    "        except:\n",
    "            noresult += 1\n",
    "        time.sleep(5)"
   ]
  },
  {
   "cell_type": "code",
   "execution_count": 10,
   "metadata": {},
   "outputs": [
    {
     "output_type": "execute_result",
     "data": {
      "text/plain": [
       "0       [Verse 1] I always said you could make it I kn...\n",
       "1       These have been quiet days When was the last t...\n",
       "2       [Verse 1] This was never the way I planned Not...\n",
       "3       Didn't I give you everything Didn't I take you...\n",
       "4       [Verse 1] I overheard a conversation, your nam...\n",
       "                              ...                        \n",
       "1010                                                  NaN\n",
       "1011    10 9 8 7 6 5 4 3 2 1 Aaah  [Verse 1:] You set ...\n",
       "1012    [Verse 1] I need a sign to let me know you're ...\n",
       "1013    Chinon, in Touraine. An end of the throne room...\n",
       "1014    [Verse 1] Sitting here, all alone watching the...\n",
       "Name: lyrics, Length: 1015, dtype: object"
      ]
     },
     "metadata": {},
     "execution_count": 10
    }
   ],
   "source": [
    "df.lyrics.head(1015)"
   ]
  },
  {
   "cell_type": "code",
   "execution_count": 11,
   "metadata": {
    "tags": []
   },
   "outputs": [
    {
     "output_type": "stream",
     "name": "stderr",
     "text": [
      " 70%|███████   | 694/985 [43:49<18:22,  3.79s/it]\n"
     ]
    },
    {
     "output_type": "error",
     "ename": "Timeout",
     "evalue": "Request timed out:\nHTTPSConnectionPool(host='genius.com', port=443): Read timed out. (read timeout=5)",
     "traceback": [
      "\u001b[0;31m---------------------------------------------------------------------------\u001b[0m",
      "\u001b[0;31mtimeout\u001b[0m                                   Traceback (most recent call last)",
      "\u001b[0;32m~/opt/anaconda3/lib/python3.7/site-packages/urllib3/connectionpool.py\u001b[0m in \u001b[0;36m_make_request\u001b[0;34m(self, conn, method, url, timeout, chunked, **httplib_request_kw)\u001b[0m\n\u001b[1;32m    420\u001b[0m                     \u001b[0;31m# Otherwise it looks like a bug in the code.\u001b[0m\u001b[0;34m\u001b[0m\u001b[0;34m\u001b[0m\u001b[0;34m\u001b[0m\u001b[0m\n\u001b[0;32m--> 421\u001b[0;31m                     \u001b[0msix\u001b[0m\u001b[0;34m.\u001b[0m\u001b[0mraise_from\u001b[0m\u001b[0;34m(\u001b[0m\u001b[0me\u001b[0m\u001b[0;34m,\u001b[0m \u001b[0;32mNone\u001b[0m\u001b[0;34m)\u001b[0m\u001b[0;34m\u001b[0m\u001b[0;34m\u001b[0m\u001b[0m\n\u001b[0m\u001b[1;32m    422\u001b[0m         \u001b[0;32mexcept\u001b[0m \u001b[0;34m(\u001b[0m\u001b[0mSocketTimeout\u001b[0m\u001b[0;34m,\u001b[0m \u001b[0mBaseSSLError\u001b[0m\u001b[0;34m,\u001b[0m \u001b[0mSocketError\u001b[0m\u001b[0;34m)\u001b[0m \u001b[0;32mas\u001b[0m \u001b[0me\u001b[0m\u001b[0;34m:\u001b[0m\u001b[0;34m\u001b[0m\u001b[0;34m\u001b[0m\u001b[0m\n",
      "\u001b[0;32m~/opt/anaconda3/lib/python3.7/site-packages/urllib3/packages/six.py\u001b[0m in \u001b[0;36mraise_from\u001b[0;34m(value, from_value)\u001b[0m\n",
      "\u001b[0;32m~/opt/anaconda3/lib/python3.7/site-packages/urllib3/connectionpool.py\u001b[0m in \u001b[0;36m_make_request\u001b[0;34m(self, conn, method, url, timeout, chunked, **httplib_request_kw)\u001b[0m\n\u001b[1;32m    415\u001b[0m                 \u001b[0;32mtry\u001b[0m\u001b[0;34m:\u001b[0m\u001b[0;34m\u001b[0m\u001b[0;34m\u001b[0m\u001b[0m\n\u001b[0;32m--> 416\u001b[0;31m                     \u001b[0mhttplib_response\u001b[0m \u001b[0;34m=\u001b[0m \u001b[0mconn\u001b[0m\u001b[0;34m.\u001b[0m\u001b[0mgetresponse\u001b[0m\u001b[0;34m(\u001b[0m\u001b[0;34m)\u001b[0m\u001b[0;34m\u001b[0m\u001b[0;34m\u001b[0m\u001b[0m\n\u001b[0m\u001b[1;32m    417\u001b[0m                 \u001b[0;32mexcept\u001b[0m \u001b[0mBaseException\u001b[0m \u001b[0;32mas\u001b[0m \u001b[0me\u001b[0m\u001b[0;34m:\u001b[0m\u001b[0;34m\u001b[0m\u001b[0;34m\u001b[0m\u001b[0m\n",
      "\u001b[0;32m~/opt/anaconda3/lib/python3.7/http/client.py\u001b[0m in \u001b[0;36mgetresponse\u001b[0;34m(self)\u001b[0m\n\u001b[1;32m   1343\u001b[0m             \u001b[0;32mtry\u001b[0m\u001b[0;34m:\u001b[0m\u001b[0;34m\u001b[0m\u001b[0;34m\u001b[0m\u001b[0m\n\u001b[0;32m-> 1344\u001b[0;31m                 \u001b[0mresponse\u001b[0m\u001b[0;34m.\u001b[0m\u001b[0mbegin\u001b[0m\u001b[0;34m(\u001b[0m\u001b[0;34m)\u001b[0m\u001b[0;34m\u001b[0m\u001b[0;34m\u001b[0m\u001b[0m\n\u001b[0m\u001b[1;32m   1345\u001b[0m             \u001b[0;32mexcept\u001b[0m \u001b[0mConnectionError\u001b[0m\u001b[0;34m:\u001b[0m\u001b[0;34m\u001b[0m\u001b[0;34m\u001b[0m\u001b[0m\n",
      "\u001b[0;32m~/opt/anaconda3/lib/python3.7/http/client.py\u001b[0m in \u001b[0;36mbegin\u001b[0;34m(self)\u001b[0m\n\u001b[1;32m    305\u001b[0m         \u001b[0;32mwhile\u001b[0m \u001b[0;32mTrue\u001b[0m\u001b[0;34m:\u001b[0m\u001b[0;34m\u001b[0m\u001b[0;34m\u001b[0m\u001b[0m\n\u001b[0;32m--> 306\u001b[0;31m             \u001b[0mversion\u001b[0m\u001b[0;34m,\u001b[0m \u001b[0mstatus\u001b[0m\u001b[0;34m,\u001b[0m \u001b[0mreason\u001b[0m \u001b[0;34m=\u001b[0m \u001b[0mself\u001b[0m\u001b[0;34m.\u001b[0m\u001b[0m_read_status\u001b[0m\u001b[0;34m(\u001b[0m\u001b[0;34m)\u001b[0m\u001b[0;34m\u001b[0m\u001b[0;34m\u001b[0m\u001b[0m\n\u001b[0m\u001b[1;32m    307\u001b[0m             \u001b[0;32mif\u001b[0m \u001b[0mstatus\u001b[0m \u001b[0;34m!=\u001b[0m \u001b[0mCONTINUE\u001b[0m\u001b[0;34m:\u001b[0m\u001b[0;34m\u001b[0m\u001b[0;34m\u001b[0m\u001b[0m\n",
      "\u001b[0;32m~/opt/anaconda3/lib/python3.7/http/client.py\u001b[0m in \u001b[0;36m_read_status\u001b[0;34m(self)\u001b[0m\n\u001b[1;32m    266\u001b[0m     \u001b[0;32mdef\u001b[0m \u001b[0m_read_status\u001b[0m\u001b[0;34m(\u001b[0m\u001b[0mself\u001b[0m\u001b[0;34m)\u001b[0m\u001b[0;34m:\u001b[0m\u001b[0;34m\u001b[0m\u001b[0;34m\u001b[0m\u001b[0m\n\u001b[0;32m--> 267\u001b[0;31m         \u001b[0mline\u001b[0m \u001b[0;34m=\u001b[0m \u001b[0mstr\u001b[0m\u001b[0;34m(\u001b[0m\u001b[0mself\u001b[0m\u001b[0;34m.\u001b[0m\u001b[0mfp\u001b[0m\u001b[0;34m.\u001b[0m\u001b[0mreadline\u001b[0m\u001b[0;34m(\u001b[0m\u001b[0m_MAXLINE\u001b[0m \u001b[0;34m+\u001b[0m \u001b[0;36m1\u001b[0m\u001b[0;34m)\u001b[0m\u001b[0;34m,\u001b[0m \u001b[0;34m\"iso-8859-1\"\u001b[0m\u001b[0;34m)\u001b[0m\u001b[0;34m\u001b[0m\u001b[0;34m\u001b[0m\u001b[0m\n\u001b[0m\u001b[1;32m    268\u001b[0m         \u001b[0;32mif\u001b[0m \u001b[0mlen\u001b[0m\u001b[0;34m(\u001b[0m\u001b[0mline\u001b[0m\u001b[0;34m)\u001b[0m \u001b[0;34m>\u001b[0m \u001b[0m_MAXLINE\u001b[0m\u001b[0;34m:\u001b[0m\u001b[0;34m\u001b[0m\u001b[0;34m\u001b[0m\u001b[0m\n",
      "\u001b[0;32m~/opt/anaconda3/lib/python3.7/socket.py\u001b[0m in \u001b[0;36mreadinto\u001b[0;34m(self, b)\u001b[0m\n\u001b[1;32m    588\u001b[0m             \u001b[0;32mtry\u001b[0m\u001b[0;34m:\u001b[0m\u001b[0;34m\u001b[0m\u001b[0;34m\u001b[0m\u001b[0m\n\u001b[0;32m--> 589\u001b[0;31m                 \u001b[0;32mreturn\u001b[0m \u001b[0mself\u001b[0m\u001b[0;34m.\u001b[0m\u001b[0m_sock\u001b[0m\u001b[0;34m.\u001b[0m\u001b[0mrecv_into\u001b[0m\u001b[0;34m(\u001b[0m\u001b[0mb\u001b[0m\u001b[0;34m)\u001b[0m\u001b[0;34m\u001b[0m\u001b[0;34m\u001b[0m\u001b[0m\n\u001b[0m\u001b[1;32m    590\u001b[0m             \u001b[0;32mexcept\u001b[0m \u001b[0mtimeout\u001b[0m\u001b[0;34m:\u001b[0m\u001b[0;34m\u001b[0m\u001b[0;34m\u001b[0m\u001b[0m\n",
      "\u001b[0;32m~/opt/anaconda3/lib/python3.7/ssl.py\u001b[0m in \u001b[0;36mrecv_into\u001b[0;34m(self, buffer, nbytes, flags)\u001b[0m\n\u001b[1;32m   1070\u001b[0m                   self.__class__)\n\u001b[0;32m-> 1071\u001b[0;31m             \u001b[0;32mreturn\u001b[0m \u001b[0mself\u001b[0m\u001b[0;34m.\u001b[0m\u001b[0mread\u001b[0m\u001b[0;34m(\u001b[0m\u001b[0mnbytes\u001b[0m\u001b[0;34m,\u001b[0m \u001b[0mbuffer\u001b[0m\u001b[0;34m)\u001b[0m\u001b[0;34m\u001b[0m\u001b[0;34m\u001b[0m\u001b[0m\n\u001b[0m\u001b[1;32m   1072\u001b[0m         \u001b[0;32melse\u001b[0m\u001b[0;34m:\u001b[0m\u001b[0;34m\u001b[0m\u001b[0;34m\u001b[0m\u001b[0m\n",
      "\u001b[0;32m~/opt/anaconda3/lib/python3.7/ssl.py\u001b[0m in \u001b[0;36mread\u001b[0;34m(self, len, buffer)\u001b[0m\n\u001b[1;32m    928\u001b[0m             \u001b[0;32mif\u001b[0m \u001b[0mbuffer\u001b[0m \u001b[0;32mis\u001b[0m \u001b[0;32mnot\u001b[0m \u001b[0;32mNone\u001b[0m\u001b[0;34m:\u001b[0m\u001b[0;34m\u001b[0m\u001b[0;34m\u001b[0m\u001b[0m\n\u001b[0;32m--> 929\u001b[0;31m                 \u001b[0;32mreturn\u001b[0m \u001b[0mself\u001b[0m\u001b[0;34m.\u001b[0m\u001b[0m_sslobj\u001b[0m\u001b[0;34m.\u001b[0m\u001b[0mread\u001b[0m\u001b[0;34m(\u001b[0m\u001b[0mlen\u001b[0m\u001b[0;34m,\u001b[0m \u001b[0mbuffer\u001b[0m\u001b[0;34m)\u001b[0m\u001b[0;34m\u001b[0m\u001b[0;34m\u001b[0m\u001b[0m\n\u001b[0m\u001b[1;32m    930\u001b[0m             \u001b[0;32melse\u001b[0m\u001b[0;34m:\u001b[0m\u001b[0;34m\u001b[0m\u001b[0;34m\u001b[0m\u001b[0m\n",
      "\u001b[0;31mtimeout\u001b[0m: The read operation timed out",
      "\nDuring handling of the above exception, another exception occurred:\n",
      "\u001b[0;31mReadTimeoutError\u001b[0m                          Traceback (most recent call last)",
      "\u001b[0;32m~/opt/anaconda3/lib/python3.7/site-packages/requests/adapters.py\u001b[0m in \u001b[0;36msend\u001b[0;34m(self, request, stream, timeout, verify, cert, proxies)\u001b[0m\n\u001b[1;32m    448\u001b[0m                     \u001b[0mretries\u001b[0m\u001b[0;34m=\u001b[0m\u001b[0mself\u001b[0m\u001b[0;34m.\u001b[0m\u001b[0mmax_retries\u001b[0m\u001b[0;34m,\u001b[0m\u001b[0;34m\u001b[0m\u001b[0;34m\u001b[0m\u001b[0m\n\u001b[0;32m--> 449\u001b[0;31m                     \u001b[0mtimeout\u001b[0m\u001b[0;34m=\u001b[0m\u001b[0mtimeout\u001b[0m\u001b[0;34m\u001b[0m\u001b[0;34m\u001b[0m\u001b[0m\n\u001b[0m\u001b[1;32m    450\u001b[0m                 )\n",
      "\u001b[0;32m~/opt/anaconda3/lib/python3.7/site-packages/urllib3/connectionpool.py\u001b[0m in \u001b[0;36murlopen\u001b[0;34m(self, method, url, body, headers, retries, redirect, assert_same_host, timeout, pool_timeout, release_conn, chunked, body_pos, **response_kw)\u001b[0m\n\u001b[1;32m    719\u001b[0m             retries = retries.increment(\n\u001b[0;32m--> 720\u001b[0;31m                 \u001b[0mmethod\u001b[0m\u001b[0;34m,\u001b[0m \u001b[0murl\u001b[0m\u001b[0;34m,\u001b[0m \u001b[0merror\u001b[0m\u001b[0;34m=\u001b[0m\u001b[0me\u001b[0m\u001b[0;34m,\u001b[0m \u001b[0m_pool\u001b[0m\u001b[0;34m=\u001b[0m\u001b[0mself\u001b[0m\u001b[0;34m,\u001b[0m \u001b[0m_stacktrace\u001b[0m\u001b[0;34m=\u001b[0m\u001b[0msys\u001b[0m\u001b[0;34m.\u001b[0m\u001b[0mexc_info\u001b[0m\u001b[0;34m(\u001b[0m\u001b[0;34m)\u001b[0m\u001b[0;34m[\u001b[0m\u001b[0;36m2\u001b[0m\u001b[0;34m]\u001b[0m\u001b[0;34m\u001b[0m\u001b[0;34m\u001b[0m\u001b[0m\n\u001b[0m\u001b[1;32m    721\u001b[0m             )\n",
      "\u001b[0;32m~/opt/anaconda3/lib/python3.7/site-packages/urllib3/util/retry.py\u001b[0m in \u001b[0;36mincrement\u001b[0;34m(self, method, url, response, error, _pool, _stacktrace)\u001b[0m\n\u001b[1;32m    399\u001b[0m             \u001b[0;32mif\u001b[0m \u001b[0mread\u001b[0m \u001b[0;32mis\u001b[0m \u001b[0;32mFalse\u001b[0m \u001b[0;32mor\u001b[0m \u001b[0;32mnot\u001b[0m \u001b[0mself\u001b[0m\u001b[0;34m.\u001b[0m\u001b[0m_is_method_retryable\u001b[0m\u001b[0;34m(\u001b[0m\u001b[0mmethod\u001b[0m\u001b[0;34m)\u001b[0m\u001b[0;34m:\u001b[0m\u001b[0;34m\u001b[0m\u001b[0;34m\u001b[0m\u001b[0m\n\u001b[0;32m--> 400\u001b[0;31m                 \u001b[0;32mraise\u001b[0m \u001b[0msix\u001b[0m\u001b[0;34m.\u001b[0m\u001b[0mreraise\u001b[0m\u001b[0;34m(\u001b[0m\u001b[0mtype\u001b[0m\u001b[0;34m(\u001b[0m\u001b[0merror\u001b[0m\u001b[0;34m)\u001b[0m\u001b[0;34m,\u001b[0m \u001b[0merror\u001b[0m\u001b[0;34m,\u001b[0m \u001b[0m_stacktrace\u001b[0m\u001b[0;34m)\u001b[0m\u001b[0;34m\u001b[0m\u001b[0;34m\u001b[0m\u001b[0m\n\u001b[0m\u001b[1;32m    401\u001b[0m             \u001b[0;32melif\u001b[0m \u001b[0mread\u001b[0m \u001b[0;32mis\u001b[0m \u001b[0;32mnot\u001b[0m \u001b[0;32mNone\u001b[0m\u001b[0;34m:\u001b[0m\u001b[0;34m\u001b[0m\u001b[0;34m\u001b[0m\u001b[0m\n",
      "\u001b[0;32m~/opt/anaconda3/lib/python3.7/site-packages/urllib3/packages/six.py\u001b[0m in \u001b[0;36mreraise\u001b[0;34m(tp, value, tb)\u001b[0m\n\u001b[1;32m    734\u001b[0m                 \u001b[0;32mraise\u001b[0m \u001b[0mvalue\u001b[0m\u001b[0;34m.\u001b[0m\u001b[0mwith_traceback\u001b[0m\u001b[0;34m(\u001b[0m\u001b[0mtb\u001b[0m\u001b[0;34m)\u001b[0m\u001b[0;34m\u001b[0m\u001b[0;34m\u001b[0m\u001b[0m\n\u001b[0;32m--> 735\u001b[0;31m             \u001b[0;32mraise\u001b[0m \u001b[0mvalue\u001b[0m\u001b[0;34m\u001b[0m\u001b[0;34m\u001b[0m\u001b[0m\n\u001b[0m\u001b[1;32m    736\u001b[0m         \u001b[0;32mfinally\u001b[0m\u001b[0;34m:\u001b[0m\u001b[0;34m\u001b[0m\u001b[0;34m\u001b[0m\u001b[0m\n",
      "\u001b[0;32m~/opt/anaconda3/lib/python3.7/site-packages/urllib3/connectionpool.py\u001b[0m in \u001b[0;36murlopen\u001b[0;34m(self, method, url, body, headers, retries, redirect, assert_same_host, timeout, pool_timeout, release_conn, chunked, body_pos, **response_kw)\u001b[0m\n\u001b[1;32m    671\u001b[0m                 \u001b[0mheaders\u001b[0m\u001b[0;34m=\u001b[0m\u001b[0mheaders\u001b[0m\u001b[0;34m,\u001b[0m\u001b[0;34m\u001b[0m\u001b[0;34m\u001b[0m\u001b[0m\n\u001b[0;32m--> 672\u001b[0;31m                 \u001b[0mchunked\u001b[0m\u001b[0;34m=\u001b[0m\u001b[0mchunked\u001b[0m\u001b[0;34m,\u001b[0m\u001b[0;34m\u001b[0m\u001b[0;34m\u001b[0m\u001b[0m\n\u001b[0m\u001b[1;32m    673\u001b[0m             )\n",
      "\u001b[0;32m~/opt/anaconda3/lib/python3.7/site-packages/urllib3/connectionpool.py\u001b[0m in \u001b[0;36m_make_request\u001b[0;34m(self, conn, method, url, timeout, chunked, **httplib_request_kw)\u001b[0m\n\u001b[1;32m    422\u001b[0m         \u001b[0;32mexcept\u001b[0m \u001b[0;34m(\u001b[0m\u001b[0mSocketTimeout\u001b[0m\u001b[0;34m,\u001b[0m \u001b[0mBaseSSLError\u001b[0m\u001b[0;34m,\u001b[0m \u001b[0mSocketError\u001b[0m\u001b[0;34m)\u001b[0m \u001b[0;32mas\u001b[0m \u001b[0me\u001b[0m\u001b[0;34m:\u001b[0m\u001b[0;34m\u001b[0m\u001b[0;34m\u001b[0m\u001b[0m\n\u001b[0;32m--> 423\u001b[0;31m             \u001b[0mself\u001b[0m\u001b[0;34m.\u001b[0m\u001b[0m_raise_timeout\u001b[0m\u001b[0;34m(\u001b[0m\u001b[0merr\u001b[0m\u001b[0;34m=\u001b[0m\u001b[0me\u001b[0m\u001b[0;34m,\u001b[0m \u001b[0murl\u001b[0m\u001b[0;34m=\u001b[0m\u001b[0murl\u001b[0m\u001b[0;34m,\u001b[0m \u001b[0mtimeout_value\u001b[0m\u001b[0;34m=\u001b[0m\u001b[0mread_timeout\u001b[0m\u001b[0;34m)\u001b[0m\u001b[0;34m\u001b[0m\u001b[0;34m\u001b[0m\u001b[0m\n\u001b[0m\u001b[1;32m    424\u001b[0m             \u001b[0;32mraise\u001b[0m\u001b[0;34m\u001b[0m\u001b[0;34m\u001b[0m\u001b[0m\n",
      "\u001b[0;32m~/opt/anaconda3/lib/python3.7/site-packages/urllib3/connectionpool.py\u001b[0m in \u001b[0;36m_raise_timeout\u001b[0;34m(self, err, url, timeout_value)\u001b[0m\n\u001b[1;32m    330\u001b[0m             raise ReadTimeoutError(\n\u001b[0;32m--> 331\u001b[0;31m                 \u001b[0mself\u001b[0m\u001b[0;34m,\u001b[0m \u001b[0murl\u001b[0m\u001b[0;34m,\u001b[0m \u001b[0;34m\"Read timed out. (read timeout=%s)\"\u001b[0m \u001b[0;34m%\u001b[0m \u001b[0mtimeout_value\u001b[0m\u001b[0;34m\u001b[0m\u001b[0;34m\u001b[0m\u001b[0m\n\u001b[0m\u001b[1;32m    332\u001b[0m             )\n",
      "\u001b[0;31mReadTimeoutError\u001b[0m: HTTPSConnectionPool(host='genius.com', port=443): Read timed out. (read timeout=5)",
      "\nDuring handling of the above exception, another exception occurred:\n",
      "\u001b[0;31mReadTimeout\u001b[0m                               Traceback (most recent call last)",
      "\u001b[0;32m~/opt/anaconda3/lib/python3.7/site-packages/lyricsgenius/api/base.py\u001b[0m in \u001b[0;36m_make_request\u001b[0;34m(self, path, method, params_, public_api, web, **kwargs)\u001b[0m\n\u001b[1;32m     78\u001b[0m                                                  \u001b[0mheaders\u001b[0m\u001b[0;34m=\u001b[0m\u001b[0mheader\u001b[0m\u001b[0;34m,\u001b[0m\u001b[0;34m\u001b[0m\u001b[0;34m\u001b[0m\u001b[0m\n\u001b[0;32m---> 79\u001b[0;31m                                                  **kwargs)\n\u001b[0m\u001b[1;32m     80\u001b[0m                 \u001b[0mresponse\u001b[0m\u001b[0;34m.\u001b[0m\u001b[0mraise_for_status\u001b[0m\u001b[0;34m(\u001b[0m\u001b[0;34m)\u001b[0m\u001b[0;34m\u001b[0m\u001b[0;34m\u001b[0m\u001b[0m\n",
      "\u001b[0;32m~/opt/anaconda3/lib/python3.7/site-packages/requests/sessions.py\u001b[0m in \u001b[0;36mrequest\u001b[0;34m(self, method, url, params, data, headers, cookies, files, auth, timeout, allow_redirects, proxies, hooks, stream, verify, cert, json)\u001b[0m\n\u001b[1;32m    541\u001b[0m         \u001b[0msend_kwargs\u001b[0m\u001b[0;34m.\u001b[0m\u001b[0mupdate\u001b[0m\u001b[0;34m(\u001b[0m\u001b[0msettings\u001b[0m\u001b[0;34m)\u001b[0m\u001b[0;34m\u001b[0m\u001b[0;34m\u001b[0m\u001b[0m\n\u001b[0;32m--> 542\u001b[0;31m         \u001b[0mresp\u001b[0m \u001b[0;34m=\u001b[0m \u001b[0mself\u001b[0m\u001b[0;34m.\u001b[0m\u001b[0msend\u001b[0m\u001b[0;34m(\u001b[0m\u001b[0mprep\u001b[0m\u001b[0;34m,\u001b[0m \u001b[0;34m**\u001b[0m\u001b[0msend_kwargs\u001b[0m\u001b[0;34m)\u001b[0m\u001b[0;34m\u001b[0m\u001b[0;34m\u001b[0m\u001b[0m\n\u001b[0m\u001b[1;32m    543\u001b[0m \u001b[0;34m\u001b[0m\u001b[0m\n",
      "\u001b[0;32m~/opt/anaconda3/lib/python3.7/site-packages/requests/sessions.py\u001b[0m in \u001b[0;36msend\u001b[0;34m(self, request, **kwargs)\u001b[0m\n\u001b[1;32m    654\u001b[0m         \u001b[0;31m# Send the request\u001b[0m\u001b[0;34m\u001b[0m\u001b[0;34m\u001b[0m\u001b[0;34m\u001b[0m\u001b[0m\n\u001b[0;32m--> 655\u001b[0;31m         \u001b[0mr\u001b[0m \u001b[0;34m=\u001b[0m \u001b[0madapter\u001b[0m\u001b[0;34m.\u001b[0m\u001b[0msend\u001b[0m\u001b[0;34m(\u001b[0m\u001b[0mrequest\u001b[0m\u001b[0;34m,\u001b[0m \u001b[0;34m**\u001b[0m\u001b[0mkwargs\u001b[0m\u001b[0;34m)\u001b[0m\u001b[0;34m\u001b[0m\u001b[0;34m\u001b[0m\u001b[0m\n\u001b[0m\u001b[1;32m    656\u001b[0m \u001b[0;34m\u001b[0m\u001b[0m\n",
      "\u001b[0;32m~/opt/anaconda3/lib/python3.7/site-packages/requests/adapters.py\u001b[0m in \u001b[0;36msend\u001b[0;34m(self, request, stream, timeout, verify, cert, proxies)\u001b[0m\n\u001b[1;32m    528\u001b[0m             \u001b[0;32melif\u001b[0m \u001b[0misinstance\u001b[0m\u001b[0;34m(\u001b[0m\u001b[0me\u001b[0m\u001b[0;34m,\u001b[0m \u001b[0mReadTimeoutError\u001b[0m\u001b[0;34m)\u001b[0m\u001b[0;34m:\u001b[0m\u001b[0;34m\u001b[0m\u001b[0;34m\u001b[0m\u001b[0m\n\u001b[0;32m--> 529\u001b[0;31m                 \u001b[0;32mraise\u001b[0m \u001b[0mReadTimeout\u001b[0m\u001b[0;34m(\u001b[0m\u001b[0me\u001b[0m\u001b[0;34m,\u001b[0m \u001b[0mrequest\u001b[0m\u001b[0;34m=\u001b[0m\u001b[0mrequest\u001b[0m\u001b[0;34m)\u001b[0m\u001b[0;34m\u001b[0m\u001b[0;34m\u001b[0m\u001b[0m\n\u001b[0m\u001b[1;32m    530\u001b[0m             \u001b[0;32melse\u001b[0m\u001b[0;34m:\u001b[0m\u001b[0;34m\u001b[0m\u001b[0;34m\u001b[0m\u001b[0m\n",
      "\u001b[0;31mReadTimeout\u001b[0m: HTTPSConnectionPool(host='genius.com', port=443): Read timed out. (read timeout=5)",
      "\nDuring handling of the above exception, another exception occurred:\n",
      "\u001b[0;31mTimeout\u001b[0m                                   Traceback (most recent call last)",
      "\u001b[0;32m<timed exec>\u001b[0m in \u001b[0;36m<module>\u001b[0;34m\u001b[0m\n",
      "\u001b[0;32m~/opt/anaconda3/lib/python3.7/site-packages/lyricsgenius/genius.py\u001b[0m in \u001b[0;36msearch_song\u001b[0;34m(self, title, artist, song_id, get_full_info)\u001b[0m\n\u001b[1;32m    434\u001b[0m         if (song_info['lyrics_state'] == 'complete'\n\u001b[1;32m    435\u001b[0m                 and not song_info.get('instrumental')):\n\u001b[0;32m--> 436\u001b[0;31m             \u001b[0mlyrics\u001b[0m \u001b[0;34m=\u001b[0m \u001b[0mself\u001b[0m\u001b[0;34m.\u001b[0m\u001b[0mlyrics\u001b[0m\u001b[0;34m(\u001b[0m\u001b[0msong_url\u001b[0m\u001b[0;34m=\u001b[0m\u001b[0msong_info\u001b[0m\u001b[0;34m[\u001b[0m\u001b[0;34m'url'\u001b[0m\u001b[0;34m]\u001b[0m\u001b[0;34m)\u001b[0m\u001b[0;34m\u001b[0m\u001b[0;34m\u001b[0m\u001b[0m\n\u001b[0m\u001b[1;32m    437\u001b[0m         \u001b[0;32melse\u001b[0m\u001b[0;34m:\u001b[0m\u001b[0;34m\u001b[0m\u001b[0;34m\u001b[0m\u001b[0m\n\u001b[1;32m    438\u001b[0m             \u001b[0mlyrics\u001b[0m \u001b[0;34m=\u001b[0m \u001b[0;34m\"\"\u001b[0m\u001b[0;34m\u001b[0m\u001b[0;34m\u001b[0m\u001b[0m\n",
      "\u001b[0;32m~/opt/anaconda3/lib/python3.7/site-packages/lyricsgenius/genius.py\u001b[0m in \u001b[0;36mlyrics\u001b[0;34m(self, song_id, song_url, remove_section_headers)\u001b[0m\n\u001b[1;32m    130\u001b[0m         \u001b[0;31m# Scrape the song lyrics from the HTML\u001b[0m\u001b[0;34m\u001b[0m\u001b[0;34m\u001b[0m\u001b[0;34m\u001b[0m\u001b[0m\n\u001b[1;32m    131\u001b[0m         html = BeautifulSoup(\n\u001b[0;32m--> 132\u001b[0;31m             \u001b[0mself\u001b[0m\u001b[0;34m.\u001b[0m\u001b[0m_make_request\u001b[0m\u001b[0;34m(\u001b[0m\u001b[0mpath\u001b[0m\u001b[0;34m,\u001b[0m \u001b[0mweb\u001b[0m\u001b[0;34m=\u001b[0m\u001b[0;32mTrue\u001b[0m\u001b[0;34m)\u001b[0m\u001b[0;34m.\u001b[0m\u001b[0mreplace\u001b[0m\u001b[0;34m(\u001b[0m\u001b[0;34m'<br/>'\u001b[0m\u001b[0;34m,\u001b[0m \u001b[0;34m'\\n'\u001b[0m\u001b[0;34m)\u001b[0m\u001b[0;34m,\u001b[0m\u001b[0;34m\u001b[0m\u001b[0;34m\u001b[0m\u001b[0m\n\u001b[0m\u001b[1;32m    133\u001b[0m             \u001b[0;34m\"html.parser\"\u001b[0m\u001b[0;34m\u001b[0m\u001b[0;34m\u001b[0m\u001b[0m\n\u001b[1;32m    134\u001b[0m         )\n",
      "\u001b[0;32m~/opt/anaconda3/lib/python3.7/site-packages/lyricsgenius/api/base.py\u001b[0m in \u001b[0;36m_make_request\u001b[0;34m(self, path, method, params_, public_api, web, **kwargs)\u001b[0m\n\u001b[1;32m     82\u001b[0m                 \u001b[0merror\u001b[0m \u001b[0;34m=\u001b[0m \u001b[0;34m\"Request timed out:\\n{e}\"\u001b[0m\u001b[0;34m.\u001b[0m\u001b[0mformat\u001b[0m\u001b[0;34m(\u001b[0m\u001b[0me\u001b[0m\u001b[0;34m=\u001b[0m\u001b[0me\u001b[0m\u001b[0;34m)\u001b[0m\u001b[0;34m\u001b[0m\u001b[0;34m\u001b[0m\u001b[0m\n\u001b[1;32m     83\u001b[0m                 \u001b[0;32mif\u001b[0m \u001b[0mtries\u001b[0m \u001b[0;34m>\u001b[0m \u001b[0mself\u001b[0m\u001b[0;34m.\u001b[0m\u001b[0mretries\u001b[0m\u001b[0;34m:\u001b[0m\u001b[0;34m\u001b[0m\u001b[0;34m\u001b[0m\u001b[0m\n\u001b[0;32m---> 84\u001b[0;31m                     \u001b[0;32mraise\u001b[0m \u001b[0mTimeout\u001b[0m\u001b[0;34m(\u001b[0m\u001b[0merror\u001b[0m\u001b[0;34m)\u001b[0m\u001b[0;34m\u001b[0m\u001b[0;34m\u001b[0m\u001b[0m\n\u001b[0m\u001b[1;32m     85\u001b[0m             \u001b[0;32mexcept\u001b[0m \u001b[0mHTTPError\u001b[0m \u001b[0;32mas\u001b[0m \u001b[0me\u001b[0m\u001b[0;34m:\u001b[0m\u001b[0;34m\u001b[0m\u001b[0;34m\u001b[0m\u001b[0m\n\u001b[1;32m     86\u001b[0m                 \u001b[0merror\u001b[0m \u001b[0;34m=\u001b[0m \u001b[0mget_description\u001b[0m\u001b[0;34m(\u001b[0m\u001b[0me\u001b[0m\u001b[0;34m)\u001b[0m\u001b[0;34m\u001b[0m\u001b[0;34m\u001b[0m\u001b[0m\n",
      "\u001b[0;31mTimeout\u001b[0m: Request timed out:\nHTTPSConnectionPool(host='genius.com', port=443): Read timed out. (read timeout=5)"
     ]
    }
   ],
   "source": [
    "%%time\n",
    "for i in tqdm(range(1015, 2000)):\n",
    "    song_title = df.loc[i, 'song']\n",
    "    artist_name = df.loc[i, 'artist']\n",
    "\n",
    "    song = api.search_song(song_title, artist=artist_name)\n",
    "    try:\n",
    "        song_lyrics = re.sub(\"\\n\", \" \", song.lyrics) #Remove newline breaks, we won't need them.\n",
    "        df.loc[i, 'lyrics'] = song_lyrics\n",
    "    except:\n",
    "        pass"
   ]
  },
  {
   "cell_type": "code",
   "execution_count": 17,
   "metadata": {},
   "outputs": [
    {
     "output_type": "stream",
     "name": "stderr",
     "text": [
      "100%|██████████| 20/20 [00:52<00:00,  2.62s/it]CPU times: user 976 ms, sys: 60.1 ms, total: 1.04 s\n",
      "Wall time: 52.4 s\n",
      "\n"
     ]
    }
   ],
   "source": [
    "%%time\n",
    "for i in tqdm(range(1980, 2000)):\n",
    "    song_title = df.loc[i, 'song']\n",
    "    artist_name = df.loc[i, 'artist']\n",
    "\n",
    "    song = api.search_song(song_title, artist=artist_name)\n",
    "    try:\n",
    "        song_lyrics = re.sub(\"\\n\", \" \", song.lyrics) #Remove newline breaks, we won't need them.\n",
    "        df.loc[i, 'lyrics'] = song_lyrics\n",
    "    except:\n",
    "        pass"
   ]
  },
  {
   "cell_type": "code",
   "execution_count": 18,
   "metadata": {},
   "outputs": [],
   "source": [
    "df[:2000].to_csv('top2000.csv')"
   ]
  },
  {
   "cell_type": "code",
   "execution_count": 23,
   "metadata": {},
   "outputs": [
    {
     "output_type": "stream",
     "name": "stderr",
     "text": [
      "100%|██████████| 300/300 [19:29<00:00,  3.90s/it]CPU times: user 15.1 s, sys: 1.14 s, total: 16.2 s\n",
      "Wall time: 19min 29s\n",
      "\n"
     ]
    }
   ],
   "source": [
    "%%time\n",
    "for i in tqdm(range(2700, 3000)):\n",
    "    song_title = df.loc[i, 'song']\n",
    "    artist_name = df.loc[i, 'artist']\n",
    "\n",
    "    song = api.search_song(song_title, artist=artist_name)\n",
    "    try:\n",
    "        song_lyrics = re.sub(\"\\n\", \" \", song.lyrics) #Remove newline breaks, we won't need them.\n",
    "        df.loc[i, 'lyrics'] = song_lyrics\n",
    "    except:\n",
    "        pass"
   ]
  },
  {
   "cell_type": "code",
   "execution_count": 28,
   "metadata": {},
   "outputs": [],
   "source": [
    "df[:3000].to_csv('top3000.csv')"
   ]
  },
  {
   "cell_type": "code",
   "execution_count": 34,
   "metadata": {},
   "outputs": [
    {
     "output_type": "stream",
     "name": "stderr",
     "text": [
      "100%|██████████| 50/50 [02:57<00:00,  3.56s/it]CPU times: user 2.81 s, sys: 649 ms, total: 3.46 s\n",
      "Wall time: 2min 57s\n",
      "\n"
     ]
    }
   ],
   "source": [
    "%%time\n",
    "for i in tqdm(range(3950, 4000)):\n",
    "    song_title = df.loc[i, 'song']\n",
    "    artist_name = df.loc[i, 'artist']\n",
    "\n",
    "    song = api.search_song(song_title, artist=artist_name)\n",
    "    try:\n",
    "        song_lyrics = re.sub(\"\\n\", \" \", song.lyrics) #Remove newline breaks, we won't need them.\n",
    "        df.loc[i, 'lyrics'] = song_lyrics\n",
    "    except:\n",
    "        pass"
   ]
  },
  {
   "cell_type": "code",
   "execution_count": 35,
   "metadata": {},
   "outputs": [],
   "source": [
    "df[:4000].to_csv('top4000.csv')"
   ]
  },
  {
   "cell_type": "code",
   "execution_count": 43,
   "metadata": {},
   "outputs": [
    {
     "output_type": "stream",
     "name": "stderr",
     "text": [
      "100%|██████████| 40/40 [02:46<00:00,  4.16s/it]CPU times: user 2.55 s, sys: 207 ms, total: 2.76 s\n",
      "Wall time: 2min 46s\n",
      "\n"
     ]
    }
   ],
   "source": [
    "%%time\n",
    "for i in tqdm(range(4960, 5000)):\n",
    "    song_title = df.loc[i, 'song']\n",
    "    artist_name = df.loc[i, 'artist']\n",
    "\n",
    "    song = api.search_song(song_title, artist=artist_name)\n",
    "    try:\n",
    "        song_lyrics = re.sub(\"\\n\", \" \", song.lyrics) #Remove newline breaks, we won't need them.\n",
    "        df.loc[i, 'lyrics'] = song_lyrics\n",
    "    except:\n",
    "        pass"
   ]
  },
  {
   "cell_type": "code",
   "execution_count": 44,
   "metadata": {},
   "outputs": [],
   "source": [
    "df[:5000].to_csv('top5000.csv')"
   ]
  },
  {
   "cell_type": "code",
   "execution_count": 51,
   "metadata": {},
   "outputs": [
    {
     "output_type": "stream",
     "name": "stderr",
     "text": [
      "100%|██████████| 85/85 [05:03<00:00,  3.57s/it]CPU times: user 5.08 s, sys: 278 ms, total: 5.36 s\n",
      "Wall time: 5min 3s\n",
      "\n"
     ]
    }
   ],
   "source": [
    "%%time\n",
    "for i in tqdm(range(5915, 6000)):\n",
    "    song_title = df.loc[i, 'song']\n",
    "    artist_name = df.loc[i, 'artist']\n",
    "\n",
    "    song = api.search_song(song_title, artist=artist_name)\n",
    "    try:\n",
    "        song_lyrics = re.sub(\"\\n\", \" \", song.lyrics) #Remove newline breaks, we won't need them.\n",
    "        df.loc[i, 'lyrics'] = song_lyrics\n",
    "    except:\n",
    "        pass"
   ]
  },
  {
   "cell_type": "code",
   "execution_count": 52,
   "metadata": {},
   "outputs": [],
   "source": [
    "df[:6000].to_csv('top6000.csv')"
   ]
  },
  {
   "cell_type": "code",
   "execution_count": 56,
   "metadata": {},
   "outputs": [
    {
     "output_type": "stream",
     "name": "stderr",
     "text": [
      "100%|██████████| 10/10 [00:33<00:00,  3.38s/it]CPU times: user 363 ms, sys: 34.9 ms, total: 398 ms\n",
      "Wall time: 33.8 s\n",
      "\n"
     ]
    }
   ],
   "source": [
    "%%time\n",
    "for i in tqdm(range(6990, 7000)):\n",
    "    song_title = df.loc[i, 'song']\n",
    "    artist_name = df.loc[i, 'artist']\n",
    "\n",
    "    song = api.search_song(song_title, artist=artist_name)\n",
    "    try:\n",
    "        song_lyrics = re.sub(\"\\n\", \" \", song.lyrics) #Remove newline breaks, we won't need them.\n",
    "        df.loc[i, 'lyrics'] = song_lyrics\n",
    "    except:\n",
    "        pass"
   ]
  },
  {
   "cell_type": "code",
   "execution_count": 57,
   "metadata": {},
   "outputs": [],
   "source": [
    "df[:7000].to_csv('top7000.csv')"
   ]
  },
  {
   "cell_type": "code",
   "execution_count": 64,
   "metadata": {},
   "outputs": [
    {
     "output_type": "stream",
     "name": "stderr",
     "text": [
      "100%|██████████| 200/200 [12:25<00:00,  3.73s/it]CPU times: user 10.7 s, sys: 815 ms, total: 11.5 s\n",
      "Wall time: 12min 25s\n",
      "\n"
     ]
    }
   ],
   "source": [
    "%%time\n",
    "for i in tqdm(range(7800, 8000)):\n",
    "    song_title = df.loc[i, 'song']\n",
    "    artist_name = df.loc[i, 'artist']\n",
    "\n",
    "    song = api.search_song(song_title, artist=artist_name)\n",
    "    try:\n",
    "        song_lyrics = re.sub(\"\\n\", \" \", song.lyrics) #Remove newline breaks, we won't need them.\n",
    "        df.loc[i, 'lyrics'] = song_lyrics\n",
    "    except:\n",
    "        pass"
   ]
  },
  {
   "cell_type": "code",
   "execution_count": 66,
   "metadata": {},
   "outputs": [
    {
     "output_type": "stream",
     "name": "stderr",
     "text": [
      "100%|██████████| 620/620 [40:13<00:00,  3.89s/it]CPU times: user 36.6 s, sys: 2.08 s, total: 38.7 s\n",
      "Wall time: 40min 13s\n",
      "\n"
     ]
    }
   ],
   "source": [
    "%%time\n",
    "for i in tqdm(range(8380, 9000)):\n",
    "    song_title = df.loc[i, 'song']\n",
    "    artist_name = df.loc[i, 'artist']\n",
    "\n",
    "    song = api.search_song(song_title, artist=artist_name)\n",
    "    try:\n",
    "        song_lyrics = re.sub(\"\\n\", \" \", song.lyrics) #Remove newline breaks, we won't need them.\n",
    "        df.loc[i, 'lyrics'] = song_lyrics\n",
    "    except:\n",
    "        pass"
   ]
  },
  {
   "cell_type": "code",
   "execution_count": 75,
   "metadata": {},
   "outputs": [
    {
     "output_type": "stream",
     "name": "stderr",
     "text": [
      "100%|██████████| 410/410 [25:55<00:00,  3.79s/it]CPU times: user 23.2 s, sys: 1.55 s, total: 24.7 s\n",
      "Wall time: 25min 55s\n",
      "\n"
     ]
    }
   ],
   "source": [
    "%%time\n",
    "for i in tqdm(range(9590, 10000)):\n",
    "    song_title = df.loc[i, 'song']\n",
    "    artist_name = df.loc[i, 'artist']\n",
    "\n",
    "    song = api.search_song(song_title, artist=artist_name)\n",
    "    try:\n",
    "        song_lyrics = re.sub(\"\\n\", \" \", song.lyrics) #Remove newline breaks, we won't need them.\n",
    "        df.loc[i, 'lyrics'] = song_lyrics\n",
    "    except:\n",
    "        pass"
   ]
  },
  {
   "cell_type": "code",
   "execution_count": 94,
   "metadata": {},
   "outputs": [
    {
     "output_type": "stream",
     "name": "stderr",
     "text": [
      "100%|██████████| 50/50 [03:38<00:00,  4.36s/it]CPU times: user 2.27 s, sys: 306 ms, total: 2.58 s\n",
      "Wall time: 3min 38s\n",
      "\n"
     ]
    }
   ],
   "source": [
    "%%time\n",
    "for i in tqdm(range(11950, 12000)):\n",
    "    song_title = df.loc[i, 'song']\n",
    "    artist_name = df.loc[i, 'artist']\n",
    "\n",
    "    song = api.search_song(song_title, artist=artist_name)\n",
    "    try:\n",
    "        song_lyrics = re.sub(\"\\n\", \" \", song.lyrics) #Remove newline breaks, we won't need them.\n",
    "        df.loc[i, 'lyrics'] = song_lyrics\n",
    "    except:\n",
    "        pass"
   ]
  },
  {
   "cell_type": "code",
   "execution_count": 95,
   "metadata": {},
   "outputs": [],
   "source": [
    "df[:12000].to_csv('top12000.csv')"
   ]
  },
  {
   "cell_type": "code",
   "execution_count": 46,
   "metadata": {},
   "outputs": [
    {
     "output_type": "stream",
     "name": "stderr",
     "text": [
      "100%|██████████| 50/50 [02:50<00:00,  3.41s/it]CPU times: user 2.9 s, sys: 149 ms, total: 3.05 s\n",
      "Wall time: 2min 50s\n",
      "\n"
     ]
    }
   ],
   "source": [
    "%%time\n",
    "for i in tqdm(range(16950, 17000)):\n",
    "    song_title = df.loc[i, 'song']\n",
    "    artist_name = df.loc[i, 'artist']\n",
    "\n",
    "    song = api.search_song(song_title, artist=artist_name)\n",
    "    try:\n",
    "        song_lyrics = re.sub(\"\\n\", \" \", song.lyrics) #Remove newline breaks, we won't need them.\n",
    "        df.loc[i, 'lyrics'] = song_lyrics\n",
    "    except:\n",
    "        pass"
   ]
  },
  {
   "cell_type": "code",
   "execution_count": 58,
   "metadata": {},
   "outputs": [
    {
     "output_type": "stream",
     "name": "stderr",
     "text": [
      "100%|██████████| 110/110 [07:02<00:00,  3.84s/it]CPU times: user 6.12 s, sys: 804 ms, total: 6.92 s\n",
      "Wall time: 7min 2s\n",
      "\n"
     ]
    }
   ],
   "source": [
    "%%time\n",
    "for i in tqdm(range(18890, 19000)):\n",
    "    song_title = df.loc[i, 'song']\n",
    "    artist_name = df.loc[i, 'artist']\n",
    "\n",
    "    song = api.search_song(song_title, artist=artist_name)\n",
    "    try:\n",
    "        song_lyrics = re.sub(\"\\n\", \" \", song.lyrics) #Remove newline breaks, we won't need them.\n",
    "        df.loc[i, 'lyrics'] = song_lyrics\n",
    "    except:\n",
    "        pass"
   ]
  },
  {
   "cell_type": "code",
   "execution_count": 63,
   "metadata": {},
   "outputs": [
    {
     "output_type": "stream",
     "name": "stderr",
     "text": [
      "100%|██████████| 65/65 [03:59<00:00,  3.68s/it]CPU times: user 3.21 s, sys: 316 ms, total: 3.52 s\n",
      "Wall time: 3min 59s\n",
      "\n"
     ]
    }
   ],
   "source": [
    "%%time\n",
    "for i in tqdm(range(19935, 20000)):\n",
    "    song_title = df.loc[i, 'song']\n",
    "    artist_name = df.loc[i, 'artist']\n",
    "\n",
    "    song = api.search_song(song_title, artist=artist_name)\n",
    "    try:\n",
    "        song_lyrics = re.sub(\"\\n\", \" \", song.lyrics) #Remove newline breaks, we won't need them.\n",
    "        df.loc[i, 'lyrics'] = song_lyrics\n",
    "    except:\n",
    "        pass"
   ]
  },
  {
   "cell_type": "code",
   "execution_count": 74,
   "metadata": {},
   "outputs": [
    {
     "output_type": "stream",
     "name": "stderr",
     "text": [
      "100%|██████████| 100/100 [06:25<00:00,  3.86s/it]CPU times: user 5.54 s, sys: 558 ms, total: 6.1 s\n",
      "Wall time: 6min 25s\n",
      "\n"
     ]
    }
   ],
   "source": [
    "%%time\n",
    "for i in tqdm(range(20900, 21000)):\n",
    "    song_title = df.loc[i, 'song']\n",
    "    artist_name = df.loc[i, 'artist']\n",
    "\n",
    "    song = api.search_song(song_title, artist=artist_name)\n",
    "    try:\n",
    "        song_lyrics = re.sub(\"\\n\", \" \", song.lyrics) #Remove newline breaks, we won't need them.\n",
    "        df.loc[i, 'lyrics'] = song_lyrics\n",
    "    except:\n",
    "        pass"
   ]
  },
  {
   "cell_type": "code",
   "execution_count": 83,
   "metadata": {},
   "outputs": [
    {
     "output_type": "stream",
     "name": "stderr",
     "text": [
      "100%|██████████| 205/205 [13:10<00:00,  3.86s/it]CPU times: user 11.7 s, sys: 834 ms, total: 12.5 s\n",
      "Wall time: 13min 10s\n",
      "\n"
     ]
    }
   ],
   "source": [
    "%%time\n",
    "for i in tqdm(range(21795, 22000)):\n",
    "    song_title = df.loc[i, 'song']\n",
    "    artist_name = df.loc[i, 'artist']\n",
    "\n",
    "    song = api.search_song(song_title, artist=artist_name)\n",
    "    try:\n",
    "        song_lyrics = re.sub(\"\\n\", \" \", song.lyrics) #Remove newline breaks, we won't need them.\n",
    "        df.loc[i, 'lyrics'] = song_lyrics\n",
    "    except:\n",
    "        pass"
   ]
  },
  {
   "cell_type": "code",
   "execution_count": 88,
   "metadata": {},
   "outputs": [
    {
     "output_type": "stream",
     "name": "stderr",
     "text": [
      " 13%|█▎        | 126/940 [08:31<55:03,  4.06s/it]\n"
     ]
    },
    {
     "output_type": "error",
     "ename": "KeyboardInterrupt",
     "evalue": "",
     "traceback": [
      "\u001b[0;31m---------------------------------------------------------------------------\u001b[0m",
      "\u001b[0;31mKeyboardInterrupt\u001b[0m                         Traceback (most recent call last)",
      "\u001b[0;32m<timed exec>\u001b[0m in \u001b[0;36m<module>\u001b[0;34m\u001b[0m\n",
      "\u001b[0;32m~/opt/anaconda3/lib/python3.7/site-packages/lyricsgenius/genius.py\u001b[0m in \u001b[0;36msearch_song\u001b[0;34m(self, title, artist, song_id, get_full_info)\u001b[0m\n\u001b[1;32m    399\u001b[0m         \u001b[0;32melse\u001b[0m\u001b[0;34m:\u001b[0m\u001b[0;34m\u001b[0m\u001b[0;34m\u001b[0m\u001b[0m\n\u001b[1;32m    400\u001b[0m             \u001b[0msearch_term\u001b[0m \u001b[0;34m=\u001b[0m \u001b[0;34m\"{s} {a}\"\u001b[0m\u001b[0;34m.\u001b[0m\u001b[0mformat\u001b[0m\u001b[0;34m(\u001b[0m\u001b[0ms\u001b[0m\u001b[0;34m=\u001b[0m\u001b[0mtitle\u001b[0m\u001b[0;34m,\u001b[0m \u001b[0ma\u001b[0m\u001b[0;34m=\u001b[0m\u001b[0martist\u001b[0m\u001b[0;34m)\u001b[0m\u001b[0;34m.\u001b[0m\u001b[0mstrip\u001b[0m\u001b[0;34m(\u001b[0m\u001b[0;34m)\u001b[0m\u001b[0;34m\u001b[0m\u001b[0;34m\u001b[0m\u001b[0m\n\u001b[0;32m--> 401\u001b[0;31m             \u001b[0msearch_response\u001b[0m \u001b[0;34m=\u001b[0m \u001b[0mself\u001b[0m\u001b[0;34m.\u001b[0m\u001b[0msearch_all\u001b[0m\u001b[0;34m(\u001b[0m\u001b[0msearch_term\u001b[0m\u001b[0;34m)\u001b[0m\u001b[0;34m\u001b[0m\u001b[0;34m\u001b[0m\u001b[0m\n\u001b[0m\u001b[1;32m    402\u001b[0m             result = self._get_item_from_search_response(search_response,\n\u001b[1;32m    403\u001b[0m                                                          \u001b[0mtitle\u001b[0m\u001b[0;34m,\u001b[0m\u001b[0;34m\u001b[0m\u001b[0;34m\u001b[0m\u001b[0m\n",
      "\u001b[0;32m~/opt/anaconda3/lib/python3.7/site-packages/lyricsgenius/api/public_methods/search.py\u001b[0m in \u001b[0;36msearch_all\u001b[0;34m(self, search_term, per_page, page)\u001b[0m\n\u001b[1;32m    208\u001b[0m         \"\"\"\n\u001b[1;32m    209\u001b[0m         \u001b[0mendpoint\u001b[0m \u001b[0;34m=\u001b[0m \u001b[0;34m'multi'\u001b[0m\u001b[0;34m\u001b[0m\u001b[0;34m\u001b[0m\u001b[0m\n\u001b[0;32m--> 210\u001b[0;31m         \u001b[0;32mreturn\u001b[0m \u001b[0mself\u001b[0m\u001b[0;34m.\u001b[0m\u001b[0msearch\u001b[0m\u001b[0;34m(\u001b[0m\u001b[0msearch_term\u001b[0m\u001b[0;34m,\u001b[0m \u001b[0mper_page\u001b[0m\u001b[0;34m,\u001b[0m \u001b[0mpage\u001b[0m\u001b[0;34m,\u001b[0m \u001b[0mendpoint\u001b[0m\u001b[0;34m)\u001b[0m\u001b[0;34m\u001b[0m\u001b[0;34m\u001b[0m\u001b[0m\n\u001b[0m",
      "\u001b[0;32m~/opt/anaconda3/lib/python3.7/site-packages/lyricsgenius/api/public_methods/search.py\u001b[0m in \u001b[0;36msearch\u001b[0;34m(self, search_term, per_page, page, type_)\u001b[0m\n\u001b[1;32m     43\u001b[0m                   \u001b[0;34m'per_page'\u001b[0m\u001b[0;34m:\u001b[0m \u001b[0mper_page\u001b[0m\u001b[0;34m,\u001b[0m\u001b[0;34m\u001b[0m\u001b[0;34m\u001b[0m\u001b[0m\n\u001b[1;32m     44\u001b[0m                   'page': page}\n\u001b[0;32m---> 45\u001b[0;31m         \u001b[0;32mreturn\u001b[0m \u001b[0mself\u001b[0m\u001b[0;34m.\u001b[0m\u001b[0m_make_request\u001b[0m\u001b[0;34m(\u001b[0m\u001b[0mpath\u001b[0m\u001b[0;34m,\u001b[0m \u001b[0mparams_\u001b[0m\u001b[0;34m=\u001b[0m\u001b[0mparams\u001b[0m\u001b[0;34m,\u001b[0m \u001b[0mpublic_api\u001b[0m\u001b[0;34m=\u001b[0m\u001b[0;32mTrue\u001b[0m\u001b[0;34m)\u001b[0m\u001b[0;34m\u001b[0m\u001b[0;34m\u001b[0m\u001b[0m\n\u001b[0m\u001b[1;32m     46\u001b[0m \u001b[0;34m\u001b[0m\u001b[0m\n\u001b[1;32m     47\u001b[0m     \u001b[0;32mdef\u001b[0m \u001b[0msearch_albums\u001b[0m\u001b[0;34m(\u001b[0m\u001b[0mself\u001b[0m\u001b[0;34m,\u001b[0m \u001b[0msearch_term\u001b[0m\u001b[0;34m,\u001b[0m \u001b[0mper_page\u001b[0m\u001b[0;34m=\u001b[0m\u001b[0;32mNone\u001b[0m\u001b[0;34m,\u001b[0m \u001b[0mpage\u001b[0m\u001b[0;34m=\u001b[0m\u001b[0;32mNone\u001b[0m\u001b[0;34m)\u001b[0m\u001b[0;34m:\u001b[0m\u001b[0;34m\u001b[0m\u001b[0;34m\u001b[0m\u001b[0m\n",
      "\u001b[0;32m~/opt/anaconda3/lib/python3.7/site-packages/lyricsgenius/api/base.py\u001b[0m in \u001b[0;36m_make_request\u001b[0;34m(self, path, method, params_, public_api, web, **kwargs)\u001b[0m\n\u001b[1;32m     77\u001b[0m                                                  \u001b[0mparams\u001b[0m\u001b[0;34m=\u001b[0m\u001b[0mparams_\u001b[0m\u001b[0;34m,\u001b[0m\u001b[0;34m\u001b[0m\u001b[0;34m\u001b[0m\u001b[0m\n\u001b[1;32m     78\u001b[0m                                                  \u001b[0mheaders\u001b[0m\u001b[0;34m=\u001b[0m\u001b[0mheader\u001b[0m\u001b[0;34m,\u001b[0m\u001b[0;34m\u001b[0m\u001b[0;34m\u001b[0m\u001b[0m\n\u001b[0;32m---> 79\u001b[0;31m                                                  **kwargs)\n\u001b[0m\u001b[1;32m     80\u001b[0m                 \u001b[0mresponse\u001b[0m\u001b[0;34m.\u001b[0m\u001b[0mraise_for_status\u001b[0m\u001b[0;34m(\u001b[0m\u001b[0;34m)\u001b[0m\u001b[0;34m\u001b[0m\u001b[0;34m\u001b[0m\u001b[0m\n\u001b[1;32m     81\u001b[0m             \u001b[0;32mexcept\u001b[0m \u001b[0mTimeout\u001b[0m \u001b[0;32mas\u001b[0m \u001b[0me\u001b[0m\u001b[0;34m:\u001b[0m\u001b[0;34m\u001b[0m\u001b[0;34m\u001b[0m\u001b[0m\n",
      "\u001b[0;32m~/opt/anaconda3/lib/python3.7/site-packages/requests/sessions.py\u001b[0m in \u001b[0;36mrequest\u001b[0;34m(self, method, url, params, data, headers, cookies, files, auth, timeout, allow_redirects, proxies, hooks, stream, verify, cert, json)\u001b[0m\n\u001b[1;32m    540\u001b[0m         }\n\u001b[1;32m    541\u001b[0m         \u001b[0msend_kwargs\u001b[0m\u001b[0;34m.\u001b[0m\u001b[0mupdate\u001b[0m\u001b[0;34m(\u001b[0m\u001b[0msettings\u001b[0m\u001b[0;34m)\u001b[0m\u001b[0;34m\u001b[0m\u001b[0;34m\u001b[0m\u001b[0m\n\u001b[0;32m--> 542\u001b[0;31m         \u001b[0mresp\u001b[0m \u001b[0;34m=\u001b[0m \u001b[0mself\u001b[0m\u001b[0;34m.\u001b[0m\u001b[0msend\u001b[0m\u001b[0;34m(\u001b[0m\u001b[0mprep\u001b[0m\u001b[0;34m,\u001b[0m \u001b[0;34m**\u001b[0m\u001b[0msend_kwargs\u001b[0m\u001b[0;34m)\u001b[0m\u001b[0;34m\u001b[0m\u001b[0;34m\u001b[0m\u001b[0m\n\u001b[0m\u001b[1;32m    543\u001b[0m \u001b[0;34m\u001b[0m\u001b[0m\n\u001b[1;32m    544\u001b[0m         \u001b[0;32mreturn\u001b[0m \u001b[0mresp\u001b[0m\u001b[0;34m\u001b[0m\u001b[0;34m\u001b[0m\u001b[0m\n",
      "\u001b[0;32m~/opt/anaconda3/lib/python3.7/site-packages/requests/sessions.py\u001b[0m in \u001b[0;36msend\u001b[0;34m(self, request, **kwargs)\u001b[0m\n\u001b[1;32m    653\u001b[0m \u001b[0;34m\u001b[0m\u001b[0m\n\u001b[1;32m    654\u001b[0m         \u001b[0;31m# Send the request\u001b[0m\u001b[0;34m\u001b[0m\u001b[0;34m\u001b[0m\u001b[0;34m\u001b[0m\u001b[0m\n\u001b[0;32m--> 655\u001b[0;31m         \u001b[0mr\u001b[0m \u001b[0;34m=\u001b[0m \u001b[0madapter\u001b[0m\u001b[0;34m.\u001b[0m\u001b[0msend\u001b[0m\u001b[0;34m(\u001b[0m\u001b[0mrequest\u001b[0m\u001b[0;34m,\u001b[0m \u001b[0;34m**\u001b[0m\u001b[0mkwargs\u001b[0m\u001b[0;34m)\u001b[0m\u001b[0;34m\u001b[0m\u001b[0;34m\u001b[0m\u001b[0m\n\u001b[0m\u001b[1;32m    656\u001b[0m \u001b[0;34m\u001b[0m\u001b[0m\n\u001b[1;32m    657\u001b[0m         \u001b[0;31m# Total elapsed time of the request (approximately)\u001b[0m\u001b[0;34m\u001b[0m\u001b[0;34m\u001b[0m\u001b[0;34m\u001b[0m\u001b[0m\n",
      "\u001b[0;32m~/opt/anaconda3/lib/python3.7/site-packages/requests/adapters.py\u001b[0m in \u001b[0;36msend\u001b[0;34m(self, request, stream, timeout, verify, cert, proxies)\u001b[0m\n\u001b[1;32m    447\u001b[0m                     \u001b[0mdecode_content\u001b[0m\u001b[0;34m=\u001b[0m\u001b[0;32mFalse\u001b[0m\u001b[0;34m,\u001b[0m\u001b[0;34m\u001b[0m\u001b[0;34m\u001b[0m\u001b[0m\n\u001b[1;32m    448\u001b[0m                     \u001b[0mretries\u001b[0m\u001b[0;34m=\u001b[0m\u001b[0mself\u001b[0m\u001b[0;34m.\u001b[0m\u001b[0mmax_retries\u001b[0m\u001b[0;34m,\u001b[0m\u001b[0;34m\u001b[0m\u001b[0;34m\u001b[0m\u001b[0m\n\u001b[0;32m--> 449\u001b[0;31m                     \u001b[0mtimeout\u001b[0m\u001b[0;34m=\u001b[0m\u001b[0mtimeout\u001b[0m\u001b[0;34m\u001b[0m\u001b[0;34m\u001b[0m\u001b[0m\n\u001b[0m\u001b[1;32m    450\u001b[0m                 )\n\u001b[1;32m    451\u001b[0m \u001b[0;34m\u001b[0m\u001b[0m\n",
      "\u001b[0;32m~/opt/anaconda3/lib/python3.7/site-packages/urllib3/connectionpool.py\u001b[0m in \u001b[0;36murlopen\u001b[0;34m(self, method, url, body, headers, retries, redirect, assert_same_host, timeout, pool_timeout, release_conn, chunked, body_pos, **response_kw)\u001b[0m\n\u001b[1;32m    670\u001b[0m                 \u001b[0mbody\u001b[0m\u001b[0;34m=\u001b[0m\u001b[0mbody\u001b[0m\u001b[0;34m,\u001b[0m\u001b[0;34m\u001b[0m\u001b[0;34m\u001b[0m\u001b[0m\n\u001b[1;32m    671\u001b[0m                 \u001b[0mheaders\u001b[0m\u001b[0;34m=\u001b[0m\u001b[0mheaders\u001b[0m\u001b[0;34m,\u001b[0m\u001b[0;34m\u001b[0m\u001b[0;34m\u001b[0m\u001b[0m\n\u001b[0;32m--> 672\u001b[0;31m                 \u001b[0mchunked\u001b[0m\u001b[0;34m=\u001b[0m\u001b[0mchunked\u001b[0m\u001b[0;34m,\u001b[0m\u001b[0;34m\u001b[0m\u001b[0;34m\u001b[0m\u001b[0m\n\u001b[0m\u001b[1;32m    673\u001b[0m             )\n\u001b[1;32m    674\u001b[0m \u001b[0;34m\u001b[0m\u001b[0m\n",
      "\u001b[0;32m~/opt/anaconda3/lib/python3.7/site-packages/urllib3/connectionpool.py\u001b[0m in \u001b[0;36m_make_request\u001b[0;34m(self, conn, method, url, timeout, chunked, **httplib_request_kw)\u001b[0m\n\u001b[1;32m    419\u001b[0m                     \u001b[0;31m# Python 3 (including for exceptions like SystemExit).\u001b[0m\u001b[0;34m\u001b[0m\u001b[0;34m\u001b[0m\u001b[0;34m\u001b[0m\u001b[0m\n\u001b[1;32m    420\u001b[0m                     \u001b[0;31m# Otherwise it looks like a bug in the code.\u001b[0m\u001b[0;34m\u001b[0m\u001b[0;34m\u001b[0m\u001b[0;34m\u001b[0m\u001b[0m\n\u001b[0;32m--> 421\u001b[0;31m                     \u001b[0msix\u001b[0m\u001b[0;34m.\u001b[0m\u001b[0mraise_from\u001b[0m\u001b[0;34m(\u001b[0m\u001b[0me\u001b[0m\u001b[0;34m,\u001b[0m \u001b[0;32mNone\u001b[0m\u001b[0;34m)\u001b[0m\u001b[0;34m\u001b[0m\u001b[0;34m\u001b[0m\u001b[0m\n\u001b[0m\u001b[1;32m    422\u001b[0m         \u001b[0;32mexcept\u001b[0m \u001b[0;34m(\u001b[0m\u001b[0mSocketTimeout\u001b[0m\u001b[0;34m,\u001b[0m \u001b[0mBaseSSLError\u001b[0m\u001b[0;34m,\u001b[0m \u001b[0mSocketError\u001b[0m\u001b[0;34m)\u001b[0m \u001b[0;32mas\u001b[0m \u001b[0me\u001b[0m\u001b[0;34m:\u001b[0m\u001b[0;34m\u001b[0m\u001b[0;34m\u001b[0m\u001b[0m\n\u001b[1;32m    423\u001b[0m             \u001b[0mself\u001b[0m\u001b[0;34m.\u001b[0m\u001b[0m_raise_timeout\u001b[0m\u001b[0;34m(\u001b[0m\u001b[0merr\u001b[0m\u001b[0;34m=\u001b[0m\u001b[0me\u001b[0m\u001b[0;34m,\u001b[0m \u001b[0murl\u001b[0m\u001b[0;34m=\u001b[0m\u001b[0murl\u001b[0m\u001b[0;34m,\u001b[0m \u001b[0mtimeout_value\u001b[0m\u001b[0;34m=\u001b[0m\u001b[0mread_timeout\u001b[0m\u001b[0;34m)\u001b[0m\u001b[0;34m\u001b[0m\u001b[0;34m\u001b[0m\u001b[0m\n",
      "\u001b[0;32m~/opt/anaconda3/lib/python3.7/site-packages/urllib3/packages/six.py\u001b[0m in \u001b[0;36mraise_from\u001b[0;34m(value, from_value)\u001b[0m\n",
      "\u001b[0;32m~/opt/anaconda3/lib/python3.7/site-packages/urllib3/connectionpool.py\u001b[0m in \u001b[0;36m_make_request\u001b[0;34m(self, conn, method, url, timeout, chunked, **httplib_request_kw)\u001b[0m\n\u001b[1;32m    414\u001b[0m                 \u001b[0;31m# Python 3\u001b[0m\u001b[0;34m\u001b[0m\u001b[0;34m\u001b[0m\u001b[0;34m\u001b[0m\u001b[0m\n\u001b[1;32m    415\u001b[0m                 \u001b[0;32mtry\u001b[0m\u001b[0;34m:\u001b[0m\u001b[0;34m\u001b[0m\u001b[0;34m\u001b[0m\u001b[0m\n\u001b[0;32m--> 416\u001b[0;31m                     \u001b[0mhttplib_response\u001b[0m \u001b[0;34m=\u001b[0m \u001b[0mconn\u001b[0m\u001b[0;34m.\u001b[0m\u001b[0mgetresponse\u001b[0m\u001b[0;34m(\u001b[0m\u001b[0;34m)\u001b[0m\u001b[0;34m\u001b[0m\u001b[0;34m\u001b[0m\u001b[0m\n\u001b[0m\u001b[1;32m    417\u001b[0m                 \u001b[0;32mexcept\u001b[0m \u001b[0mBaseException\u001b[0m \u001b[0;32mas\u001b[0m \u001b[0me\u001b[0m\u001b[0;34m:\u001b[0m\u001b[0;34m\u001b[0m\u001b[0;34m\u001b[0m\u001b[0m\n\u001b[1;32m    418\u001b[0m                     \u001b[0;31m# Remove the TypeError from the exception chain in\u001b[0m\u001b[0;34m\u001b[0m\u001b[0;34m\u001b[0m\u001b[0;34m\u001b[0m\u001b[0m\n",
      "\u001b[0;32m~/opt/anaconda3/lib/python3.7/http/client.py\u001b[0m in \u001b[0;36mgetresponse\u001b[0;34m(self)\u001b[0m\n\u001b[1;32m   1342\u001b[0m         \u001b[0;32mtry\u001b[0m\u001b[0;34m:\u001b[0m\u001b[0;34m\u001b[0m\u001b[0;34m\u001b[0m\u001b[0m\n\u001b[1;32m   1343\u001b[0m             \u001b[0;32mtry\u001b[0m\u001b[0;34m:\u001b[0m\u001b[0;34m\u001b[0m\u001b[0;34m\u001b[0m\u001b[0m\n\u001b[0;32m-> 1344\u001b[0;31m                 \u001b[0mresponse\u001b[0m\u001b[0;34m.\u001b[0m\u001b[0mbegin\u001b[0m\u001b[0;34m(\u001b[0m\u001b[0;34m)\u001b[0m\u001b[0;34m\u001b[0m\u001b[0;34m\u001b[0m\u001b[0m\n\u001b[0m\u001b[1;32m   1345\u001b[0m             \u001b[0;32mexcept\u001b[0m \u001b[0mConnectionError\u001b[0m\u001b[0;34m:\u001b[0m\u001b[0;34m\u001b[0m\u001b[0;34m\u001b[0m\u001b[0m\n\u001b[1;32m   1346\u001b[0m                 \u001b[0mself\u001b[0m\u001b[0;34m.\u001b[0m\u001b[0mclose\u001b[0m\u001b[0;34m(\u001b[0m\u001b[0;34m)\u001b[0m\u001b[0;34m\u001b[0m\u001b[0;34m\u001b[0m\u001b[0m\n",
      "\u001b[0;32m~/opt/anaconda3/lib/python3.7/http/client.py\u001b[0m in \u001b[0;36mbegin\u001b[0;34m(self)\u001b[0m\n\u001b[1;32m    304\u001b[0m         \u001b[0;31m# read until we get a non-100 response\u001b[0m\u001b[0;34m\u001b[0m\u001b[0;34m\u001b[0m\u001b[0;34m\u001b[0m\u001b[0m\n\u001b[1;32m    305\u001b[0m         \u001b[0;32mwhile\u001b[0m \u001b[0;32mTrue\u001b[0m\u001b[0;34m:\u001b[0m\u001b[0;34m\u001b[0m\u001b[0;34m\u001b[0m\u001b[0m\n\u001b[0;32m--> 306\u001b[0;31m             \u001b[0mversion\u001b[0m\u001b[0;34m,\u001b[0m \u001b[0mstatus\u001b[0m\u001b[0;34m,\u001b[0m \u001b[0mreason\u001b[0m \u001b[0;34m=\u001b[0m \u001b[0mself\u001b[0m\u001b[0;34m.\u001b[0m\u001b[0m_read_status\u001b[0m\u001b[0;34m(\u001b[0m\u001b[0;34m)\u001b[0m\u001b[0;34m\u001b[0m\u001b[0;34m\u001b[0m\u001b[0m\n\u001b[0m\u001b[1;32m    307\u001b[0m             \u001b[0;32mif\u001b[0m \u001b[0mstatus\u001b[0m \u001b[0;34m!=\u001b[0m \u001b[0mCONTINUE\u001b[0m\u001b[0;34m:\u001b[0m\u001b[0;34m\u001b[0m\u001b[0;34m\u001b[0m\u001b[0m\n\u001b[1;32m    308\u001b[0m                 \u001b[0;32mbreak\u001b[0m\u001b[0;34m\u001b[0m\u001b[0;34m\u001b[0m\u001b[0m\n",
      "\u001b[0;32m~/opt/anaconda3/lib/python3.7/http/client.py\u001b[0m in \u001b[0;36m_read_status\u001b[0;34m(self)\u001b[0m\n\u001b[1;32m    265\u001b[0m \u001b[0;34m\u001b[0m\u001b[0m\n\u001b[1;32m    266\u001b[0m     \u001b[0;32mdef\u001b[0m \u001b[0m_read_status\u001b[0m\u001b[0;34m(\u001b[0m\u001b[0mself\u001b[0m\u001b[0;34m)\u001b[0m\u001b[0;34m:\u001b[0m\u001b[0;34m\u001b[0m\u001b[0;34m\u001b[0m\u001b[0m\n\u001b[0;32m--> 267\u001b[0;31m         \u001b[0mline\u001b[0m \u001b[0;34m=\u001b[0m \u001b[0mstr\u001b[0m\u001b[0;34m(\u001b[0m\u001b[0mself\u001b[0m\u001b[0;34m.\u001b[0m\u001b[0mfp\u001b[0m\u001b[0;34m.\u001b[0m\u001b[0mreadline\u001b[0m\u001b[0;34m(\u001b[0m\u001b[0m_MAXLINE\u001b[0m \u001b[0;34m+\u001b[0m \u001b[0;36m1\u001b[0m\u001b[0;34m)\u001b[0m\u001b[0;34m,\u001b[0m \u001b[0;34m\"iso-8859-1\"\u001b[0m\u001b[0;34m)\u001b[0m\u001b[0;34m\u001b[0m\u001b[0;34m\u001b[0m\u001b[0m\n\u001b[0m\u001b[1;32m    268\u001b[0m         \u001b[0;32mif\u001b[0m \u001b[0mlen\u001b[0m\u001b[0;34m(\u001b[0m\u001b[0mline\u001b[0m\u001b[0;34m)\u001b[0m \u001b[0;34m>\u001b[0m \u001b[0m_MAXLINE\u001b[0m\u001b[0;34m:\u001b[0m\u001b[0;34m\u001b[0m\u001b[0;34m\u001b[0m\u001b[0m\n\u001b[1;32m    269\u001b[0m             \u001b[0;32mraise\u001b[0m \u001b[0mLineTooLong\u001b[0m\u001b[0;34m(\u001b[0m\u001b[0;34m\"status line\"\u001b[0m\u001b[0;34m)\u001b[0m\u001b[0;34m\u001b[0m\u001b[0;34m\u001b[0m\u001b[0m\n",
      "\u001b[0;32m~/opt/anaconda3/lib/python3.7/socket.py\u001b[0m in \u001b[0;36mreadinto\u001b[0;34m(self, b)\u001b[0m\n\u001b[1;32m    587\u001b[0m         \u001b[0;32mwhile\u001b[0m \u001b[0;32mTrue\u001b[0m\u001b[0;34m:\u001b[0m\u001b[0;34m\u001b[0m\u001b[0;34m\u001b[0m\u001b[0m\n\u001b[1;32m    588\u001b[0m             \u001b[0;32mtry\u001b[0m\u001b[0;34m:\u001b[0m\u001b[0;34m\u001b[0m\u001b[0;34m\u001b[0m\u001b[0m\n\u001b[0;32m--> 589\u001b[0;31m                 \u001b[0;32mreturn\u001b[0m \u001b[0mself\u001b[0m\u001b[0;34m.\u001b[0m\u001b[0m_sock\u001b[0m\u001b[0;34m.\u001b[0m\u001b[0mrecv_into\u001b[0m\u001b[0;34m(\u001b[0m\u001b[0mb\u001b[0m\u001b[0;34m)\u001b[0m\u001b[0;34m\u001b[0m\u001b[0;34m\u001b[0m\u001b[0m\n\u001b[0m\u001b[1;32m    590\u001b[0m             \u001b[0;32mexcept\u001b[0m \u001b[0mtimeout\u001b[0m\u001b[0;34m:\u001b[0m\u001b[0;34m\u001b[0m\u001b[0;34m\u001b[0m\u001b[0m\n\u001b[1;32m    591\u001b[0m                 \u001b[0mself\u001b[0m\u001b[0;34m.\u001b[0m\u001b[0m_timeout_occurred\u001b[0m \u001b[0;34m=\u001b[0m \u001b[0;32mTrue\u001b[0m\u001b[0;34m\u001b[0m\u001b[0;34m\u001b[0m\u001b[0m\n",
      "\u001b[0;32m~/opt/anaconda3/lib/python3.7/ssl.py\u001b[0m in \u001b[0;36mrecv_into\u001b[0;34m(self, buffer, nbytes, flags)\u001b[0m\n\u001b[1;32m   1069\u001b[0m                   \u001b[0;34m\"non-zero flags not allowed in calls to recv_into() on %s\"\u001b[0m \u001b[0;34m%\u001b[0m\u001b[0;34m\u001b[0m\u001b[0;34m\u001b[0m\u001b[0m\n\u001b[1;32m   1070\u001b[0m                   self.__class__)\n\u001b[0;32m-> 1071\u001b[0;31m             \u001b[0;32mreturn\u001b[0m \u001b[0mself\u001b[0m\u001b[0;34m.\u001b[0m\u001b[0mread\u001b[0m\u001b[0;34m(\u001b[0m\u001b[0mnbytes\u001b[0m\u001b[0;34m,\u001b[0m \u001b[0mbuffer\u001b[0m\u001b[0;34m)\u001b[0m\u001b[0;34m\u001b[0m\u001b[0;34m\u001b[0m\u001b[0m\n\u001b[0m\u001b[1;32m   1072\u001b[0m         \u001b[0;32melse\u001b[0m\u001b[0;34m:\u001b[0m\u001b[0;34m\u001b[0m\u001b[0;34m\u001b[0m\u001b[0m\n\u001b[1;32m   1073\u001b[0m             \u001b[0;32mreturn\u001b[0m \u001b[0msuper\u001b[0m\u001b[0;34m(\u001b[0m\u001b[0;34m)\u001b[0m\u001b[0;34m.\u001b[0m\u001b[0mrecv_into\u001b[0m\u001b[0;34m(\u001b[0m\u001b[0mbuffer\u001b[0m\u001b[0;34m,\u001b[0m \u001b[0mnbytes\u001b[0m\u001b[0;34m,\u001b[0m \u001b[0mflags\u001b[0m\u001b[0;34m)\u001b[0m\u001b[0;34m\u001b[0m\u001b[0;34m\u001b[0m\u001b[0m\n",
      "\u001b[0;32m~/opt/anaconda3/lib/python3.7/ssl.py\u001b[0m in \u001b[0;36mread\u001b[0;34m(self, len, buffer)\u001b[0m\n\u001b[1;32m    927\u001b[0m         \u001b[0;32mtry\u001b[0m\u001b[0;34m:\u001b[0m\u001b[0;34m\u001b[0m\u001b[0;34m\u001b[0m\u001b[0m\n\u001b[1;32m    928\u001b[0m             \u001b[0;32mif\u001b[0m \u001b[0mbuffer\u001b[0m \u001b[0;32mis\u001b[0m \u001b[0;32mnot\u001b[0m \u001b[0;32mNone\u001b[0m\u001b[0;34m:\u001b[0m\u001b[0;34m\u001b[0m\u001b[0;34m\u001b[0m\u001b[0m\n\u001b[0;32m--> 929\u001b[0;31m                 \u001b[0;32mreturn\u001b[0m \u001b[0mself\u001b[0m\u001b[0;34m.\u001b[0m\u001b[0m_sslobj\u001b[0m\u001b[0;34m.\u001b[0m\u001b[0mread\u001b[0m\u001b[0;34m(\u001b[0m\u001b[0mlen\u001b[0m\u001b[0;34m,\u001b[0m \u001b[0mbuffer\u001b[0m\u001b[0;34m)\u001b[0m\u001b[0;34m\u001b[0m\u001b[0;34m\u001b[0m\u001b[0m\n\u001b[0m\u001b[1;32m    930\u001b[0m             \u001b[0;32melse\u001b[0m\u001b[0;34m:\u001b[0m\u001b[0;34m\u001b[0m\u001b[0;34m\u001b[0m\u001b[0m\n\u001b[1;32m    931\u001b[0m                 \u001b[0;32mreturn\u001b[0m \u001b[0mself\u001b[0m\u001b[0;34m.\u001b[0m\u001b[0m_sslobj\u001b[0m\u001b[0;34m.\u001b[0m\u001b[0mread\u001b[0m\u001b[0;34m(\u001b[0m\u001b[0mlen\u001b[0m\u001b[0;34m)\u001b[0m\u001b[0;34m\u001b[0m\u001b[0;34m\u001b[0m\u001b[0m\n",
      "\u001b[0;31mKeyboardInterrupt\u001b[0m: "
     ]
    }
   ],
   "source": [
    "%%time\n",
    "for i in tqdm(range(23060, 24000)):\n",
    "    song_title = df.loc[i, 'song']\n",
    "    artist_name = df.loc[i, 'artist']\n",
    "\n",
    "    song = api.search_song(song_title, artist=artist_name)\n",
    "    try:\n",
    "        song_lyrics = re.sub(\"\\n\", \" \", song.lyrics) #Remove newline breaks, we won't need them.\n",
    "        df.loc[i, 'lyrics'] = song_lyrics\n",
    "    except:\n",
    "        pass"
   ]
  },
  {
   "cell_type": "code",
   "execution_count": 89,
   "metadata": {},
   "outputs": [],
   "source": [
    "df[12000:23000].to_csv('top23000.csv')"
   ]
  },
  {
   "cell_type": "code",
   "execution_count": null,
   "metadata": {},
   "outputs": [],
   "source": []
  },
  {
   "cell_type": "code",
   "execution_count": 32,
   "metadata": {},
   "outputs": [
    {
     "output_type": "stream",
     "name": "stderr",
     "text": [
      "  0%|          | 0/580 [00:00<?, ?it/s]"
     ]
    }
   ],
   "source": [
    "%%time\n",
    "\n",
    "from requests.exceptions import Timeout\n",
    "genius.timeout = 15  #timeout\n",
    "genius.sleep = 5\n",
    "\n",
    "for i in tqdm(range(2000, 3000)):\n",
    "    retries = 0\n",
    "    song_title = df.loc[i, 'song']\n",
    "    artist_name = df.loc[i, 'artist']\n",
    "    song = api.search_song(song_title, artist=artist_name)\n",
    "    while True:\n",
    "        try:\n",
    "            song_lyrics = re.sub(\"\\n\", \" \", song.lyrics) #Remove newline breaks, we won't need them.\n",
    "            df.loc[i, 'lyrics'] = song_lyrics\n",
    "        except Timeout as e:\n",
    "            continue\n",
    "        except:\n",
    "            pass"
   ]
  },
  {
   "cell_type": "code",
   "execution_count": null,
   "metadata": {},
   "outputs": [],
   "source": []
  },
  {
   "cell_type": "code",
   "execution_count": 23,
   "metadata": {},
   "outputs": [],
   "source": [
    "df = pd.read_csv('combine_lyric.csv')"
   ]
  },
  {
   "cell_type": "code",
   "execution_count": 25,
   "metadata": {},
   "outputs": [
    {
     "output_type": "execute_result",
     "data": {
      "text/plain": [
       "Index(['Unnamed: 0', 'id', 'song', 'album', 'artist', 'acousticness_x',\n",
       "       'danceability_x', 'duration_ms_x', 'energy_x', 'instrumentalness_x',\n",
       "       'key_x', 'liveness_x', 'loudness_x', 'mode_x', 'speechiness_x',\n",
       "       'tempo_x', 'time_signature', 'valence_x', 'album_id', 'date',\n",
       "       'date_year', 'duration_ms_d', 'com_x', 'com_f_x', 'acousticness_y',\n",
       "       'artists', 'danceability_y', 'duration_ms_y', 'energy_y', 'explicit',\n",
       "       'instrumentalness_y', 'key_y', 'liveness_y', 'loudness_y', 'mode_y',\n",
       "       'name', 'popularity', 'release_date', 'speechiness_y', 'tempo_y',\n",
       "       'valence_y', 'year', 'release_date_year', 'com_y', 'com_f_y',\n",
       "       'popularity_dummy', 'lyrics'],\n",
       "      dtype='object')"
      ]
     },
     "metadata": {},
     "execution_count": 25
    }
   ],
   "source": [
    "df.columns"
   ]
  },
  {
   "cell_type": "code",
   "execution_count": 27,
   "metadata": {},
   "outputs": [],
   "source": [
    "df = df.dropna(subset=['Unnamed: 0'])"
   ]
  },
  {
   "cell_type": "code",
   "execution_count": 29,
   "metadata": {},
   "outputs": [],
   "source": [
    "df['Unnamed: 0'] = df['Unnamed: 0'].map(int)"
   ]
  },
  {
   "cell_type": "code",
   "execution_count": 32,
   "metadata": {},
   "outputs": [],
   "source": [
    "df = df.rename(columns={'Unnamed: 0': 'index'})"
   ]
  },
  {
   "cell_type": "code",
   "execution_count": 34,
   "metadata": {},
   "outputs": [],
   "source": [
    "df.set_index('index').to_csv('0308.csv')"
   ]
  },
  {
   "cell_type": "code",
   "execution_count": 40,
   "metadata": {},
   "outputs": [
    {
     "output_type": "execute_result",
     "data": {
      "text/plain": [
       "163711"
      ]
     },
     "metadata": {},
     "execution_count": 40
    }
   ],
   "source": [
    "len(df)"
   ]
  },
  {
   "cell_type": "code",
   "execution_count": 50,
   "metadata": {},
   "outputs": [],
   "source": [
    "df = pd.read_csv('0308.csv')"
   ]
  },
  {
   "cell_type": "code",
   "execution_count": 52,
   "metadata": {},
   "outputs": [],
   "source": [
    "df = df.dropna(subset=['index'])"
   ]
  },
  {
   "cell_type": "code",
   "execution_count": 53,
   "metadata": {},
   "outputs": [],
   "source": [
    "df['index'] = df['index'].map(int)"
   ]
  },
  {
   "cell_type": "code",
   "execution_count": 54,
   "metadata": {},
   "outputs": [
    {
     "output_type": "execute_result",
     "data": {
      "text/plain": [
       "                            id                                    song  \\\n",
       "index                                                                    \n",
       "0       000G1xMMuwxNHmwVsBdtj1                    Will Anything Happen   \n",
       "1       000x2qE0ZI3hodeVrnJK8A  (Love Me Like Music) I'll Be Your Song   \n",
       "2       005lwxGU1tms6HGELIcUv9                         I Kissed A Girl   \n",
       "4       008Nf4LgKqV8w8VD66fNmY                                 Quitter   \n",
       "5       008ndXyCzkkN9fvJsfqkDS                            Rumor Has It   \n",
       "...                        ...                                     ...   \n",
       "168099  0UOIfHSKczVIgSzvSC5oD4                                     NaN   \n",
       "168100  0UJPWXDSQDfIBtEpZYWlK4                                     NaN   \n",
       "168101  0UEEHpJgY8di7fbAn7Z8lr                                     NaN   \n",
       "168102  0Tyr2WpQlXyPq9VI4Ir7Fw                                     NaN   \n",
       "168103  0TqGhvkmiAiYg7YZ3CH6mj                                     NaN   \n",
       "\n",
       "                  album         artist  acousticness_x  danceability_x  \\\n",
       "index                                                                    \n",
       "0        Parallel Lines        Blondie        0.014800           0.256   \n",
       "1       Dreamboat Annie          Heart        0.339000           0.507   \n",
       "2       One Of The Boys     Katy Perry        0.002230           0.699   \n",
       "4            Rubberneck        Toadies        0.000137           0.499   \n",
       "5          Rumor Has It  Reba McEntire        0.395000           0.484   \n",
       "...                 ...            ...             ...             ...   \n",
       "168099              NaN            NaN             NaN             NaN   \n",
       "168100              NaN            NaN             NaN             NaN   \n",
       "168101              NaN            NaN             NaN             NaN   \n",
       "168102              NaN            NaN             NaN             NaN   \n",
       "168103              NaN            NaN             NaN             NaN   \n",
       "\n",
       "        duration_ms_x  energy_x  instrumentalness_x  key_x  ...  release_date  \\\n",
       "index                                                       ...                 \n",
       "0            182347.0     0.882            0.000194    2.0  ...     1978/9/23   \n",
       "1            200627.0     0.356            0.000000    0.0  ...          1975   \n",
       "2            179640.0     0.760            0.000000    5.0  ...     2008/6/17   \n",
       "4            213907.0     0.892            0.464000   11.0  ...      1994/1/1   \n",
       "5            228973.0     0.361            0.000033    9.0  ...      1990/1/1   \n",
       "...               ...       ...                 ...    ...  ...           ...   \n",
       "168099            NaN       NaN                 NaN    NaN  ...          1952   \n",
       "168100            NaN       NaN                 NaN    NaN  ...     1952/12/1   \n",
       "168101            NaN       NaN                 NaN    NaN  ...      1952/1/1   \n",
       "168102            NaN       NaN                 NaN    NaN  ...          1952   \n",
       "168103            NaN       NaN                 NaN    NaN  ...      1952/1/1   \n",
       "\n",
       "        speechiness_y  tempo_y  valence_y    year  release_date_year  \\\n",
       "index                                                                  \n",
       "0              0.0707  191.307     0.5550  1978.0             1978.0   \n",
       "1              0.0306  134.248     0.4720  1975.0             1975.0   \n",
       "2              0.0677  129.996     0.6960  2008.0             2008.0   \n",
       "4              0.0408  146.844     0.5840  1994.0             1994.0   \n",
       "5              0.0276  170.297     0.2680  1990.0             1990.0   \n",
       "...               ...      ...        ...     ...                ...   \n",
       "168099         0.0539   73.910     0.0371  1952.0             1952.0   \n",
       "168100         0.1080   79.712     0.3200  1952.0             1952.0   \n",
       "168101         0.0415  139.475     0.1480  1952.0             1952.0   \n",
       "168102         0.9250   42.490     0.3440  1952.0             1952.0   \n",
       "168103         0.0441   89.437     0.1640  1952.0             1952.0   \n",
       "\n",
       "                                                    com_y  \\\n",
       "index                                                       \n",
       "0                   Blondie182347Will Anything Happen1978   \n",
       "1       Heart200627(Love Me Like Music) I'll Be Your S...   \n",
       "2                     Katy Perry179640I Kissed A Girl2008   \n",
       "4                                Toadies213907Quitter1994   \n",
       "5                     Reba McEntire228973Rumor Has It1990   \n",
       "...                                                   ...   \n",
       "168099                  Charlie Chaplin21855Awakening1952   \n",
       "168100               Tarun Banerjee199227Phul Nebe Go1952   \n",
       "168101                 Georges Derveaux162623Habanera1952   \n",
       "168102  Э_не__ Хеминг__й95700Ча___ 44.3 - С_а_ик и мо_...   \n",
       "168103  Hector Berlioz', 'Concertgebouworkest', 'Eduar...   \n",
       "\n",
       "                                                  com_f_y popularity_dummy  \\\n",
       "index                                                                        \n",
       "0       ond182347Will Anything Happen0.01310.2560.8950...              1.0   \n",
       "1       a200627(Love Me Like Music) I'll Be Your Song0...              1.0   \n",
       "2       ty Per179640I Kissed A Girl0.002230.6990000000...              1.0   \n",
       "4       adi213907Quitter9.26e-050.4870.9200.328110.216...              1.0   \n",
       "5       ba McEnti228973Rumor Has It0.3680.3740.33503.6...              1.0   \n",
       "...                                                   ...              ...   \n",
       "168099  arlie Chapl21855Awakening0.88599999999999990.1...              0.0   \n",
       "168100  run Banerj199227Phul Nebe Go0.9820.530.20400.0...              0.0   \n",
       "168101  orges Dervea162623Habanera0.9940.2090.24500.91...              0.0   \n",
       "168102  не__ Хеминг_95700Ча___ 44.3 - С_а_ик и мо_е0.1...              0.0   \n",
       "168103  ctor Berlioz', 'Concertgebouworkest', 'Eduard ...              0.0   \n",
       "\n",
       "                                                   lyrics  \n",
       "index                                                      \n",
       "0       [Verse 1] I always said you could make it I kn...  \n",
       "1       These have been quiet days When was the last t...  \n",
       "2       [Verse 1] This was never the way I planned Not...  \n",
       "4       Didn't I give you everything Didn't I take you...  \n",
       "5       [Verse 1] I overheard a conversation, your nam...  \n",
       "...                                                   ...  \n",
       "168099                                                NaN  \n",
       "168100                                                NaN  \n",
       "168101                                                NaN  \n",
       "168102                                                NaN  \n",
       "168103                                                NaN  \n",
       "\n",
       "[163711 rows x 46 columns]"
      ],
      "text/html": "<div>\n<style scoped>\n    .dataframe tbody tr th:only-of-type {\n        vertical-align: middle;\n    }\n\n    .dataframe tbody tr th {\n        vertical-align: top;\n    }\n\n    .dataframe thead th {\n        text-align: right;\n    }\n</style>\n<table border=\"1\" class=\"dataframe\">\n  <thead>\n    <tr style=\"text-align: right;\">\n      <th></th>\n      <th>id</th>\n      <th>song</th>\n      <th>album</th>\n      <th>artist</th>\n      <th>acousticness_x</th>\n      <th>danceability_x</th>\n      <th>duration_ms_x</th>\n      <th>energy_x</th>\n      <th>instrumentalness_x</th>\n      <th>key_x</th>\n      <th>...</th>\n      <th>release_date</th>\n      <th>speechiness_y</th>\n      <th>tempo_y</th>\n      <th>valence_y</th>\n      <th>year</th>\n      <th>release_date_year</th>\n      <th>com_y</th>\n      <th>com_f_y</th>\n      <th>popularity_dummy</th>\n      <th>lyrics</th>\n    </tr>\n    <tr>\n      <th>index</th>\n      <th></th>\n      <th></th>\n      <th></th>\n      <th></th>\n      <th></th>\n      <th></th>\n      <th></th>\n      <th></th>\n      <th></th>\n      <th></th>\n      <th></th>\n      <th></th>\n      <th></th>\n      <th></th>\n      <th></th>\n      <th></th>\n      <th></th>\n      <th></th>\n      <th></th>\n      <th></th>\n      <th></th>\n    </tr>\n  </thead>\n  <tbody>\n    <tr>\n      <th>0</th>\n      <td>000G1xMMuwxNHmwVsBdtj1</td>\n      <td>Will Anything Happen</td>\n      <td>Parallel Lines</td>\n      <td>Blondie</td>\n      <td>0.014800</td>\n      <td>0.256</td>\n      <td>182347.0</td>\n      <td>0.882</td>\n      <td>0.000194</td>\n      <td>2.0</td>\n      <td>...</td>\n      <td>1978/9/23</td>\n      <td>0.0707</td>\n      <td>191.307</td>\n      <td>0.5550</td>\n      <td>1978.0</td>\n      <td>1978.0</td>\n      <td>Blondie182347Will Anything Happen1978</td>\n      <td>ond182347Will Anything Happen0.01310.2560.8950...</td>\n      <td>1.0</td>\n      <td>[Verse 1] I always said you could make it I kn...</td>\n    </tr>\n    <tr>\n      <th>1</th>\n      <td>000x2qE0ZI3hodeVrnJK8A</td>\n      <td>(Love Me Like Music) I'll Be Your Song</td>\n      <td>Dreamboat Annie</td>\n      <td>Heart</td>\n      <td>0.339000</td>\n      <td>0.507</td>\n      <td>200627.0</td>\n      <td>0.356</td>\n      <td>0.000000</td>\n      <td>0.0</td>\n      <td>...</td>\n      <td>1975</td>\n      <td>0.0306</td>\n      <td>134.248</td>\n      <td>0.4720</td>\n      <td>1975.0</td>\n      <td>1975.0</td>\n      <td>Heart200627(Love Me Like Music) I'll Be Your S...</td>\n      <td>a200627(Love Me Like Music) I'll Be Your Song0...</td>\n      <td>1.0</td>\n      <td>These have been quiet days When was the last t...</td>\n    </tr>\n    <tr>\n      <th>2</th>\n      <td>005lwxGU1tms6HGELIcUv9</td>\n      <td>I Kissed A Girl</td>\n      <td>One Of The Boys</td>\n      <td>Katy Perry</td>\n      <td>0.002230</td>\n      <td>0.699</td>\n      <td>179640.0</td>\n      <td>0.760</td>\n      <td>0.000000</td>\n      <td>5.0</td>\n      <td>...</td>\n      <td>2008/6/17</td>\n      <td>0.0677</td>\n      <td>129.996</td>\n      <td>0.6960</td>\n      <td>2008.0</td>\n      <td>2008.0</td>\n      <td>Katy Perry179640I Kissed A Girl2008</td>\n      <td>ty Per179640I Kissed A Girl0.002230.6990000000...</td>\n      <td>1.0</td>\n      <td>[Verse 1] This was never the way I planned Not...</td>\n    </tr>\n    <tr>\n      <th>4</th>\n      <td>008Nf4LgKqV8w8VD66fNmY</td>\n      <td>Quitter</td>\n      <td>Rubberneck</td>\n      <td>Toadies</td>\n      <td>0.000137</td>\n      <td>0.499</td>\n      <td>213907.0</td>\n      <td>0.892</td>\n      <td>0.464000</td>\n      <td>11.0</td>\n      <td>...</td>\n      <td>1994/1/1</td>\n      <td>0.0408</td>\n      <td>146.844</td>\n      <td>0.5840</td>\n      <td>1994.0</td>\n      <td>1994.0</td>\n      <td>Toadies213907Quitter1994</td>\n      <td>adi213907Quitter9.26e-050.4870.9200.328110.216...</td>\n      <td>1.0</td>\n      <td>Didn't I give you everything Didn't I take you...</td>\n    </tr>\n    <tr>\n      <th>5</th>\n      <td>008ndXyCzkkN9fvJsfqkDS</td>\n      <td>Rumor Has It</td>\n      <td>Rumor Has It</td>\n      <td>Reba McEntire</td>\n      <td>0.395000</td>\n      <td>0.484</td>\n      <td>228973.0</td>\n      <td>0.361</td>\n      <td>0.000033</td>\n      <td>9.0</td>\n      <td>...</td>\n      <td>1990/1/1</td>\n      <td>0.0276</td>\n      <td>170.297</td>\n      <td>0.2680</td>\n      <td>1990.0</td>\n      <td>1990.0</td>\n      <td>Reba McEntire228973Rumor Has It1990</td>\n      <td>ba McEnti228973Rumor Has It0.3680.3740.33503.6...</td>\n      <td>1.0</td>\n      <td>[Verse 1] I overheard a conversation, your nam...</td>\n    </tr>\n    <tr>\n      <th>...</th>\n      <td>...</td>\n      <td>...</td>\n      <td>...</td>\n      <td>...</td>\n      <td>...</td>\n      <td>...</td>\n      <td>...</td>\n      <td>...</td>\n      <td>...</td>\n      <td>...</td>\n      <td>...</td>\n      <td>...</td>\n      <td>...</td>\n      <td>...</td>\n      <td>...</td>\n      <td>...</td>\n      <td>...</td>\n      <td>...</td>\n      <td>...</td>\n      <td>...</td>\n      <td>...</td>\n    </tr>\n    <tr>\n      <th>168099</th>\n      <td>0UOIfHSKczVIgSzvSC5oD4</td>\n      <td>NaN</td>\n      <td>NaN</td>\n      <td>NaN</td>\n      <td>NaN</td>\n      <td>NaN</td>\n      <td>NaN</td>\n      <td>NaN</td>\n      <td>NaN</td>\n      <td>NaN</td>\n      <td>...</td>\n      <td>1952</td>\n      <td>0.0539</td>\n      <td>73.910</td>\n      <td>0.0371</td>\n      <td>1952.0</td>\n      <td>1952.0</td>\n      <td>Charlie Chaplin21855Awakening1952</td>\n      <td>arlie Chapl21855Awakening0.88599999999999990.1...</td>\n      <td>0.0</td>\n      <td>NaN</td>\n    </tr>\n    <tr>\n      <th>168100</th>\n      <td>0UJPWXDSQDfIBtEpZYWlK4</td>\n      <td>NaN</td>\n      <td>NaN</td>\n      <td>NaN</td>\n      <td>NaN</td>\n      <td>NaN</td>\n      <td>NaN</td>\n      <td>NaN</td>\n      <td>NaN</td>\n      <td>NaN</td>\n      <td>...</td>\n      <td>1952/12/1</td>\n      <td>0.1080</td>\n      <td>79.712</td>\n      <td>0.3200</td>\n      <td>1952.0</td>\n      <td>1952.0</td>\n      <td>Tarun Banerjee199227Phul Nebe Go1952</td>\n      <td>run Banerj199227Phul Nebe Go0.9820.530.20400.0...</td>\n      <td>0.0</td>\n      <td>NaN</td>\n    </tr>\n    <tr>\n      <th>168101</th>\n      <td>0UEEHpJgY8di7fbAn7Z8lr</td>\n      <td>NaN</td>\n      <td>NaN</td>\n      <td>NaN</td>\n      <td>NaN</td>\n      <td>NaN</td>\n      <td>NaN</td>\n      <td>NaN</td>\n      <td>NaN</td>\n      <td>NaN</td>\n      <td>...</td>\n      <td>1952/1/1</td>\n      <td>0.0415</td>\n      <td>139.475</td>\n      <td>0.1480</td>\n      <td>1952.0</td>\n      <td>1952.0</td>\n      <td>Georges Derveaux162623Habanera1952</td>\n      <td>orges Dervea162623Habanera0.9940.2090.24500.91...</td>\n      <td>0.0</td>\n      <td>NaN</td>\n    </tr>\n    <tr>\n      <th>168102</th>\n      <td>0Tyr2WpQlXyPq9VI4Ir7Fw</td>\n      <td>NaN</td>\n      <td>NaN</td>\n      <td>NaN</td>\n      <td>NaN</td>\n      <td>NaN</td>\n      <td>NaN</td>\n      <td>NaN</td>\n      <td>NaN</td>\n      <td>NaN</td>\n      <td>...</td>\n      <td>1952</td>\n      <td>0.9250</td>\n      <td>42.490</td>\n      <td>0.3440</td>\n      <td>1952.0</td>\n      <td>1952.0</td>\n      <td>Э_не__ Хеминг__й95700Ча___ 44.3 - С_а_ик и мо_...</td>\n      <td>не__ Хеминг_95700Ча___ 44.3 - С_а_ик и мо_е0.1...</td>\n      <td>0.0</td>\n      <td>NaN</td>\n    </tr>\n    <tr>\n      <th>168103</th>\n      <td>0TqGhvkmiAiYg7YZ3CH6mj</td>\n      <td>NaN</td>\n      <td>NaN</td>\n      <td>NaN</td>\n      <td>NaN</td>\n      <td>NaN</td>\n      <td>NaN</td>\n      <td>NaN</td>\n      <td>NaN</td>\n      <td>NaN</td>\n      <td>...</td>\n      <td>1952/1/1</td>\n      <td>0.0441</td>\n      <td>89.437</td>\n      <td>0.1640</td>\n      <td>1952.0</td>\n      <td>1952.0</td>\n      <td>Hector Berlioz', 'Concertgebouworkest', 'Eduar...</td>\n      <td>ctor Berlioz', 'Concertgebouworkest', 'Eduard ...</td>\n      <td>0.0</td>\n      <td>NaN</td>\n    </tr>\n  </tbody>\n</table>\n<p>163711 rows × 46 columns</p>\n</div>"
     },
     "metadata": {},
     "execution_count": 54
    }
   ],
   "source": [
    "df.set_index('index')"
   ]
  },
  {
   "cell_type": "code",
   "execution_count": 56,
   "metadata": {},
   "outputs": [],
   "source": [
    "df.to_csv('t23000.csv')"
   ]
  },
  {
   "cell_type": "code",
   "execution_count": 63,
   "metadata": {},
   "outputs": [],
   "source": [
    "df2 = pd.read_csv('t23000.csv', index_col=1).iloc[:, 1:]"
   ]
  },
  {
   "cell_type": "code",
   "execution_count": 64,
   "metadata": {},
   "outputs": [
    {
     "output_type": "execute_result",
     "data": {
      "text/plain": [
       "                           id                                    song  \\\n",
       "index                                                                   \n",
       "0      000G1xMMuwxNHmwVsBdtj1                    Will Anything Happen   \n",
       "1      000x2qE0ZI3hodeVrnJK8A  (Love Me Like Music) I'll Be Your Song   \n",
       "2      005lwxGU1tms6HGELIcUv9                         I Kissed A Girl   \n",
       "4      008Nf4LgKqV8w8VD66fNmY                                 Quitter   \n",
       "5      008ndXyCzkkN9fvJsfqkDS                            Rumor Has It   \n",
       "6      009k0GuJnSkTMk87g83jMo             I'm Gonna Change Everything   \n",
       "7      00ACtF9TCFXZiphWmH4jzH                              Santy Anno   \n",
       "8      00AS1Cy5BASzGnl8MrVUcv                           Ride the Wind   \n",
       "9      00CqEmnPLFKDhAb3cuu6Cs                                    Halo   \n",
       "10     00CxumCW8cLnWqa0wE2TXO         I'd Rather Ride Around With You   \n",
       "11     00De7REGurYkmfrKAh6CU1                  Dracula- The Beginning   \n",
       "12     00FR9VQ0uzF4NNxVKKiMz2                           Full Of Smoke   \n",
       "13     00Fboe8pNoWHLg1nn3e7Oi   Sands of Time - Single; 2018 Remaster   \n",
       "14     00GOPLxW4PGQuUYdPJh8K1                          IV. Sweatpants   \n",
       "15     00GfGwzlSB8DoA0cDP2Eit                            Tender Lover   \n",
       "16     00IW5PAKECNYdCfzseVJgM                The 7th Day of July 1777   \n",
       "18     00KfIFi2TpAaQGPbRbFbKJ                           IN MY REMAINS   \n",
       "19     00LX6wdVlDvmU78Oh6KGmi                              I Want Out   \n",
       "20     00Mb3DuaIH1kjrwOku9CGU                               Sk8er Boi   \n",
       "21     00NAQYOP4AmWR549nnYJZu                                 Secrets   \n",
       "\n",
       "                                    album             artist  acousticness_x  \\\n",
       "index                                                                          \n",
       "0                          Parallel Lines            Blondie        0.014800   \n",
       "1                         Dreamboat Annie              Heart        0.339000   \n",
       "2                         One Of The Boys         Katy Perry        0.002230   \n",
       "4                              Rubberneck            Toadies        0.000137   \n",
       "5                            Rumor Has It      Reba McEntire        0.395000   \n",
       "6      The Door Is Still Open To My Heart        Dean Martin        0.917000   \n",
       "7       The Kingston Trio (Nick-Bob-John)  The Kingston Trio        0.710000   \n",
       "8                       Elephant Mountain    The Youngbloods        0.910000   \n",
       "9                              Melophobia  Cage The Elephant        0.039900   \n",
       "10                       What If It's You      Reba McEntire        0.052800   \n",
       "11                  Bram Stoker's Dracula         Soundtrack        0.510000   \n",
       "12                          Ghetto Cyrano          Christion        0.427000   \n",
       "13                   50 Years: Don't Stop      Fleetwood Mac        0.105000   \n",
       "14                   Because The Internet   Childish Gambino        0.154000   \n",
       "15                           Tender Lover           Babyface        0.226000   \n",
       "16                                Abigail       King Diamond        0.005010   \n",
       "18                          Living Things        Linkin Park        0.004010   \n",
       "19                            Get Nervous        Pat Benatar        0.006060   \n",
       "20                          Avril Lavigne      Avril Lavigne        0.000068   \n",
       "21                                Starboy         The Weeknd        0.015500   \n",
       "\n",
       "       danceability_x  duration_ms_x  energy_x  instrumentalness_x  key_x  \\\n",
       "index                                                                       \n",
       "0               0.256       182347.0     0.882            0.000194    2.0   \n",
       "1               0.507       200627.0     0.356            0.000000    0.0   \n",
       "2               0.699       179640.0     0.760            0.000000    5.0   \n",
       "4               0.499       213907.0     0.892            0.464000   11.0   \n",
       "5               0.484       228973.0     0.361            0.000033    9.0   \n",
       "6               0.619       149747.0     0.409            0.000000    0.0   \n",
       "7               0.543       137373.0     0.333            0.000000    2.0   \n",
       "8               0.558       396600.0     0.307            0.651000    2.0   \n",
       "9               0.575       177960.0     0.985            0.000000    2.0   \n",
       "10              0.649       208240.0     0.773            0.000000    0.0   \n",
       "11              0.218       400867.0     0.104            0.692000   11.0   \n",
       "12              0.558       289227.0     0.609            0.000000    1.0   \n",
       "13              0.614       183253.0     0.668            0.116000    7.0   \n",
       "14              0.710       180675.0     0.470            0.000000    1.0   \n",
       "15              0.743       259267.0     0.860            0.000422    5.0   \n",
       "16              0.251       290107.0     0.781            0.590000   11.0   \n",
       "18              0.553       200693.0     0.907            0.000000    9.0   \n",
       "19              0.669       223133.0     0.561            0.016000    0.0   \n",
       "20              0.487       204000.0     0.900            0.000000    0.0   \n",
       "21              0.665       265600.0     0.771            0.000010    0.0   \n",
       "\n",
       "       ...  release_date  speechiness_y  tempo_y  valence_y    year  \\\n",
       "index  ...                                                            \n",
       "0      ...     1978/9/23         0.0707  191.307     0.5550  1978.0   \n",
       "1      ...          1975         0.0306  134.248     0.4720  1975.0   \n",
       "2      ...     2008/6/17         0.0677  129.996     0.6960  2008.0   \n",
       "4      ...      1994/1/1         0.0408  146.844     0.5840  1994.0   \n",
       "5      ...      1990/1/1         0.0276  170.297     0.2680  1990.0   \n",
       "6      ...          1964         0.0347  124.326     0.7040  1964.0   \n",
       "7      ...      1958/6/1         0.0340  143.305     0.6720  1958.0   \n",
       "8      ...     1969/3/11         0.0343  119.033     0.6740  1969.0   \n",
       "9      ...     2013/10/8         0.0743  116.011     0.4760  2013.0   \n",
       "10     ...      1996/1/1         0.0247  134.514     0.8200  1996.0   \n",
       "11     ...    1992/10/30         0.0470  114.592     0.0329  1992.0   \n",
       "12     ...      1997/1/1         0.2840  145.461     0.7160  1997.0   \n",
       "13     ...    2018/11/16         0.0268  137.003     0.8730  2018.0   \n",
       "14     ...    2013/12/10         0.1420   80.027     0.5810  2013.0   \n",
       "15     ...      1989/7/7         0.0445  102.459     0.6870  1989.0   \n",
       "16     ...          1987         0.0639  148.455     0.2150  1987.0   \n",
       "18     ...     2012/6/20         0.0484  100.967     0.4510  2012.0   \n",
       "19     ...      1982/1/1         0.0284  133.522     0.7570  1982.0   \n",
       "20     ...      2002/6/4         0.0482  149.937     0.4840  2002.0   \n",
       "21     ...    2016/11/25         0.0533  109.945     0.7630  2016.0   \n",
       "\n",
       "       release_date_year                                              com_y  \\\n",
       "index                                                                         \n",
       "0                 1978.0              Blondie182347Will Anything Happen1978   \n",
       "1                 1975.0  Heart200627(Love Me Like Music) I'll Be Your S...   \n",
       "2                 2008.0                Katy Perry179640I Kissed A Girl2008   \n",
       "4                 1994.0                           Toadies213907Quitter1994   \n",
       "5                 1990.0                Reba McEntire228973Rumor Has It1990   \n",
       "6                 1964.0   Dean Martin149747I'm Gonna Change Everything1964   \n",
       "7                 1958.0              The Kingston Trio137373Santy Anno1958   \n",
       "8                 1969.0             The Youngbloods396600Ride the Wind1969   \n",
       "9                 2013.0                    Cage The Elephant177960Halo2013   \n",
       "10                1996.0  Reba McEntire208240I'd Rather Ride Around With...   \n",
       "11                1992.0     Wojciech Kilar400867Dracula- The Beginning1992   \n",
       "12                1997.0                   Christión289227Full Of Smoke1997   \n",
       "13                2018.0  Fleetwood Mac183253Sands of Time - Single; 201...   \n",
       "14                2013.0           Childish Gambino180675IV. Sweatpants2013   \n",
       "15                1989.0                     Babyface259267Tender Lover1989   \n",
       "16                1987.0     King Diamond290107The 7th Day of July 17771987   \n",
       "18                2012.0                 Linkin Park200693IN MY REMAINS2012   \n",
       "19                1982.0                    Pat Benatar223133I Want Out1982   \n",
       "20                2002.0                   Avril Lavigne204000Sk8er Boi2002   \n",
       "21                2016.0                        The Weeknd265600Secrets2016   \n",
       "\n",
       "                                                 com_f_y popularity_dummy  \\\n",
       "index                                                                       \n",
       "0      ond182347Will Anything Happen0.01310.2560.8950...              1.0   \n",
       "1      a200627(Love Me Like Music) I'll Be Your Song0...              1.0   \n",
       "2      ty Per179640I Kissed A Girl0.002230.6990000000...              1.0   \n",
       "4      adi213907Quitter9.26e-050.4870.9200.328110.216...              1.0   \n",
       "5      ba McEnti228973Rumor Has It0.3680.3740.33503.6...              1.0   \n",
       "6      an Mart149747I'm Gonna Change Everything0.9170...              1.0   \n",
       "7      e Kingston Tr137373Santy Anno0.7350.5420.32200...              1.0   \n",
       "8      e Youngbloo396600Ride the Wind0.910.5579999999...              1.0   \n",
       "9      ge The Elepha177960Halo0.03990.5750.98500.020....              1.0   \n",
       "10     ba McEnti208240I'd Rather Ride Around With You...              1.0   \n",
       "11     jciech Kil400867Dracula- The Beginning0.510.21...              1.0   \n",
       "12     risti289227Full Of Smoke0.4530.3890.61600.010....              1.0   \n",
       "13     eetwood M183253Sands of Time - Single; 2018 Re...              1.0   \n",
       "14     ildish Gambi180675IV. Sweatpants0.1540.710.471...              1.0   \n",
       "15     byfa259267Tender Lover0.2260.7430.8600.0004225...              1.0   \n",
       "16     ng Diamo290107The 7th Day of July 17770.005010...              1.0   \n",
       "18     nkin Pa200693IN MY REMAINS0.004010000000000000...              1.0   \n",
       "19     t Benat223133I Want Out0.006060.6690.56100.016...              1.0   \n",
       "20     ril Lavig204000Sk8er Boi6.790000000000001e-050...              1.0   \n",
       "21     e Week265600Secrets0.01550.6640.77099999999999...              1.0   \n",
       "\n",
       "                                                  lyrics  \n",
       "index                                                     \n",
       "0      [Verse 1] I always said you could make it I kn...  \n",
       "1      These have been quiet days When was the last t...  \n",
       "2      [Verse 1] This was never the way I planned Not...  \n",
       "4      Didn't I give you everything Didn't I take you...  \n",
       "5      [Verse 1] I overheard a conversation, your nam...  \n",
       "6      (Yeah, I'm gonna change everything That holds ...  \n",
       "7      Ooo, Ooo, we're sailin' 'cross the river from ...  \n",
       "8      Ride the wind let your dream blow In the strea...  \n",
       "9      [Verse 1] Every time I get away You find a way...  \n",
       "10     [Verse 1] My cousin's getting married at the M...  \n",
       "11     [Part I]  [Intro 1] Please, this shit's so fuc...  \n",
       "12     [Intro] And so the hustlers continue to hustle...  \n",
       "13                                                   NaN  \n",
       "14     [Verse 1: Childish Gambino + Problem] Watching...  \n",
       "15     Feels good Everybody  Tender lover Tender love...  \n",
       "16     [Acoustic Guitar Intro]  [Verse 1] Count de La...  \n",
       "18     [Verse 1: Chester Bennington] Separate Sifting...  \n",
       "19     Ooh baby, got a hold on me, I can't deny it Yo...  \n",
       "20     [Verse 1] He was a boy, she was a girl Can I m...  \n",
       "21     [Verse 1] Everybody here wants you My love, my...  \n",
       "\n",
       "[20 rows x 46 columns]"
      ],
      "text/html": "<div>\n<style scoped>\n    .dataframe tbody tr th:only-of-type {\n        vertical-align: middle;\n    }\n\n    .dataframe tbody tr th {\n        vertical-align: top;\n    }\n\n    .dataframe thead th {\n        text-align: right;\n    }\n</style>\n<table border=\"1\" class=\"dataframe\">\n  <thead>\n    <tr style=\"text-align: right;\">\n      <th></th>\n      <th>id</th>\n      <th>song</th>\n      <th>album</th>\n      <th>artist</th>\n      <th>acousticness_x</th>\n      <th>danceability_x</th>\n      <th>duration_ms_x</th>\n      <th>energy_x</th>\n      <th>instrumentalness_x</th>\n      <th>key_x</th>\n      <th>...</th>\n      <th>release_date</th>\n      <th>speechiness_y</th>\n      <th>tempo_y</th>\n      <th>valence_y</th>\n      <th>year</th>\n      <th>release_date_year</th>\n      <th>com_y</th>\n      <th>com_f_y</th>\n      <th>popularity_dummy</th>\n      <th>lyrics</th>\n    </tr>\n    <tr>\n      <th>index</th>\n      <th></th>\n      <th></th>\n      <th></th>\n      <th></th>\n      <th></th>\n      <th></th>\n      <th></th>\n      <th></th>\n      <th></th>\n      <th></th>\n      <th></th>\n      <th></th>\n      <th></th>\n      <th></th>\n      <th></th>\n      <th></th>\n      <th></th>\n      <th></th>\n      <th></th>\n      <th></th>\n      <th></th>\n    </tr>\n  </thead>\n  <tbody>\n    <tr>\n      <th>0</th>\n      <td>000G1xMMuwxNHmwVsBdtj1</td>\n      <td>Will Anything Happen</td>\n      <td>Parallel Lines</td>\n      <td>Blondie</td>\n      <td>0.014800</td>\n      <td>0.256</td>\n      <td>182347.0</td>\n      <td>0.882</td>\n      <td>0.000194</td>\n      <td>2.0</td>\n      <td>...</td>\n      <td>1978/9/23</td>\n      <td>0.0707</td>\n      <td>191.307</td>\n      <td>0.5550</td>\n      <td>1978.0</td>\n      <td>1978.0</td>\n      <td>Blondie182347Will Anything Happen1978</td>\n      <td>ond182347Will Anything Happen0.01310.2560.8950...</td>\n      <td>1.0</td>\n      <td>[Verse 1] I always said you could make it I kn...</td>\n    </tr>\n    <tr>\n      <th>1</th>\n      <td>000x2qE0ZI3hodeVrnJK8A</td>\n      <td>(Love Me Like Music) I'll Be Your Song</td>\n      <td>Dreamboat Annie</td>\n      <td>Heart</td>\n      <td>0.339000</td>\n      <td>0.507</td>\n      <td>200627.0</td>\n      <td>0.356</td>\n      <td>0.000000</td>\n      <td>0.0</td>\n      <td>...</td>\n      <td>1975</td>\n      <td>0.0306</td>\n      <td>134.248</td>\n      <td>0.4720</td>\n      <td>1975.0</td>\n      <td>1975.0</td>\n      <td>Heart200627(Love Me Like Music) I'll Be Your S...</td>\n      <td>a200627(Love Me Like Music) I'll Be Your Song0...</td>\n      <td>1.0</td>\n      <td>These have been quiet days When was the last t...</td>\n    </tr>\n    <tr>\n      <th>2</th>\n      <td>005lwxGU1tms6HGELIcUv9</td>\n      <td>I Kissed A Girl</td>\n      <td>One Of The Boys</td>\n      <td>Katy Perry</td>\n      <td>0.002230</td>\n      <td>0.699</td>\n      <td>179640.0</td>\n      <td>0.760</td>\n      <td>0.000000</td>\n      <td>5.0</td>\n      <td>...</td>\n      <td>2008/6/17</td>\n      <td>0.0677</td>\n      <td>129.996</td>\n      <td>0.6960</td>\n      <td>2008.0</td>\n      <td>2008.0</td>\n      <td>Katy Perry179640I Kissed A Girl2008</td>\n      <td>ty Per179640I Kissed A Girl0.002230.6990000000...</td>\n      <td>1.0</td>\n      <td>[Verse 1] This was never the way I planned Not...</td>\n    </tr>\n    <tr>\n      <th>4</th>\n      <td>008Nf4LgKqV8w8VD66fNmY</td>\n      <td>Quitter</td>\n      <td>Rubberneck</td>\n      <td>Toadies</td>\n      <td>0.000137</td>\n      <td>0.499</td>\n      <td>213907.0</td>\n      <td>0.892</td>\n      <td>0.464000</td>\n      <td>11.0</td>\n      <td>...</td>\n      <td>1994/1/1</td>\n      <td>0.0408</td>\n      <td>146.844</td>\n      <td>0.5840</td>\n      <td>1994.0</td>\n      <td>1994.0</td>\n      <td>Toadies213907Quitter1994</td>\n      <td>adi213907Quitter9.26e-050.4870.9200.328110.216...</td>\n      <td>1.0</td>\n      <td>Didn't I give you everything Didn't I take you...</td>\n    </tr>\n    <tr>\n      <th>5</th>\n      <td>008ndXyCzkkN9fvJsfqkDS</td>\n      <td>Rumor Has It</td>\n      <td>Rumor Has It</td>\n      <td>Reba McEntire</td>\n      <td>0.395000</td>\n      <td>0.484</td>\n      <td>228973.0</td>\n      <td>0.361</td>\n      <td>0.000033</td>\n      <td>9.0</td>\n      <td>...</td>\n      <td>1990/1/1</td>\n      <td>0.0276</td>\n      <td>170.297</td>\n      <td>0.2680</td>\n      <td>1990.0</td>\n      <td>1990.0</td>\n      <td>Reba McEntire228973Rumor Has It1990</td>\n      <td>ba McEnti228973Rumor Has It0.3680.3740.33503.6...</td>\n      <td>1.0</td>\n      <td>[Verse 1] I overheard a conversation, your nam...</td>\n    </tr>\n    <tr>\n      <th>6</th>\n      <td>009k0GuJnSkTMk87g83jMo</td>\n      <td>I'm Gonna Change Everything</td>\n      <td>The Door Is Still Open To My Heart</td>\n      <td>Dean Martin</td>\n      <td>0.917000</td>\n      <td>0.619</td>\n      <td>149747.0</td>\n      <td>0.409</td>\n      <td>0.000000</td>\n      <td>0.0</td>\n      <td>...</td>\n      <td>1964</td>\n      <td>0.0347</td>\n      <td>124.326</td>\n      <td>0.7040</td>\n      <td>1964.0</td>\n      <td>1964.0</td>\n      <td>Dean Martin149747I'm Gonna Change Everything1964</td>\n      <td>an Mart149747I'm Gonna Change Everything0.9170...</td>\n      <td>1.0</td>\n      <td>(Yeah, I'm gonna change everything That holds ...</td>\n    </tr>\n    <tr>\n      <th>7</th>\n      <td>00ACtF9TCFXZiphWmH4jzH</td>\n      <td>Santy Anno</td>\n      <td>The Kingston Trio (Nick-Bob-John)</td>\n      <td>The Kingston Trio</td>\n      <td>0.710000</td>\n      <td>0.543</td>\n      <td>137373.0</td>\n      <td>0.333</td>\n      <td>0.000000</td>\n      <td>2.0</td>\n      <td>...</td>\n      <td>1958/6/1</td>\n      <td>0.0340</td>\n      <td>143.305</td>\n      <td>0.6720</td>\n      <td>1958.0</td>\n      <td>1958.0</td>\n      <td>The Kingston Trio137373Santy Anno1958</td>\n      <td>e Kingston Tr137373Santy Anno0.7350.5420.32200...</td>\n      <td>1.0</td>\n      <td>Ooo, Ooo, we're sailin' 'cross the river from ...</td>\n    </tr>\n    <tr>\n      <th>8</th>\n      <td>00AS1Cy5BASzGnl8MrVUcv</td>\n      <td>Ride the Wind</td>\n      <td>Elephant Mountain</td>\n      <td>The Youngbloods</td>\n      <td>0.910000</td>\n      <td>0.558</td>\n      <td>396600.0</td>\n      <td>0.307</td>\n      <td>0.651000</td>\n      <td>2.0</td>\n      <td>...</td>\n      <td>1969/3/11</td>\n      <td>0.0343</td>\n      <td>119.033</td>\n      <td>0.6740</td>\n      <td>1969.0</td>\n      <td>1969.0</td>\n      <td>The Youngbloods396600Ride the Wind1969</td>\n      <td>e Youngbloo396600Ride the Wind0.910.5579999999...</td>\n      <td>1.0</td>\n      <td>Ride the wind let your dream blow In the strea...</td>\n    </tr>\n    <tr>\n      <th>9</th>\n      <td>00CqEmnPLFKDhAb3cuu6Cs</td>\n      <td>Halo</td>\n      <td>Melophobia</td>\n      <td>Cage The Elephant</td>\n      <td>0.039900</td>\n      <td>0.575</td>\n      <td>177960.0</td>\n      <td>0.985</td>\n      <td>0.000000</td>\n      <td>2.0</td>\n      <td>...</td>\n      <td>2013/10/8</td>\n      <td>0.0743</td>\n      <td>116.011</td>\n      <td>0.4760</td>\n      <td>2013.0</td>\n      <td>2013.0</td>\n      <td>Cage The Elephant177960Halo2013</td>\n      <td>ge The Elepha177960Halo0.03990.5750.98500.020....</td>\n      <td>1.0</td>\n      <td>[Verse 1] Every time I get away You find a way...</td>\n    </tr>\n    <tr>\n      <th>10</th>\n      <td>00CxumCW8cLnWqa0wE2TXO</td>\n      <td>I'd Rather Ride Around With You</td>\n      <td>What If It's You</td>\n      <td>Reba McEntire</td>\n      <td>0.052800</td>\n      <td>0.649</td>\n      <td>208240.0</td>\n      <td>0.773</td>\n      <td>0.000000</td>\n      <td>0.0</td>\n      <td>...</td>\n      <td>1996/1/1</td>\n      <td>0.0247</td>\n      <td>134.514</td>\n      <td>0.8200</td>\n      <td>1996.0</td>\n      <td>1996.0</td>\n      <td>Reba McEntire208240I'd Rather Ride Around With...</td>\n      <td>ba McEnti208240I'd Rather Ride Around With You...</td>\n      <td>1.0</td>\n      <td>[Verse 1] My cousin's getting married at the M...</td>\n    </tr>\n    <tr>\n      <th>11</th>\n      <td>00De7REGurYkmfrKAh6CU1</td>\n      <td>Dracula- The Beginning</td>\n      <td>Bram Stoker's Dracula</td>\n      <td>Soundtrack</td>\n      <td>0.510000</td>\n      <td>0.218</td>\n      <td>400867.0</td>\n      <td>0.104</td>\n      <td>0.692000</td>\n      <td>11.0</td>\n      <td>...</td>\n      <td>1992/10/30</td>\n      <td>0.0470</td>\n      <td>114.592</td>\n      <td>0.0329</td>\n      <td>1992.0</td>\n      <td>1992.0</td>\n      <td>Wojciech Kilar400867Dracula- The Beginning1992</td>\n      <td>jciech Kil400867Dracula- The Beginning0.510.21...</td>\n      <td>1.0</td>\n      <td>[Part I]  [Intro 1] Please, this shit's so fuc...</td>\n    </tr>\n    <tr>\n      <th>12</th>\n      <td>00FR9VQ0uzF4NNxVKKiMz2</td>\n      <td>Full Of Smoke</td>\n      <td>Ghetto Cyrano</td>\n      <td>Christion</td>\n      <td>0.427000</td>\n      <td>0.558</td>\n      <td>289227.0</td>\n      <td>0.609</td>\n      <td>0.000000</td>\n      <td>1.0</td>\n      <td>...</td>\n      <td>1997/1/1</td>\n      <td>0.2840</td>\n      <td>145.461</td>\n      <td>0.7160</td>\n      <td>1997.0</td>\n      <td>1997.0</td>\n      <td>Christión289227Full Of Smoke1997</td>\n      <td>risti289227Full Of Smoke0.4530.3890.61600.010....</td>\n      <td>1.0</td>\n      <td>[Intro] And so the hustlers continue to hustle...</td>\n    </tr>\n    <tr>\n      <th>13</th>\n      <td>00Fboe8pNoWHLg1nn3e7Oi</td>\n      <td>Sands of Time - Single; 2018 Remaster</td>\n      <td>50 Years: Don't Stop</td>\n      <td>Fleetwood Mac</td>\n      <td>0.105000</td>\n      <td>0.614</td>\n      <td>183253.0</td>\n      <td>0.668</td>\n      <td>0.116000</td>\n      <td>7.0</td>\n      <td>...</td>\n      <td>2018/11/16</td>\n      <td>0.0268</td>\n      <td>137.003</td>\n      <td>0.8730</td>\n      <td>2018.0</td>\n      <td>2018.0</td>\n      <td>Fleetwood Mac183253Sands of Time - Single; 201...</td>\n      <td>eetwood M183253Sands of Time - Single; 2018 Re...</td>\n      <td>1.0</td>\n      <td>NaN</td>\n    </tr>\n    <tr>\n      <th>14</th>\n      <td>00GOPLxW4PGQuUYdPJh8K1</td>\n      <td>IV. Sweatpants</td>\n      <td>Because The Internet</td>\n      <td>Childish Gambino</td>\n      <td>0.154000</td>\n      <td>0.710</td>\n      <td>180675.0</td>\n      <td>0.470</td>\n      <td>0.000000</td>\n      <td>1.0</td>\n      <td>...</td>\n      <td>2013/12/10</td>\n      <td>0.1420</td>\n      <td>80.027</td>\n      <td>0.5810</td>\n      <td>2013.0</td>\n      <td>2013.0</td>\n      <td>Childish Gambino180675IV. Sweatpants2013</td>\n      <td>ildish Gambi180675IV. Sweatpants0.1540.710.471...</td>\n      <td>1.0</td>\n      <td>[Verse 1: Childish Gambino + Problem] Watching...</td>\n    </tr>\n    <tr>\n      <th>15</th>\n      <td>00GfGwzlSB8DoA0cDP2Eit</td>\n      <td>Tender Lover</td>\n      <td>Tender Lover</td>\n      <td>Babyface</td>\n      <td>0.226000</td>\n      <td>0.743</td>\n      <td>259267.0</td>\n      <td>0.860</td>\n      <td>0.000422</td>\n      <td>5.0</td>\n      <td>...</td>\n      <td>1989/7/7</td>\n      <td>0.0445</td>\n      <td>102.459</td>\n      <td>0.6870</td>\n      <td>1989.0</td>\n      <td>1989.0</td>\n      <td>Babyface259267Tender Lover1989</td>\n      <td>byfa259267Tender Lover0.2260.7430.8600.0004225...</td>\n      <td>1.0</td>\n      <td>Feels good Everybody  Tender lover Tender love...</td>\n    </tr>\n    <tr>\n      <th>16</th>\n      <td>00IW5PAKECNYdCfzseVJgM</td>\n      <td>The 7th Day of July 1777</td>\n      <td>Abigail</td>\n      <td>King Diamond</td>\n      <td>0.005010</td>\n      <td>0.251</td>\n      <td>290107.0</td>\n      <td>0.781</td>\n      <td>0.590000</td>\n      <td>11.0</td>\n      <td>...</td>\n      <td>1987</td>\n      <td>0.0639</td>\n      <td>148.455</td>\n      <td>0.2150</td>\n      <td>1987.0</td>\n      <td>1987.0</td>\n      <td>King Diamond290107The 7th Day of July 17771987</td>\n      <td>ng Diamo290107The 7th Day of July 17770.005010...</td>\n      <td>1.0</td>\n      <td>[Acoustic Guitar Intro]  [Verse 1] Count de La...</td>\n    </tr>\n    <tr>\n      <th>18</th>\n      <td>00KfIFi2TpAaQGPbRbFbKJ</td>\n      <td>IN MY REMAINS</td>\n      <td>Living Things</td>\n      <td>Linkin Park</td>\n      <td>0.004010</td>\n      <td>0.553</td>\n      <td>200693.0</td>\n      <td>0.907</td>\n      <td>0.000000</td>\n      <td>9.0</td>\n      <td>...</td>\n      <td>2012/6/20</td>\n      <td>0.0484</td>\n      <td>100.967</td>\n      <td>0.4510</td>\n      <td>2012.0</td>\n      <td>2012.0</td>\n      <td>Linkin Park200693IN MY REMAINS2012</td>\n      <td>nkin Pa200693IN MY REMAINS0.004010000000000000...</td>\n      <td>1.0</td>\n      <td>[Verse 1: Chester Bennington] Separate Sifting...</td>\n    </tr>\n    <tr>\n      <th>19</th>\n      <td>00LX6wdVlDvmU78Oh6KGmi</td>\n      <td>I Want Out</td>\n      <td>Get Nervous</td>\n      <td>Pat Benatar</td>\n      <td>0.006060</td>\n      <td>0.669</td>\n      <td>223133.0</td>\n      <td>0.561</td>\n      <td>0.016000</td>\n      <td>0.0</td>\n      <td>...</td>\n      <td>1982/1/1</td>\n      <td>0.0284</td>\n      <td>133.522</td>\n      <td>0.7570</td>\n      <td>1982.0</td>\n      <td>1982.0</td>\n      <td>Pat Benatar223133I Want Out1982</td>\n      <td>t Benat223133I Want Out0.006060.6690.56100.016...</td>\n      <td>1.0</td>\n      <td>Ooh baby, got a hold on me, I can't deny it Yo...</td>\n    </tr>\n    <tr>\n      <th>20</th>\n      <td>00Mb3DuaIH1kjrwOku9CGU</td>\n      <td>Sk8er Boi</td>\n      <td>Avril Lavigne</td>\n      <td>Avril Lavigne</td>\n      <td>0.000068</td>\n      <td>0.487</td>\n      <td>204000.0</td>\n      <td>0.900</td>\n      <td>0.000000</td>\n      <td>0.0</td>\n      <td>...</td>\n      <td>2002/6/4</td>\n      <td>0.0482</td>\n      <td>149.937</td>\n      <td>0.4840</td>\n      <td>2002.0</td>\n      <td>2002.0</td>\n      <td>Avril Lavigne204000Sk8er Boi2002</td>\n      <td>ril Lavig204000Sk8er Boi6.790000000000001e-050...</td>\n      <td>1.0</td>\n      <td>[Verse 1] He was a boy, she was a girl Can I m...</td>\n    </tr>\n    <tr>\n      <th>21</th>\n      <td>00NAQYOP4AmWR549nnYJZu</td>\n      <td>Secrets</td>\n      <td>Starboy</td>\n      <td>The Weeknd</td>\n      <td>0.015500</td>\n      <td>0.665</td>\n      <td>265600.0</td>\n      <td>0.771</td>\n      <td>0.000010</td>\n      <td>0.0</td>\n      <td>...</td>\n      <td>2016/11/25</td>\n      <td>0.0533</td>\n      <td>109.945</td>\n      <td>0.7630</td>\n      <td>2016.0</td>\n      <td>2016.0</td>\n      <td>The Weeknd265600Secrets2016</td>\n      <td>e Week265600Secrets0.01550.6640.77099999999999...</td>\n      <td>1.0</td>\n      <td>[Verse 1] Everybody here wants you My love, my...</td>\n    </tr>\n  </tbody>\n</table>\n<p>20 rows × 46 columns</p>\n</div>"
     },
     "metadata": {},
     "execution_count": 64
    }
   ],
   "source": [
    "df2.head(20)"
   ]
  },
  {
   "cell_type": "code",
   "execution_count": 67,
   "metadata": {},
   "outputs": [
    {
     "output_type": "execute_result",
     "data": {
      "text/plain": [
       "163711"
      ]
     },
     "metadata": {},
     "execution_count": 67
    }
   ],
   "source": [
    "len(df2)"
   ]
  },
  {
   "cell_type": "code",
   "execution_count": null,
   "metadata": {},
   "outputs": [],
   "source": []
  }
 ],
 "metadata": {
  "kernelspec": {
   "display_name": "Python 3",
   "language": "python",
   "name": "python3"
  },
  "language_info": {
   "codemirror_mode": {
    "name": "ipython",
    "version": 3
   },
   "file_extension": ".py",
   "mimetype": "text/x-python",
   "name": "python",
   "nbconvert_exporter": "python",
   "pygments_lexer": "ipython3",
   "version": "3.7.6-final"
  }
 },
 "nbformat": 4,
 "nbformat_minor": 4
}